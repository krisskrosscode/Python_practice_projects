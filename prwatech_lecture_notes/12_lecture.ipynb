{
 "cells": [
  {
   "cell_type": "markdown",
   "id": "512aa563-5964-4edd-8efa-0112242f984c",
   "metadata": {},
   "source": [
    "# In built functions"
   ]
  },
  {
   "cell_type": "markdown",
   "id": "977edf78-7fd4-4543-ac9c-f74c436359c4",
   "metadata": {},
   "source": [
    "## abs()"
   ]
  },
  {
   "cell_type": "code",
   "execution_count": 78,
   "id": "8a7df089-3a16-411e-99eb-6cf0ab95b52f",
   "metadata": {},
   "outputs": [
    {
     "name": "stdout",
     "output_type": "stream",
     "text": [
      "-100 100\n"
     ]
    }
   ],
   "source": [
    "a = -100 ## MOD -> if negative  then it converts to positive\n",
    "print(a, abs(a))"
   ]
  },
  {
   "cell_type": "markdown",
   "id": "a351fc1d-bc7f-4dd6-a552-06a1999d7502",
   "metadata": {},
   "source": [
    "## all()"
   ]
  },
  {
   "cell_type": "code",
   "execution_count": 6,
   "id": "005df988-171a-47fa-ba02-57c473579f12",
   "metadata": {},
   "outputs": [
    {
     "name": "stdout",
     "output_type": "stream",
     "text": [
      "True\n"
     ]
    }
   ],
   "source": [
    "lst = [12,3,4,5,-1]\n",
    "print(all(lst))\n",
    "\n",
    "## True : if all are non-zero\n",
    "## False : if at least one zero element present"
   ]
  },
  {
   "cell_type": "code",
   "execution_count": 8,
   "id": "08e5aba0-e442-4179-8a88-85ee51a97739",
   "metadata": {},
   "outputs": [
    {
     "name": "stdout",
     "output_type": "stream",
     "text": [
      "False\n"
     ]
    }
   ],
   "source": [
    "lst2 = [0,0,3,45]\n",
    "print(all(lst2))"
   ]
  },
  {
   "cell_type": "code",
   "execution_count": 10,
   "id": "d9e5b3e5-0a55-4582-9e63-52253b5a3214",
   "metadata": {},
   "outputs": [
    {
     "name": "stdout",
     "output_type": "stream",
     "text": [
      "True\n"
     ]
    }
   ],
   "source": [
    "lst_empty  = []\n",
    "print(all(lst_empty)) ## True for empty list"
   ]
  },
  {
   "cell_type": "markdown",
   "id": "ff4d0f2a-cb7a-4422-9558-2c50a0c55e15",
   "metadata": {},
   "source": [
    "## dir()"
   ]
  },
  {
   "cell_type": "code",
   "execution_count": 11,
   "id": "f07e7203-fcc0-4218-a8eb-c8a7d295a4dd",
   "metadata": {},
   "outputs": [
    {
     "name": "stdout",
     "output_type": "stream",
     "text": [
      "['__abs__', '__add__', '__and__', '__bool__', '__ceil__', '__class__', '__delattr__', '__dir__', '__divmod__', '__doc__', '__eq__', '__float__', '__floor__', '__floordiv__', '__format__', '__ge__', '__getattribute__', '__getnewargs__', '__gt__', '__hash__', '__index__', '__init__', '__init_subclass__', '__int__', '__invert__', '__le__', '__lshift__', '__lt__', '__mod__', '__mul__', '__ne__', '__neg__', '__new__', '__or__', '__pos__', '__pow__', '__radd__', '__rand__', '__rdivmod__', '__reduce__', '__reduce_ex__', '__repr__', '__rfloordiv__', '__rlshift__', '__rmod__', '__rmul__', '__ror__', '__round__', '__rpow__', '__rrshift__', '__rshift__', '__rsub__', '__rtruediv__', '__rxor__', '__setattr__', '__sizeof__', '__str__', '__sub__', '__subclasshook__', '__truediv__', '__trunc__', '__xor__', 'as_integer_ratio', 'bit_length', 'conjugate', 'denominator', 'from_bytes', 'imag', 'numerator', 'real', 'to_bytes']\n"
     ]
    }
   ],
   "source": [
    "## returns all attributes\n",
    "print(dir(a))"
   ]
  },
  {
   "cell_type": "code",
   "execution_count": 12,
   "id": "366e7823-30b3-4bd3-ad93-793211458457",
   "metadata": {},
   "outputs": [
    {
     "name": "stdout",
     "output_type": "stream",
     "text": [
      "['__add__', '__class__', '__class_getitem__', '__contains__', '__delattr__', '__delitem__', '__dir__', '__doc__', '__eq__', '__format__', '__ge__', '__getattribute__', '__getitem__', '__gt__', '__hash__', '__iadd__', '__imul__', '__init__', '__init_subclass__', '__iter__', '__le__', '__len__', '__lt__', '__mul__', '__ne__', '__new__', '__reduce__', '__reduce_ex__', '__repr__', '__reversed__', '__rmul__', '__setattr__', '__setitem__', '__sizeof__', '__str__', '__subclasshook__', 'append', 'clear', 'copy', 'count', 'extend', 'index', 'insert', 'pop', 'remove', 'reverse', 'sort']\n"
     ]
    }
   ],
   "source": [
    "print(dir(lst))"
   ]
  },
  {
   "cell_type": "code",
   "execution_count": 13,
   "id": "e30a9cb5-6a0a-4828-9a31-1c587fdcd8dc",
   "metadata": {},
   "outputs": [
    {
     "name": "stdout",
     "output_type": "stream",
     "text": [
      "['__add__', '__class__', '__class_getitem__', '__contains__', '__delattr__', '__dir__', '__doc__', '__eq__', '__format__', '__ge__', '__getattribute__', '__getitem__', '__getnewargs__', '__gt__', '__hash__', '__init__', '__init_subclass__', '__iter__', '__le__', '__len__', '__lt__', '__mul__', '__ne__', '__new__', '__reduce__', '__reduce_ex__', '__repr__', '__rmul__', '__setattr__', '__sizeof__', '__str__', '__subclasshook__', 'count', 'index']\n"
     ]
    }
   ],
   "source": [
    "print(dir(tuple(lst)))"
   ]
  },
  {
   "cell_type": "markdown",
   "id": "3fc87a00-3bf8-4ba8-ae97-e829cc1d8045",
   "metadata": {},
   "source": [
    "## divmod()"
   ]
  },
  {
   "cell_type": "code",
   "execution_count": 14,
   "id": "db4daaa1-6f1e-48cc-bf3d-dac09642a020",
   "metadata": {},
   "outputs": [],
   "source": [
    "## returns a pair of (quotient, remainder)"
   ]
  },
  {
   "cell_type": "code",
   "execution_count": 15,
   "id": "039e7390-01fd-48ed-9462-1de1515a6161",
   "metadata": {},
   "outputs": [
    {
     "data": {
      "text/plain": [
       "(4, 2)"
      ]
     },
     "execution_count": 15,
     "metadata": {},
     "output_type": "execute_result"
    }
   ],
   "source": [
    "divmod(34,8)"
   ]
  },
  {
   "cell_type": "code",
   "execution_count": 16,
   "id": "2eae1c19-eaf8-4346-965c-c98837e3d137",
   "metadata": {},
   "outputs": [
    {
     "data": {
      "text/plain": [
       "(9, 0)"
      ]
     },
     "execution_count": 16,
     "metadata": {},
     "output_type": "execute_result"
    }
   ],
   "source": [
    "divmod(45,5)"
   ]
  },
  {
   "cell_type": "code",
   "execution_count": 18,
   "id": "58b383c3-19d0-4a27-b4d7-ad7c72654945",
   "metadata": {},
   "outputs": [
    {
     "data": {
      "text/plain": [
       "(0, 2)"
      ]
     },
     "execution_count": 18,
     "metadata": {},
     "output_type": "execute_result"
    }
   ],
   "source": [
    "divmod(2,90)"
   ]
  },
  {
   "cell_type": "markdown",
   "id": "2702c09d-b94c-4f1b-894c-d3232b26a72a",
   "metadata": {},
   "source": [
    "## enumerate()"
   ]
  },
  {
   "cell_type": "code",
   "execution_count": 25,
   "id": "ac4e0e44-244d-4228-aa38-eac00d100865",
   "metadata": {},
   "outputs": [],
   "source": [
    "## returns enumerate object containing index-value pairs"
   ]
  },
  {
   "cell_type": "code",
   "execution_count": 26,
   "id": "0bd0b4f5-01f5-4efd-86eb-988bed0fadde",
   "metadata": {},
   "outputs": [
    {
     "name": "stdout",
     "output_type": "stream",
     "text": [
      "0 12\n",
      "1 3\n",
      "2 4\n",
      "3 5\n",
      "4 -1\n"
     ]
    }
   ],
   "source": [
    "for ind, value in enumerate(lst):\n",
    "    print(ind, value)"
   ]
  },
  {
   "cell_type": "code",
   "execution_count": 29,
   "id": "f517d731-20d8-4bf0-b09c-df014790116e",
   "metadata": {},
   "outputs": [],
   "source": [
    "dict1 = {i:str(i)+'T' for i in range(10)}"
   ]
  },
  {
   "cell_type": "code",
   "execution_count": 30,
   "id": "ffa27c2a-437d-443e-8b79-73f6f6600a83",
   "metadata": {},
   "outputs": [
    {
     "data": {
      "text/plain": [
       "{0: '0T',\n",
       " 1: '1T',\n",
       " 2: '2T',\n",
       " 3: '3T',\n",
       " 4: '4T',\n",
       " 5: '5T',\n",
       " 6: '6T',\n",
       " 7: '7T',\n",
       " 8: '8T',\n",
       " 9: '9T'}"
      ]
     },
     "execution_count": 30,
     "metadata": {},
     "output_type": "execute_result"
    }
   ],
   "source": [
    "dict1"
   ]
  },
  {
   "cell_type": "code",
   "execution_count": 33,
   "id": "12800c1b-dc6f-4379-9209-b66f3634d14d",
   "metadata": {},
   "outputs": [
    {
     "name": "stdout",
     "output_type": "stream",
     "text": [
      "0 0\n",
      "1 1\n",
      "2 2\n",
      "3 3\n",
      "4 4\n",
      "5 5\n",
      "6 6\n",
      "7 7\n",
      "8 8\n",
      "9 9\n"
     ]
    }
   ],
   "source": [
    "for ind, value in enumerate(dict1):\n",
    "    print(ind, value)"
   ]
  },
  {
   "cell_type": "markdown",
   "id": "b2e297aa-1871-4dfc-8d05-548b535483bd",
   "metadata": {},
   "source": [
    "## filter()"
   ]
  },
  {
   "cell_type": "code",
   "execution_count": 37,
   "id": "94b9a711-8ea6-43af-b3c3-c390cd747997",
   "metadata": {},
   "outputs": [
    {
     "name": "stdout",
     "output_type": "stream",
     "text": [
      "[-10, -9, -8, -7, -6, -5, -4, -3, -2, -1, 0, 1, 2, 3, 4, 5, 6, 7, 8, 9]\n",
      "[1, 2, 3, 4, 5, 6, 7, 8, 9]\n"
     ]
    }
   ],
   "source": [
    "int_list  = [i for i in range(-10,10)]\n",
    "positive_int = list(filter(lambda x : x > 0, int_list))\n",
    "print(int_list)\n",
    "print(positive_int)"
   ]
  },
  {
   "cell_type": "code",
   "execution_count": 38,
   "id": "97470107-b584-4482-bee2-f1b1b531f9af",
   "metadata": {},
   "outputs": [],
   "source": [
    "even_int = list(filter(lambda x : x%2==0, int_list))"
   ]
  },
  {
   "cell_type": "code",
   "execution_count": 39,
   "id": "7f0a7153-fdad-49f1-ab94-606ae03d95fd",
   "metadata": {},
   "outputs": [
    {
     "data": {
      "text/plain": [
       "[-10, -8, -6, -4, -2, 0, 2, 4, 6, 8]"
      ]
     },
     "execution_count": 39,
     "metadata": {},
     "output_type": "execute_result"
    }
   ],
   "source": [
    "even_int"
   ]
  },
  {
   "cell_type": "markdown",
   "id": "46a19132-ecc7-4969-8a19-b37c065420d7",
   "metadata": {},
   "source": [
    "## isinstance()"
   ]
  },
  {
   "cell_type": "code",
   "execution_count": 47,
   "id": "08178a73-ace3-4013-97d1-010acbba1387",
   "metadata": {},
   "outputs": [],
   "source": [
    "## checks if an object is an instance of a class"
   ]
  },
  {
   "cell_type": "code",
   "execution_count": 58,
   "id": "99c1d9e9-3589-4034-8da0-f34222bf5239",
   "metadata": {},
   "outputs": [
    {
     "name": "stdout",
     "output_type": "stream",
     "text": [
      "[12, 3, 4, 5, -1]\n",
      "True\n"
     ]
    }
   ],
   "source": [
    "print(lst)\n",
    "print(isinstance(tuple(lst),tuple or list))"
   ]
  },
  {
   "cell_type": "markdown",
   "id": "544961f5-895b-4980-ba29-52335a243237",
   "metadata": {},
   "source": [
    "## map()"
   ]
  },
  {
   "cell_type": "code",
   "execution_count": 67,
   "id": "c30fe48b-495b-4398-af70-0d91122d9829",
   "metadata": {},
   "outputs": [
    {
     "data": {
      "text/plain": [
       "[1, 2, 3, 4, 5, 6, 7, 8, 9, 10, 0, 1, 2, 3, 4, 5, 6, 7, 8, 9]"
      ]
     },
     "execution_count": 67,
     "metadata": {},
     "output_type": "execute_result"
    }
   ],
   "source": [
    "a = list(map(lambda x : x%11, int_list))\n",
    "a"
   ]
  },
  {
   "cell_type": "markdown",
   "id": "638eec5d-e5da-4629-a624-ac33473325bd",
   "metadata": {},
   "source": [
    "## reduce()"
   ]
  },
  {
   "cell_type": "code",
   "execution_count": 68,
   "id": "f45cfe0c-f191-4701-9cce-64ec9f04db19",
   "metadata": {},
   "outputs": [],
   "source": [
    "from functools import reduce"
   ]
  },
  {
   "cell_type": "code",
   "execution_count": 69,
   "id": "4e4cf84f-7652-4d3d-8bb3-97540b9f2bd9",
   "metadata": {},
   "outputs": [
    {
     "data": {
      "text/plain": [
       "[1, 2, 3, 4, 5, 6, 7, 8, 9, 10, 0, 1, 2, 3, 4, 5, 6, 7, 8, 9]"
      ]
     },
     "execution_count": 69,
     "metadata": {},
     "output_type": "execute_result"
    }
   ],
   "source": [
    "a"
   ]
  },
  {
   "cell_type": "code",
   "execution_count": 70,
   "id": "4def3185-9d33-4efc-848b-4258bdff0b06",
   "metadata": {},
   "outputs": [],
   "source": [
    "sum_list = reduce(lambda x,y : x+y, a)"
   ]
  },
  {
   "cell_type": "code",
   "execution_count": 71,
   "id": "5042fb1f-0e93-4432-9754-5e579ade5ef0",
   "metadata": {},
   "outputs": [
    {
     "data": {
      "text/plain": [
       "100"
      ]
     },
     "execution_count": 71,
     "metadata": {},
     "output_type": "execute_result"
    }
   ],
   "source": [
    "sum_list"
   ]
  },
  {
   "cell_type": "code",
   "execution_count": 74,
   "id": "7771e7a8-c051-4061-b1a5-b8b2ea1b9a68",
   "metadata": {},
   "outputs": [
    {
     "data": {
      "text/plain": [
       "-10"
      ]
     },
     "execution_count": 74,
     "metadata": {},
     "output_type": "execute_result"
    }
   ],
   "source": [
    "sum_int_list = reduce(lambda x,y : x+y, int_list)\n",
    "sum_int_list"
   ]
  },
  {
   "cell_type": "code",
   "execution_count": 75,
   "id": "a76c5e1e-c306-4d4e-bbaf-fbbbb6bbd303",
   "metadata": {},
   "outputs": [
    {
     "data": {
      "text/plain": [
       "[-10, -9, -8, -7, -6, -5, -4, -3, -2, -1, 0, 1, 2, 3, 4, 5, 6, 7, 8, 9]"
      ]
     },
     "execution_count": 75,
     "metadata": {},
     "output_type": "execute_result"
    }
   ],
   "source": [
    "int_list"
   ]
  },
  {
   "cell_type": "code",
   "execution_count": 77,
   "id": "3c237fa5-a544-432d-b8b8-cf463e3f2ea8",
   "metadata": {},
   "outputs": [
    {
     "name": "stdout",
     "output_type": "stream",
     "text": [
      "0\n"
     ]
    }
   ],
   "source": [
    "product_int_list  = reduce(lambda x,y: x*y, int_list)\n",
    "print(product_int_list)"
   ]
  },
  {
   "cell_type": "code",
   "execution_count": null,
   "id": "bb11eb91-41b7-43d5-bfd5-3d5100d86dc1",
   "metadata": {},
   "outputs": [],
   "source": []
  }
 ],
 "metadata": {
  "kernelspec": {
   "display_name": "Python 3 (ipykernel)",
   "language": "python",
   "name": "python3"
  },
  "language_info": {
   "codemirror_mode": {
    "name": "ipython",
    "version": 3
   },
   "file_extension": ".py",
   "mimetype": "text/x-python",
   "name": "python",
   "nbconvert_exporter": "python",
   "pygments_lexer": "ipython3",
   "version": "3.9.12"
  }
 },
 "nbformat": 4,
 "nbformat_minor": 5
}
