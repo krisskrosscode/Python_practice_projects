{
 "cells": [
  {
   "cell_type": "code",
   "execution_count": null,
   "id": "7745a208-ccdc-4963-9ba2-84b53165bd48",
   "metadata": {},
   "outputs": [],
   "source": []
  },
  {
   "cell_type": "markdown",
   "id": "a0d60509-e568-4183-b380-51344fb32ecf",
   "metadata": {},
   "source": [
    "# Dictionary"
   ]
  },
  {
   "cell_type": "code",
   "execution_count": 2,
   "id": "fb2fc352-9bc3-40f0-81a0-8d88103dc85b",
   "metadata": {},
   "outputs": [
    {
     "name": "stdout",
     "output_type": "stream",
     "text": [
      "{1: 'a', 2: {'b', 'c'}} <class 'dict'>\n"
     ]
    }
   ],
   "source": [
    "my_dict = {1:'a', 2:{'b','c'}}\n",
    "print(my_dict, type(my_dict))"
   ]
  },
  {
   "cell_type": "code",
   "execution_count": 3,
   "id": "ea997ca9-d2db-4a14-b41e-4e5c4a88d758",
   "metadata": {},
   "outputs": [
    {
     "name": "stdout",
     "output_type": "stream",
     "text": [
      "<class 'list'>\n"
     ]
    }
   ],
   "source": [
    "a1 = [(1,'a'), (2, 'b'), (3, 'c'), (4,'d')]\n",
    "print(type(a1))"
   ]
  },
  {
   "cell_type": "code",
   "execution_count": 4,
   "id": "1026f3bd-687e-4c53-8c1a-0140acc57c2a",
   "metadata": {},
   "outputs": [
    {
     "data": {
      "text/plain": [
       "{1: 'a', 2: 'b', 3: 'c', 4: 'd'}"
      ]
     },
     "execution_count": 4,
     "metadata": {},
     "output_type": "execute_result"
    }
   ],
   "source": [
    "dict(a1)"
   ]
  },
  {
   "cell_type": "code",
   "execution_count": 5,
   "id": "a4c38684-f94f-4261-84ed-f990ca9f7503",
   "metadata": {},
   "outputs": [
    {
     "name": "stdout",
     "output_type": "stream",
     "text": [
      "ERROR :  dictionary update sequence element #2 has length 4; 2 is required\n"
     ]
    }
   ],
   "source": [
    "a2 = [(1, 'summer'), (2,'winter'), 'hell']\n",
    "try:\n",
    "    dict(a2)\n",
    "except Exception as e:\n",
    "    print(\"ERROR : \", e)"
   ]
  },
  {
   "cell_type": "code",
   "execution_count": 6,
   "id": "23243694-3069-439c-b954-d5fb05d3b54f",
   "metadata": {},
   "outputs": [
    {
     "name": "stdout",
     "output_type": "stream",
     "text": [
      "ERROR :  dictionary update sequence element #2 has length 9; 2 is required\n"
     ]
    }
   ],
   "source": [
    "a2 = [(1, 'summer'), (2,'winter'), 'hell fire']\n",
    "try:\n",
    "    dict(a2)\n",
    "except Exception as e:\n",
    "    print(\"ERROR : \", e)"
   ]
  },
  {
   "cell_type": "code",
   "execution_count": 7,
   "id": "609a799a-95a9-46f3-9895-be9164b7ecea",
   "metadata": {},
   "outputs": [
    {
     "name": "stdout",
     "output_type": "stream",
     "text": [
      "{1: 'summer', 2: 'winter', 'hell': 'fire'}\n"
     ]
    }
   ],
   "source": [
    "a2 = [(1, 'summer'), (2,'winter'), ['hell','fire']]\n",
    "try:\n",
    "    print(dict(a2))\n",
    "except Exception as e:\n",
    "    print(\"ERROR : \", e)"
   ]
  },
  {
   "cell_type": "markdown",
   "id": "8c1a70af-956c-4b32-a44b-0150222042a4",
   "metadata": {},
   "source": [
    "## update values"
   ]
  },
  {
   "cell_type": "code",
   "execution_count": 8,
   "id": "6134ded5-35b9-47b2-93d4-614d422df7ca",
   "metadata": {},
   "outputs": [],
   "source": [
    "d2  = dict(a2)"
   ]
  },
  {
   "cell_type": "code",
   "execution_count": 9,
   "id": "dbdcb0b4-12a2-4769-96b1-106ee4dff4e1",
   "metadata": {},
   "outputs": [
    {
     "data": {
      "text/plain": [
       "{1: 'summer', 2: 'winter', 'hell': 'fire'}"
      ]
     },
     "execution_count": 9,
     "metadata": {},
     "output_type": "execute_result"
    }
   ],
   "source": [
    "d2"
   ]
  },
  {
   "cell_type": "code",
   "execution_count": 10,
   "id": "edead604-e811-439c-98cf-86dbc3e5da80",
   "metadata": {},
   "outputs": [],
   "source": [
    "d2[1] = 'spring'"
   ]
  },
  {
   "cell_type": "code",
   "execution_count": 11,
   "id": "b2dc05a5-5634-42e4-af4a-aa70000bd2e8",
   "metadata": {},
   "outputs": [
    {
     "data": {
      "text/plain": [
       "{1: 'spring', 2: 'winter', 'hell': 'fire'}"
      ]
     },
     "execution_count": 11,
     "metadata": {},
     "output_type": "execute_result"
    }
   ],
   "source": [
    "d2"
   ]
  },
  {
   "cell_type": "markdown",
   "id": "bb2688d8-47c8-451c-af49-8e1b09b33ca5",
   "metadata": {},
   "source": [
    "## add values"
   ]
  },
  {
   "cell_type": "code",
   "execution_count": 12,
   "id": "49ead7a2-3c07-483c-99c3-83a5f27974a5",
   "metadata": {},
   "outputs": [],
   "source": [
    "d2[3] = 'autumn'"
   ]
  },
  {
   "cell_type": "code",
   "execution_count": 13,
   "id": "c0107279-6832-439a-b62b-33e00a4b96c6",
   "metadata": {},
   "outputs": [
    {
     "data": {
      "text/plain": [
       "{1: 'spring', 2: 'winter', 'hell': 'fire', 3: 'autumn'}"
      ]
     },
     "execution_count": 13,
     "metadata": {},
     "output_type": "execute_result"
    }
   ],
   "source": [
    "d2"
   ]
  },
  {
   "cell_type": "code",
   "execution_count": 14,
   "id": "48128437-8ccc-4a29-89ad-48e0492e13bd",
   "metadata": {},
   "outputs": [],
   "source": [
    "d3 = d2\n",
    "d3[4] = 'banana season'"
   ]
  },
  {
   "cell_type": "code",
   "execution_count": 15,
   "id": "6af16d01-94ba-4aa5-99af-0168159dc181",
   "metadata": {},
   "outputs": [
    {
     "data": {
      "text/plain": [
       "{1: 'spring', 2: 'winter', 'hell': 'fire', 3: 'autumn', 4: 'banana season'}"
      ]
     },
     "execution_count": 15,
     "metadata": {},
     "output_type": "execute_result"
    }
   ],
   "source": [
    "d3"
   ]
  },
  {
   "cell_type": "code",
   "execution_count": 16,
   "id": "3438ccae-40d5-4876-ac40-4c3ec059a547",
   "metadata": {},
   "outputs": [
    {
     "data": {
      "text/plain": [
       "{1: 'spring', 2: 'winter', 'hell': 'fire', 3: 'autumn', 4: 'banana season'}"
      ]
     },
     "execution_count": 16,
     "metadata": {},
     "output_type": "execute_result"
    }
   ],
   "source": [
    "d2"
   ]
  },
  {
   "cell_type": "code",
   "execution_count": 17,
   "id": "4aff9a8a-e05b-4181-8325-b0a42a0469a5",
   "metadata": {},
   "outputs": [],
   "source": [
    "## observe how the changes are made to both d2 and d3 even though you added to d3 only \n",
    "## this is because both variables are pointing to the same object dict"
   ]
  },
  {
   "cell_type": "code",
   "execution_count": 18,
   "id": "609fe0c8-182c-4d6d-9ad1-34cf2669d908",
   "metadata": {},
   "outputs": [],
   "source": [
    "d3[5] = ['jan', 'feb', 'march']"
   ]
  },
  {
   "cell_type": "code",
   "execution_count": 19,
   "id": "7854b623-4a0e-4200-a0d6-1401a595dc28",
   "metadata": {},
   "outputs": [
    {
     "data": {
      "text/plain": [
       "'feb'"
      ]
     },
     "execution_count": 19,
     "metadata": {},
     "output_type": "execute_result"
    }
   ],
   "source": [
    "d3[5][1]"
   ]
  },
  {
   "cell_type": "code",
   "execution_count": null,
   "id": "ba787b9c-6d42-482e-b45f-438edc0f89eb",
   "metadata": {},
   "outputs": [],
   "source": []
  },
  {
   "cell_type": "markdown",
   "id": "30a7eb93-9df5-47b7-ad51-b1525cab0467",
   "metadata": {},
   "source": [
    "## Delete or remove"
   ]
  },
  {
   "cell_type": "code",
   "execution_count": 20,
   "id": "0c441f18-49bf-40b3-8bab-c90366668050",
   "metadata": {},
   "outputs": [],
   "source": [
    "# popitem -> delete the last element"
   ]
  },
  {
   "cell_type": "code",
   "execution_count": 21,
   "id": "f775aa91-a6df-4d5b-b209-3a2708a50af3",
   "metadata": {},
   "outputs": [
    {
     "data": {
      "text/plain": [
       "{1: 'spring',\n",
       " 2: 'winter',\n",
       " 'hell': 'fire',\n",
       " 3: 'autumn',\n",
       " 4: 'banana season',\n",
       " 5: ['jan', 'feb', 'march']}"
      ]
     },
     "execution_count": 21,
     "metadata": {},
     "output_type": "execute_result"
    }
   ],
   "source": [
    "d3"
   ]
  },
  {
   "cell_type": "code",
   "execution_count": 22,
   "id": "2af67d4d-c487-419d-a044-b9dfc97213c7",
   "metadata": {},
   "outputs": [
    {
     "data": {
      "text/plain": [
       "(5, ['jan', 'feb', 'march'])"
      ]
     },
     "execution_count": 22,
     "metadata": {},
     "output_type": "execute_result"
    }
   ],
   "source": [
    "d3.popitem()"
   ]
  },
  {
   "cell_type": "code",
   "execution_count": 23,
   "id": "f3958fda-ff2b-4397-bd83-3cedf849ed82",
   "metadata": {},
   "outputs": [
    {
     "data": {
      "text/plain": [
       "{1: 'spring', 2: 'winter', 'hell': 'fire', 3: 'autumn', 4: 'banana season'}"
      ]
     },
     "execution_count": 23,
     "metadata": {},
     "output_type": "execute_result"
    }
   ],
   "source": [
    "d3"
   ]
  },
  {
   "cell_type": "code",
   "execution_count": 24,
   "id": "729f5095-d61c-4a0e-9381-93d66b6fabb8",
   "metadata": {},
   "outputs": [],
   "source": [
    "## pop() -> deletes the specified key and corresponding value"
   ]
  },
  {
   "cell_type": "code",
   "execution_count": 25,
   "id": "821b3fdb-850d-46ac-ac8a-2e8d380bfae5",
   "metadata": {},
   "outputs": [
    {
     "data": {
      "text/plain": [
       "'fire'"
      ]
     },
     "execution_count": 25,
     "metadata": {},
     "output_type": "execute_result"
    }
   ],
   "source": [
    "d3.pop('hell')"
   ]
  },
  {
   "cell_type": "code",
   "execution_count": 26,
   "id": "5d26b7cf-4e0b-4526-89d1-46504e5dd714",
   "metadata": {},
   "outputs": [
    {
     "data": {
      "text/plain": [
       "{1: 'spring', 2: 'winter', 3: 'autumn', 4: 'banana season'}"
      ]
     },
     "execution_count": 26,
     "metadata": {},
     "output_type": "execute_result"
    }
   ],
   "source": [
    "d3"
   ]
  },
  {
   "cell_type": "markdown",
   "id": "25460720-22a4-4010-8cd4-337a9e69c1f3",
   "metadata": {},
   "source": [
    "## delete operation"
   ]
  },
  {
   "cell_type": "code",
   "execution_count": 27,
   "id": "53964fe5-b530-4b90-8642-629764f1d288",
   "metadata": {},
   "outputs": [],
   "source": [
    "squares = {2:4, 3:9, 4:16}"
   ]
  },
  {
   "cell_type": "code",
   "execution_count": 28,
   "id": "057379bd-4231-466b-86a2-ad5a14bc503e",
   "metadata": {},
   "outputs": [
    {
     "name": "stdout",
     "output_type": "stream",
     "text": [
      "{2: 4, 4: 16}\n"
     ]
    }
   ],
   "source": [
    "del squares[3]\n",
    "print(squares)"
   ]
  },
  {
   "cell_type": "code",
   "execution_count": 29,
   "id": "c90e404a-7648-4817-8b5b-337d810cf049",
   "metadata": {},
   "outputs": [],
   "source": [
    "del squares"
   ]
  },
  {
   "cell_type": "code",
   "execution_count": 30,
   "id": "e6092808-714a-402e-8685-7853d6e67565",
   "metadata": {},
   "outputs": [
    {
     "ename": "NameError",
     "evalue": "name 'squares' is not defined",
     "output_type": "error",
     "traceback": [
      "\u001b[0;31m---------------------------------------------------------------------------\u001b[0m",
      "\u001b[0;31mNameError\u001b[0m                                 Traceback (most recent call last)",
      "Input \u001b[0;32mIn [30]\u001b[0m, in \u001b[0;36m<cell line: 1>\u001b[0;34m()\u001b[0m\n\u001b[0;32m----> 1\u001b[0m \u001b[38;5;28mprint\u001b[39m(\u001b[43msquares\u001b[49m)\n",
      "\u001b[0;31mNameError\u001b[0m: name 'squares' is not defined"
     ]
    }
   ],
   "source": [
    "print(squares)"
   ]
  },
  {
   "cell_type": "code",
   "execution_count": null,
   "id": "ebcfb0c2-667b-4ba2-aea6-1b036fb3bdb8",
   "metadata": {},
   "outputs": [],
   "source": []
  },
  {
   "cell_type": "markdown",
   "id": "ae2718b3-f40a-4505-8560-9a9659a22411",
   "metadata": {},
   "source": [
    "## clear operation"
   ]
  },
  {
   "cell_type": "code",
   "execution_count": 37,
   "id": "4a0c9d1d-6ac4-4890-8c10-a13fc06246a7",
   "metadata": {},
   "outputs": [],
   "source": [
    "squares = {2:4, 3:9, 4:16, 5:25}"
   ]
  },
  {
   "cell_type": "code",
   "execution_count": 38,
   "id": "8532e931-9ddb-48fb-ac70-7621d4afb795",
   "metadata": {},
   "outputs": [],
   "source": [
    "squares.clear()"
   ]
  },
  {
   "cell_type": "code",
   "execution_count": 39,
   "id": "05c23d6d-2a1c-46bd-9e8e-e28a71b8fb17",
   "metadata": {},
   "outputs": [
    {
     "data": {
      "text/plain": [
       "{}"
      ]
     },
     "execution_count": 39,
     "metadata": {},
     "output_type": "execute_result"
    }
   ],
   "source": [
    "squares ##empty"
   ]
  },
  {
   "cell_type": "markdown",
   "id": "ca1c6f69-54af-4b5d-bf94-b4a37e0f6506",
   "metadata": {},
   "source": [
    "## copy operation"
   ]
  },
  {
   "cell_type": "code",
   "execution_count": 40,
   "id": "8227f5da-97d0-4f11-8932-93d39d18ef47",
   "metadata": {},
   "outputs": [
    {
     "data": {
      "text/plain": [
       "{1: 'spring', 2: 'winter', 3: 'autumn', 4: 'banana season'}"
      ]
     },
     "execution_count": 40,
     "metadata": {},
     "output_type": "execute_result"
    }
   ],
   "source": [
    "d2"
   ]
  },
  {
   "cell_type": "code",
   "execution_count": 41,
   "id": "dd353625-3e33-4a20-8155-031799751c23",
   "metadata": {},
   "outputs": [],
   "source": [
    "d4 = d2.copy()"
   ]
  },
  {
   "cell_type": "code",
   "execution_count": 42,
   "id": "00ece080-bf0b-4bb2-99b0-9eb164da5148",
   "metadata": {},
   "outputs": [
    {
     "data": {
      "text/plain": [
       "{1: 'spring', 2: 'winter', 3: 'autumn', 4: 'banana season'}"
      ]
     },
     "execution_count": 42,
     "metadata": {},
     "output_type": "execute_result"
    }
   ],
   "source": [
    "d2"
   ]
  },
  {
   "cell_type": "code",
   "execution_count": 43,
   "id": "9e5926f7-588d-4086-89f3-f21c91ecb5de",
   "metadata": {},
   "outputs": [
    {
     "data": {
      "text/plain": [
       "{1: 'spring', 2: 'winter', 3: 'autumn', 4: 'banana season'}"
      ]
     },
     "execution_count": 43,
     "metadata": {},
     "output_type": "execute_result"
    }
   ],
   "source": [
    "d4"
   ]
  },
  {
   "cell_type": "code",
   "execution_count": 44,
   "id": "be25555a-808b-4068-b3de-837eb6e12cfe",
   "metadata": {},
   "outputs": [],
   "source": [
    "d4[5] = ['march', 'april', 'may']"
   ]
  },
  {
   "cell_type": "code",
   "execution_count": 45,
   "id": "bcfba25c-4c1d-45ce-b14e-a890226f2f76",
   "metadata": {},
   "outputs": [
    {
     "data": {
      "text/plain": [
       "{1: 'spring', 2: 'winter', 3: 'autumn', 4: 'banana season'}"
      ]
     },
     "execution_count": 45,
     "metadata": {},
     "output_type": "execute_result"
    }
   ],
   "source": [
    "d2"
   ]
  },
  {
   "cell_type": "code",
   "execution_count": 46,
   "id": "5b192690-56dd-4162-a68f-a8e999ecdb1e",
   "metadata": {},
   "outputs": [
    {
     "data": {
      "text/plain": [
       "{1: 'spring',\n",
       " 2: 'winter',\n",
       " 3: 'autumn',\n",
       " 4: 'banana season',\n",
       " 5: ['march', 'april', 'may']}"
      ]
     },
     "execution_count": 46,
     "metadata": {},
     "output_type": "execute_result"
    }
   ],
   "source": [
    "d4"
   ]
  },
  {
   "cell_type": "code",
   "execution_count": 47,
   "id": "ca8f8c6e-902a-457a-b470-0b78ac884e93",
   "metadata": {},
   "outputs": [],
   "source": [
    "## observe how after using copy operation, we can change d4 without affecting d2\n",
    "## unlike when we do d4 = d2"
   ]
  },
  {
   "cell_type": "markdown",
   "id": "98c38e46-0d37-41dd-9286-016ae32c7358",
   "metadata": {},
   "source": [
    "## keys(), values() and items()"
   ]
  },
  {
   "cell_type": "code",
   "execution_count": 48,
   "id": "a931d84b-8a76-4a64-9e14-7fc4c2cce641",
   "metadata": {},
   "outputs": [
    {
     "name": "stdout",
     "output_type": "stream",
     "text": [
      "dict_keys([1, 2, 3, 4, 5]) <class 'dict_keys'>\n"
     ]
    }
   ],
   "source": [
    "print(d4.keys(), type(d4.keys()))"
   ]
  },
  {
   "cell_type": "code",
   "execution_count": 49,
   "id": "260737a3-096f-4f8f-8558-4e66b65406ef",
   "metadata": {},
   "outputs": [
    {
     "name": "stdout",
     "output_type": "stream",
     "text": [
      "dict_values(['spring', 'winter', 'autumn', 'banana season', ['march', 'april', 'may']]) <class 'dict_values'>\n"
     ]
    }
   ],
   "source": [
    "print(d4.values(), type(d4.values()))"
   ]
  },
  {
   "cell_type": "code",
   "execution_count": 50,
   "id": "c0480e6f-fd92-4d19-a7e8-3697bac1c1d4",
   "metadata": {},
   "outputs": [
    {
     "name": "stdout",
     "output_type": "stream",
     "text": [
      "dict_items([(1, 'spring'), (2, 'winter'), (3, 'autumn'), (4, 'banana season'), (5, ['march', 'april', 'may'])]) <class 'dict_items'>\n"
     ]
    }
   ],
   "source": [
    "print(d4.items(), type(d4.items()))"
   ]
  },
  {
   "cell_type": "code",
   "execution_count": 51,
   "id": "521c88ae-39fb-4a13-b8d9-c9f561195dfe",
   "metadata": {},
   "outputs": [
    {
     "data": {
      "text/plain": [
       "['__class__',\n",
       " '__class_getitem__',\n",
       " '__contains__',\n",
       " '__delattr__',\n",
       " '__delitem__',\n",
       " '__dir__',\n",
       " '__doc__',\n",
       " '__eq__',\n",
       " '__format__',\n",
       " '__ge__',\n",
       " '__getattribute__',\n",
       " '__getitem__',\n",
       " '__gt__',\n",
       " '__hash__',\n",
       " '__init__',\n",
       " '__init_subclass__',\n",
       " '__ior__',\n",
       " '__iter__',\n",
       " '__le__',\n",
       " '__len__',\n",
       " '__lt__',\n",
       " '__ne__',\n",
       " '__new__',\n",
       " '__or__',\n",
       " '__reduce__',\n",
       " '__reduce_ex__',\n",
       " '__repr__',\n",
       " '__reversed__',\n",
       " '__ror__',\n",
       " '__setattr__',\n",
       " '__setitem__',\n",
       " '__sizeof__',\n",
       " '__str__',\n",
       " '__subclasshook__',\n",
       " 'clear',\n",
       " 'copy',\n",
       " 'fromkeys',\n",
       " 'get',\n",
       " 'items',\n",
       " 'keys',\n",
       " 'pop',\n",
       " 'popitem',\n",
       " 'setdefault',\n",
       " 'update',\n",
       " 'values']"
      ]
     },
     "execution_count": 51,
     "metadata": {},
     "output_type": "execute_result"
    }
   ],
   "source": [
    "dir(d4)"
   ]
  },
  {
   "cell_type": "markdown",
   "id": "2fe1b334-63b8-4855-9a4a-52d3414e8389",
   "metadata": {},
   "source": [
    "# Dictionary operations"
   ]
  },
  {
   "cell_type": "code",
   "execution_count": 52,
   "id": "33a16a01-54b6-481f-a095-1c069b51bde9",
   "metadata": {},
   "outputs": [
    {
     "data": {
      "text/plain": [
       "{1: 'spring',\n",
       " 2: 'winter',\n",
       " 3: 'autumn',\n",
       " 4: 'banana season',\n",
       " 5: ['march', 'april', 'may']}"
      ]
     },
     "execution_count": 52,
     "metadata": {},
     "output_type": "execute_result"
    }
   ],
   "source": [
    "d4"
   ]
  },
  {
   "cell_type": "code",
   "execution_count": 53,
   "id": "08bae592-4e40-4d9b-94c6-238d6c786d73",
   "metadata": {},
   "outputs": [
    {
     "name": "stdout",
     "output_type": "stream",
     "text": [
      "1 spring\n",
      "2 winter\n",
      "3 autumn\n",
      "4 banana season\n",
      "5 ['march', 'april', 'may']\n",
      "NO DATA AVAILABLE\n"
     ]
    }
   ],
   "source": [
    "for i,j in d4.items():\n",
    "    print(i,j)\n",
    "    \n",
    "else:\n",
    "    print('NO DATA AVAILABLE')"
   ]
  },
  {
   "cell_type": "code",
   "execution_count": 54,
   "id": "3471dc85-1def-45ae-8ae4-f870eef318db",
   "metadata": {},
   "outputs": [],
   "source": [
    "squares = {key:key**2 for key in range(10) }"
   ]
  },
  {
   "cell_type": "code",
   "execution_count": 55,
   "id": "f42d58c2-df7f-47a2-8466-02a1ffa5664a",
   "metadata": {},
   "outputs": [
    {
     "data": {
      "text/plain": [
       "{0: 0, 1: 1, 2: 4, 3: 9, 4: 16, 5: 25, 6: 36, 7: 49, 8: 64, 9: 81}"
      ]
     },
     "execution_count": 55,
     "metadata": {},
     "output_type": "execute_result"
    }
   ],
   "source": [
    "squares"
   ]
  },
  {
   "cell_type": "code",
   "execution_count": 56,
   "id": "8ed2c10c-a8d3-4bba-8599-2312443d8b3f",
   "metadata": {},
   "outputs": [],
   "source": [
    "squares_gt_4 = {k:v for k,v in squares.items() if k>4}"
   ]
  },
  {
   "cell_type": "code",
   "execution_count": 57,
   "id": "9824691b-8c2e-48ac-860a-e077b17ac084",
   "metadata": {},
   "outputs": [
    {
     "data": {
      "text/plain": [
       "{5: 25, 6: 36, 7: 49, 8: 64, 9: 81}"
      ]
     },
     "execution_count": 57,
     "metadata": {},
     "output_type": "execute_result"
    }
   ],
   "source": [
    "squares_gt_4"
   ]
  },
  {
   "cell_type": "code",
   "execution_count": 58,
   "id": "0d7381c4-0fa5-4e4b-986c-99152b24ae25",
   "metadata": {},
   "outputs": [],
   "source": [
    "new_squares = {k+5:v*2 for k,v in squares.items() if v>20}"
   ]
  },
  {
   "cell_type": "code",
   "execution_count": 59,
   "id": "b5b780ae-0370-49ed-b680-f0b3ec9b944e",
   "metadata": {},
   "outputs": [
    {
     "name": "stdout",
     "output_type": "stream",
     "text": [
      "{10: 50, 11: 72, 12: 98, 13: 128, 14: 162}\n"
     ]
    }
   ],
   "source": [
    "print(new_squares)"
   ]
  },
  {
   "cell_type": "code",
   "execution_count": 74,
   "id": "88baf1f6-ce87-4870-b1fa-8822636cdc43",
   "metadata": {},
   "outputs": [],
   "source": [
    "d6 = {k-97:chr(k) for k in range(ord('a'),ord('z')+1) }"
   ]
  },
  {
   "cell_type": "code",
   "execution_count": 75,
   "id": "62f15ac0-cb67-489b-a742-aea7c23084df",
   "metadata": {},
   "outputs": [
    {
     "data": {
      "text/plain": [
       "{0: 'a',\n",
       " 1: 'b',\n",
       " 2: 'c',\n",
       " 3: 'd',\n",
       " 4: 'e',\n",
       " 5: 'f',\n",
       " 6: 'g',\n",
       " 7: 'h',\n",
       " 8: 'i',\n",
       " 9: 'j',\n",
       " 10: 'k',\n",
       " 11: 'l',\n",
       " 12: 'm',\n",
       " 13: 'n',\n",
       " 14: 'o',\n",
       " 15: 'p',\n",
       " 16: 'q',\n",
       " 17: 'r',\n",
       " 18: 's',\n",
       " 19: 't',\n",
       " 20: 'u',\n",
       " 21: 'v',\n",
       " 22: 'w',\n",
       " 23: 'x',\n",
       " 24: 'y',\n",
       " 25: 'z'}"
      ]
     },
     "execution_count": 75,
     "metadata": {},
     "output_type": "execute_result"
    }
   ],
   "source": [
    "d6"
   ]
  },
  {
   "cell_type": "code",
   "execution_count": 77,
   "id": "b7695d72-6d0a-4f83-9ee3-3fe35a4dfcaf",
   "metadata": {},
   "outputs": [],
   "source": [
    "d7 = {chr(v+97):v for v in range(26)}"
   ]
  },
  {
   "cell_type": "code",
   "execution_count": 78,
   "id": "c8ca89a0-365f-412a-859e-9559952ec5a9",
   "metadata": {},
   "outputs": [
    {
     "data": {
      "text/plain": [
       "{'a': 0,\n",
       " 'b': 1,\n",
       " 'c': 2,\n",
       " 'd': 3,\n",
       " 'e': 4,\n",
       " 'f': 5,\n",
       " 'g': 6,\n",
       " 'h': 7,\n",
       " 'i': 8,\n",
       " 'j': 9,\n",
       " 'k': 10,\n",
       " 'l': 11,\n",
       " 'm': 12,\n",
       " 'n': 13,\n",
       " 'o': 14,\n",
       " 'p': 15,\n",
       " 'q': 16,\n",
       " 'r': 17,\n",
       " 's': 18,\n",
       " 't': 19,\n",
       " 'u': 20,\n",
       " 'v': 21,\n",
       " 'w': 22,\n",
       " 'x': 23,\n",
       " 'y': 24,\n",
       " 'z': 25}"
      ]
     },
     "execution_count": 78,
     "metadata": {},
     "output_type": "execute_result"
    }
   ],
   "source": [
    "d7"
   ]
  },
  {
   "cell_type": "code",
   "execution_count": null,
   "id": "a6a3cdb6-7f53-4841-8124-67096fbc0632",
   "metadata": {},
   "outputs": [],
   "source": []
  }
 ],
 "metadata": {
  "kernelspec": {
   "display_name": "Python 3 (ipykernel)",
   "language": "python",
   "name": "python3"
  },
  "language_info": {
   "codemirror_mode": {
    "name": "ipython",
    "version": 3
   },
   "file_extension": ".py",
   "mimetype": "text/x-python",
   "name": "python",
   "nbconvert_exporter": "python",
   "pygments_lexer": "ipython3",
   "version": "3.9.12"
  }
 },
 "nbformat": 4,
 "nbformat_minor": 5
}
