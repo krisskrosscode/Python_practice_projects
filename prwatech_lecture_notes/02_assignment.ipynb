{
 "cells": [
  {
   "cell_type": "markdown",
   "id": "2c030f09-c4c4-400d-880f-c25550d6ab18",
   "metadata": {},
   "source": [
    "***02_Assignment : Give 3 examples each of [List], (Tuple), {D : dictionary}, {Set}***"
   ]
  },
  {
   "cell_type": "markdown",
   "id": "7b878b6e-c327-4915-94ba-6001d4ae7123",
   "metadata": {},
   "source": [
    "# LIST"
   ]
  },
  {
   "cell_type": "markdown",
   "id": "f2603f94-7cca-4009-83a9-d59af3be418b",
   "metadata": {},
   "source": [
    "### Declaration"
   ]
  },
  {
   "cell_type": "code",
   "execution_count": 2,
   "id": "e83fe733-9836-40e3-9db9-fb06c5c5a82a",
   "metadata": {},
   "outputs": [
    {
     "data": {
      "text/plain": [
       "['harsha', 3526, 234.3783, True, False, 'harshalp@gmail.com', (5+9j)]"
      ]
     },
     "execution_count": 2,
     "metadata": {},
     "output_type": "execute_result"
    }
   ],
   "source": [
    "sample_list1 = [\"harsha\", 3526, 234.3783, True, False, \"harshalp@gmail.com\", 5+9j] #non-homogenous data\n",
    "sample_list1"
   ]
  },
  {
   "cell_type": "code",
   "execution_count": 6,
   "id": "a33d96fd-0eb2-4b16-b2c1-20747a247ea2",
   "metadata": {},
   "outputs": [
    {
     "data": {
      "text/plain": [
       "[1, 2, 34, 6, 0, 7, 9]"
      ]
     },
     "execution_count": 6,
     "metadata": {},
     "output_type": "execute_result"
    }
   ],
   "source": [
    "sample_list2 = [1,2,34,6,0,7,9] #list of integers\n",
    "sample_list2"
   ]
  },
  {
   "cell_type": "code",
   "execution_count": 13,
   "id": "bef34223-f938-4ad0-b136-7c3e2a3f0e81",
   "metadata": {},
   "outputs": [
    {
     "data": {
      "text/plain": [
       "['a', 's', 'f', 'f', 'f', 't', 'h']"
      ]
     },
     "execution_count": 13,
     "metadata": {},
     "output_type": "execute_result"
    }
   ],
   "source": [
    "sample_list3 = ['a', 's','f','f','f','t','h'] #list of str with duplicate values\n",
    "sample_list3"
   ]
  },
  {
   "cell_type": "markdown",
   "id": "b1a4c731-29c5-4789-a332-80c7f64c6ed9",
   "metadata": {},
   "source": [
    "### Accessing elements of list"
   ]
  },
  {
   "cell_type": "code",
   "execution_count": 12,
   "id": "999e55e7-d134-4a8d-a593-51b7646318cf",
   "metadata": {},
   "outputs": [
    {
     "name": "stdout",
     "output_type": "stream",
     "text": [
      "harsha\n",
      "s\n"
     ]
    }
   ],
   "source": [
    "print(sample_list1[0]) #1st elemment : index starts from 0\n",
    "print(sample_list1[0][3])"
   ]
  },
  {
   "cell_type": "code",
   "execution_count": 14,
   "id": "100df874-fce7-4c32-810c-c501210cf3c5",
   "metadata": {},
   "outputs": [
    {
     "data": {
      "text/plain": [
       "9"
      ]
     },
     "execution_count": 14,
     "metadata": {},
     "output_type": "execute_result"
    }
   ],
   "source": [
    "sample_list2[-1] #last element of list"
   ]
  },
  {
   "cell_type": "code",
   "execution_count": 19,
   "id": "76d283c2-f985-49fc-9564-bd6b31468ad0",
   "metadata": {},
   "outputs": [
    {
     "name": "stdout",
     "output_type": "stream",
     "text": [
      "False <class 'bool'>\n",
      "['harshalp@gmail.com'] <class 'list'>\n"
     ]
    }
   ],
   "source": [
    "print(sample_list1[4], type(sample_list1[4]))\n",
    "print(sample_list1[5:6], type(sample_list1[5:6])) "
   ]
  },
  {
   "cell_type": "code",
   "execution_count": 31,
   "id": "a08216aa-4507-40d6-8f7d-2b4483e946ff",
   "metadata": {},
   "outputs": [
    {
     "data": {
      "text/plain": [
       "'gmail'"
      ]
     },
     "execution_count": 31,
     "metadata": {},
     "output_type": "execute_result"
    }
   ],
   "source": [
    "# Q) extract 'gmail' from 'harshalp@gmail.com' in sample_list1\n",
    "\n",
    "index = sample_list1.index('harshalp@gmail.com')\n",
    "start_pos = sample_list1[index].find(\"@\")\n",
    "end_pos = sample_list1[index].find(\".\")\n",
    "\n",
    "sample_list1[index][start_pos+1:end_pos]"
   ]
  },
  {
   "cell_type": "code",
   "execution_count": 26,
   "id": "3f4a1000-964a-45d8-ba50-a34f7e8f7bf0",
   "metadata": {},
   "outputs": [
    {
     "name": "stdout",
     "output_type": "stream",
     "text": [
      "140159008288176\n",
      "140159008288176\n",
      "140159007500336\n"
     ]
    }
   ],
   "source": [
    "# elements with same value in a list have same id\n",
    "print(id(sample_list3[3])) #'f'\n",
    "print(id(sample_list3[4])) #'f'\n",
    "print(id(sample_list3[0])) #'a'"
   ]
  },
  {
   "cell_type": "markdown",
   "id": "fd479049-22c8-4128-8b3d-92be54abfec0",
   "metadata": {},
   "source": [
    "# TUPLE"
   ]
  },
  {
   "cell_type": "code",
   "execution_count": 27,
   "id": "a98b3a25-627d-41af-8d63-6bed1256c2ac",
   "metadata": {},
   "outputs": [],
   "source": [
    "t1 = (1,3425,28,89,5)\n",
    "t2 = (\"asff\", 2345, \"ff\", 8,9,3)"
   ]
  },
  {
   "cell_type": "code",
   "execution_count": 29,
   "id": "74051341-be4f-42bf-bcc2-bd7db6edcf88",
   "metadata": {},
   "outputs": [
    {
     "ename": "TypeError",
     "evalue": "'tuple' object does not support item assignment",
     "output_type": "error",
     "traceback": [
      "\u001b[0;31m---------------------------------------------------------------------------\u001b[0m",
      "\u001b[0;31mTypeError\u001b[0m                                 Traceback (most recent call last)",
      "Input \u001b[0;32mIn [29]\u001b[0m, in \u001b[0;36m<cell line: 2>\u001b[0;34m()\u001b[0m\n\u001b[1;32m      1\u001b[0m \u001b[38;5;66;03m# tuples are immutable\u001b[39;00m\n\u001b[0;32m----> 2\u001b[0m t1[\u001b[38;5;241m0\u001b[39m] \u001b[38;5;241m=\u001b[39m \u001b[38;5;241m8\u001b[39m\n",
      "\u001b[0;31mTypeError\u001b[0m: 'tuple' object does not support item assignment"
     ]
    }
   ],
   "source": [
    "# tuples are immutable\n",
    "t1[0] = 8 #throws an error"
   ]
  },
  {
   "cell_type": "code",
   "execution_count": 33,
   "id": "3b3bab92-1cc5-4a5b-90c3-92e0888a6ff3",
   "metadata": {},
   "outputs": [
    {
     "data": {
      "text/plain": [
       "('asff', 2345, 'ff', 8)"
      ]
     },
     "execution_count": 33,
     "metadata": {},
     "output_type": "execute_result"
    }
   ],
   "source": [
    "t2[:-2] #all elements except last 2"
   ]
  },
  {
   "cell_type": "code",
   "execution_count": 34,
   "id": "65df1843-b73e-4813-933f-e8b2e25c9304",
   "metadata": {},
   "outputs": [
    {
     "data": {
      "text/plain": [
       "1"
      ]
     },
     "execution_count": 34,
     "metadata": {},
     "output_type": "execute_result"
    }
   ],
   "source": [
    "t1[0]"
   ]
  },
  {
   "cell_type": "markdown",
   "id": "62f474eb-9409-46ad-b527-c1dab54bbf82",
   "metadata": {},
   "source": [
    "# Dictionary"
   ]
  },
  {
   "cell_type": "code",
   "execution_count": 35,
   "id": "d86d117d-49ce-499b-b89f-393834e5caa9",
   "metadata": {},
   "outputs": [],
   "source": [
    "d1 = {'harshal': 1240, 'kumar': 3542, 'rahul':7010, 'shubham': 2415}\n",
    "d2 = {0:True, 1:False, 2:False, 3:True, 4:False}\n",
    "d3 = {10:'dry', 11:'wet', 12:'filthy'}"
   ]
  },
  {
   "cell_type": "markdown",
   "id": "86b18bbf-29f8-4fee-a7d6-153b6dd24ed0",
   "metadata": {},
   "source": [
    "### Accessing elements"
   ]
  },
  {
   "cell_type": "code",
   "execution_count": 43,
   "id": "df9fbe63-cbf0-4c9e-a44c-cf3c2a8e3e50",
   "metadata": {},
   "outputs": [
    {
     "name": "stdout",
     "output_type": "stream",
     "text": [
      "3542\n"
     ]
    }
   ],
   "source": [
    "print(d1['kumar'])"
   ]
  },
  {
   "cell_type": "code",
   "execution_count": 41,
   "id": "a57f6756-06a6-446e-9fda-166ca885439e",
   "metadata": {},
   "outputs": [
    {
     "name": "stdout",
     "output_type": "stream",
     "text": [
      "False\n"
     ]
    }
   ],
   "source": [
    "print(d2[4])"
   ]
  },
  {
   "cell_type": "code",
   "execution_count": 42,
   "id": "f7effef2-8783-4669-988e-8d71effe1c2f",
   "metadata": {},
   "outputs": [
    {
     "name": "stdout",
     "output_type": "stream",
     "text": [
      "wet\n"
     ]
    }
   ],
   "source": [
    "print(d3[11])"
   ]
  },
  {
   "cell_type": "markdown",
   "id": "42da2617-f0ab-4a50-8461-f7d410295ec3",
   "metadata": {},
   "source": [
    "# Set"
   ]
  },
  {
   "cell_type": "code",
   "execution_count": 77,
   "id": "8e9e274d-b529-4de0-8ec4-348989c3ad90",
   "metadata": {},
   "outputs": [],
   "source": [
    "s1 = {12,54,16,7,8}\n",
    "s2 = {'ashgf',\"d\",\"d\",\"d\", \"d\",\"ef\",352,263,78.34}\n",
    "s3 = {True, False, True, True, False, 0, 1, 2}"
   ]
  },
  {
   "cell_type": "code",
   "execution_count": 78,
   "id": "1c32cd8e-e550-4c27-91ed-499ff0404426",
   "metadata": {},
   "outputs": [
    {
     "data": {
      "text/plain": [
       "{7, 8, 12, 16, 54}"
      ]
     },
     "execution_count": 78,
     "metadata": {},
     "output_type": "execute_result"
    }
   ],
   "source": [
    "s1"
   ]
  },
  {
   "cell_type": "code",
   "execution_count": 79,
   "id": "52ba907c-95a2-494c-90a3-3435c7b062ee",
   "metadata": {},
   "outputs": [
    {
     "data": {
      "text/plain": [
       "{263, 352, 78.34, 'ashgf', 'd', 'ef'}"
      ]
     },
     "execution_count": 79,
     "metadata": {},
     "output_type": "execute_result"
    }
   ],
   "source": [
    "s2"
   ]
  },
  {
   "cell_type": "code",
   "execution_count": 85,
   "id": "c9ffb1be-aa91-4145-853a-435cf64d169b",
   "metadata": {},
   "outputs": [
    {
     "data": {
      "text/plain": [
       "{False, True, 2}"
      ]
     },
     "execution_count": 85,
     "metadata": {},
     "output_type": "execute_result"
    }
   ],
   "source": [
    "s3"
   ]
  }
 ],
 "metadata": {
  "kernelspec": {
   "display_name": "Python 3 (ipykernel)",
   "language": "python",
   "name": "python3"
  },
  "language_info": {
   "codemirror_mode": {
    "name": "ipython",
    "version": 3
   },
   "file_extension": ".py",
   "mimetype": "text/x-python",
   "name": "python",
   "nbconvert_exporter": "python",
   "pygments_lexer": "ipython3",
   "version": "3.9.7"
  }
 },
 "nbformat": 4,
 "nbformat_minor": 5
}
