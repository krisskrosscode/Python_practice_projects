{
 "cells": [
  {
   "cell_type": "markdown",
   "id": "d9100b1d-192c-4621-93b8-465f591270ef",
   "metadata": {},
   "source": [
    "# Sets"
   ]
  },
  {
   "cell_type": "code",
   "execution_count": 4,
   "id": "d9f294ff-a310-411b-8ebb-6f3f2d9799ad",
   "metadata": {},
   "outputs": [],
   "source": [
    "set1 = {1,2,3,3,4,5,6} #does not hold duplicate records"
   ]
  },
  {
   "cell_type": "code",
   "execution_count": 5,
   "id": "e594833c-ac8a-44ec-93ce-23499dc8eb38",
   "metadata": {},
   "outputs": [
    {
     "name": "stdout",
     "output_type": "stream",
     "text": [
      "{1, 2, 3, 4, 5, 6}\n",
      "[1, 2, 3]\n"
     ]
    }
   ],
   "source": [
    "print(set1)\n",
    "set_to_list = list(set1)\n",
    "print(set_to_list[0:3])"
   ]
  },
  {
   "cell_type": "code",
   "execution_count": 6,
   "id": "d0d7ccf8-de81-4130-8a66-c7283e97e6c2",
   "metadata": {},
   "outputs": [
    {
     "name": "stdout",
     "output_type": "stream",
     "text": [
      "<class 'set'> <class 'list'>\n"
     ]
    }
   ],
   "source": [
    "print(type(set1), type(set_to_list))"
   ]
  },
  {
   "cell_type": "markdown",
   "id": "8e2fac00-ea7c-4a60-8f28-17a29cbc9e57",
   "metadata": {},
   "source": [
    "## creating set from list"
   ]
  },
  {
   "cell_type": "code",
   "execution_count": 7,
   "id": "578bc6e0-8110-46e2-bf2b-75097f87490e",
   "metadata": {},
   "outputs": [
    {
     "name": "stdout",
     "output_type": "stream",
     "text": [
      "['one', 'nine', 'one', 'eight', 'nine', 'seven']\n",
      "{'one', 'eight', 'nine', 'seven'}\n"
     ]
    }
   ],
   "source": [
    "lst = ['one', 'nine', 'one', 'eight', 'nine', 'seven']\n",
    "\n",
    "set2 = set(lst)\n",
    "print(lst)\n",
    "print(set2)"
   ]
  },
  {
   "cell_type": "markdown",
   "id": "a529dfc3-2a9d-48de-916e-0a4278f848a1",
   "metadata": {},
   "source": [
    "## add a value to set"
   ]
  },
  {
   "cell_type": "code",
   "execution_count": 9,
   "id": "bbea61bc-02fb-4e28-b8ee-2bbcebac5810",
   "metadata": {},
   "outputs": [
    {
     "data": {
      "text/plain": [
       "{'eight', 'nine', 'one', 'seven', 'three'}"
      ]
     },
     "execution_count": 9,
     "metadata": {},
     "output_type": "execute_result"
    }
   ],
   "source": [
    "## add a single value\n",
    "set2.add('three')\n",
    "set2"
   ]
  },
  {
   "cell_type": "code",
   "execution_count": 19,
   "id": "d5620710-08a6-4ef0-a06e-9fa44192b187",
   "metadata": {},
   "outputs": [
    {
     "name": "stdout",
     "output_type": "stream",
     "text": [
      "ERROR :  set.add() takes exactly one argument (2 given)\n"
     ]
    }
   ],
   "source": [
    "try:\n",
    "    set2.add('two', 'ten') #cannot add two or more elements\n",
    "except Exception as e:\n",
    "    print(\"ERROR : \", e)"
   ]
  },
  {
   "cell_type": "markdown",
   "id": "0aeab990-03c5-4421-8e5f-e47245a0bc48",
   "metadata": {},
   "source": [
    "## Add multiple values"
   ]
  },
  {
   "cell_type": "code",
   "execution_count": 12,
   "id": "00b9424e-734b-4c74-b954-bf93d7889ebb",
   "metadata": {},
   "outputs": [
    {
     "data": {
      "text/plain": [
       "{'eight', 'eleven', 'nine', 'one', 'seven', 'three', 'twelve', 'twenty'}"
      ]
     },
     "execution_count": 12,
     "metadata": {},
     "output_type": "execute_result"
    }
   ],
   "source": [
    "set2.update(['eleven', 'twelve','twenty'])\n",
    "set2"
   ]
  },
  {
   "cell_type": "code",
   "execution_count": 13,
   "id": "92958820-b86e-4bcb-b8cd-7cc3a3142a20",
   "metadata": {},
   "outputs": [
    {
     "data": {
      "text/plain": [
       "{101,\n",
       " 102,\n",
       " 103,\n",
       " 'eight',\n",
       " 'eleven',\n",
       " 'nine',\n",
       " 'one',\n",
       " 'seven',\n",
       " 'three',\n",
       " 'twelve',\n",
       " 'twenty'}"
      ]
     },
     "execution_count": 13,
     "metadata": {},
     "output_type": "execute_result"
    }
   ],
   "source": [
    "set2.update([101,102,103])\n",
    "set2"
   ]
  },
  {
   "cell_type": "code",
   "execution_count": 14,
   "id": "95076ab8-4e3a-48ee-b9aa-8948ad1799c8",
   "metadata": {},
   "outputs": [
    {
     "data": {
      "text/plain": [
       "{1, 2, 3, 4, 5, 6}"
      ]
     },
     "execution_count": 14,
     "metadata": {},
     "output_type": "execute_result"
    }
   ],
   "source": [
    "set3 = set1\n",
    "set3"
   ]
  },
  {
   "cell_type": "code",
   "execution_count": 15,
   "id": "faefb0cf-9043-493b-89a0-97a38b497383",
   "metadata": {},
   "outputs": [
    {
     "data": {
      "text/plain": [
       "{1, 2, 3, 4, 5, 6, 56}"
      ]
     },
     "execution_count": 15,
     "metadata": {},
     "output_type": "execute_result"
    }
   ],
   "source": [
    "set3.update((4,56,6,2))\n",
    "set3"
   ]
  },
  {
   "cell_type": "code",
   "execution_count": 16,
   "id": "a8ce0ff0-7cd7-44ec-be58-d9e15803ba66",
   "metadata": {},
   "outputs": [],
   "source": [
    "set3.update(['thirty', 'forty'],(200,201,202))"
   ]
  },
  {
   "cell_type": "code",
   "execution_count": 17,
   "id": "dd4f1c93-920d-49bc-b0e9-3b971a266221",
   "metadata": {},
   "outputs": [
    {
     "data": {
      "text/plain": [
       "{1, 2, 200, 201, 202, 3, 4, 5, 56, 6, 'forty', 'thirty'}"
      ]
     },
     "execution_count": 17,
     "metadata": {},
     "output_type": "execute_result"
    }
   ],
   "source": [
    "set3"
   ]
  },
  {
   "cell_type": "markdown",
   "id": "2d5eef1a-7aa3-4f3d-a1d5-138ce97c1283",
   "metadata": {},
   "source": [
    "## length of set"
   ]
  },
  {
   "cell_type": "code",
   "execution_count": 18,
   "id": "092de430-08cd-4eee-95f8-a04ef361e36e",
   "metadata": {},
   "outputs": [
    {
     "data": {
      "text/plain": [
       "12"
      ]
     },
     "execution_count": 18,
     "metadata": {},
     "output_type": "execute_result"
    }
   ],
   "source": [
    "len(set3)"
   ]
  },
  {
   "cell_type": "markdown",
   "id": "4a57c44b-6b1e-4ceb-b61a-eba1cf278f96",
   "metadata": {},
   "source": [
    "## Remove and discard"
   ]
  },
  {
   "cell_type": "code",
   "execution_count": 21,
   "id": "9b85234d-1f30-40be-bc86-29ff9856f6e5",
   "metadata": {},
   "outputs": [
    {
     "data": {
      "text/plain": [
       "{1, 2, 200, 201, 202, 3, 4, 5, 56, 6, 'forty', 'thirty'}"
      ]
     },
     "execution_count": 21,
     "metadata": {},
     "output_type": "execute_result"
    }
   ],
   "source": [
    "set3"
   ]
  },
  {
   "cell_type": "code",
   "execution_count": 22,
   "id": "73d330b9-f8ab-40a5-b175-23f5f7a2bd72",
   "metadata": {},
   "outputs": [
    {
     "data": {
      "text/plain": [
       "{1, 2, 200, 201, 202, 3, 4, 5, 56, 6, 'thirty'}"
      ]
     },
     "execution_count": 22,
     "metadata": {},
     "output_type": "execute_result"
    }
   ],
   "source": [
    "set3.discard('forty')\n",
    "set3"
   ]
  },
  {
   "cell_type": "code",
   "execution_count": 23,
   "id": "68e541bc-eb07-42ec-803c-1d9e6d503b20",
   "metadata": {},
   "outputs": [
    {
     "data": {
      "text/plain": [
       "{1, 2, 3, 4, 5, 6, 56, 200, 201, 202}"
      ]
     },
     "execution_count": 23,
     "metadata": {},
     "output_type": "execute_result"
    }
   ],
   "source": [
    "set3.remove('thirty')\n",
    "set3"
   ]
  },
  {
   "cell_type": "markdown",
   "id": "34f7496b-aabf-4ec1-b1db-5a4fa798aa1e",
   "metadata": {},
   "source": [
    "## pop operation\n",
    "\n",
    "_deletes a random value from the set_"
   ]
  },
  {
   "cell_type": "code",
   "execution_count": 24,
   "id": "f87562e4-3832-4845-b981-e43dce127c9a",
   "metadata": {},
   "outputs": [
    {
     "data": {
      "text/plain": [
       "{2, 3, 4, 5, 6, 56, 200, 201, 202}"
      ]
     },
     "execution_count": 24,
     "metadata": {},
     "output_type": "execute_result"
    }
   ],
   "source": [
    "set3.pop()\n",
    "set3"
   ]
  },
  {
   "cell_type": "code",
   "execution_count": 25,
   "id": "de1a91cf-17e7-437a-9932-e73e55961acf",
   "metadata": {},
   "outputs": [
    {
     "name": "stdout",
     "output_type": "stream",
     "text": [
      "2\n",
      "{3, 4, 5, 6, 200, 201, 202, 56}\n"
     ]
    }
   ],
   "source": [
    "deleted_value = set3.pop()\n",
    "print(deleted_value)\n",
    "print(set3)"
   ]
  },
  {
   "cell_type": "markdown",
   "id": "6784ca9d-a3cd-4d75-b75d-a8fa77dd136a",
   "metadata": {},
   "source": [
    "## clear operation\n",
    "\n",
    "_deletes all the data from the set_"
   ]
  },
  {
   "cell_type": "code",
   "execution_count": 28,
   "id": "a4d8ebca-c8f5-4a47-82a1-c93d9723f1d8",
   "metadata": {},
   "outputs": [
    {
     "name": "stdout",
     "output_type": "stream",
     "text": [
      "set()\n"
     ]
    }
   ],
   "source": [
    "try:\n",
    "    set3.clear()\n",
    "    print(set3)\n",
    "except Exception as e:\n",
    "    print(\"ERROR : \", e)"
   ]
  },
  {
   "cell_type": "code",
   "execution_count": 30,
   "id": "6d640504-72c6-43f7-a9de-1175a5c568c9",
   "metadata": {},
   "outputs": [
    {
     "name": "stdout",
     "output_type": "stream",
     "text": [
      "set() \n",
      " {'one', 'three', 'twelve', 101, 102, 103, 'eight', 'twenty', 'seven', 'eleven', 'nine'}\n"
     ]
    }
   ],
   "source": [
    "print(set1, \"\\n\", set2)\n",
    "\n",
    "##observe how set1 is also deleted"
   ]
  },
  {
   "cell_type": "code",
   "execution_count": 34,
   "id": "68e3d49c-0c0e-4bfc-b2fe-7ccc5a9c52a7",
   "metadata": {},
   "outputs": [],
   "source": [
    "set1.update([1,2,34,5,6,95, 101,102,103])"
   ]
  },
  {
   "cell_type": "code",
   "execution_count": 38,
   "id": "3347f9f9-6c3d-4089-9b1d-0bbeacdae09a",
   "metadata": {},
   "outputs": [
    {
     "name": "stdout",
     "output_type": "stream",
     "text": [
      "{1, 2, 34, 5, 6, 101, 102, 103, 95}\n"
     ]
    }
   ],
   "source": [
    "print(set1)"
   ]
  },
  {
   "cell_type": "code",
   "execution_count": 37,
   "id": "8850a62c-3477-48e4-8729-f30f9f5ca13b",
   "metadata": {},
   "outputs": [
    {
     "name": "stdout",
     "output_type": "stream",
     "text": [
      "{'one', 'three', 'twelve', 101, 102, 103, 'eight', 'twenty', 'seven', 'eleven', 'nine'}\n"
     ]
    }
   ],
   "source": [
    "print(set2)"
   ]
  },
  {
   "cell_type": "markdown",
   "id": "b32f2ce7-2d2f-4fcf-90d6-9c5f03118e71",
   "metadata": {},
   "source": [
    "## Other operations"
   ]
  },
  {
   "cell_type": "markdown",
   "id": "be8a3385-8458-4180-ac3b-9e1a72403384",
   "metadata": {},
   "source": [
    "#### UNION"
   ]
  },
  {
   "cell_type": "code",
   "execution_count": 39,
   "id": "e1fdb488-c483-40b2-b3c6-5bc38e1424d8",
   "metadata": {},
   "outputs": [
    {
     "name": "stdout",
     "output_type": "stream",
     "text": [
      "{'one', 1, 2, 'three', 5, 6, 'twelve', 'twenty', 'nine', 95, 34, 101, 102, 103, 'eight', 'seven', 'eleven'}\n"
     ]
    }
   ],
   "source": [
    "print(set1 | set2) ##UNION function"
   ]
  },
  {
   "cell_type": "code",
   "execution_count": 40,
   "id": "c70118f2-ad89-4120-af06-dab4f0a68be1",
   "metadata": {},
   "outputs": [
    {
     "name": "stdout",
     "output_type": "stream",
     "text": [
      "{'one', 1, 2, 'three', 5, 6, 'twelve', 'twenty', 'nine', 95, 34, 101, 102, 103, 'eight', 'seven', 'eleven'}\n"
     ]
    }
   ],
   "source": [
    "print(set1.union(set2))"
   ]
  },
  {
   "cell_type": "markdown",
   "id": "6a3901bc-355f-48f2-b8b2-e3661cd931c9",
   "metadata": {},
   "source": [
    "#### INTERSECTION\n",
    "___set1 & set2 gives values that are in set1 and set2 both___"
   ]
  },
  {
   "cell_type": "code",
   "execution_count": 41,
   "id": "3382bf54-3d11-401e-aabb-fbb8c556cddf",
   "metadata": {},
   "outputs": [
    {
     "name": "stdout",
     "output_type": "stream",
     "text": [
      "{101, 102, 103}\n"
     ]
    }
   ],
   "source": [
    "print(set1 & set2)"
   ]
  },
  {
   "cell_type": "code",
   "execution_count": 42,
   "id": "2eabc1b5-591f-468e-b6b8-8613916e193c",
   "metadata": {},
   "outputs": [
    {
     "name": "stdout",
     "output_type": "stream",
     "text": [
      "{101, 102, 103}\n"
     ]
    }
   ],
   "source": [
    "print(set1.intersection(set2))"
   ]
  },
  {
   "cell_type": "markdown",
   "id": "c0e76a4a-f1a6-45a6-9e53-19eb2b9b5027",
   "metadata": {},
   "source": [
    "#### DIFFERENCE\n",
    "\n",
    "___set1 - set2 gives values that are present in set1 but not in set2___"
   ]
  },
  {
   "cell_type": "code",
   "execution_count": 43,
   "id": "3cd790d2-5c64-46ff-bbdb-ccc13c128fcf",
   "metadata": {},
   "outputs": [
    {
     "name": "stdout",
     "output_type": "stream",
     "text": [
      "{1, 2, 34, 5, 6, 95}\n"
     ]
    }
   ],
   "source": [
    "print(set1 - set2) "
   ]
  },
  {
   "cell_type": "code",
   "execution_count": 44,
   "id": "2a2dcf1c-e93c-4ad5-b4de-df371b2ff8a2",
   "metadata": {},
   "outputs": [
    {
     "name": "stdout",
     "output_type": "stream",
     "text": [
      "{1, 2, 34, 5, 6, 95}\n"
     ]
    }
   ],
   "source": [
    "print(set1.difference(set2))"
   ]
  },
  {
   "cell_type": "markdown",
   "id": "447c15da-7f77-44b6-bd45-74334eb8d39b",
   "metadata": {},
   "source": [
    "#### SYMMETRIC DIFFERENCE\n",
    "\n",
    "___gives values that are not common in both sets___"
   ]
  },
  {
   "cell_type": "code",
   "execution_count": 45,
   "id": "f41e5db5-186c-468c-a6a4-a780701e835b",
   "metadata": {},
   "outputs": [
    {
     "name": "stdout",
     "output_type": "stream",
     "text": [
      "{'one', 1, 2, 34, 'three', 'twelve', 5, 6, 'eight', 'twenty', 'seven', 'eleven', 'nine', 95}\n"
     ]
    }
   ],
   "source": [
    "print(set1 ^ set2)"
   ]
  },
  {
   "cell_type": "code",
   "execution_count": 46,
   "id": "8bac64da-4b9f-4bff-a4ec-4005b424ce04",
   "metadata": {},
   "outputs": [
    {
     "name": "stdout",
     "output_type": "stream",
     "text": [
      "{'one', 1, 2, 34, 'three', 'twelve', 5, 6, 'eight', 'twenty', 'seven', 'eleven', 'nine', 95}\n"
     ]
    }
   ],
   "source": [
    "print(set1.symmetric_difference(set2))"
   ]
  },
  {
   "cell_type": "markdown",
   "id": "0022ee24-0291-405e-9630-00837841b5e6",
   "metadata": {},
   "source": [
    "## Subset and superset"
   ]
  },
  {
   "cell_type": "code",
   "execution_count": 47,
   "id": "4d44beb9-9a46-4db1-9236-83e9e2bf2743",
   "metadata": {},
   "outputs": [],
   "source": [
    "set4 = set([i for i in range(20)])\n",
    "set5 = set([i for i in range(10)]) "
   ]
  },
  {
   "cell_type": "code",
   "execution_count": 48,
   "id": "ef30680f-1377-4dda-8335-d4594201a6c7",
   "metadata": {},
   "outputs": [
    {
     "name": "stdout",
     "output_type": "stream",
     "text": [
      "{0, 1, 2, 3, 4, 5, 6, 7, 8, 9, 10, 11, 12, 13, 14, 15, 16, 17, 18, 19}\n",
      "{0, 1, 2, 3, 4, 5, 6, 7, 8, 9}\n"
     ]
    }
   ],
   "source": [
    "print(set4)\n",
    "print(set5)"
   ]
  },
  {
   "cell_type": "code",
   "execution_count": 52,
   "id": "f847af18-1c27-4aee-8322-c4c35bcba401",
   "metadata": {},
   "outputs": [
    {
     "name": "stdout",
     "output_type": "stream",
     "text": [
      "True\n"
     ]
    }
   ],
   "source": [
    "print(set5.issubset(set4)) ## is set4 a subset of set5?"
   ]
  },
  {
   "cell_type": "code",
   "execution_count": 53,
   "id": "a6ee3b3d-3cbc-4e17-ba94-18fab15aef39",
   "metadata": {},
   "outputs": [
    {
     "name": "stdout",
     "output_type": "stream",
     "text": [
      "True\n"
     ]
    }
   ],
   "source": [
    "print(set4.issuperset(set5)) # is set4 a superset of set5?"
   ]
  },
  {
   "cell_type": "markdown",
   "id": "5b8ab0d5-54fd-4670-a31a-ddce087ea9cc",
   "metadata": {},
   "source": [
    "## Frozen sets\n",
    "_cannot add any values_"
   ]
  },
  {
   "cell_type": "code",
   "execution_count": 54,
   "id": "0ee5a059-a9d9-40b7-a8bb-7409ed7e583c",
   "metadata": {},
   "outputs": [
    {
     "data": {
      "text/plain": [
       "frozenset({0, 1, 2, 3, 4})"
      ]
     },
     "execution_count": 54,
     "metadata": {},
     "output_type": "execute_result"
    }
   ],
   "source": [
    "set6 = frozenset([i for i in range(5)])\n",
    "set6"
   ]
  },
  {
   "cell_type": "code",
   "execution_count": 58,
   "id": "47ebdf99-5dc4-4223-8f5d-188cd6dcaf10",
   "metadata": {},
   "outputs": [
    {
     "name": "stdout",
     "output_type": "stream",
     "text": [
      "ERROR :  'frozenset' object has no attribute 'update'\n"
     ]
    }
   ],
   "source": [
    "try:\n",
    "    set6.update([8,9,10])\n",
    "except Exception as e:\n",
    "    print(\"ERROR : \", e)"
   ]
  },
  {
   "cell_type": "code",
   "execution_count": null,
   "id": "e967e259-7d00-4a2f-8d1d-4ba7253f28de",
   "metadata": {},
   "outputs": [],
   "source": []
  }
 ],
 "metadata": {
  "kernelspec": {
   "display_name": "Python 3 (ipykernel)",
   "language": "python",
   "name": "python3"
  },
  "language_info": {
   "codemirror_mode": {
    "name": "ipython",
    "version": 3
   },
   "file_extension": ".py",
   "mimetype": "text/x-python",
   "name": "python",
   "nbconvert_exporter": "python",
   "pygments_lexer": "ipython3",
   "version": "3.9.12"
  }
 },
 "nbformat": 4,
 "nbformat_minor": 5
}
