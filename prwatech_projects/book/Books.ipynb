{
 "cells": [
  {
   "cell_type": "markdown",
   "id": "b8ccd082-7487-4fec-9b3f-619b17199f2d",
   "metadata": {},
   "source": [
    "# Books Mini Project"
   ]
  },
  {
   "cell_type": "code",
   "execution_count": 1,
   "id": "7726e5b4-690a-4fc5-87db-95e2ad842d3c",
   "metadata": {},
   "outputs": [],
   "source": [
    "import numpy as np\n",
    "import pandas as pd"
   ]
  },
  {
   "cell_type": "code",
   "execution_count": 2,
   "id": "3935d697-e505-40d5-8023-200f1ea56145",
   "metadata": {},
   "outputs": [],
   "source": [
    "books = pd.read_csv('book.csv',sep=';')"
   ]
  },
  {
   "cell_type": "code",
   "execution_count": 3,
   "id": "1dc9f3dc-e4dd-4e8f-b925-646c1f6b08ff",
   "metadata": {
    "tags": []
   },
   "outputs": [
    {
     "data": {
      "text/html": [
       "<div>\n",
       "<style scoped>\n",
       "    .dataframe tbody tr th:only-of-type {\n",
       "        vertical-align: middle;\n",
       "    }\n",
       "\n",
       "    .dataframe tbody tr th {\n",
       "        vertical-align: top;\n",
       "    }\n",
       "\n",
       "    .dataframe thead th {\n",
       "        text-align: right;\n",
       "    }\n",
       "</style>\n",
       "<table border=\"1\" class=\"dataframe\">\n",
       "  <thead>\n",
       "    <tr style=\"text-align: right;\">\n",
       "      <th></th>\n",
       "      <th>ISBN</th>\n",
       "      <th>Book-Title</th>\n",
       "      <th>Book-Author</th>\n",
       "      <th>Year-Of-Publication</th>\n",
       "      <th>Publisher</th>\n",
       "    </tr>\n",
       "  </thead>\n",
       "  <tbody>\n",
       "    <tr>\n",
       "      <th>0</th>\n",
       "      <td>0195153448</td>\n",
       "      <td>Classical Mythology</td>\n",
       "      <td>Mark P. O. Morford</td>\n",
       "      <td>2002</td>\n",
       "      <td>Oxford University Press</td>\n",
       "    </tr>\n",
       "    <tr>\n",
       "      <th>1</th>\n",
       "      <td>0002005018</td>\n",
       "      <td>Clara Callan</td>\n",
       "      <td>Richard Bruce Wright</td>\n",
       "      <td>2001</td>\n",
       "      <td>HarperFlamingo Canada</td>\n",
       "    </tr>\n",
       "    <tr>\n",
       "      <th>2</th>\n",
       "      <td>0060973129</td>\n",
       "      <td>Decision in Normandy</td>\n",
       "      <td>Carlo D'Este</td>\n",
       "      <td>1991</td>\n",
       "      <td>HarperPerennial</td>\n",
       "    </tr>\n",
       "    <tr>\n",
       "      <th>3</th>\n",
       "      <td>0374157065</td>\n",
       "      <td>Flu: The Story of the Great Influenza Pandemic...</td>\n",
       "      <td>Gina Bari Kolata</td>\n",
       "      <td>1999</td>\n",
       "      <td>Farrar Straus Giroux</td>\n",
       "    </tr>\n",
       "    <tr>\n",
       "      <th>4</th>\n",
       "      <td>0393045218</td>\n",
       "      <td>The Mummies of Urumchi</td>\n",
       "      <td>E. J. W. Barber</td>\n",
       "      <td>1999</td>\n",
       "      <td>W. W. Norton &amp;amp; Company</td>\n",
       "    </tr>\n",
       "  </tbody>\n",
       "</table>\n",
       "</div>"
      ],
      "text/plain": [
       "         ISBN                                         Book-Title  \\\n",
       "0  0195153448                                Classical Mythology   \n",
       "1  0002005018                                       Clara Callan   \n",
       "2  0060973129                               Decision in Normandy   \n",
       "3  0374157065  Flu: The Story of the Great Influenza Pandemic...   \n",
       "4  0393045218                             The Mummies of Urumchi   \n",
       "\n",
       "            Book-Author  Year-Of-Publication                   Publisher  \n",
       "0    Mark P. O. Morford                 2002     Oxford University Press  \n",
       "1  Richard Bruce Wright                 2001       HarperFlamingo Canada  \n",
       "2          Carlo D'Este                 1991             HarperPerennial  \n",
       "3      Gina Bari Kolata                 1999        Farrar Straus Giroux  \n",
       "4       E. J. W. Barber                 1999  W. W. Norton &amp; Company  "
      ]
     },
     "execution_count": 3,
     "metadata": {},
     "output_type": "execute_result"
    }
   ],
   "source": [
    "books.head()"
   ]
  },
  {
   "cell_type": "code",
   "execution_count": 4,
   "id": "64ad00d2-f12d-4a0d-b2f4-c52c69e4a345",
   "metadata": {},
   "outputs": [
    {
     "data": {
      "text/plain": [
       "ISBN                   object\n",
       "Book-Title             object\n",
       "Book-Author            object\n",
       "Year-Of-Publication     int64\n",
       "Publisher              object\n",
       "dtype: object"
      ]
     },
     "execution_count": 4,
     "metadata": {},
     "output_type": "execute_result"
    }
   ],
   "source": [
    "books.dtypes"
   ]
  },
  {
   "cell_type": "markdown",
   "id": "6c41ab4b-c8cf-4a4f-a363-1f759fc40c2b",
   "metadata": {},
   "source": [
    "### Q1) Find out the frequency of books published each year. (Hint: Use 'book.csv' file for this)"
   ]
  },
  {
   "cell_type": "code",
   "execution_count": 5,
   "id": "08b8e959-5d59-4024-9157-6d21e0cc8299",
   "metadata": {},
   "outputs": [],
   "source": [
    "a = books.groupby(by='Year-Of-Publication').groups"
   ]
  },
  {
   "cell_type": "code",
   "execution_count": 6,
   "id": "94caf653-4e2c-4638-97c8-bcd200481076",
   "metadata": {},
   "outputs": [],
   "source": [
    "d = {k:len(v) for k,v in a.items()}"
   ]
  },
  {
   "cell_type": "code",
   "execution_count": 7,
   "id": "2900f3ef-93a9-4adc-87f0-4225e50ac1be",
   "metadata": {
    "collapsed": true,
    "jupyter": {
     "outputs_hidden": true
    },
    "tags": []
   },
   "outputs": [
    {
     "name": "stdout",
     "output_type": "stream",
     "text": [
      "year \t number_of_books\n",
      "1376 \t 1\n",
      "1378 \t 1\n",
      "1806 \t 1\n",
      "1897 \t 1\n",
      "1900 \t 3\n",
      "1901 \t 7\n",
      "1902 \t 2\n",
      "1904 \t 1\n",
      "1906 \t 1\n",
      "1908 \t 1\n",
      "1909 \t 2\n",
      "1910 \t 1\n",
      "1911 \t 19\n",
      "1914 \t 1\n",
      "1917 \t 1\n",
      "1919 \t 1\n",
      "1920 \t 33\n",
      "1921 \t 2\n",
      "1922 \t 2\n",
      "1923 \t 11\n",
      "1924 \t 2\n",
      "1925 \t 2\n",
      "1926 \t 2\n",
      "1927 \t 2\n",
      "1928 \t 2\n",
      "1929 \t 7\n",
      "1930 \t 13\n",
      "1931 \t 3\n",
      "1932 \t 5\n",
      "1933 \t 3\n",
      "1934 \t 1\n",
      "1935 \t 3\n",
      "1936 \t 7\n",
      "1937 \t 5\n",
      "1938 \t 7\n",
      "1939 \t 9\n",
      "1940 \t 35\n",
      "1941 \t 10\n",
      "1942 \t 14\n",
      "1943 \t 8\n",
      "1944 \t 4\n",
      "1945 \t 8\n",
      "1946 \t 13\n",
      "1947 \t 14\n",
      "1948 \t 9\n",
      "1949 \t 11\n",
      "1950 \t 32\n",
      "1951 \t 40\n",
      "1952 \t 34\n",
      "1953 \t 63\n",
      "1954 \t 54\n",
      "1955 \t 70\n",
      "1956 \t 74\n",
      "1957 \t 76\n",
      "1958 \t 77\n",
      "1959 \t 103\n",
      "1960 \t 133\n",
      "1961 \t 132\n",
      "1962 \t 123\n",
      "1963 \t 132\n",
      "1964 \t 148\n",
      "1965 \t 173\n",
      "1966 \t 183\n",
      "1967 \t 175\n",
      "1968 \t 222\n",
      "1969 \t 332\n",
      "1970 \t 447\n",
      "1971 \t 526\n",
      "1972 \t 744\n",
      "1973 \t 887\n",
      "1974 \t 995\n",
      "1975 \t 1216\n",
      "1976 \t 1595\n",
      "1977 \t 1895\n",
      "1978 \t 2129\n",
      "1979 \t 2208\n",
      "1980 \t 2674\n",
      "1981 \t 3279\n",
      "1982 \t 4197\n",
      "1983 \t 4499\n",
      "1984 \t 4986\n",
      "1985 \t 5343\n",
      "1986 \t 5841\n",
      "1987 \t 6529\n",
      "1988 \t 7490\n",
      "1989 \t 7934\n",
      "1990 \t 8660\n",
      "1991 \t 9389\n",
      "1992 \t 9906\n",
      "1993 \t 10601\n",
      "1994 \t 11795\n",
      "1995 \t 13544\n",
      "1996 \t 14029\n",
      "1997 \t 14889\n",
      "1998 \t 15764\n",
      "1999 \t 17430\n",
      "2000 \t 17234\n",
      "2001 \t 17358\n",
      "2002 \t 17625\n",
      "2003 \t 14359\n",
      "2004 \t 5839\n",
      "2005 \t 46\n",
      "2006 \t 3\n",
      "2008 \t 1\n",
      "2010 \t 2\n",
      "2011 \t 2\n",
      "2012 \t 1\n",
      "2020 \t 3\n",
      "2021 \t 1\n",
      "2024 \t 1\n",
      "2026 \t 1\n",
      "2030 \t 7\n",
      "2037 \t 1\n",
      "2038 \t 1\n",
      "2050 \t 2\n"
     ]
    }
   ],
   "source": [
    "print('year', '\\t', 'number_of_books')\n",
    "for k,v in d.items():\n",
    "    if k != 0:\n",
    "        print(k , '\\t' ,v)"
   ]
  },
  {
   "cell_type": "markdown",
   "id": "8c44af28-27e5-4a92-9933-79b2ad42dd62",
   "metadata": {},
   "source": [
    "### Q2) Find out in which year maximum number of books were published"
   ]
  },
  {
   "cell_type": "code",
   "execution_count": 8,
   "id": "a5de41a9-e87e-4781-bf3c-44f627ca8145",
   "metadata": {},
   "outputs": [],
   "source": [
    "df1 = pd.DataFrame()"
   ]
  },
  {
   "cell_type": "code",
   "execution_count": 9,
   "id": "8813cb1d-64c5-478d-ad40-ab09478fbdda",
   "metadata": {},
   "outputs": [],
   "source": [
    "df1['year'] = d.keys()"
   ]
  },
  {
   "cell_type": "code",
   "execution_count": 10,
   "id": "21f19cbc-28f2-41f8-8e68-b6218b59aee6",
   "metadata": {},
   "outputs": [],
   "source": [
    "df1['number_of_books'] = d.values()"
   ]
  },
  {
   "cell_type": "code",
   "execution_count": 11,
   "id": "542c9d6f-e052-4946-831a-c7e838b1d005",
   "metadata": {},
   "outputs": [],
   "source": [
    "# df1.sort_values(by= 'number_of_books', ascending=False).head(1)"
   ]
  },
  {
   "cell_type": "code",
   "execution_count": 12,
   "id": "b40f7a34-7121-4709-ae05-6376a9871470",
   "metadata": {},
   "outputs": [
    {
     "data": {
      "text/html": [
       "<div>\n",
       "<style scoped>\n",
       "    .dataframe tbody tr th:only-of-type {\n",
       "        vertical-align: middle;\n",
       "    }\n",
       "\n",
       "    .dataframe tbody tr th {\n",
       "        vertical-align: top;\n",
       "    }\n",
       "\n",
       "    .dataframe thead th {\n",
       "        text-align: right;\n",
       "    }\n",
       "</style>\n",
       "<table border=\"1\" class=\"dataframe\">\n",
       "  <thead>\n",
       "    <tr style=\"text-align: right;\">\n",
       "      <th></th>\n",
       "      <th>year</th>\n",
       "      <th>number_of_books</th>\n",
       "    </tr>\n",
       "  </thead>\n",
       "  <tbody>\n",
       "    <tr>\n",
       "      <th>99</th>\n",
       "      <td>2002</td>\n",
       "      <td>17625</td>\n",
       "    </tr>\n",
       "  </tbody>\n",
       "</table>\n",
       "</div>"
      ],
      "text/plain": [
       "    year  number_of_books\n",
       "99  2002            17625"
      ]
     },
     "execution_count": 12,
     "metadata": {},
     "output_type": "execute_result"
    }
   ],
   "source": [
    "df1[['year', 'number_of_books']][df1['number_of_books'] == max(df1['number_of_books'])]"
   ]
  },
  {
   "cell_type": "markdown",
   "id": "4741478f-ea10-4d94-9e0c-c925c043d302",
   "metadata": {
    "tags": []
   },
   "source": [
    "### Q3) Find out how many book were published based on ranking in the year 2002. ( Hint: Use Book.csv and BookRatings.csv)"
   ]
  },
  {
   "cell_type": "code",
   "execution_count": 13,
   "id": "0dcdfa7e-55d7-43c3-8eac-c0cc692c63fe",
   "metadata": {},
   "outputs": [],
   "source": [
    "book_ratings = pd.read_csv('book_rating.csv', sep=';')"
   ]
  },
  {
   "cell_type": "code",
   "execution_count": 14,
   "id": "d61572cd-87fb-4e55-86b8-672360ab90e4",
   "metadata": {},
   "outputs": [],
   "source": [
    "combined_df = pd.merge(left=books, right = book_ratings)"
   ]
  },
  {
   "cell_type": "code",
   "execution_count": 15,
   "id": "cce37b2a-7888-45ee-affc-5edf3b7c7510",
   "metadata": {},
   "outputs": [
    {
     "data": {
      "text/html": [
       "<div>\n",
       "<style scoped>\n",
       "    .dataframe tbody tr th:only-of-type {\n",
       "        vertical-align: middle;\n",
       "    }\n",
       "\n",
       "    .dataframe tbody tr th {\n",
       "        vertical-align: top;\n",
       "    }\n",
       "\n",
       "    .dataframe thead th {\n",
       "        text-align: right;\n",
       "    }\n",
       "</style>\n",
       "<table border=\"1\" class=\"dataframe\">\n",
       "  <thead>\n",
       "    <tr style=\"text-align: right;\">\n",
       "      <th></th>\n",
       "      <th>ISBN</th>\n",
       "      <th>Book-Title</th>\n",
       "      <th>Book-Author</th>\n",
       "      <th>Year-Of-Publication</th>\n",
       "      <th>Publisher</th>\n",
       "      <th>User-ID</th>\n",
       "      <th>Book-Rating</th>\n",
       "    </tr>\n",
       "  </thead>\n",
       "  <tbody>\n",
       "    <tr>\n",
       "      <th>0</th>\n",
       "      <td>0195153448</td>\n",
       "      <td>Classical Mythology</td>\n",
       "      <td>Mark P. O. Morford</td>\n",
       "      <td>2002</td>\n",
       "      <td>Oxford University Press</td>\n",
       "      <td>2</td>\n",
       "      <td>0</td>\n",
       "    </tr>\n",
       "    <tr>\n",
       "      <th>1</th>\n",
       "      <td>0002005018</td>\n",
       "      <td>Clara Callan</td>\n",
       "      <td>Richard Bruce Wright</td>\n",
       "      <td>2001</td>\n",
       "      <td>HarperFlamingo Canada</td>\n",
       "      <td>8</td>\n",
       "      <td>5</td>\n",
       "    </tr>\n",
       "    <tr>\n",
       "      <th>2</th>\n",
       "      <td>0002005018</td>\n",
       "      <td>Clara Callan</td>\n",
       "      <td>Richard Bruce Wright</td>\n",
       "      <td>2001</td>\n",
       "      <td>HarperFlamingo Canada</td>\n",
       "      <td>11400</td>\n",
       "      <td>0</td>\n",
       "    </tr>\n",
       "    <tr>\n",
       "      <th>3</th>\n",
       "      <td>0002005018</td>\n",
       "      <td>Clara Callan</td>\n",
       "      <td>Richard Bruce Wright</td>\n",
       "      <td>2001</td>\n",
       "      <td>HarperFlamingo Canada</td>\n",
       "      <td>11676</td>\n",
       "      <td>8</td>\n",
       "    </tr>\n",
       "    <tr>\n",
       "      <th>4</th>\n",
       "      <td>0060973129</td>\n",
       "      <td>Decision in Normandy</td>\n",
       "      <td>Carlo D'Este</td>\n",
       "      <td>1991</td>\n",
       "      <td>HarperPerennial</td>\n",
       "      <td>8</td>\n",
       "      <td>0</td>\n",
       "    </tr>\n",
       "  </tbody>\n",
       "</table>\n",
       "</div>"
      ],
      "text/plain": [
       "         ISBN            Book-Title           Book-Author  \\\n",
       "0  0195153448   Classical Mythology    Mark P. O. Morford   \n",
       "1  0002005018          Clara Callan  Richard Bruce Wright   \n",
       "2  0002005018          Clara Callan  Richard Bruce Wright   \n",
       "3  0002005018          Clara Callan  Richard Bruce Wright   \n",
       "4  0060973129  Decision in Normandy          Carlo D'Este   \n",
       "\n",
       "   Year-Of-Publication                Publisher  User-ID  Book-Rating  \n",
       "0                 2002  Oxford University Press        2            0  \n",
       "1                 2001    HarperFlamingo Canada        8            5  \n",
       "2                 2001    HarperFlamingo Canada    11400            0  \n",
       "3                 2001    HarperFlamingo Canada    11676            8  \n",
       "4                 1991          HarperPerennial        8            0  "
      ]
     },
     "execution_count": 15,
     "metadata": {},
     "output_type": "execute_result"
    }
   ],
   "source": [
    "combined_df.head()"
   ]
  },
  {
   "cell_type": "code",
   "execution_count": 16,
   "id": "bc63a113-6270-4817-8939-32066f3aa782",
   "metadata": {},
   "outputs": [],
   "source": [
    "year_2002 = combined_df[['Book-Title', 'Book-Rating', 'Year-Of-Publication']][combined_df['Year-Of-Publication'] == 2002]"
   ]
  },
  {
   "cell_type": "code",
   "execution_count": 17,
   "id": "7ef9bee8-c6e0-4ee0-bd03-7d9fda0b90c4",
   "metadata": {},
   "outputs": [
    {
     "data": {
      "text/html": [
       "<div>\n",
       "<style scoped>\n",
       "    .dataframe tbody tr th:only-of-type {\n",
       "        vertical-align: middle;\n",
       "    }\n",
       "\n",
       "    .dataframe tbody tr th {\n",
       "        vertical-align: top;\n",
       "    }\n",
       "\n",
       "    .dataframe thead th {\n",
       "        text-align: right;\n",
       "    }\n",
       "</style>\n",
       "<table border=\"1\" class=\"dataframe\">\n",
       "  <thead>\n",
       "    <tr style=\"text-align: right;\">\n",
       "      <th></th>\n",
       "      <th>Book-Title</th>\n",
       "      <th>Book-Rating</th>\n",
       "      <th>Year-Of-Publication</th>\n",
       "    </tr>\n",
       "  </thead>\n",
       "  <tbody>\n",
       "    <tr>\n",
       "      <th>0</th>\n",
       "      <td>Classical Mythology</td>\n",
       "      <td>0</td>\n",
       "      <td>2002</td>\n",
       "    </tr>\n",
       "    <tr>\n",
       "      <th>14</th>\n",
       "      <td>Where You'll Find Me: And Other Stories</td>\n",
       "      <td>5</td>\n",
       "      <td>2002</td>\n",
       "    </tr>\n",
       "    <tr>\n",
       "      <th>196</th>\n",
       "      <td>Wie Barney es sieht.</td>\n",
       "      <td>7</td>\n",
       "      <td>2002</td>\n",
       "    </tr>\n",
       "    <tr>\n",
       "      <th>227</th>\n",
       "      <td>Seabiscuit: An American Legend</td>\n",
       "      <td>10</td>\n",
       "      <td>2002</td>\n",
       "    </tr>\n",
       "    <tr>\n",
       "      <th>228</th>\n",
       "      <td>Seabiscuit: An American Legend</td>\n",
       "      <td>0</td>\n",
       "      <td>2002</td>\n",
       "    </tr>\n",
       "  </tbody>\n",
       "</table>\n",
       "</div>"
      ],
      "text/plain": [
       "                                  Book-Title  Book-Rating  Year-Of-Publication\n",
       "0                        Classical Mythology            0                 2002\n",
       "14   Where You'll Find Me: And Other Stories            5                 2002\n",
       "196                     Wie Barney es sieht.            7                 2002\n",
       "227           Seabiscuit: An American Legend           10                 2002\n",
       "228           Seabiscuit: An American Legend            0                 2002"
      ]
     },
     "execution_count": 17,
     "metadata": {},
     "output_type": "execute_result"
    }
   ],
   "source": [
    "year_2002.head()"
   ]
  },
  {
   "cell_type": "code",
   "execution_count": 18,
   "id": "51546627-601e-474c-b680-7ebcdd9d23f4",
   "metadata": {},
   "outputs": [],
   "source": [
    "c = year_2002.groupby(by='Book-Rating').groups"
   ]
  },
  {
   "cell_type": "code",
   "execution_count": 19,
   "id": "7ed6de3b-71fa-4368-8644-850e76d0a8f3",
   "metadata": {},
   "outputs": [],
   "source": [
    "ans_dict = {k:len(v) for k,v in c.items()}"
   ]
  },
  {
   "cell_type": "code",
   "execution_count": 20,
   "id": "3e6cff30-a37d-4a21-b899-eb6efc81e748",
   "metadata": {},
   "outputs": [
    {
     "name": "stdout",
     "output_type": "stream",
     "text": [
      " YEAR 2002 \n",
      "rating \t number_of_books\n",
      "0 \t 2218\n",
      "1 \t 17\n",
      "2 \t 19\n",
      "3 \t 40\n",
      "4 \t 58\n",
      "5 \t 178\n",
      "6 \t 225\n",
      "7 \t 423\n",
      "8 \t 533\n",
      "9 \t 350\n",
      "10 \t 370\n"
     ]
    }
   ],
   "source": [
    "print(' YEAR 2002 ')\n",
    "print('rating', '\\t', 'number_of_books')\n",
    "for k,v in ans_dict.items():\n",
    "    print(k, '\\t', v)"
   ]
  },
  {
   "cell_type": "code",
   "execution_count": null,
   "id": "eb865e2a-39e3-4b56-b194-178f06178feb",
   "metadata": {},
   "outputs": [],
   "source": []
  },
  {
   "cell_type": "code",
   "execution_count": 28,
   "id": "c4ed9913-78b1-43a4-bcba-8bbaa8c2dd70",
   "metadata": {},
   "outputs": [
    {
     "data": {
      "text/plain": [
       "17625"
      ]
     },
     "execution_count": 28,
     "metadata": {},
     "output_type": "execute_result"
    }
   ],
   "source": [
    "books['Year-Of-Publication'].value_counts().loc[2002]"
   ]
  },
  {
   "cell_type": "code",
   "execution_count": null,
   "id": "5e7775e4-6439-4111-825b-f05371a26bb3",
   "metadata": {},
   "outputs": [],
   "source": []
  }
 ],
 "metadata": {
  "kernelspec": {
   "display_name": "Python 3 (ipykernel)",
   "language": "python",
   "name": "python3"
  },
  "language_info": {
   "codemirror_mode": {
    "name": "ipython",
    "version": 3
   },
   "file_extension": ".py",
   "mimetype": "text/x-python",
   "name": "python",
   "nbconvert_exporter": "python",
   "pygments_lexer": "ipython3",
   "version": "3.9.12"
  }
 },
 "nbformat": 4,
 "nbformat_minor": 5
}
