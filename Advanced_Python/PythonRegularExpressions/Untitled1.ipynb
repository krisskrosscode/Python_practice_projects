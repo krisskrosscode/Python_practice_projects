{
 "cells": [
  {
   "cell_type": "code",
   "execution_count": 1,
   "id": "92e64e78-0715-478c-a391-a19806ee46bc",
   "metadata": {},
   "outputs": [
    {
     "name": "stdout",
     "output_type": "stream",
     "text": [
      "Collecting pdfplumber\n",
      "  Using cached pdfplumber-0.7.4-py3-none-any.whl (40 kB)\n",
      "Collecting Wand>=0.6.7\n",
      "  Using cached Wand-0.6.8-py2.py3-none-any.whl (142 kB)\n",
      "Collecting pdfminer.six==20220524\n",
      "  Using cached pdfminer.six-20220524-py3-none-any.whl (5.6 MB)\n",
      "Requirement already satisfied: Pillow>=9.1 in /home/harshal/anaconda3/lib/python3.9/site-packages (from pdfplumber) (9.2.0)\n",
      "Requirement already satisfied: cryptography>=36.0.0 in /home/harshal/anaconda3/lib/python3.9/site-packages (from pdfminer.six==20220524->pdfplumber) (37.0.1)\n",
      "Requirement already satisfied: charset-normalizer>=2.0.0 in /home/harshal/anaconda3/lib/python3.9/site-packages (from pdfminer.six==20220524->pdfplumber) (2.0.4)\n",
      "Requirement already satisfied: cffi>=1.12 in /home/harshal/anaconda3/lib/python3.9/site-packages (from cryptography>=36.0.0->pdfminer.six==20220524->pdfplumber) (1.15.0)\n",
      "Requirement already satisfied: pycparser in /home/harshal/anaconda3/lib/python3.9/site-packages (from cffi>=1.12->cryptography>=36.0.0->pdfminer.six==20220524->pdfplumber) (2.21)\n",
      "Installing collected packages: Wand, pdfminer.six, pdfplumber\n",
      "Successfully installed Wand-0.6.8 pdfminer.six-20220524 pdfplumber-0.7.4\n"
     ]
    }
   ],
   "source": [
    "!pip install pdfplumber"
   ]
  },
  {
   "cell_type": "code",
   "execution_count": 2,
   "id": "8efc48ce-9df5-4d76-9c5f-cefdb7609a09",
   "metadata": {},
   "outputs": [
    {
     "name": "stdout",
     "output_type": "stream",
     "text": [
      "Collecting package metadata (current_repodata.json): done\n",
      "Solving environment: done\n",
      "\n",
      "# All requested packages already installed.\n",
      "\n"
     ]
    }
   ],
   "source": [
    "!conda install requests"
   ]
  },
  {
   "cell_type": "code",
   "execution_count": 3,
   "id": "cf7938b0-fd17-4e13-b041-bf0d13e38701",
   "metadata": {},
   "outputs": [],
   "source": [
    "import requests\n",
    "import pdfplumber"
   ]
  },
  {
   "cell_type": "code",
   "execution_count": null,
   "id": "b3d0b952-b147-4af1-8cd5-5e6eb10ea27d",
   "metadata": {},
   "outputs": [],
   "source": []
  }
 ],
 "metadata": {
  "kernelspec": {
   "display_name": "Python 3 (ipykernel)",
   "language": "python",
   "name": "python3"
  },
  "language_info": {
   "codemirror_mode": {
    "name": "ipython",
    "version": 3
   },
   "file_extension": ".py",
   "mimetype": "text/x-python",
   "name": "python",
   "nbconvert_exporter": "python",
   "pygments_lexer": "ipython3",
   "version": "3.9.12"
  }
 },
 "nbformat": 4,
 "nbformat_minor": 5
}
