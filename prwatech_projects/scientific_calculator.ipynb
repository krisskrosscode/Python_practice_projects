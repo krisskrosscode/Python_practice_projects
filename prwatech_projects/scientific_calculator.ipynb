{
 "cells": [
  {
   "cell_type": "code",
   "execution_count": 30,
   "id": "7667bf8b-a832-4472-9136-0b2ec93a5312",
   "metadata": {},
   "outputs": [],
   "source": [
    "## Run the menu function at the end of this notebook to take user inputs for various calculator functions"
   ]
  },
  {
   "cell_type": "code",
   "execution_count": 2,
   "id": "06bdc05b-20d9-4119-8887-8210fa2e8f54",
   "metadata": {},
   "outputs": [],
   "source": [
    "def addition():\n",
    "    a = float(input('first number : '))\n",
    "    b = float(input('second number : '))\n",
    "    return a+b"
   ]
  },
  {
   "cell_type": "code",
   "execution_count": 3,
   "id": "e837e691-c8fb-434e-897c-d3cccd9d058f",
   "metadata": {},
   "outputs": [],
   "source": [
    "def subtraction():\n",
    "    a = float(input('first number : '))\n",
    "    b = float(input('second number : '))\n",
    "    return a-b"
   ]
  },
  {
   "cell_type": "code",
   "execution_count": 4,
   "id": "265a6fbd-cccd-49ee-b5e9-38211e65f70e",
   "metadata": {},
   "outputs": [],
   "source": [
    "def multiplication():\n",
    "    a = float(input('first number : '))\n",
    "    b = float(input('second number : '))\n",
    "    return a*b"
   ]
  },
  {
   "cell_type": "code",
   "execution_count": 5,
   "id": "185ac391-df27-478f-8b41-ee3162c7085e",
   "metadata": {},
   "outputs": [],
   "source": [
    "def division():\n",
    "    numerator = float(input('Numerator : '))\n",
    "    denominator = float(input('Denominator : '))\n",
    "    try:\n",
    "        return numerator/denominator\n",
    "    except Exception as e:\n",
    "        return \"ERROR : \" + str(e)"
   ]
  },
  {
   "cell_type": "code",
   "execution_count": 6,
   "id": "4c553b5c-3dab-4a76-846f-0cc7fa348320",
   "metadata": {},
   "outputs": [],
   "source": [
    "def AND():\n",
    "    print('Enter integer values : ')\n",
    "    a = int(input('a : '))\n",
    "    b = int(input('b : '))\n",
    "    return a and b"
   ]
  },
  {
   "cell_type": "code",
   "execution_count": null,
   "id": "bc140c9e-c63d-4a77-80f6-d74effc14880",
   "metadata": {},
   "outputs": [],
   "source": []
  },
  {
   "cell_type": "code",
   "execution_count": 7,
   "id": "3863fc60-9e0b-4345-90d4-b784091aa66e",
   "metadata": {},
   "outputs": [],
   "source": [
    "def OR():\n",
    "    print('Enter integer values : ')\n",
    "    a = int(input('a : '))\n",
    "    b = int(input('b : '))\n",
    "    return a or b"
   ]
  },
  {
   "cell_type": "code",
   "execution_count": 8,
   "id": "ffc3e94f-2086-4bdd-8753-bc1ff7c3ef29",
   "metadata": {},
   "outputs": [],
   "source": [
    "def NOT():\n",
    "    a = int(input('a : '))\n",
    "    return not a"
   ]
  },
  {
   "cell_type": "code",
   "execution_count": 9,
   "id": "e23d0770-7aa9-4a19-afdf-9f549b2ac09e",
   "metadata": {},
   "outputs": [],
   "source": [
    "def NOR():\n",
    "    a = int(input('a : '))\n",
    "    b = int(input('b : '))\n",
    "    return not (a or b)"
   ]
  },
  {
   "cell_type": "code",
   "execution_count": 10,
   "id": "0650ee6e-cfa7-4ec7-8aaa-dfce925d2771",
   "metadata": {},
   "outputs": [],
   "source": [
    "def factorial(num):\n",
    "    \n",
    "    if num == 0 or num == 1:\n",
    "        return 1\n",
    "    return num * factorial(num-1)"
   ]
  },
  {
   "cell_type": "code",
   "execution_count": 11,
   "id": "8cef10e3-dcc4-413a-a349-e09dcf713ffb",
   "metadata": {},
   "outputs": [],
   "source": [
    "cache  = {}\n",
    "\n",
    "def fibonacci(n): \n",
    "    # n = int(input('Enter an integer : '))\n",
    "    if n in cache:\n",
    "        return cache[n]\n",
    "    if n == 0 or n == 1:\n",
    "        return n\n",
    "    else:\n",
    "        ans = fibonacci(n-1) + fibonacci(n-2)\n",
    "        cache[n] = ans\n",
    "        return ans"
   ]
  },
  {
   "cell_type": "code",
   "execution_count": 12,
   "id": "38cd7005-08f0-4630-a45c-b286a1e5e2a4",
   "metadata": {},
   "outputs": [],
   "source": [
    "def permutation():\n",
    "    n = int(input('Enter n : '))\n",
    "    r = int(input('Enter r : '))\n",
    "    return factorial(n)/factorial(n-r)"
   ]
  },
  {
   "cell_type": "code",
   "execution_count": 13,
   "id": "aa39a113-6874-49be-91c7-3c62dc44fe64",
   "metadata": {
    "tags": []
   },
   "outputs": [],
   "source": [
    "def integer_reverse():\n",
    "    num = int(input('Enter an integer to reverse : '))\n",
    "    n = num\n",
    "    reverse = 0\n",
    "    while n!=0:\n",
    "        digit = n%10\n",
    "        reverse = reverse*10 + digit\n",
    "        n = int(n/10)\n",
    "    return reverse"
   ]
  },
  {
   "cell_type": "code",
   "execution_count": 14,
   "id": "72c65480-905a-42cd-807a-44c54140b9be",
   "metadata": {},
   "outputs": [],
   "source": [
    "def combination():\n",
    "    n = int(input('Enter n : '))\n",
    "    r = int(input('Enter r : '))\n",
    "    try:\n",
    "        return int(factorial(n)/(factorial(n-r)*factorial(r)))\n",
    "    except RecursionError as e:\n",
    "        return \"n cannot be less than r\""
   ]
  },
  {
   "cell_type": "code",
   "execution_count": null,
   "id": "ddfced02-aa45-43ba-a38a-898f37f9a818",
   "metadata": {},
   "outputs": [],
   "source": []
  },
  {
   "cell_type": "code",
   "execution_count": 15,
   "id": "24fc671b-d6d3-4fe7-837c-69e843381af4",
   "metadata": {},
   "outputs": [],
   "source": [
    "\n",
    "def __mean__(data):\n",
    "    return sum(data)/len(data)\n",
    "\n",
    "def __median__(data):\n",
    "    l = len(data)\n",
    "    data = sorted(data)\n",
    "    if l%2 == 0:\n",
    "        return (data[int(l/2)-1] + data[int(l/2)])/2\n",
    "    \n",
    "    return data[int(l/2)]\n",
    "\n",
    "def __mode__(data):\n",
    "    from statistics import mode\n",
    "    return mode(data)"
   ]
  },
  {
   "cell_type": "code",
   "execution_count": 16,
   "id": "e4dc39ac-9360-4821-b511-dcaee65c8243",
   "metadata": {},
   "outputs": [],
   "source": [
    "def stats(data):\n",
    "    return {'mean' : __mean__(data),\n",
    "            'median' : __median__(data),\n",
    "            'mode' : __mode__(data),\n",
    "            'std deviation' : std_deviation(data),\n",
    "            'variance' : variance(data)}"
   ]
  },
  {
   "cell_type": "code",
   "execution_count": 17,
   "id": "4312dfdd-e768-45d0-9604-dfbd62ae1a74",
   "metadata": {},
   "outputs": [],
   "source": [
    "def variance(data):\n",
    "    m = __mean__(data)\n",
    "    l = len(data)\n",
    "    x = [(i-m)**2 for i in data]\n",
    "    ans = sum(x)/l\n",
    "    return ans"
   ]
  },
  {
   "cell_type": "code",
   "execution_count": 18,
   "id": "dae8e91e-99b7-4f2a-8f3b-1e1dc6dacf28",
   "metadata": {},
   "outputs": [],
   "source": [
    "# t=(3,8,6,10,12,9,11,10,12,7)"
   ]
  },
  {
   "cell_type": "code",
   "execution_count": 19,
   "id": "627ed8bf-8b3e-4f9d-8b85-eb4139d18371",
   "metadata": {},
   "outputs": [],
   "source": [
    "def std_deviation(data):\n",
    "    import math\n",
    "    return math.sqrt(variance(data))"
   ]
  },
  {
   "cell_type": "code",
   "execution_count": 20,
   "id": "fb9be9cd-d30c-4eb4-bd1a-ba6953ae9e98",
   "metadata": {},
   "outputs": [],
   "source": [
    "# std_deviation((3,8,6,10,12,9,11,10,12,7))"
   ]
  },
  {
   "cell_type": "code",
   "execution_count": 21,
   "id": "712fc3e5-74fb-4ce4-9f0b-28728de592e0",
   "metadata": {},
   "outputs": [],
   "source": [
    "def take_input():\n",
    "    choice = input(\"\"\"\n",
    "    \\n\\nSelect type of operation :\n",
    "    <<<<<<<< Arithmetic >>>>>>>>>\n",
    "        1. '+' \n",
    "        2. '-'\n",
    "        3. '*'\n",
    "        4. '/'\n",
    "    <<<<<<<< Logical >>>>>>>>>\n",
    "        5. 'AND' \n",
    "        6. 'OR'\n",
    "        7. 'NOT'\n",
    "        8. 'NOR'\n",
    "    <<<<<<<< Statistical >>>>>>>>>\n",
    "        9. all stats\n",
    "            a.  Mean\n",
    "            b. Median\n",
    "            c. Mode\n",
    "            d. Variance\n",
    "            e. Standard Deviation\n",
    "    <<<<<<<< Other operations >>>>>>>>>\n",
    "        10. Factorial of a number\n",
    "        11. n-th fibonacci number\n",
    "        12. P(n,r)\n",
    "        13. C(n,r)\n",
    "        14. Reverse an integer\n",
    "        \n",
    "        \n",
    "        Enter digit coresponding to operation (1/2/3.../14) \n",
    "        \"\"\")\n",
    "    return choice"
   ]
  },
  {
   "cell_type": "code",
   "execution_count": 22,
   "id": "d7e698bd-676e-47e9-a321-5b230a730279",
   "metadata": {},
   "outputs": [],
   "source": [
    "def Menu():\n",
    "    choice_list = [str(i) for i in range(15)]\n",
    "    while True :\n",
    "        choice = take_input()\n",
    "        \n",
    "        if choice in choice_list:\n",
    "            if choice == '1':\n",
    "                ans = addition()\n",
    "                print(\"addition : \", ans)\n",
    "\n",
    "            elif choice == '2':\n",
    "                ans = subtraction()\n",
    "                print(\"subtraction : \", ans)\n",
    "\n",
    "            elif choice == '3':\n",
    "                ans = multiplication()\n",
    "                print(\"multiplication : \", ans)\n",
    "\n",
    "            elif choice == '4':\n",
    "                ans = division()\n",
    "                print(\"division : \", ans)\n",
    "\n",
    "            elif choice == '5':\n",
    "                ans = AND()\n",
    "                print(\"a AND b = \", ans)\n",
    "\n",
    "            elif choice == '6':\n",
    "                ans = OR()\n",
    "                print(\"a OR b = \", ans)\n",
    "\n",
    "            elif choice == '7':\n",
    "                ans = NOT()\n",
    "                print(\"NOT a = \", ans)\n",
    "\n",
    "            elif choice == '8':\n",
    "                ans = NOR()\n",
    "                print(\"a NOR b = \", ans)\n",
    "\n",
    "\n",
    "            elif choice == '9':\n",
    "                data = []\n",
    "                n = int(input('Enter number of data elements : '))\n",
    "                print(\"Enter data elements : \")\n",
    "\n",
    "                for i in range(n):\n",
    "                    k = float(input())\n",
    "                    data.append(k)\n",
    "\n",
    "                ans =stats(data)\n",
    "                print(\"ALL STATS\", ans)\n",
    "\n",
    "\n",
    "            elif choice == '10':\n",
    "                number = int(input('Enter an integer : '))\n",
    "                ans = factorial(number)\n",
    "                print('factorial of number : ', ans)\n",
    "\n",
    "            elif choice == '11':\n",
    "                number = int(input('Enter an integer : '))\n",
    "                ans = fibonacci(number)\n",
    "                print('nth fibonacci : ', ans)\n",
    "\n",
    "            elif choice == '12':\n",
    "                ans = permutation()\n",
    "                print('permutaion : ', ans)\n",
    "\n",
    "            elif choice == '13':\n",
    "                ans = combination()\n",
    "                print('combination : ', ans)\n",
    "\n",
    "\n",
    "            elif choice == '14':\n",
    "                ans = integer_reverse()\n",
    "                print('reversing integer ANS : ', ans)\n",
    "\n",
    "\n",
    "        \n",
    "            again = input('Want to perform another operation(y/n)?')\n",
    "            if again == 'n':\n",
    "                break\n",
    "            \n",
    "        else:\n",
    "            print('Invalid input')\n",
    "\n",
    "        "
   ]
  },
  {
   "cell_type": "code",
   "execution_count": null,
   "id": "ea33ac6c-30db-4fb6-ac5e-b792b862c7ee",
   "metadata": {},
   "outputs": [],
   "source": []
  },
  {
   "cell_type": "code",
   "execution_count": null,
   "id": "208d91b4-47ce-4647-a00c-0a006d9f74cb",
   "metadata": {
    "tags": []
   },
   "outputs": [
    {
     "name": "stdin",
     "output_type": "stream",
     "text": [
      "\n",
      "    \n",
      "\n",
      "Select type of operation :\n",
      "    <<<<<<<< Arithmetic >>>>>>>>>\n",
      "        1. '+' \n",
      "        2. '-'\n",
      "        3. '*'\n",
      "        4. '/'\n",
      "    <<<<<<<< Logical >>>>>>>>>\n",
      "        5. 'AND' \n",
      "        6. 'OR'\n",
      "        7. 'NOT'\n",
      "        8. 'NOR'\n",
      "    <<<<<<<< Statistical >>>>>>>>>\n",
      "        9. all stats\n",
      "            a.  Mean\n",
      "            b. Median\n",
      "            c. Mode\n",
      "            d. Variance\n",
      "            e. Standard Deviation\n",
      "    <<<<<<<< Other operations >>>>>>>>>\n",
      "        10. Factorial of a number\n",
      "        11. n-th fibonacci number\n",
      "        12. P(n,r)\n",
      "        13. C(n,r)\n",
      "        14. Reverse an integer\n",
      "        \n",
      "        \n",
      "        Enter digit coresponding to operation (1/2/3.../14) \n",
      "         10\n",
      "Enter an integer :  89\n"
     ]
    },
    {
     "name": "stdout",
     "output_type": "stream",
     "text": [
      "factorial of number :  16507955160908461081216919262453619309839666236496541854913520707833171034378509739399912570787600662729080382999756800000000000000000000\n"
     ]
    },
    {
     "name": "stdin",
     "output_type": "stream",
     "text": [
      "Want to perform another operation(y/n)? y\n",
      "\n",
      "    \n",
      "\n",
      "Select type of operation :\n",
      "    <<<<<<<< Arithmetic >>>>>>>>>\n",
      "        1. '+' \n",
      "        2. '-'\n",
      "        3. '*'\n",
      "        4. '/'\n",
      "    <<<<<<<< Logical >>>>>>>>>\n",
      "        5. 'AND' \n",
      "        6. 'OR'\n",
      "        7. 'NOT'\n",
      "        8. 'NOR'\n",
      "    <<<<<<<< Statistical >>>>>>>>>\n",
      "        9. all stats\n",
      "            a.  Mean\n",
      "            b. Median\n",
      "            c. Mode\n",
      "            d. Variance\n",
      "            e. Standard Deviation\n",
      "    <<<<<<<< Other operations >>>>>>>>>\n",
      "        10. Factorial of a number\n",
      "        11. n-th fibonacci number\n",
      "        12. P(n,r)\n",
      "        13. C(n,r)\n",
      "        14. Reverse an integer\n",
      "        \n",
      "        \n",
      "        Enter digit coresponding to operation (1/2/3.../14) \n",
      "         10\n",
      "Enter an integer :  5\n"
     ]
    },
    {
     "name": "stdout",
     "output_type": "stream",
     "text": [
      "factorial of number :  120\n"
     ]
    }
   ],
   "source": [
    "try:\n",
    "    Menu()\n",
    "except Exception as e:\n",
    "    print(\"\\nERROR : \", e ,\" | Quitting the program....\\n\")"
   ]
  },
  {
   "cell_type": "code",
   "execution_count": null,
   "id": "63f10985-bbca-4860-bde9-e316c591320e",
   "metadata": {},
   "outputs": [],
   "source": []
  },
  {
   "cell_type": "code",
   "execution_count": null,
   "id": "3e7a9096-cc2e-4248-919a-b00d05488014",
   "metadata": {},
   "outputs": [],
   "source": []
  }
 ],
 "metadata": {
  "kernelspec": {
   "display_name": "Python 3 (ipykernel)",
   "language": "python",
   "name": "python3"
  },
  "language_info": {
   "codemirror_mode": {
    "name": "ipython",
    "version": 3
   },
   "file_extension": ".py",
   "mimetype": "text/x-python",
   "name": "python",
   "nbconvert_exporter": "python",
   "pygments_lexer": "ipython3",
   "version": "3.9.12"
  }
 },
 "nbformat": 4,
 "nbformat_minor": 5
}
