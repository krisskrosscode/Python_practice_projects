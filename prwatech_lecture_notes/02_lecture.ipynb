{
 "cells": [
  {
   "cell_type": "markdown",
   "id": "521471ad-81a6-4288-a7a9-771e6d11dfcf",
   "metadata": {},
   "source": [
    ".... continued from [previous_lecture](http://localhost:8888/lab/tree/Data%20Science%20jup/prwatech_lecture_notes/01_lecture.ipynb) -> 01_lecture.ipynb"
   ]
  },
  {
   "cell_type": "markdown",
   "id": "9b63b2a9-3ab7-4151-b035-7737e788dd8d",
   "metadata": {},
   "source": [
    "# datatypes cont..."
   ]
  },
  {
   "cell_type": "code",
   "execution_count": 29,
   "id": "7326488a-9d84-4115-8fd4-782b32e4e2cb",
   "metadata": {},
   "outputs": [
    {
     "data": {
      "text/plain": [
       "'am go'"
      ]
     },
     "execution_count": 29,
     "metadata": {},
     "output_type": "execute_result"
    }
   ],
   "source": [
    "s = \"i am good\"\n",
    "\n",
    "# Q) extract the substring \"am go\"\n",
    "s[2:-2]"
   ]
  },
  {
   "cell_type": "code",
   "execution_count": 7,
   "id": "cb8bcb4d-11c3-4c58-b7d5-feb100708fc9",
   "metadata": {},
   "outputs": [
    {
     "data": {
      "text/plain": [
       "'am go'"
      ]
     },
     "execution_count": 7,
     "metadata": {},
     "output_type": "execute_result"
    }
   ],
   "source": [
    "s[2:7]"
   ]
  },
  {
   "cell_type": "markdown",
   "id": "43c22509-4504-4907-b196-475b3c7bc18a",
   "metadata": {},
   "source": [
    "List, tuple, dictionary, set "
   ]
  },
  {
   "cell_type": "markdown",
   "id": "790ded73-9426-4f9d-9551-45f8fff00ccf",
   "metadata": {},
   "source": [
    "# LIST "
   ]
  },
  {
   "cell_type": "markdown",
   "id": "ad9f21a5-28c9-4d2b-889a-d126e57a89d1",
   "metadata": {},
   "source": [
    "PROPERTIES OF LISTS IN PYTHON\n",
    "- non homogenous\n",
    "- index starts from 0\n",
    "- duplicate elements can be present\n",
    "- mutable"
   ]
  },
  {
   "cell_type": "code",
   "execution_count": 33,
   "id": "c7a04ffe-5f40-4250-9115-6e59ac016a5d",
   "metadata": {},
   "outputs": [
    {
     "name": "stdout",
     "output_type": "stream",
     "text": [
      "<class 'list'>\n",
      "140181956066560\n"
     ]
    }
   ],
   "source": [
    "#eg\n",
    "\n",
    "sample_list = [\"harsha\", 3526, 234.3783, True, False, \"harshalp@gmail.com\", 5+9j]\n",
    "print(type(sample_list))\n",
    "print(id(sample_list))"
   ]
  },
  {
   "cell_type": "code",
   "execution_count": 34,
   "id": "6f4a137e-8f22-4e4b-a8a5-49d4b1e697f3",
   "metadata": {},
   "outputs": [
    {
     "data": {
      "text/plain": [
       "'r'"
      ]
     },
     "execution_count": 34,
     "metadata": {},
     "output_type": "execute_result"
    }
   ],
   "source": [
    "sample_list[0][2]"
   ]
  },
  {
   "cell_type": "code",
   "execution_count": 35,
   "id": "351cb724-cda8-4f20-8a6a-d2a6493c34a5",
   "metadata": {},
   "outputs": [
    {
     "name": "stdout",
     "output_type": "stream",
     "text": [
      "234.3783\n",
      "lsfaf\n"
     ]
    },
    {
     "data": {
      "text/plain": [
       "list"
      ]
     },
     "execution_count": 35,
     "metadata": {},
     "output_type": "execute_result"
    }
   ],
   "source": [
    "print(sample_list[2])\n",
    "sample_list[2] = \"lsfaf\"\n",
    "print(sample_list[2])\n",
    "type(sample_list[2:3])"
   ]
  },
  {
   "cell_type": "code",
   "execution_count": 44,
   "id": "4724f5b3-7e71-47ba-8af0-80c5dc5564a5",
   "metadata": {
    "tags": []
   },
   "outputs": [
    {
     "data": {
      "text/plain": [
       "'gmail.com'"
      ]
     },
     "execution_count": 44,
     "metadata": {},
     "output_type": "execute_result"
    }
   ],
   "source": [
    "#extract gmail.com \n",
    "sample_list[5][sample_list[5].find(\"@\")+1:]"
   ]
  },
  {
   "cell_type": "code",
   "execution_count": 42,
   "id": "d9a9e6f5-6f12-4483-8b68-085bea9b1d4b",
   "metadata": {},
   "outputs": [],
   "source": [
    "sample_list.append(\"harsha\")"
   ]
  },
  {
   "cell_type": "code",
   "execution_count": 43,
   "id": "e6f25b2b-cf22-47ee-972f-43b2b9556df8",
   "metadata": {},
   "outputs": [
    {
     "data": {
      "text/plain": [
       "['harsha', 3526, 'lsfaf', True, False, 'harshalp@gmail.com', (5+9j), 'harsha']"
      ]
     },
     "execution_count": 43,
     "metadata": {},
     "output_type": "execute_result"
    }
   ],
   "source": [
    "sample_list"
   ]
  },
  {
   "cell_type": "code",
   "execution_count": 46,
   "id": "a6eaf7e9-05b7-4978-b385-2a859a771015",
   "metadata": {},
   "outputs": [
    {
     "name": "stdout",
     "output_type": "stream",
     "text": [
      "140182313015792\n",
      "140182313015792\n"
     ]
    }
   ],
   "source": [
    "print(id(sample_list[0]))\n",
    "print(id(sample_list[-1]))"
   ]
  },
  {
   "cell_type": "markdown",
   "id": "405d7966-6915-44fc-a7e9-2d3ba71604d7",
   "metadata": {},
   "source": [
    "# TUPLE"
   ]
  },
  {
   "cell_type": "markdown",
   "id": "2b122542-5766-4322-bef9-050bdaad5377",
   "metadata": {},
   "source": [
    "PROPERTIES OF TUPLES IN PYTHON\n",
    "- tuples are immutable (as opposed to list which is immutable)\n",
    "- non homogenous\n",
    "- duplicate elements are allowed\n",
    "- index starts from 0"
   ]
  },
  {
   "cell_type": "code",
   "execution_count": 49,
   "id": "f03e781e-8c54-4aa7-bcc0-35fd3641382c",
   "metadata": {},
   "outputs": [],
   "source": [
    "t1 = (1, \"hi\", 7.8, 1)\n",
    "t2 = (4, \"hello\", 0, 3)"
   ]
  },
  {
   "cell_type": "code",
   "execution_count": 51,
   "id": "730a99f8-310e-4630-87e5-bc4d51fbe9d0",
   "metadata": {},
   "outputs": [
    {
     "name": "stdout",
     "output_type": "stream",
     "text": [
      "<class 'tuple'>\n",
      "<class 'tuple'>\n",
      "<class 'str'>\n"
     ]
    }
   ],
   "source": [
    "print(type(t1))\n",
    "print(type(t2))\n",
    "print(type(t1[1]))\n"
   ]
  },
  {
   "cell_type": "code",
   "execution_count": 54,
   "id": "2eb06c56-3899-4a06-a7f3-08a644bace6e",
   "metadata": {},
   "outputs": [
    {
     "ename": "TypeError",
     "evalue": "'tuple' object does not support item assignment",
     "output_type": "error",
     "traceback": [
      "\u001b[0;31m---------------------------------------------------------------------------\u001b[0m",
      "\u001b[0;31mTypeError\u001b[0m                                 Traceback (most recent call last)",
      "Input \u001b[0;32mIn [54]\u001b[0m, in \u001b[0;36m<cell line: 1>\u001b[0;34m()\u001b[0m\n\u001b[0;32m----> 1\u001b[0m t2[\u001b[38;5;241m3\u001b[39m] \u001b[38;5;241m=\u001b[39m \u001b[38;5;241m8\u001b[39m\n",
      "\u001b[0;31mTypeError\u001b[0m: 'tuple' object does not support item assignment"
     ]
    }
   ],
   "source": [
    "t2[3] = 8 ##throws an error"
   ]
  },
  {
   "cell_type": "code",
   "execution_count": 55,
   "id": "1793fec7-2486-43e6-a56c-ecaeb99e8fc8",
   "metadata": {},
   "outputs": [
    {
     "data": {
      "text/plain": [
       "(4, 'hello')"
      ]
     },
     "execution_count": 55,
     "metadata": {},
     "output_type": "execute_result"
    }
   ],
   "source": [
    "t2[:-2]"
   ]
  },
  {
   "cell_type": "code",
   "execution_count": null,
   "id": "4d171195-ceb8-4a12-a261-bc59fd11935a",
   "metadata": {},
   "outputs": [],
   "source": []
  },
  {
   "cell_type": "code",
   "execution_count": null,
   "id": "c6ee9b92-0997-4136-afd7-190f82e28686",
   "metadata": {},
   "outputs": [],
   "source": []
  },
  {
   "cell_type": "code",
   "execution_count": null,
   "id": "c760c681-ef1a-4022-86c4-2d0a7e37ad4f",
   "metadata": {},
   "outputs": [],
   "source": []
  },
  {
   "cell_type": "markdown",
   "id": "c9515058-507b-4a26-9479-0bcd870085d5",
   "metadata": {},
   "source": [
    "# DICTIONARY"
   ]
  },
  {
   "cell_type": "markdown",
   "id": "d7bf1988-2216-4a10-af89-5430e4ab86b0",
   "metadata": {},
   "source": [
    "- key-value pairs\n",
    "- keys cannot be changed (immutable) but values can be changed(mutable)"
   ]
  },
  {
   "cell_type": "code",
   "execution_count": 56,
   "id": "590d3878-b3dc-4f61-ba75-19cf26796a58",
   "metadata": {},
   "outputs": [
    {
     "name": "stdout",
     "output_type": "stream",
     "text": [
      "{'a': 'apple', 'b': 'cat', 1: 'Dog'}\n"
     ]
    }
   ],
   "source": [
    "d = {'a': 'apple', 'b': 'cat', 1:'Dog'}\n",
    "Truecaller = {'8668548031': 'harshal'}\n",
    "print(d)"
   ]
  },
  {
   "cell_type": "code",
   "execution_count": 57,
   "id": "c90980c1-ff8e-4bae-b533-fa530b0c503b",
   "metadata": {},
   "outputs": [
    {
     "name": "stdout",
     "output_type": "stream",
     "text": [
      "apple\n"
     ]
    }
   ],
   "source": [
    "print(d['a'])"
   ]
  },
  {
   "cell_type": "code",
   "execution_count": 58,
   "id": "127ba604-6fb7-469c-a1b7-cb467ecc9499",
   "metadata": {},
   "outputs": [],
   "source": [
    "Truecaller['8668548031'] = 'Individual'"
   ]
  },
  {
   "cell_type": "code",
   "execution_count": 59,
   "id": "42a7c1e5-71cf-4dbf-95f8-3fc31d5dc408",
   "metadata": {},
   "outputs": [
    {
     "data": {
      "text/plain": [
       "{'8668548031': 'Individual'}"
      ]
     },
     "execution_count": 59,
     "metadata": {},
     "output_type": "execute_result"
    }
   ],
   "source": [
    "Truecaller"
   ]
  },
  {
   "cell_type": "code",
   "execution_count": 60,
   "id": "1b8272be-70d2-45e5-b3ac-aa2470555479",
   "metadata": {},
   "outputs": [
    {
     "data": {
      "text/plain": [
       "dict"
      ]
     },
     "execution_count": 60,
     "metadata": {},
     "output_type": "execute_result"
    }
   ],
   "source": [
    "type(Truecaller)"
   ]
  },
  {
   "cell_type": "code",
   "execution_count": 61,
   "id": "3f85cb32-4729-4989-931e-96ace3e6ed05",
   "metadata": {},
   "outputs": [
    {
     "data": {
      "text/plain": [
       "str"
      ]
     },
     "execution_count": 61,
     "metadata": {},
     "output_type": "execute_result"
    }
   ],
   "source": [
    "type(Truecaller['8668548031'])"
   ]
  },
  {
   "cell_type": "code",
   "execution_count": null,
   "id": "a48e95d5-0a6d-4273-8440-7196c52bc7fb",
   "metadata": {},
   "outputs": [],
   "source": []
  },
  {
   "cell_type": "code",
   "execution_count": null,
   "id": "822373e9-b5d0-4fea-8b9c-5766982967aa",
   "metadata": {},
   "outputs": [],
   "source": []
  },
  {
   "cell_type": "code",
   "execution_count": null,
   "id": "d80f5ea8-2ff1-4c19-aaff-dcb4f8755dde",
   "metadata": {},
   "outputs": [],
   "source": []
  },
  {
   "cell_type": "markdown",
   "id": "a685537b-7c47-4825-a8e8-46de8e0100c0",
   "metadata": {},
   "source": [
    "# SET"
   ]
  },
  {
   "cell_type": "markdown",
   "id": "faf4b845-ac1e-458d-b5aa-6ad6062918b6",
   "metadata": {},
   "source": [
    "PROPERTIES\n",
    "- non-homogenous\n",
    "- immutable\n",
    "- no duplicacy\n",
    "- no indexing (unordered)\n",
    "- sorted (but not everytime) : in this system it is displaying as sorted\n"
   ]
  },
  {
   "cell_type": "code",
   "execution_count": 66,
   "id": "800c9b67-fb45-44ca-9d59-b421a4776df8",
   "metadata": {},
   "outputs": [
    {
     "data": {
      "text/plain": [
       "{12, 22, 23, 34.2354, 5, 68, True, 'my_name'}"
      ]
     },
     "execution_count": 66,
     "metadata": {},
     "output_type": "execute_result"
    }
   ],
   "source": [
    "set1 = {12,5,68,23,22,5, 34.2354, True, \"my_name\"}\n",
    "set1"
   ]
  },
  {
   "cell_type": "code",
   "execution_count": 67,
   "id": "30a36891-32fa-4c73-8210-e37ae0f1fd8b",
   "metadata": {},
   "outputs": [],
   "source": [
    "se = {'f','f', 'd', 'a', 'rtyu'}"
   ]
  },
  {
   "cell_type": "code",
   "execution_count": 68,
   "id": "5fcc2b9a-057d-409a-9419-85fb0da47223",
   "metadata": {},
   "outputs": [
    {
     "data": {
      "text/plain": [
       "{'a', 'd', 'f', 'rtyu'}"
      ]
     },
     "execution_count": 68,
     "metadata": {},
     "output_type": "execute_result"
    }
   ],
   "source": [
    "se"
   ]
  },
  {
   "cell_type": "code",
   "execution_count": null,
   "id": "4ea52212-f14f-4bdc-852e-1c41749a9def",
   "metadata": {},
   "outputs": [],
   "source": []
  },
  {
   "cell_type": "code",
   "execution_count": null,
   "id": "ebf1dcab-7ba5-43a2-a7fa-3f8b3343e9af",
   "metadata": {},
   "outputs": [],
   "source": []
  },
  {
   "cell_type": "code",
   "execution_count": null,
   "id": "35213d13-2708-45de-96f3-b67a80192afd",
   "metadata": {},
   "outputs": [],
   "source": []
  },
  {
   "cell_type": "code",
   "execution_count": null,
   "id": "617775b7-b8d8-42a9-b4be-8f9b7f3562be",
   "metadata": {},
   "outputs": [],
   "source": []
  },
  {
   "cell_type": "markdown",
   "id": "3c524be7-a9f2-4b67-824d-1c9586733dce",
   "metadata": {},
   "source": [
    "# Assignment: Write 3 examples of each datatype"
   ]
  },
  {
   "cell_type": "code",
   "execution_count": null,
   "id": "a0456325-046b-46f7-a771-98924d3afb51",
   "metadata": {},
   "outputs": [],
   "source": []
  }
 ],
 "metadata": {
  "kernelspec": {
   "display_name": "Python 3 (ipykernel)",
   "language": "python",
   "name": "python3"
  },
  "language_info": {
   "codemirror_mode": {
    "name": "ipython",
    "version": 3
   },
   "file_extension": ".py",
   "mimetype": "text/x-python",
   "name": "python",
   "nbconvert_exporter": "python",
   "pygments_lexer": "ipython3",
   "version": "3.9.12"
  }
 },
 "nbformat": 4,
 "nbformat_minor": 5
}
