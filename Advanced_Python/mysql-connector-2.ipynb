{
 "cells": [
  {
   "cell_type": "code",
   "execution_count": 1,
   "id": "faf0ff87-37a1-4dc4-995a-66ab00c5eb98",
   "metadata": {},
   "outputs": [],
   "source": [
    "import pandas as pd"
   ]
  },
  {
   "cell_type": "code",
   "execution_count": 2,
   "id": "8b44e7a1-1d97-41f1-b5e2-99c401b7a180",
   "metadata": {},
   "outputs": [],
   "source": [
    "import mysql.connector as connection"
   ]
  },
  {
   "cell_type": "code",
   "execution_count": 3,
   "id": "676b5109-bc38-47b9-98aa-6146efb632f8",
   "metadata": {},
   "outputs": [],
   "source": [
    "import csv"
   ]
  },
  {
   "cell_type": "code",
   "execution_count": 34,
   "id": "28ac4f5c-977b-4ffa-a1c2-eb5d4d01b518",
   "metadata": {},
   "outputs": [],
   "source": [
    "mydb = connection.connect(host=\"localhost\", user=\"root\", passwd=\"Admin@123\", use_pure= True)"
   ]
  },
  {
   "cell_type": "code",
   "execution_count": 35,
   "id": "93878076-4ac9-470c-bb98-ae0ed7844fce",
   "metadata": {},
   "outputs": [
    {
     "data": {
      "text/plain": [
       "True"
      ]
     },
     "execution_count": 35,
     "metadata": {},
     "output_type": "execute_result"
    }
   ],
   "source": [
    "mydb.is_connected()"
   ]
  },
  {
   "cell_type": "code",
   "execution_count": 36,
   "id": "50b034b0-43f4-4ec2-ab71-1bb0895a96d8",
   "metadata": {},
   "outputs": [],
   "source": [
    "cursor = mydb.cursor()"
   ]
  },
  {
   "cell_type": "code",
   "execution_count": 39,
   "id": "64269ab9-371b-4dd1-8c13-bb22c7204aa5",
   "metadata": {},
   "outputs": [
    {
     "data": {
      "text/plain": [
       "[('employee',), ('employee2',), ('yourhour',)]"
      ]
     },
     "execution_count": 39,
     "metadata": {},
     "output_type": "execute_result"
    }
   ],
   "source": [
    "cursor.execute(\"show tables\")\n",
    "cursor.fetchall()"
   ]
  },
  {
   "cell_type": "code",
   "execution_count": 40,
   "id": "8c480382-3161-4563-8fa1-b4a5502620c1",
   "metadata": {},
   "outputs": [],
   "source": [
    "query = \"SELECT date, SUM(usage_seconds)/60 usage_mins, (SUM(usage_seconds)/60)/60 usage_hrs FROM yourhour GROUP BY date ORDER BY date ;\""
   ]
  },
  {
   "cell_type": "code",
   "execution_count": 41,
   "id": "5ea998e6-c157-4c90-ad66-b63c57e77467",
   "metadata": {},
   "outputs": [
    {
     "name": "stderr",
     "output_type": "stream",
     "text": [
      "/home/harshal/anaconda3/lib/python3.9/site-packages/pandas/io/sql.py:761: UserWarning: pandas only support SQLAlchemy connectable(engine/connection) ordatabase string URI or sqlite3 DBAPI2 connectionother DBAPI2 objects are not tested, please consider using SQLAlchemy\n",
      "  warnings.warn(\n"
     ]
    }
   ],
   "source": [
    "df = pd.read_sql(query, mydb)"
   ]
  },
  {
   "cell_type": "code",
   "execution_count": 42,
   "id": "d8f41c2e-bf81-41a4-8d1f-6072cbc5d0b4",
   "metadata": {},
   "outputs": [
    {
     "data": {
      "text/html": [
       "<div>\n",
       "<style scoped>\n",
       "    .dataframe tbody tr th:only-of-type {\n",
       "        vertical-align: middle;\n",
       "    }\n",
       "\n",
       "    .dataframe tbody tr th {\n",
       "        vertical-align: top;\n",
       "    }\n",
       "\n",
       "    .dataframe thead th {\n",
       "        text-align: right;\n",
       "    }\n",
       "</style>\n",
       "<table border=\"1\" class=\"dataframe\">\n",
       "  <thead>\n",
       "    <tr style=\"text-align: right;\">\n",
       "      <th></th>\n",
       "      <th>date</th>\n",
       "      <th>usage_mins</th>\n",
       "      <th>usage_hrs</th>\n",
       "    </tr>\n",
       "  </thead>\n",
       "  <tbody>\n",
       "    <tr>\n",
       "      <th>0</th>\n",
       "      <td>2022-07-02</td>\n",
       "      <td>252.5333</td>\n",
       "      <td>4.208889</td>\n",
       "    </tr>\n",
       "    <tr>\n",
       "      <th>1</th>\n",
       "      <td>2022-07-03</td>\n",
       "      <td>277.8667</td>\n",
       "      <td>4.631111</td>\n",
       "    </tr>\n",
       "    <tr>\n",
       "      <th>2</th>\n",
       "      <td>2022-07-04</td>\n",
       "      <td>666.0833</td>\n",
       "      <td>11.101389</td>\n",
       "    </tr>\n",
       "    <tr>\n",
       "      <th>3</th>\n",
       "      <td>2022-07-05</td>\n",
       "      <td>763.4500</td>\n",
       "      <td>12.724167</td>\n",
       "    </tr>\n",
       "    <tr>\n",
       "      <th>4</th>\n",
       "      <td>2022-07-06</td>\n",
       "      <td>685.9167</td>\n",
       "      <td>11.431944</td>\n",
       "    </tr>\n",
       "    <tr>\n",
       "      <th>5</th>\n",
       "      <td>2022-07-07</td>\n",
       "      <td>421.4500</td>\n",
       "      <td>7.024167</td>\n",
       "    </tr>\n",
       "    <tr>\n",
       "      <th>6</th>\n",
       "      <td>2022-07-08</td>\n",
       "      <td>605.7500</td>\n",
       "      <td>10.095833</td>\n",
       "    </tr>\n",
       "    <tr>\n",
       "      <th>7</th>\n",
       "      <td>2022-07-09</td>\n",
       "      <td>464.8167</td>\n",
       "      <td>7.746944</td>\n",
       "    </tr>\n",
       "    <tr>\n",
       "      <th>8</th>\n",
       "      <td>2022-07-10</td>\n",
       "      <td>344.2833</td>\n",
       "      <td>5.738056</td>\n",
       "    </tr>\n",
       "    <tr>\n",
       "      <th>9</th>\n",
       "      <td>2022-07-11</td>\n",
       "      <td>617.9333</td>\n",
       "      <td>10.298889</td>\n",
       "    </tr>\n",
       "    <tr>\n",
       "      <th>10</th>\n",
       "      <td>2022-07-12</td>\n",
       "      <td>491.6167</td>\n",
       "      <td>8.193611</td>\n",
       "    </tr>\n",
       "    <tr>\n",
       "      <th>11</th>\n",
       "      <td>2022-07-13</td>\n",
       "      <td>401.5500</td>\n",
       "      <td>6.692500</td>\n",
       "    </tr>\n",
       "    <tr>\n",
       "      <th>12</th>\n",
       "      <td>2022-07-14</td>\n",
       "      <td>542.7167</td>\n",
       "      <td>9.045278</td>\n",
       "    </tr>\n",
       "    <tr>\n",
       "      <th>13</th>\n",
       "      <td>2022-07-15</td>\n",
       "      <td>1129.9500</td>\n",
       "      <td>18.832500</td>\n",
       "    </tr>\n",
       "    <tr>\n",
       "      <th>14</th>\n",
       "      <td>2022-07-16</td>\n",
       "      <td>554.2833</td>\n",
       "      <td>9.238056</td>\n",
       "    </tr>\n",
       "    <tr>\n",
       "      <th>15</th>\n",
       "      <td>2022-07-17</td>\n",
       "      <td>494.9167</td>\n",
       "      <td>8.248611</td>\n",
       "    </tr>\n",
       "    <tr>\n",
       "      <th>16</th>\n",
       "      <td>2022-07-18</td>\n",
       "      <td>660.6833</td>\n",
       "      <td>11.011389</td>\n",
       "    </tr>\n",
       "    <tr>\n",
       "      <th>17</th>\n",
       "      <td>2022-07-19</td>\n",
       "      <td>350.0333</td>\n",
       "      <td>5.833889</td>\n",
       "    </tr>\n",
       "    <tr>\n",
       "      <th>18</th>\n",
       "      <td>2022-07-20</td>\n",
       "      <td>245.0833</td>\n",
       "      <td>4.084722</td>\n",
       "    </tr>\n",
       "    <tr>\n",
       "      <th>19</th>\n",
       "      <td>2022-07-21</td>\n",
       "      <td>689.8667</td>\n",
       "      <td>11.497778</td>\n",
       "    </tr>\n",
       "    <tr>\n",
       "      <th>20</th>\n",
       "      <td>2022-07-22</td>\n",
       "      <td>168.0000</td>\n",
       "      <td>2.800000</td>\n",
       "    </tr>\n",
       "    <tr>\n",
       "      <th>21</th>\n",
       "      <td>2022-07-23</td>\n",
       "      <td>170.9000</td>\n",
       "      <td>2.848333</td>\n",
       "    </tr>\n",
       "    <tr>\n",
       "      <th>22</th>\n",
       "      <td>2022-07-24</td>\n",
       "      <td>280.7000</td>\n",
       "      <td>4.678333</td>\n",
       "    </tr>\n",
       "    <tr>\n",
       "      <th>23</th>\n",
       "      <td>2022-07-25</td>\n",
       "      <td>307.9333</td>\n",
       "      <td>5.132222</td>\n",
       "    </tr>\n",
       "    <tr>\n",
       "      <th>24</th>\n",
       "      <td>2022-07-26</td>\n",
       "      <td>219.8333</td>\n",
       "      <td>3.663889</td>\n",
       "    </tr>\n",
       "    <tr>\n",
       "      <th>25</th>\n",
       "      <td>2022-07-27</td>\n",
       "      <td>262.6667</td>\n",
       "      <td>4.377778</td>\n",
       "    </tr>\n",
       "    <tr>\n",
       "      <th>26</th>\n",
       "      <td>2022-07-28</td>\n",
       "      <td>525.9833</td>\n",
       "      <td>8.766389</td>\n",
       "    </tr>\n",
       "    <tr>\n",
       "      <th>27</th>\n",
       "      <td>2022-07-29</td>\n",
       "      <td>483.7000</td>\n",
       "      <td>8.061667</td>\n",
       "    </tr>\n",
       "  </tbody>\n",
       "</table>\n",
       "</div>"
      ],
      "text/plain": [
       "          date  usage_mins  usage_hrs\n",
       "0   2022-07-02    252.5333   4.208889\n",
       "1   2022-07-03    277.8667   4.631111\n",
       "2   2022-07-04    666.0833  11.101389\n",
       "3   2022-07-05    763.4500  12.724167\n",
       "4   2022-07-06    685.9167  11.431944\n",
       "5   2022-07-07    421.4500   7.024167\n",
       "6   2022-07-08    605.7500  10.095833\n",
       "7   2022-07-09    464.8167   7.746944\n",
       "8   2022-07-10    344.2833   5.738056\n",
       "9   2022-07-11    617.9333  10.298889\n",
       "10  2022-07-12    491.6167   8.193611\n",
       "11  2022-07-13    401.5500   6.692500\n",
       "12  2022-07-14    542.7167   9.045278\n",
       "13  2022-07-15   1129.9500  18.832500\n",
       "14  2022-07-16    554.2833   9.238056\n",
       "15  2022-07-17    494.9167   8.248611\n",
       "16  2022-07-18    660.6833  11.011389\n",
       "17  2022-07-19    350.0333   5.833889\n",
       "18  2022-07-20    245.0833   4.084722\n",
       "19  2022-07-21    689.8667  11.497778\n",
       "20  2022-07-22    168.0000   2.800000\n",
       "21  2022-07-23    170.9000   2.848333\n",
       "22  2022-07-24    280.7000   4.678333\n",
       "23  2022-07-25    307.9333   5.132222\n",
       "24  2022-07-26    219.8333   3.663889\n",
       "25  2022-07-27    262.6667   4.377778\n",
       "26  2022-07-28    525.9833   8.766389\n",
       "27  2022-07-29    483.7000   8.061667"
      ]
     },
     "execution_count": 42,
     "metadata": {},
     "output_type": "execute_result"
    }
   ],
   "source": [
    "df"
   ]
  },
  {
   "cell_type": "code",
   "execution_count": 44,
   "id": "7b40ef28-0cb7-4c08-93b6-51f35efde410",
   "metadata": {},
   "outputs": [
    {
     "data": {
      "text/plain": [
       "pandas.core.frame.DataFrame"
      ]
     },
     "execution_count": 44,
     "metadata": {},
     "output_type": "execute_result"
    }
   ],
   "source": [
    "type(df)"
   ]
  },
  {
   "cell_type": "code",
   "execution_count": null,
   "id": "96a20be2-8d10-4bd6-a7f9-26ec807fd485",
   "metadata": {},
   "outputs": [],
   "source": []
  }
 ],
 "metadata": {
  "kernelspec": {
   "display_name": "Python 3 (ipykernel)",
   "language": "python",
   "name": "python3"
  },
  "language_info": {
   "codemirror_mode": {
    "name": "ipython",
    "version": 3
   },
   "file_extension": ".py",
   "mimetype": "text/x-python",
   "name": "python",
   "nbconvert_exporter": "python",
   "pygments_lexer": "ipython3",
   "version": "3.9.12"
  }
 },
 "nbformat": 4,
 "nbformat_minor": 5
}
