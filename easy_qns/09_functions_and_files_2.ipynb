{
 "cells": [
  {
   "cell_type": "markdown",
   "id": "9c3f0936-c8bd-4d2e-b24d-155386709ca7",
   "metadata": {},
   "source": [
    "Q1) Create a directory"
   ]
  },
  {
   "cell_type": "code",
   "execution_count": 35,
   "id": "99a34e8a-6721-465d-ba5e-804fc86ac06e",
   "metadata": {},
   "outputs": [],
   "source": [
    "import os\n",
    "filename = \"09_functions_dir\"\n",
    "if not os.path.isdir(filename):\n",
    "    os.mkdir(filename)"
   ]
  },
  {
   "cell_type": "markdown",
   "id": "db0a3ff7-bd72-4057-ac6f-a44d7b53dc94",
   "metadata": {},
   "source": [
    "Q2) Create 10 txt files and write some data in all the txt files a the same time"
   ]
  },
  {
   "cell_type": "code",
   "execution_count": 2,
   "id": "1718ac96-6a79-4d88-8c30-5f5fee61b7cb",
   "metadata": {},
   "outputs": [],
   "source": [
    "os.chdir(\"09_functions_dir/\")"
   ]
  },
  {
   "cell_type": "code",
   "execution_count": 3,
   "id": "cb26c733-e772-4055-a7c8-2ee70f62c874",
   "metadata": {},
   "outputs": [
    {
     "data": {
      "text/plain": [
       "'/home/harshal/Downloads/iNeuron/Python/easy_qns/09_functions_dir'"
      ]
     },
     "execution_count": 3,
     "metadata": {},
     "output_type": "execute_result"
    }
   ],
   "source": [
    "pwd()"
   ]
  },
  {
   "cell_type": "code",
   "execution_count": 11,
   "id": "760a964a-c993-4ca9-8374-158bc11a5d83",
   "metadata": {},
   "outputs": [],
   "source": [
    "for i in range(10):\n",
    "    f = open(f\"text_{i+1}.txt\", \"w\")\n",
    "    f.write(f\"This is file number -> {i+1}\")\n",
    "    f.close()"
   ]
  },
  {
   "cell_type": "markdown",
   "id": "d11e2e53-e997-453e-9669-00d475b55565",
   "metadata": {},
   "source": [
    "Q3) Read all the data from the files and print in console, Store the data into a single list"
   ]
  },
  {
   "cell_type": "code",
   "execution_count": 27,
   "id": "cf4a6568-4f20-4a75-b18b-b01b950f3d61",
   "metadata": {
    "tags": []
   },
   "outputs": [
    {
     "data": {
      "text/plain": [
       "[['This is file number -> 7'],\n",
       " ['This is file number -> 2'],\n",
       " ['This is file number -> 8'],\n",
       " ['This is file number -> 6'],\n",
       " ['This is file number -> 3'],\n",
       " ['This is file number -> 1'],\n",
       " ['This is file number -> 4'],\n",
       " ['This is file number -> 9'],\n",
       " ['This is file number -> 5'],\n",
       " ['This is file number -> 10']]"
      ]
     },
     "execution_count": 27,
     "metadata": {},
     "output_type": "execute_result"
    }
   ],
   "source": [
    "def read_file_to_list(filename):\n",
    "    res = []\n",
    "    f = open(filename, \"r\")\n",
    "    f.seek(0)\n",
    "    for i in f:\n",
    "        res.append(i)\n",
    "    f.close()\n",
    "    return res\n",
    "\n",
    "final_res = []\n",
    "for i in os.listdir():\n",
    "    \n",
    "    if(os.path.splitext(i)[1] == \".txt\"):\n",
    "        final_res.append(read_file_to_list(i))\n",
    "    \n",
    "\n",
    "final_res        \n",
    "        "
   ]
  },
  {
   "cell_type": "markdown",
   "id": "a8031e68-74ff-42af-982e-6560bfa7577f",
   "metadata": {},
   "source": [
    "Q5) Write the data from the list into a single file"
   ]
  },
  {
   "cell_type": "code",
   "execution_count": 29,
   "id": "aaab6937-d0b2-4bb8-a12a-87783b494695",
   "metadata": {},
   "outputs": [],
   "source": [
    "final_file_name = \"combined.txt\"\n",
    "\n",
    "def write_to_file(final_file_name, final_res):\n",
    "    f = open(final_file_name, \"a\")\n",
    "    for i in final_res:\n",
    "        f.write(str(i))\n",
    "    \n",
    "    f.close()\n",
    "\n",
    "write_to_file(final_file_name, final_res)"
   ]
  },
  {
   "cell_type": "markdown",
   "id": "2c983c76-afb1-478b-8a70-90a612936485",
   "metadata": {},
   "source": [
    "Q6) Keep only the new file in present directory and move the rest in new directory"
   ]
  },
  {
   "cell_type": "code",
   "execution_count": 33,
   "id": "b095b7d5-cf97-4d9e-a273-0ac9ac4cf350",
   "metadata": {},
   "outputs": [],
   "source": [
    "import shutil\n",
    "\n",
    "for i in os.listdir():\n",
    "    \n",
    "    if not os.path.isdir(\"combined\"):\n",
    "        os.mkdir(\"combined\")\n",
    "        \n",
    "        if i != \"combined.txt\" or i != \"combined\":\n",
    "            shutil.move(i, \"combined/\")\n",
    "        "
   ]
  },
  {
   "cell_type": "code",
   "execution_count": 31,
   "id": "6d0c95d5-78f4-4068-b5d6-34e0a944f169",
   "metadata": {},
   "outputs": [
    {
     "data": {
      "text/plain": [
       "['combined.txt', '.ipynb_checkpoints', 'combined']"
      ]
     },
     "execution_count": 31,
     "metadata": {},
     "output_type": "execute_result"
    }
   ],
   "source": [
    "os.listdir()"
   ]
  },
  {
   "cell_type": "code",
   "execution_count": null,
   "id": "31ab4dcd-d857-4fbf-8ff6-10ad7e33d9f2",
   "metadata": {},
   "outputs": [],
   "source": []
  }
 ],
 "metadata": {
  "kernelspec": {
   "display_name": "Python 3 (ipykernel)",
   "language": "python",
   "name": "python3"
  },
  "language_info": {
   "codemirror_mode": {
    "name": "ipython",
    "version": 3
   },
   "file_extension": ".py",
   "mimetype": "text/x-python",
   "name": "python",
   "nbconvert_exporter": "python",
   "pygments_lexer": "ipython3",
   "version": "3.9.7"
  }
 },
 "nbformat": 4,
 "nbformat_minor": 5
}
