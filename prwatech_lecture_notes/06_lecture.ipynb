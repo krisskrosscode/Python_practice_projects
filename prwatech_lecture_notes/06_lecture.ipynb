{
 "cells": [
  {
   "cell_type": "markdown",
   "id": "9942256e-54b8-46f0-bef5-2a02ec0d538b",
   "metadata": {},
   "source": [
    "# List creation and operations"
   ]
  },
  {
   "cell_type": "markdown",
   "id": "4fce956b-7c15-48e8-a931-ab14d4af981f",
   "metadata": {},
   "source": []
  },
  {
   "cell_type": "code",
   "execution_count": 1,
   "id": "6e02d319-209e-4b33-b762-336bae24e883",
   "metadata": {},
   "outputs": [],
   "source": [
    "emptyList = []\n",
    "stringList = ['one', 'two', 'three', 'four']\n",
    "intList = [1,2,3,4,5,6]\n",
    "nonHomogenousData = ['one', 2, ['three', 'four', 5], {6:\"six\", 7:\"seven\"}, ('eight', 9, 10)]"
   ]
  },
  {
   "cell_type": "code",
   "execution_count": 2,
   "id": "70e79d90-c0ee-4031-8778-1c0cc0180139",
   "metadata": {},
   "outputs": [
    {
     "name": "stdout",
     "output_type": "stream",
     "text": [
      "['one', 'two', 'three', 'four']\n",
      "[1, 2, 3, 4, 5, 6]\n",
      "['one', 2, ['three', 'four', 5], {6: 'six', 7: 'seven'}, ('eight', 9, 10)]\n"
     ]
    }
   ],
   "source": [
    "print(stringList)\n",
    "print(intList)\n",
    "print(nonHomogenousData)"
   ]
  },
  {
   "cell_type": "markdown",
   "id": "c440d3e0-a5bd-45e0-8c97-699e982ea473",
   "metadata": {},
   "source": [
    "## Accessing list elements"
   ]
  },
  {
   "cell_type": "code",
   "execution_count": 12,
   "id": "f568d33f-89dd-4d1b-b0d1-c810338e039d",
   "metadata": {},
   "outputs": [
    {
     "ename": "IndexError",
     "evalue": "list index out of range",
     "output_type": "error",
     "traceback": [
      "\u001b[0;31m---------------------------------------------------------------------------\u001b[0m",
      "\u001b[0;31mIndexError\u001b[0m                                Traceback (most recent call last)",
      "Input \u001b[0;32mIn [12]\u001b[0m, in \u001b[0;36m<cell line: 2>\u001b[0;34m()\u001b[0m\n\u001b[1;32m      1\u001b[0m \u001b[38;5;66;03m#accessing data\u001b[39;00m\n\u001b[0;32m----> 2\u001b[0m \u001b[38;5;28mprint\u001b[39m(\u001b[43memptyList\u001b[49m\u001b[43m[\u001b[49m\u001b[38;5;241;43m0\u001b[39;49m\u001b[43m]\u001b[49m)\n",
      "\u001b[0;31mIndexError\u001b[0m: list index out of range"
     ]
    }
   ],
   "source": [
    "#accessing data\n",
    "print(emptyList[0]) #index 0  DNE : thus it throws an error"
   ]
  },
  {
   "cell_type": "code",
   "execution_count": 13,
   "id": "a707b997-5d79-42c1-9619-074de3283ac8",
   "metadata": {},
   "outputs": [
    {
     "name": "stdout",
     "output_type": "stream",
     "text": [
      "two\n",
      "four\n"
     ]
    }
   ],
   "source": [
    "# ['one', 'two', 'three', 'four']\n",
    "print(stringList[1])\n",
    "print(stringList[-1])"
   ]
  },
  {
   "cell_type": "code",
   "execution_count": 14,
   "id": "c4fef34a-a0ed-47f5-9d3a-1580ef76f9d6",
   "metadata": {},
   "outputs": [
    {
     "name": "stdout",
     "output_type": "stream",
     "text": [
      "ruof\n"
     ]
    }
   ],
   "source": [
    "# ['one', 'two', 'three', 'four']\n",
    "print(stringList[3][::-1])"
   ]
  },
  {
   "cell_type": "code",
   "execution_count": 15,
   "id": "e534f435-1345-4d8b-9771-42bcc51fb5a5",
   "metadata": {},
   "outputs": [
    {
     "name": "stdout",
     "output_type": "stream",
     "text": [
      "eerht\n"
     ]
    }
   ],
   "source": [
    "#['one', 2, ['three', 'four', 5], {6: 'six', 7: 'seven'}, ('eight', 9, 10)]\n",
    "print(nonHomogenousData[2][0][::-1])"
   ]
  },
  {
   "cell_type": "code",
   "execution_count": 16,
   "id": "875d8791-6a66-405b-91ea-02c88d78ddc7",
   "metadata": {},
   "outputs": [
    {
     "name": "stdout",
     "output_type": "stream",
     "text": [
      "seven\n"
     ]
    }
   ],
   "source": [
    "#['one', 2, ['three', 'four', 5], {6: 'six', 7: 'seven'}, ('eight', 9, 10)]\n",
    "print(nonHomogenousData[3][7])"
   ]
  },
  {
   "cell_type": "code",
   "execution_count": 17,
   "id": "6c31da2a-cb18-43c9-b8b3-cd2891846bff",
   "metadata": {},
   "outputs": [
    {
     "name": "stdout",
     "output_type": "stream",
     "text": [
      "eight\n"
     ]
    }
   ],
   "source": [
    "#['one', 2, ['three', 'four', 5], {6: 'six', 7: 'seven'}, ('eight', 9, 10)]\n",
    "print(nonHomogenousData[4][0])"
   ]
  },
  {
   "cell_type": "code",
   "execution_count": 18,
   "id": "3b5e2f9e-9574-4071-8308-10ee79f96a56",
   "metadata": {},
   "outputs": [
    {
     "name": "stdout",
     "output_type": "stream",
     "text": [
      "ee\n"
     ]
    }
   ],
   "source": [
    "# ['one', 'two', 'three', 'four']\n",
    "print(stringList[2][-2:])"
   ]
  },
  {
   "cell_type": "code",
   "execution_count": 20,
   "id": "5bfd6e26-c13f-48a8-97f0-ad55916beebd",
   "metadata": {},
   "outputs": [
    {
     "data": {
      "text/plain": [
       "['one', 'two', 'teen', 'four']"
      ]
     },
     "execution_count": 20,
     "metadata": {},
     "output_type": "execute_result"
    }
   ],
   "source": [
    "stringList[2] = 'teen' # list is mutable\n",
    "stringList"
   ]
  },
  {
   "cell_type": "markdown",
   "id": "8dd2bea3-195c-461f-a0a1-9c9fd4e0a35c",
   "metadata": {},
   "source": [
    "## Concatenation "
   ]
  },
  {
   "cell_type": "code",
   "execution_count": 23,
   "id": "ff865911-3fb6-43d3-82ca-6bb807bd8004",
   "metadata": {},
   "outputs": [],
   "source": [
    "stringList.append('')\n",
    "stringList.append(6)"
   ]
  },
  {
   "cell_type": "code",
   "execution_count": 24,
   "id": "aa2ba5a0-132e-4112-b10b-2168b851feeb",
   "metadata": {},
   "outputs": [
    {
     "data": {
      "text/plain": [
       "['one', 'two', 'teen', 'four', 'five', 'five', 6]"
      ]
     },
     "execution_count": 24,
     "metadata": {},
     "output_type": "execute_result"
    }
   ],
   "source": [
    "stringList"
   ]
  },
  {
   "cell_type": "code",
   "execution_count": 32,
   "id": "39c42038-d098-43c9-b199-f087ecf7c582",
   "metadata": {},
   "outputs": [
    {
     "data": {
      "text/plain": [
       "['one', 'two', 'teen', 'four', 'five', 'five', 'seven', 'seven', 6]"
      ]
     },
     "execution_count": 32,
     "metadata": {},
     "output_type": "execute_result"
    }
   ],
   "source": [
    "stringList.insert(6, 'seven')\n",
    "stringList"
   ]
  },
  {
   "cell_type": "code",
   "execution_count": 33,
   "id": "12eada45-3fea-4190-91fc-cee6d52eca42",
   "metadata": {},
   "outputs": [
    {
     "data": {
      "text/plain": [
       "['one', 'two', 'teen', 'four', 'five', 'five', 'seven', 6]"
      ]
     },
     "execution_count": 33,
     "metadata": {},
     "output_type": "execute_result"
    }
   ],
   "source": [
    "stringList.remove('seven')\n",
    "stringList"
   ]
  },
  {
   "cell_type": "code",
   "execution_count": 34,
   "id": "0b2d7002-1eb3-4a77-8cba-43e3981738b1",
   "metadata": {},
   "outputs": [],
   "source": [
    "stringList.remove('five')"
   ]
  },
  {
   "cell_type": "code",
   "execution_count": 35,
   "id": "f4a386a3-a627-45d0-97c2-bb3fa51bad18",
   "metadata": {},
   "outputs": [
    {
     "data": {
      "text/plain": [
       "['one', 'two', 'teen', 'four', 'five', 'seven', 6]"
      ]
     },
     "execution_count": 35,
     "metadata": {},
     "output_type": "execute_result"
    }
   ],
   "source": [
    "stringList"
   ]
  },
  {
   "cell_type": "code",
   "execution_count": 37,
   "id": "930d76e1-22c2-4a47-a7a4-e2b1fff5a2a9",
   "metadata": {},
   "outputs": [
    {
     "data": {
      "text/plain": [
       "['one', 'two', 'teen', 'four', 'five', 'seven', 6, 1, 2, 3, 4, 5, 6]"
      ]
     },
     "execution_count": 37,
     "metadata": {},
     "output_type": "execute_result"
    }
   ],
   "source": [
    "# concatenate 2 lists -> directly using '+' operator\n",
    "new_list = stringList +  intList\n",
    "new_list"
   ]
  },
  {
   "cell_type": "markdown",
   "id": "24d505cc-c734-49da-8151-842f117452ad",
   "metadata": {},
   "source": [
    "## Append vs Extend "
   ]
  },
  {
   "cell_type": "code",
   "execution_count": 7,
   "id": "09500b4d-7d52-498d-a77a-9269c25ccf64",
   "metadata": {},
   "outputs": [
    {
     "name": "stdout",
     "output_type": "stream",
     "text": [
      "Append List :  None\n",
      "w1 (=m1) :  [1, 2, 3, 45, 6, 589, 8, ['harshal', 'parteke']]\n",
      "y1 (=m1) [1, 2, 3, 45, 6, 589, 8, ['harshal', 'parteke'], 'harshal', 'parteke']\n",
      "Extend List :  None\n"
     ]
    }
   ],
   "source": [
    "m1 = [1,2,3,45,6,589,8]\n",
    "e1 = ['harshal', 'parteke']\n",
    "appendList = m1.append(e1)\n",
    "print(\"Append List : \", appendList)\n",
    "w1  = m1\n",
    "print(\"w1 (=m1) : \", w1)\n",
    "extendList = m1.extend(e1)\n",
    "\n",
    "y1 = m1\n",
    "print(\"y1 (=m1)\", y1)\n",
    "print(\"Extend List : \", extendList) "
   ]
  },
  {
   "cell_type": "code",
   "execution_count": 9,
   "id": "7c320377-7beb-4e78-9f69-6fc5e6f9a87f",
   "metadata": {},
   "outputs": [
    {
     "data": {
      "text/plain": [
       "[1, 2, 3, 45, 6, 589, 8, ['harshal', 'parteke']]"
      ]
     },
     "execution_count": 9,
     "metadata": {},
     "output_type": "execute_result"
    }
   ],
   "source": [
    "m1 = [1,2,3,45,6,589,8]\n",
    "e1 = ['harshal', 'parteke']\n",
    "m1.append(e1)\n",
    "m1"
   ]
  },
  {
   "cell_type": "code",
   "execution_count": 11,
   "id": "331e040b-2144-42bb-abca-9e1178b3aebc",
   "metadata": {},
   "outputs": [
    {
     "data": {
      "text/plain": [
       "[1, 2, 3, 45, 6, 589, 8, ['harshal', 'parteke']]"
      ]
     },
     "execution_count": 11,
     "metadata": {},
     "output_type": "execute_result"
    }
   ],
   "source": [
    "x = m1\n",
    "x"
   ]
  },
  {
   "cell_type": "code",
   "execution_count": null,
   "id": "d095eb6b-ad00-4d30-91e7-15ef03076e9c",
   "metadata": {},
   "outputs": [],
   "source": []
  },
  {
   "cell_type": "code",
   "execution_count": null,
   "id": "5ad5ee9b-848f-4d28-b20a-884c271edd06",
   "metadata": {},
   "outputs": [],
   "source": []
  },
  {
   "cell_type": "code",
   "execution_count": 60,
   "id": "58190d8c-34ab-45ab-8e4f-2e3d375ca952",
   "metadata": {},
   "outputs": [],
   "source": [
    "## why does appendList and extendList prints None values???"
   ]
  },
  {
   "cell_type": "markdown",
   "id": "f34a94ee-ec1f-4916-afc2-4a80a5539f76",
   "metadata": {},
   "source": [
    "## Delete list / items in a list"
   ]
  },
  {
   "cell_type": "code",
   "execution_count": 53,
   "id": "1f5da1aa-0fff-46dc-ac14-189ffd90a26c",
   "metadata": {},
   "outputs": [],
   "source": [
    "# del appendList"
   ]
  },
  {
   "cell_type": "code",
   "execution_count": 54,
   "id": "0fe03707-dd75-4403-9816-fd4794067202",
   "metadata": {},
   "outputs": [
    {
     "data": {
      "text/plain": [
       "[1, 2, 3, 45, 6, 589, 8, ['harshal', 'parteke'], 'harshal', 'parteke']"
      ]
     },
     "execution_count": 54,
     "metadata": {},
     "output_type": "execute_result"
    }
   ],
   "source": [
    "m1"
   ]
  },
  {
   "cell_type": "code",
   "execution_count": 55,
   "id": "abb45854-74b4-4200-a339-c7236b8c3708",
   "metadata": {},
   "outputs": [],
   "source": [
    "del m1[-1]"
   ]
  },
  {
   "cell_type": "code",
   "execution_count": 56,
   "id": "70dde96c-f1a3-471e-8f3c-4b76cd661e19",
   "metadata": {},
   "outputs": [
    {
     "name": "stdout",
     "output_type": "stream",
     "text": [
      "[1, 2, 3, 45, 6, 589, 8, ['harshal', 'parteke'], 'harshal']\n"
     ]
    }
   ],
   "source": [
    "print(m1)"
   ]
  },
  {
   "cell_type": "code",
   "execution_count": 57,
   "id": "48ab8c2f-aaf4-4f4e-9b63-5604d05a0164",
   "metadata": {},
   "outputs": [],
   "source": [
    "last_element = m1.pop(-1) "
   ]
  },
  {
   "cell_type": "code",
   "execution_count": 58,
   "id": "a5845fe8-1e76-4126-be36-55e23ae30687",
   "metadata": {},
   "outputs": [
    {
     "data": {
      "text/plain": [
       "'harshal'"
      ]
     },
     "execution_count": 58,
     "metadata": {},
     "output_type": "execute_result"
    }
   ],
   "source": [
    "last_element"
   ]
  },
  {
   "cell_type": "code",
   "execution_count": 59,
   "id": "8a0c4490-da27-4090-bb89-b20095620bfb",
   "metadata": {},
   "outputs": [
    {
     "data": {
      "text/plain": [
       "[1, 2, 3, 45, 6, 589, 8, ['harshal', 'parteke']]"
      ]
     },
     "execution_count": 59,
     "metadata": {},
     "output_type": "execute_result"
    }
   ],
   "source": [
    "m1"
   ]
  },
  {
   "cell_type": "markdown",
   "id": "06eff7b6-72dd-4672-8a8a-cedfb5ef8450",
   "metadata": {},
   "source": [
    "## Reverse a list"
   ]
  },
  {
   "cell_type": "code",
   "execution_count": 61,
   "id": "7ea85e3e-cdd7-4bae-9a23-772912ccd07d",
   "metadata": {},
   "outputs": [
    {
     "data": {
      "text/plain": [
       "[1, 2, 3, 45, 6, 589, 8, ['harshal', 'parteke']]"
      ]
     },
     "execution_count": 61,
     "metadata": {},
     "output_type": "execute_result"
    }
   ],
   "source": [
    "m1"
   ]
  },
  {
   "cell_type": "code",
   "execution_count": 62,
   "id": "acd6887d-dc44-4ec0-8fd0-0830ee521f52",
   "metadata": {},
   "outputs": [],
   "source": [
    "m1.reverse()"
   ]
  },
  {
   "cell_type": "code",
   "execution_count": 63,
   "id": "60aff007-f936-4ae5-a684-00b1f161ce20",
   "metadata": {},
   "outputs": [
    {
     "data": {
      "text/plain": [
       "[['harshal', 'parteke'], 8, 589, 6, 45, 3, 2, 1]"
      ]
     },
     "execution_count": 63,
     "metadata": {},
     "output_type": "execute_result"
    }
   ],
   "source": [
    "m1"
   ]
  },
  {
   "cell_type": "code",
   "execution_count": 2,
   "id": "c0020c34-5d00-4ccc-a0b8-530092332322",
   "metadata": {},
   "outputs": [
    {
     "name": "stdout",
     "output_type": "stream",
     "text": [
      "['h', 'a', 'r', 's', 'h', 'a', 'l']\n"
     ]
    },
    {
     "data": {
      "text/plain": [
       "['l', 'a', 'h', 's', 'r', 'a', 'h']"
      ]
     },
     "execution_count": 2,
     "metadata": {},
     "output_type": "execute_result"
    }
   ],
   "source": [
    "stringName = \"harshal\"\n",
    "l2 = list(stringName)\n",
    "print(l2)\n",
    "l2.reverse()\n",
    "l2\n"
   ]
  },
  {
   "cell_type": "code",
   "execution_count": 6,
   "id": "93d0c36a-ce0c-4be9-9093-1f29f99974dc",
   "metadata": {},
   "outputs": [
    {
     "data": {
      "text/plain": [
       "'harshal'"
      ]
     },
     "execution_count": 6,
     "metadata": {},
     "output_type": "execute_result"
    }
   ],
   "source": [
    "ans_str = \"\"\n",
    "for i in range(len(l2)-1,-1,-1):\n",
    "    ans_str += l2[i]\n",
    "\n",
    "ans_str"
   ]
  },
  {
   "cell_type": "code",
   "execution_count": null,
   "id": "2354ce7b-7ea3-4d97-8c72-4edd092cef98",
   "metadata": {},
   "outputs": [],
   "source": []
  }
 ],
 "metadata": {
  "kernelspec": {
   "display_name": "Python 3 (ipykernel)",
   "language": "python",
   "name": "python3"
  },
  "language_info": {
   "codemirror_mode": {
    "name": "ipython",
    "version": 3
   },
   "file_extension": ".py",
   "mimetype": "text/x-python",
   "name": "python",
   "nbconvert_exporter": "python",
   "pygments_lexer": "ipython3",
   "version": "3.9.12"
  }
 },
 "nbformat": 4,
 "nbformat_minor": 5
}
