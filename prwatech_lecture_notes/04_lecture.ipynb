{
 "cells": [
  {
   "cell_type": "markdown",
   "id": "ec10486e-f951-4978-b60f-75cd65e65b16",
   "metadata": {},
   "source": [
    "# Flow Control Chart"
   ]
  },
  {
   "cell_type": "code",
   "execution_count": 3,
   "id": "ec7ec424-66f6-4183-be67-b3da4470af97",
   "metadata": {},
   "outputs": [
    {
     "name": "stdin",
     "output_type": "stream",
     "text": [
      "Enter a number:  45\n"
     ]
    },
    {
     "name": "stdout",
     "output_type": "stream",
     "text": [
      "45 is a positive number\n",
      "----------<<<<<     Ignore...This block will always run       >>>>>>>-------------- \n"
     ]
    }
   ],
   "source": [
    "x = int(input(\"Enter a number: \"))\n",
    "\n",
    "if(x>0):\n",
    "    print(f\"{x} is a positive number\")\n",
    "elif(x<0):\n",
    "    print(f\"{x} is a negative number\")\n",
    "else:\n",
    "    print(f\"{x} is zero\")\n",
    "\n",
    "    \n",
    "print(\"----------<<<<<     Ignore...This block will always run       >>>>>>>-------------- \")"
   ]
  },
  {
   "cell_type": "markdown",
   "id": "d83492c4-7d15-4ff1-99a4-5fd6b5f4041b",
   "metadata": {},
   "source": [
    "In the above block,     \n",
    "Program flow goes as follows :      \n",
    "        \n",
    "        if -> elif -> else -> outer print block"
   ]
  },
  {
   "cell_type": "code",
   "execution_count": 7,
   "id": "f01c3e66-953a-48df-80c2-a052d6358377",
   "metadata": {},
   "outputs": [
    {
     "name": "stdin",
     "output_type": "stream",
     "text": [
      "Enter a number:  1\n"
     ]
    },
    {
     "name": "stdout",
     "output_type": "stream",
     "text": [
      "----------<<<<<     Ignore...This block will always run       >>>>>>>-------------- \n"
     ]
    }
   ],
   "source": [
    "# case 1:\n",
    "num = int(input(\"Enter a number: \"))\n",
    "\n",
    "if num >= 10:\n",
    "    print(\"number is greater than 10\")\n",
    "\n",
    "print(\"----------<<<<<     Ignore...This block will always run       >>>>>>>-------------- \")"
   ]
  },
  {
   "cell_type": "code",
   "execution_count": 8,
   "id": "3120e046-547d-484b-b8a1-19a67b12ee6f",
   "metadata": {},
   "outputs": [
    {
     "name": "stdin",
     "output_type": "stream",
     "text": [
      "Enter your emailid;  harshak@gmail.com\n"
     ]
    },
    {
     "name": "stdout",
     "output_type": "stream",
     "text": [
      "You have a 'gmail' account\n"
     ]
    }
   ],
   "source": [
    "email = input(\"Enter your emailid; \")\n",
    "\n",
    "if \"gmail\" in email:\n",
    "    print(\"You have a 'gmail' account\")\n",
    "\n",
    "else:\n",
    "    print(\"You have some other email account\")"
   ]
  },
  {
   "cell_type": "code",
   "execution_count": 19,
   "id": "d9d101b9-abd1-4b32-a77c-490dce78943a",
   "metadata": {},
   "outputs": [
    {
     "name": "stdout",
     "output_type": "stream",
     "text": [
      "440 is a negative number\n",
      "----------<<<<<     Ignore...This block will always run       >>>>>>>-------------- \n"
     ]
    }
   ],
   "source": [
    "#case 2\n",
    "# use of None\n",
    "\n",
    "num = 440\n",
    "\n",
    "if None: # (None, 0, -1) None: It will not allow to get into the loop\n",
    "    print(\"Number is positive\")\n",
    "else:\n",
    "    print(f\"{num} is a negative number\") # in this case else block will run everytime irrespective of if\n",
    "    \n",
    "print(\"----------<<<<<     Ignore...This block will always run       >>>>>>>-------------- \")"
   ]
  },
  {
   "cell_type": "code",
   "execution_count": 21,
   "id": "95a700d1-d0d5-47d2-a640-b58956b11116",
   "metadata": {},
   "outputs": [
    {
     "name": "stdin",
     "output_type": "stream",
     "text": [
      "Enter your marks:  90\n"
     ]
    },
    {
     "name": "stdout",
     "output_type": "stream",
     "text": [
      "A-grade\n"
     ]
    }
   ],
   "source": [
    "marks = int(input(\"Enter your marks: \"))\n",
    "\n",
    "if(marks>=90 and marks<100):\n",
    "    print(\"A-grade\")\n",
    "elif(marks>=70 and marks<90):\n",
    "    print(\"B-grade\")\n",
    "elif(marks>=50 and marks<70):\n",
    "    print(\"C-grade\")\n",
    "elif(marks>=40 and marks<50):\n",
    "    print(\"D-grade\")\n",
    "else:\n",
    "    print(\"FAILLLLLLLLLL!!!!!!\")"
   ]
  },
  {
   "cell_type": "code",
   "execution_count": 22,
   "id": "28de790e-db73-462e-b86f-72856c732e00",
   "metadata": {},
   "outputs": [
    {
     "name": "stdin",
     "output_type": "stream",
     "text": [
      "Enter your email id:  alksfjl\n"
     ]
    },
    {
     "name": "stdout",
     "output_type": "stream",
     "text": [
      "You are using some random email service\n"
     ]
    }
   ],
   "source": [
    "email = input(\"Enter your email id: \")\n",
    "\n",
    "if \"gmail\" in email:\n",
    "    print(\"Your email id is in google mail\")\n",
    "elif \"yahoo\" in email:\n",
    "    print(\"Your email id is in yahoomail\")\n",
    "    \n",
    "else:\n",
    "    print(\"You are using some random email service\")"
   ]
  },
  {
   "cell_type": "code",
   "execution_count": 27,
   "id": "3e321df7-a073-4e5c-840c-e433e6839a2c",
   "metadata": {},
   "outputs": [
    {
     "name": "stdin",
     "output_type": "stream",
     "text": [
      "Enter your email id:  harshal@gmail.com\n"
     ]
    },
    {
     "name": "stdout",
     "output_type": "stream",
     "text": [
      "Correct email id entered\n",
      "\n",
      "\n",
      "Your email id is in google mail\n"
     ]
    }
   ],
   "source": [
    "#nested if\n",
    "#checking email validity\n",
    "\n",
    "\n",
    "email = input(\"Enter your email id: \")\n",
    "if \"@\" and \".com\" in email:\n",
    "    print(\"Correct email id entered\\n\\n\")\n",
    "    if \"gmail\" in email:\n",
    "        print(\"Your email id is in google mail\")\n",
    "    elif \"yahoo\" in email:\n",
    "        print(\"Your email id is in yahoomail\")\n",
    "    else:\n",
    "        print(\"Your email is VALID but You are using some random email service\")\n",
    "\n",
    "else:\n",
    "    print(\"Your email id is INVALID\")"
   ]
  },
  {
   "cell_type": "code",
   "execution_count": 28,
   "id": "88d0c40f-943d-4612-b692-4c4c7c8650ca",
   "metadata": {},
   "outputs": [
    {
     "name": "stdin",
     "output_type": "stream",
     "text": [
      "First num :  34\n",
      "Second num :  46\n",
      "Third num :  0\n"
     ]
    },
    {
     "name": "stdout",
     "output_type": "stream",
     "text": [
      "46 is largest\n"
     ]
    }
   ],
   "source": [
    "#largest of the 3 numbers\n",
    "\n",
    "num1 = int(input(\"First num : \"))\n",
    "num2 = int(input(\"Second num : \"))\n",
    "num3 = int(input(\"Third num : \"))\n",
    "\n",
    "\n",
    "if(num1 > num2 and num1 > num3):\n",
    "    print(f\"{num1} is largest\")\n",
    "elif(num2 > num1 and num2 > num3):\n",
    "    print(f\"{num2} is largest\")\n",
    "else:\n",
    "    print(f\"{num3} is largest\")\n",
    "    "
   ]
  },
  {
   "cell_type": "code",
   "execution_count": 30,
   "id": "fc0db5f1-3600-4f1a-9358-50b461cf9e43",
   "metadata": {},
   "outputs": [
    {
     "name": "stdin",
     "output_type": "stream",
     "text": [
      "First num :  325\n",
      "Second num :  8\n",
      "Third num :  32526\n"
     ]
    },
    {
     "name": "stdout",
     "output_type": "stream",
     "text": [
      "8 is smallest\n"
     ]
    }
   ],
   "source": [
    "#smallest of the 3 numbers\n",
    "\n",
    "num1 = int(input(\"First num : \"))\n",
    "num2 = int(input(\"Second num : \"))\n",
    "num3 = int(input(\"Third num : \"))\n",
    "\n",
    "\n",
    "if(num1 < num2 and num1 < num3):\n",
    "    print(f\"{num1} is smallest\")\n",
    "elif(num2 < num1 and num2 < num3):\n",
    "    print(f\"{num2} is smallest\")\n",
    "else:\n",
    "    print(f\"{num3} is smallest\")\n",
    "    "
   ]
  },
  {
   "cell_type": "code",
   "execution_count": 1,
   "id": "4be310ea-6b28-4ec2-8554-0dc6323cfece",
   "metadata": {},
   "outputs": [
    {
     "name": "stdin",
     "output_type": "stream",
     "text": [
      "Enter your variable name:  harsh-131\n"
     ]
    },
    {
     "name": "stdout",
     "output_type": "stream",
     "text": [
      "Invalid varname , Some characters are out of place: \n"
     ]
    }
   ],
   "source": [
    "# checking validity of variable name in python usinf if-else\n",
    "# Rules: \n",
    "    # 1. Should start with letter or underscore '_'\n",
    "    # 2. Should not start with a number\n",
    "    # 3. Contains alphanumeric characters and underscore only\n",
    "    \n",
    "varname = input(\"Enter your variable name: \")\n",
    "valid_list = [chr(i) for i in list(range(48,58)) + list(range(65, 91)) + list(range(97, 123))] + ['_'] # list of acceptable alphanumeric chars\n",
    "isValid = True #checks validity of character\n",
    "wrong_chars = {} #stores all the incorrectly used characters in varname\n",
    "\n",
    "if varname[0] in list(set([chr(i) for i in list(range(48,58)) + list(range(65, 91)) + list(range(97, 123))] + ['_']) - set([chr(i) for i in range(48,58)])):\n",
    "    for i in varname[1:]:\n",
    "        if i in valid_list:\n",
    "            continue\n",
    "        else:\n",
    "            isValid = False\n",
    "            wrong_chars[varname.index(i)] = i\n",
    "\n",
    "    \n",
    "else:\n",
    "    isValid = False\n",
    "   \n",
    "    \n",
    "\n",
    "\n",
    "if(isValid):\n",
    "    print(\"Valid varname\")\n",
    "else:\n",
    "    if len(wrong_chars) == 0:\n",
    "        print(\"Invalid varname , First character out of place\")\n",
    "    else:\n",
    "        print(\"Invalid varname , Some characters are out of place: \")\n",
    "    \n",
    "    "
   ]
  },
  {
   "cell_type": "code",
   "execution_count": null,
   "id": "d182637c-a4d0-49e6-a0dd-1b77bb0424b1",
   "metadata": {},
   "outputs": [],
   "source": []
  }
 ],
 "metadata": {
  "kernelspec": {
   "display_name": "Python 3 (ipykernel)",
   "language": "python",
   "name": "python3"
  },
  "language_info": {
   "codemirror_mode": {
    "name": "ipython",
    "version": 3
   },
   "file_extension": ".py",
   "mimetype": "text/x-python",
   "name": "python",
   "nbconvert_exporter": "python",
   "pygments_lexer": "ipython3",
   "version": "3.9.12"
  }
 },
 "nbformat": 4,
 "nbformat_minor": 5
}
