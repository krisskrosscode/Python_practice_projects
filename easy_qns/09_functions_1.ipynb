{
 "cells": [
  {
   "cell_type": "markdown",
   "id": "19af49fa-326c-430f-8b13-b5e2f2127f97",
   "metadata": {},
   "source": [
    "**Q1) Create a function 'fun1' , pass a mixed data and try to create list of separate data based on data type, return multiple results**"
   ]
  },
  {
   "cell_type": "markdown",
   "id": "a078044e-7434-423e-a47d-c8113de8f07d",
   "metadata": {},
   "source": [
    "3,56,1, True, False, \"sf\", 3242.235, \"tgs5\""
   ]
  },
  {
   "cell_type": "code",
   "execution_count": 26,
   "id": "2e31be6f-b267-467f-8cf3-10c85e101680",
   "metadata": {},
   "outputs": [
    {
     "name": "stdout",
     "output_type": "stream",
     "text": [
      "[3, 56, 1]\n",
      "['sf', 'tgs5']\n",
      "[]\n",
      "[]\n",
      "[True, False]\n",
      "[3242.235]\n"
     ]
    }
   ],
   "source": [
    "def fun1(*args):\n",
    "    int_type = []\n",
    "    str_type = []\n",
    "    list_type = []\n",
    "    dict_type = []\n",
    "    bool_type = []\n",
    "    others = []\n",
    "    \n",
    "    for i in args:\n",
    "        if type(i) == list:\n",
    "            list_type.append(i)\n",
    "        elif type(i) == dict:\n",
    "            dict_type.append(i)\n",
    "        elif type(i) == bool:\n",
    "            bool_type.append(i)\n",
    "        elif type(i) == int:\n",
    "            int_type.append(i)\n",
    "        elif type(i) == str:\n",
    "            str_type.append(i)\n",
    "        else: \n",
    "            others.append(i)\n",
    "    return int_type,str_type, list_type, dict_type, bool_type, others\n",
    "    \n",
    "for i in fun1(3,56,1, True, False, \"sf\", 3242.235, \"tgs5\"):\n",
    "    print(i)"
   ]
  },
  {
   "cell_type": "code",
   "execution_count": 34,
   "id": "e2c462c6-5146-4c8f-9ddf-f526070afc25",
   "metadata": {},
   "outputs": [
    {
     "data": {
      "text/plain": [
       "{int: [3, 56, 1],\n",
       " bool: [True, False],\n",
       " str: ['sf', 'tgs5'],\n",
       " float: [3242.235],\n",
       " complex: [(6+7j)]}"
      ]
     },
     "execution_count": 34,
     "metadata": {},
     "output_type": "execute_result"
    }
   ],
   "source": [
    "#ALiter : better approach using dict\n",
    "\n",
    "def function(*args):\n",
    "    d = {}\n",
    "    \n",
    "    for i in args:\n",
    "        if type(i) in d:\n",
    "            d[type(i)].append(i)\n",
    "        else:\n",
    "            d[type(i)] = [i]\n",
    "            \n",
    "    return d\n",
    "\n",
    "function(3,56,1, True, False, \"sf\", 3242.235, \"tgs5\", 6 + 7j)\n",
    "  "
   ]
  },
  {
   "cell_type": "markdown",
   "id": "9f5ed32f-9058-491d-91f2-57afbaaac846",
   "metadata": {},
   "source": [
    "---"
   ]
  },
  {
   "cell_type": "markdown",
   "id": "dac440b6-26b6-4e6f-af59-d989313d2fc9",
   "metadata": {},
   "source": [
    "**Q2) Create a function which will be able to use args and kwargs and it will be able to do all the list value concatenation return a list**"
   ]
  },
  {
   "cell_type": "code",
   "execution_count": 19,
   "id": "9449a330-67d9-48da-b1f9-31e5ee747134",
   "metadata": {},
   "outputs": [
    {
     "name": "stdout",
     "output_type": "stream",
     "text": [
      "['a', 'f', 'j']\n"
     ]
    }
   ],
   "source": [
    "## has no effect on the answer code , just for reference\n",
    "\n",
    "def helper(**kwargs):\n",
    "    k = []\n",
    "    for i in kwargs:\n",
    "        k.append(i)\n",
    "    return k\n",
    "\n",
    "print(helper(a = 3456, f=3425, j = \"sdgffgas\"))"
   ]
  },
  {
   "cell_type": "code",
   "execution_count": 25,
   "id": "49de367a-42ca-4b40-8c48-83f9b4d9705e",
   "metadata": {},
   "outputs": [
    {
     "data": {
      "text/plain": [
       "[3, 56, 1, True, False, 'sf', 3242.235, 'tgs5', 0, 3425, 'sdgffgas']"
      ]
     },
     "execution_count": 25,
     "metadata": {},
     "output_type": "execute_result"
    }
   ],
   "source": [
    "def fun2(*args, **kwargs):\n",
    "    l = []\n",
    "    for i in args:\n",
    "        l.append(i)\n",
    "    for i in kwargs.values():\n",
    "        l.append(i)\n",
    "    return l\n",
    "\n",
    "fun2(3,56,1, True, False, \"sf\", 3242.235, \"tgs5\", a =0, f=3425, j = \"sdgffgas\")\n"
   ]
  },
  {
   "cell_type": "markdown",
   "id": "ee61459e-8e63-4a46-b3e3-b6734898b3fb",
   "metadata": {},
   "source": [
    "---"
   ]
  },
  {
   "cell_type": "code",
   "execution_count": null,
   "id": "7e255181-99c0-4eca-ae3a-28dde6d59de2",
   "metadata": {},
   "outputs": [],
   "source": []
  }
 ],
 "metadata": {
  "kernelspec": {
   "display_name": "Python 3 (ipykernel)",
   "language": "python",
   "name": "python3"
  },
  "language_info": {
   "codemirror_mode": {
    "name": "ipython",
    "version": 3
   },
   "file_extension": ".py",
   "mimetype": "text/x-python",
   "name": "python",
   "nbconvert_exporter": "python",
   "pygments_lexer": "ipython3",
   "version": "3.9.7"
  }
 },
 "nbformat": 4,
 "nbformat_minor": 5
}
