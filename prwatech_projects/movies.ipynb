{
 "cells": [
  {
   "cell_type": "markdown",
   "metadata": {},
   "source": [
    "# Movies Mini Project "
   ]
  },
  {
   "cell_type": "markdown",
   "metadata": {},
   "source": [
    ">USE the 'movies.csv' dataset to answer the questions"
   ]
  },
  {
   "cell_type": "markdown",
   "metadata": {},
   "source": [
    "***Module used :***\n",
    "\n",
    "    - pandas \n",
    "    \n",
    "***Variables reference :***\n",
    "    \n",
    "     - df : pandas dataframe for movies.csv"
   ]
  },
  {
   "cell_type": "code",
   "execution_count": 71,
   "metadata": {},
   "outputs": [],
   "source": [
    "import pandas as pd"
   ]
  },
  {
   "cell_type": "code",
   "execution_count": 72,
   "metadata": {},
   "outputs": [],
   "source": [
    "df = pd.read_csv('movie.csv')"
   ]
  },
  {
   "cell_type": "code",
   "execution_count": 73,
   "metadata": {},
   "outputs": [],
   "source": [
    "df = df.drop(df[['Unnamed: 0']], axis = 1) ## deleting redundadnt columns"
   ]
  },
  {
   "cell_type": "code",
   "execution_count": 74,
   "metadata": {},
   "outputs": [
    {
     "data": {
      "text/html": [
       "<div>\n",
       "<style scoped>\n",
       "    .dataframe tbody tr th:only-of-type {\n",
       "        vertical-align: middle;\n",
       "    }\n",
       "\n",
       "    .dataframe tbody tr th {\n",
       "        vertical-align: top;\n",
       "    }\n",
       "\n",
       "    .dataframe thead th {\n",
       "        text-align: right;\n",
       "    }\n",
       "</style>\n",
       "<table border=\"1\" class=\"dataframe\">\n",
       "  <thead>\n",
       "    <tr style=\"text-align: right;\">\n",
       "      <th></th>\n",
       "      <th>movie_name</th>\n",
       "      <th>release_year</th>\n",
       "      <th>rating</th>\n",
       "      <th>duration</th>\n",
       "    </tr>\n",
       "  </thead>\n",
       "  <tbody>\n",
       "    <tr>\n",
       "      <th>0</th>\n",
       "      <td>The Nightmare Before Christmas</td>\n",
       "      <td>1993</td>\n",
       "      <td>3.9</td>\n",
       "      <td>4568.0</td>\n",
       "    </tr>\n",
       "    <tr>\n",
       "      <th>1</th>\n",
       "      <td>The Mummy</td>\n",
       "      <td>1932</td>\n",
       "      <td>3.5</td>\n",
       "      <td>4388.0</td>\n",
       "    </tr>\n",
       "    <tr>\n",
       "      <th>2</th>\n",
       "      <td>Orphans of the Storm</td>\n",
       "      <td>1921</td>\n",
       "      <td>3.2</td>\n",
       "      <td>9062.0</td>\n",
       "    </tr>\n",
       "    <tr>\n",
       "      <th>3</th>\n",
       "      <td>The Object of Beauty</td>\n",
       "      <td>1991</td>\n",
       "      <td>2.8</td>\n",
       "      <td>6150.0</td>\n",
       "    </tr>\n",
       "    <tr>\n",
       "      <th>4</th>\n",
       "      <td>Night Tide</td>\n",
       "      <td>1963</td>\n",
       "      <td>2.8</td>\n",
       "      <td>5126.0</td>\n",
       "    </tr>\n",
       "    <tr>\n",
       "      <th>...</th>\n",
       "      <td>...</td>\n",
       "      <td>...</td>\n",
       "      <td>...</td>\n",
       "      <td>...</td>\n",
       "    </tr>\n",
       "    <tr>\n",
       "      <th>49585</th>\n",
       "      <td>Winter Wonderland</td>\n",
       "      <td>2013</td>\n",
       "      <td>2.8</td>\n",
       "      <td>1812.0</td>\n",
       "    </tr>\n",
       "    <tr>\n",
       "      <th>49586</th>\n",
       "      <td>Top Gear: Series 19: Africa Special</td>\n",
       "      <td>2013</td>\n",
       "      <td>NaN</td>\n",
       "      <td>6822.0</td>\n",
       "    </tr>\n",
       "    <tr>\n",
       "      <th>49587</th>\n",
       "      <td>Fireplace For Your Home: Crackling Fireplace w...</td>\n",
       "      <td>2010</td>\n",
       "      <td>NaN</td>\n",
       "      <td>3610.0</td>\n",
       "    </tr>\n",
       "    <tr>\n",
       "      <th>49588</th>\n",
       "      <td>Kate Plus Ei8ht</td>\n",
       "      <td>2010</td>\n",
       "      <td>2.7</td>\n",
       "      <td>NaN</td>\n",
       "    </tr>\n",
       "    <tr>\n",
       "      <th>49589</th>\n",
       "      <td>Kate Plus Ei8ht: Season 1</td>\n",
       "      <td>2010</td>\n",
       "      <td>2.7</td>\n",
       "      <td>NaN</td>\n",
       "    </tr>\n",
       "  </tbody>\n",
       "</table>\n",
       "<p>49590 rows × 4 columns</p>\n",
       "</div>"
      ],
      "text/plain": [
       "                                              movie_name  release_year  \\\n",
       "0                         The Nightmare Before Christmas          1993   \n",
       "1                                              The Mummy          1932   \n",
       "2                                   Orphans of the Storm          1921   \n",
       "3                                   The Object of Beauty          1991   \n",
       "4                                             Night Tide          1963   \n",
       "...                                                  ...           ...   \n",
       "49585                                  Winter Wonderland          2013   \n",
       "49586                Top Gear: Series 19: Africa Special          2013   \n",
       "49587  Fireplace For Your Home: Crackling Fireplace w...          2010   \n",
       "49588                                    Kate Plus Ei8ht          2010   \n",
       "49589                          Kate Plus Ei8ht: Season 1          2010   \n",
       "\n",
       "       rating  duration  \n",
       "0         3.9    4568.0  \n",
       "1         3.5    4388.0  \n",
       "2         3.2    9062.0  \n",
       "3         2.8    6150.0  \n",
       "4         2.8    5126.0  \n",
       "...       ...       ...  \n",
       "49585     2.8    1812.0  \n",
       "49586     NaN    6822.0  \n",
       "49587     NaN    3610.0  \n",
       "49588     2.7       NaN  \n",
       "49589     2.7       NaN  \n",
       "\n",
       "[49590 rows x 4 columns]"
      ]
     },
     "execution_count": 74,
     "metadata": {},
     "output_type": "execute_result"
    }
   ],
   "source": [
    "df"
   ]
  },
  {
   "cell_type": "code",
   "execution_count": null,
   "metadata": {},
   "outputs": [],
   "source": []
  },
  {
   "cell_type": "code",
   "execution_count": 75,
   "metadata": {},
   "outputs": [
    {
     "data": {
      "text/plain": [
       "movie_name       object\n",
       "release_year      int64\n",
       "rating          float64\n",
       "duration        float64\n",
       "dtype: object"
      ]
     },
     "execution_count": 75,
     "metadata": {},
     "output_type": "execute_result"
    }
   ],
   "source": [
    "df.dtypes"
   ]
  },
  {
   "cell_type": "code",
   "execution_count": 76,
   "metadata": {},
   "outputs": [
    {
     "name": "stdout",
     "output_type": "stream",
     "text": [
      "Number of NaN values in duration column :  3754\n",
      "Number of NaN values in rating column :  38776\n",
      "Number of NaN values in release_year column :  0\n",
      "Number of NaN values in movie_name column :  0\n"
     ]
    }
   ],
   "source": [
    "# checking number of null values in each column of dataframe\n",
    "print(\"Number of NaN values in duration column : \",df.duration.isna().sum())\n",
    "print(\"Number of NaN values in rating column : \",df.rating.isna().sum())\n",
    "print(\"Number of NaN values in release_year column : \",df.release_year.isna().sum())\n",
    "print(\"Number of NaN values in movie_name column : \",df.movie_name.isna().sum())"
   ]
  },
  {
   "cell_type": "markdown",
   "metadata": {},
   "source": [
    "# Questions"
   ]
  },
  {
   "cell_type": "markdown",
   "metadata": {},
   "source": [
    "#### Q1) Number of movies released between 1950 and 1960"
   ]
  },
  {
   "cell_type": "code",
   "execution_count": 77,
   "metadata": {},
   "outputs": [
    {
     "data": {
      "text/plain": [
       "547"
      ]
     },
     "execution_count": 77,
     "metadata": {},
     "output_type": "execute_result"
    }
   ],
   "source": [
    "df['movie_name'][(df['release_year'] >= 1950) & (df['release_year'] <= 1960)].count()"
   ]
  },
  {
   "cell_type": "markdown",
   "metadata": {},
   "source": [
    "#### Q2) The number of movies having rating more than 4."
   ]
  },
  {
   "cell_type": "code",
   "execution_count": 78,
   "metadata": {},
   "outputs": [
    {
     "data": {
      "text/plain": [
       "897"
      ]
     },
     "execution_count": 78,
     "metadata": {},
     "output_type": "execute_result"
    }
   ],
   "source": [
    "df['movie_name'][df['rating'] > 4].count()"
   ]
  },
  {
   "cell_type": "markdown",
   "metadata": {},
   "source": [
    "#### Q3) The movies whose rating are between 3 and 4."
   ]
  },
  {
   "cell_type": "code",
   "execution_count": 79,
   "metadata": {},
   "outputs": [
    {
     "data": {
      "text/plain": [
       "7161"
      ]
     },
     "execution_count": 79,
     "metadata": {},
     "output_type": "execute_result"
    }
   ],
   "source": [
    "df['movie_name'][(df['rating'] > 3) & (df['rating'] < 4)].count()"
   ]
  },
  {
   "cell_type": "markdown",
   "metadata": {},
   "source": [
    "#### Q4) The number of movies with duration more than 2 hours (7200 seconds)."
   ]
  },
  {
   "cell_type": "code",
   "execution_count": 80,
   "metadata": {},
   "outputs": [
    {
     "data": {
      "text/plain": [
       "641"
      ]
     },
     "execution_count": 80,
     "metadata": {},
     "output_type": "execute_result"
    }
   ],
   "source": [
    "df['movie_name'][df['duration'] > 7200].count()"
   ]
  },
  {
   "cell_type": "markdown",
   "metadata": {},
   "source": [
    "#### Q5) The list of years and number of movies released each year."
   ]
  },
  {
   "cell_type": "code",
   "execution_count": 81,
   "metadata": {
    "tags": []
   },
   "outputs": [],
   "source": [
    "a = df.groupby(by='release_year').groups"
   ]
  },
  {
   "cell_type": "code",
   "execution_count": 82,
   "metadata": {
    "tags": []
   },
   "outputs": [],
   "source": [
    "ans_list = []\n",
    "for k,v in a.items():\n",
    "    ans_list.append([k, len(v)])"
   ]
  },
  {
   "cell_type": "code",
   "execution_count": 83,
   "metadata": {
    "collapsed": true,
    "jupyter": {
     "outputs_hidden": true
    },
    "tags": []
   },
   "outputs": [
    {
     "data": {
      "text/plain": [
       "[[1913, 3],\n",
       " [1914, 20],\n",
       " [1915, 1],\n",
       " [1916, 1],\n",
       " [1918, 1],\n",
       " [1919, 3],\n",
       " [1920, 6],\n",
       " [1921, 2],\n",
       " [1922, 2],\n",
       " [1923, 4],\n",
       " [1924, 5],\n",
       " [1925, 5],\n",
       " [1926, 2],\n",
       " [1927, 4],\n",
       " [1928, 2],\n",
       " [1929, 5],\n",
       " [1930, 5],\n",
       " [1931, 3],\n",
       " [1932, 4],\n",
       " [1933, 7],\n",
       " [1934, 8],\n",
       " [1935, 11],\n",
       " [1936, 7],\n",
       " [1937, 4],\n",
       " [1938, 5],\n",
       " [1939, 6],\n",
       " [1940, 9],\n",
       " [1941, 7],\n",
       " [1942, 3],\n",
       " [1943, 7],\n",
       " [1944, 10],\n",
       " [1945, 9],\n",
       " [1946, 6],\n",
       " [1947, 9],\n",
       " [1948, 13],\n",
       " [1949, 9],\n",
       " [1950, 10],\n",
       " [1951, 33],\n",
       " [1952, 15],\n",
       " [1953, 17],\n",
       " [1954, 17],\n",
       " [1955, 14],\n",
       " [1956, 60],\n",
       " [1957, 98],\n",
       " [1958, 73],\n",
       " [1959, 87],\n",
       " [1960, 123],\n",
       " [1961, 119],\n",
       " [1962, 124],\n",
       " [1963, 88],\n",
       " [1964, 126],\n",
       " [1965, 104],\n",
       " [1966, 103],\n",
       " [1967, 279],\n",
       " [1968, 173],\n",
       " [1969, 124],\n",
       " [1970, 141],\n",
       " [1971, 131],\n",
       " [1972, 166],\n",
       " [1973, 168],\n",
       " [1974, 178],\n",
       " [1975, 134],\n",
       " [1976, 118],\n",
       " [1977, 136],\n",
       " [1978, 231],\n",
       " [1979, 140],\n",
       " [1980, 107],\n",
       " [1981, 112],\n",
       " [1982, 153],\n",
       " [1983, 270],\n",
       " [1984, 303],\n",
       " [1985, 334],\n",
       " [1986, 287],\n",
       " [1987, 280],\n",
       " [1988, 334],\n",
       " [1989, 421],\n",
       " [1990, 470],\n",
       " [1991, 364],\n",
       " [1992, 479],\n",
       " [1993, 564],\n",
       " [1994, 517],\n",
       " [1995, 592],\n",
       " [1996, 688],\n",
       " [1997, 788],\n",
       " [1998, 843],\n",
       " [1999, 1181],\n",
       " [2000, 902],\n",
       " [2001, 1173],\n",
       " [2002, 1117],\n",
       " [2003, 1399],\n",
       " [2004, 1381],\n",
       " [2005, 1937],\n",
       " [2006, 2416],\n",
       " [2007, 2892],\n",
       " [2008, 3358],\n",
       " [2009, 4451],\n",
       " [2010, 5107],\n",
       " [2011, 5511],\n",
       " [2012, 4339],\n",
       " [2013, 981],\n",
       " [2014, 1]]"
      ]
     },
     "execution_count": 83,
     "metadata": {},
     "output_type": "execute_result"
    }
   ],
   "source": [
    "ans_list"
   ]
  },
  {
   "cell_type": "markdown",
   "metadata": {},
   "source": [
    "#### Q6) Total number of movies in dataset ."
   ]
  },
  {
   "cell_type": "code",
   "execution_count": 84,
   "metadata": {},
   "outputs": [],
   "source": [
    "total_movies = df['movie_name'].count()"
   ]
  },
  {
   "cell_type": "code",
   "execution_count": 85,
   "metadata": {},
   "outputs": [
    {
     "data": {
      "text/plain": [
       "49590"
      ]
     },
     "execution_count": 85,
     "metadata": {},
     "output_type": "execute_result"
    }
   ],
   "source": [
    "total_movies"
   ]
  },
  {
   "cell_type": "code",
   "execution_count": null,
   "metadata": {},
   "outputs": [],
   "source": []
  },
  {
   "cell_type": "code",
   "execution_count": null,
   "metadata": {},
   "outputs": [],
   "source": []
  }
 ],
 "metadata": {
  "kernelspec": {
   "display_name": "Python 3 (ipykernel)",
   "language": "python",
   "name": "python3"
  },
  "language_info": {
   "codemirror_mode": {
    "name": "ipython",
    "version": 3
   },
   "file_extension": ".py",
   "mimetype": "text/x-python",
   "name": "python",
   "nbconvert_exporter": "python",
   "pygments_lexer": "ipython3",
   "version": "3.9.12"
  },
  "vscode": {
   "interpreter": {
    "hash": "916dbcbb3f70747c44a77c7bcd40155683ae19c65e1c03b4aa3499c5328201f1"
   }
  }
 },
 "nbformat": 4,
 "nbformat_minor": 4
}
