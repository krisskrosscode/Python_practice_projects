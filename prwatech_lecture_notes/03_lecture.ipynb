{
 "cells": [
  {
   "cell_type": "markdown",
   "id": "d1730e5f-d602-4263-8dee-0162a2f16f8f",
   "metadata": {},
   "source": [
    "# Formatting"
   ]
  },
  {
   "cell_type": "code",
   "execution_count": 63,
   "id": "dc6fa31b-832a-4e1d-890d-c616f59f27b6",
   "metadata": {},
   "outputs": [
    {
     "name": "stdout",
     "output_type": "stream",
     "text": [
      "Given numbers are a: 10 | b: 20\n",
      "Before swapping a: 10 | b: 20\n",
      "\"After swapping values.... a: 20 | b: 10\"\n"
     ]
    }
   ],
   "source": [
    "#int value, pass by reference\n",
    "\n",
    "a = 10\n",
    "b = 20\n",
    "print(\"Given numbers are a: {} | b: {}\".format(a,b))\n",
    "print(\"Before swapping a: {0} | b: {1}\".format(a,b)) #indexing \n",
    "print('\"After swapping values.... a: {1} | b: {0}\"'.format(a,b)) #indexing"
   ]
  },
  {
   "cell_type": "code",
   "execution_count": 15,
   "id": "bf2ef3f6-bc8c-4af7-8497-770a3d8971e6",
   "metadata": {},
   "outputs": [
    {
     "name": "stdout",
     "output_type": "stream",
     "text": [
      "harshal  parteke\n"
     ]
    }
   ],
   "source": [
    "#string value , f-formatting\n",
    "\n",
    "str1 = \"harshal\"\n",
    "str2 = \"parteke\"\n",
    "\n",
    "print(f\"{str1}  {str2}\")\n"
   ]
  },
  {
   "cell_type": "code",
   "execution_count": 18,
   "id": "c6b09650-43bb-4204-b388-fc2b0c8f173b",
   "metadata": {},
   "outputs": [
    {
     "name": "stdout",
     "output_type": "stream",
     "text": [
      "I love my country --> India\n",
      "I live in a country called India\n"
     ]
    }
   ],
   "source": [
    "my_love = \"country\"\n",
    "love_name = \"India\"\n",
    "\n",
    "print(f\"I love my {my_love} --> {love_name}\") #f-formatting\n",
    "print(\"I live in a {} called {}\".format(my_love, love_name))"
   ]
  },
  {
   "cell_type": "code",
   "execution_count": 23,
   "id": "3d9f9059-a395-4e10-bdd0-216cdf548542",
   "metadata": {},
   "outputs": [
    {
     "name": "stdout",
     "output_type": "stream",
     "text": [
      "sum of ([123], [21415, 13566]) and ([124], [351, 18659]) is ([123], [21415, 13566], [124], [351, 18659])\n"
     ]
    }
   ],
   "source": [
    "l1 = ([123],[21415,13566])\n",
    "l2 =( [124], [351,18659])\n",
    "print(f\"sum of {l1} and {l2} is {l1+l2}\")"
   ]
  },
  {
   "cell_type": "markdown",
   "id": "f0d38f3f-12df-477e-be3f-7c74f9ef2574",
   "metadata": {},
   "source": [
    "# Taking Inputs from user"
   ]
  },
  {
   "cell_type": "code",
   "execution_count": 32,
   "id": "279f4607-fa4d-4459-9782-ce0f8c1b80f0",
   "metadata": {},
   "outputs": [
    {
     "name": "stdin",
     "output_type": "stream",
     "text": [
      "Enter number:  674\n",
      "Enter string:  harshal\n",
      "Enter complex number:  8\n"
     ]
    },
    {
     "name": "stdout",
     "output_type": "stream",
     "text": [
      "num : 674\n",
      "string: harshal\n",
      "complex number: (8+0j)\n"
     ]
    }
   ],
   "source": [
    "#taking input from user\n",
    "\n",
    "num = int(input(\"Enter number: \"))\n",
    "str1 = input(\"Enter string: \")\n",
    "comp = complex(input(\"Enter complex number: \"))\n",
    "\n",
    "print(f\"num : {num}\\nstring: {str1}\\ncomplex number: {comp}\")"
   ]
  },
  {
   "cell_type": "code",
   "execution_count": 52,
   "id": "495c1c5b-5bb7-40bb-980a-94cf70bfedf6",
   "metadata": {},
   "outputs": [
    {
     "name": "stdin",
     "output_type": "stream",
     "text": [
      "Enter name:  harshal\n",
      "Enter pincode:  826004\n",
      "Enter salary:  68000\n"
     ]
    },
    {
     "name": "stdout",
     "output_type": "stream",
     "text": [
      "(0, 'harshal')\n",
      "(1, '826004')\n",
      "(2, '68000')\n",
      "<class 'tuple'>\n"
     ]
    }
   ],
   "source": [
    "#taking multiple inputs\n",
    "\n",
    "res = input(\"Enter name: \"),\\\n",
    "input(\"Enter pincode: \"),\\\n",
    "input(\"Enter salary: \")\n",
    "\n",
    "for i in enumerate(res):\n",
    "    print(i)\n",
    "    \n",
    "print(type(res))"
   ]
  },
  {
   "cell_type": "markdown",
   "id": "704adebb-52e8-43c2-aee0-e7d0556766bc",
   "metadata": {},
   "source": [
    "--- --- \n",
    "# Operators"
   ]
  },
  {
   "cell_type": "markdown",
   "id": "11b318f8-d776-4b90-bc18-e4989ad3244f",
   "metadata": {},
   "source": [
    "## Arithmetic Operators\n",
    "- Addition ( + )\n",
    "- sub ( - )\n",
    "- mult ( * )\n",
    "- div ( / )\n",
    "- floor division ( // )\n",
    "- mod ( % )\n",
    "- exponential ( ** )"
   ]
  },
  {
   "cell_type": "code",
   "execution_count": 65,
   "id": "199ab640-111c-4688-be1f-7dacceb9f84f",
   "metadata": {},
   "outputs": [
    {
     "name": "stdout",
     "output_type": "stream",
     "text": [
      "a+b= 6\n",
      "a-b=-2a*b=8\n",
      "0.5\n",
      "a//b=0\n",
      "a%b=2\n",
      "a**b=16\n"
     ]
    }
   ],
   "source": [
    "a  = 2\n",
    "b = 4\n",
    "\n",
    "print(f\"a+b= {a+b}\\na-b={a-b}a*b={a*b}\\n{a/b}\\na//b={a//b}\\na%b={a%b}\\na**b={a**b}\")"
   ]
  },
  {
   "cell_type": "code",
   "execution_count": 67,
   "id": "1af4cc69-9f23-477e-9844-96b378497429",
   "metadata": {},
   "outputs": [
    {
     "name": "stdin",
     "output_type": "stream",
     "text": [
      "How many kms have you walked today? :  2.89\n"
     ]
    },
    {
     "name": "stdout",
     "output_type": "stream",
     "text": [
      "Oh!! That means you have walked 2890.0 metres\n"
     ]
    }
   ],
   "source": [
    "walking_distance = float(input(\"How many kms have you walked today? : \"))\n",
    "print(f\"Oh!! That means you have walked {walking_distance*1000} metres\")"
   ]
  },
  {
   "cell_type": "code",
   "execution_count": null,
   "id": "43846a35-d320-4247-a0f3-4c2c9b1a795b",
   "metadata": {},
   "outputs": [],
   "source": []
  },
  {
   "cell_type": "markdown",
   "id": "98929e71-1798-4bfb-a54c-c2b8179e013e",
   "metadata": {},
   "source": [
    "## Comparison Operators\n",
    "- < less than\n",
    "- (>) greater than\n",
    "- <= less than equal to\n",
    "- (>=) greater than equal to\n",
    "- == equal to\n",
    "- != NOT equal to"
   ]
  },
  {
   "cell_type": "code",
   "execution_count": 1,
   "id": "70b2ed0c-c223-48ea-b3bc-c8168358fd3b",
   "metadata": {},
   "outputs": [
    {
     "name": "stdout",
     "output_type": "stream",
     "text": [
      "a>b: False\n",
      "a<b: True\n",
      "a==b: False\n",
      "a!=b: True\n",
      "a>=b: False\n",
      "a<=b: True\n"
     ]
    }
   ],
   "source": [
    "a = 20\n",
    "b = 35\n",
    "print(f\"a>b: {a>b}\\na<b: {a<b}\\na==b: {a==b}\\na!=b: {a!=b}\\na>=b: {a>=b}\\na<=b: {a<=b}\")"
   ]
  },
  {
   "cell_type": "code",
   "execution_count": 2,
   "id": "b7e3b348-4d4f-4437-8402-147f180e8a89",
   "metadata": {},
   "outputs": [
    {
     "name": "stdout",
     "output_type": "stream",
     "text": [
      "a>b: False\n",
      "a<b: True\n",
      "a==b: False\n",
      "a!=b: True\n",
      "a>=b: False\n",
      "a<=b: True\n"
     ]
    }
   ],
   "source": [
    "a = \"a\"\n",
    "b = \"b\"\n",
    "print(f\"a>b: {a>b}\\na<b: {a<b}\\na==b: {a==b}\\na!=b: {a!=b}\\na>=b: {a>=b}\\na<=b: {a<=b}\")"
   ]
  },
  {
   "cell_type": "code",
   "execution_count": 7,
   "id": "7ff8076a-d925-43b9-8ee5-604f97bfe724",
   "metadata": {},
   "outputs": [
    {
     "name": "stdout",
     "output_type": "stream",
     "text": [
      "a>b: True\n",
      "a<b: False\n",
      "a==b: False\n",
      "a!=b: True\n",
      "a>=b: True\n",
      "a<=b: False\n"
     ]
    }
   ],
   "source": [
    "a = \"abple\"\n",
    "b = \"aall\"\n",
    "print(f\"a>b: {a>b}\\na<b: {a<b}\\na==b: {a==b}\\na!=b: {a!=b}\\na>=b: {a>=b}\\na<=b: {a<=b}\")"
   ]
  },
  {
   "cell_type": "code",
   "execution_count": 8,
   "id": "0e2a328b-d29f-461e-9a03-8d732d77cf12",
   "metadata": {},
   "outputs": [],
   "source": [
    "#strings comparison occurs on basis of first element; if equal, then the next element id compared and so on.."
   ]
  },
  {
   "cell_type": "markdown",
   "id": "4106e49b-78af-4ed9-9849-0261df834fce",
   "metadata": {},
   "source": [
    "---\n",
    "Logical Operators"
   ]
  },
  {
   "cell_type": "code",
   "execution_count": 53,
   "id": "a46c566f-0d12-4b84-904e-0a0f2647fb16",
   "metadata": {},
   "outputs": [
    {
     "name": "stdout",
     "output_type": "stream",
     "text": [
      "a= True, b= False\n",
      "a OR b = True\n",
      "a AND b =- False\n",
      "NOT a = False\n"
     ]
    }
   ],
   "source": [
    "a = True\n",
    "b = False\n",
    "\n",
    "print(f\"a= {a}, b= {b}\")\n",
    "print(f\"a OR b = {a or b}\")\n",
    "print(f\"a AND b =- {a and b}\")\n",
    "print(f\"NOT a = {not a}\")"
   ]
  },
  {
   "cell_type": "markdown",
   "id": "5dfe03d1-fd7c-402d-8068-a0d00fe09647",
   "metadata": {},
   "source": [
    "---\n",
    "## Identity Operator\n",
    "- is"
   ]
  },
  {
   "cell_type": "code",
   "execution_count": 45,
   "id": "744ff91f-f74f-47eb-a556-88379eeec2eb",
   "metadata": {},
   "outputs": [
    {
     "name": "stdout",
     "output_type": "stream",
     "text": [
      "140069400209808 140069400209808\n",
      "True\n",
      "False\n"
     ]
    }
   ],
   "source": [
    "a = 4\n",
    "b = 4\n",
    "print(id(a), id(b))\n",
    "print(a is b)\n",
    "print(a is not b)"
   ]
  },
  {
   "cell_type": "code",
   "execution_count": 51,
   "id": "95880471-a0cf-4e03-a767-05f326627df3",
   "metadata": {},
   "outputs": [
    {
     "name": "stdout",
     "output_type": "stream",
     "text": [
      "140068897457472\n",
      "140068897934272\n",
      "False\n"
     ]
    }
   ],
   "source": [
    "l1 = [1,2,3]\n",
    "l2 = [1,2,3]\n",
    "\n",
    "print(id(l1))\n",
    "print(id(l2))\n",
    "print(l1 is l2) # returns false since list is dynamic"
   ]
  },
  {
   "cell_type": "code",
   "execution_count": 54,
   "id": "ee3c2097-d6b2-46bf-aee6-e7bf9a00ece1",
   "metadata": {},
   "outputs": [
    {
     "name": "stdout",
     "output_type": "stream",
     "text": [
      "140068897783744\n",
      "140068898024512\n",
      "False\n"
     ]
    }
   ],
   "source": [
    "t1 = (2,4,56)\n",
    "t2 = (2,4,56)\n",
    "\n",
    "print(id(t1))\n",
    "print(id(t2))\n",
    "print(t1 is t2)"
   ]
  },
  {
   "cell_type": "code",
   "execution_count": 55,
   "id": "1b181d2f-841d-4b90-8cb7-51f7d8b29823",
   "metadata": {},
   "outputs": [
    {
     "name": "stdout",
     "output_type": "stream",
     "text": [
      "140068897423616\n",
      "140068897425728\n",
      "False\n"
     ]
    }
   ],
   "source": [
    "d1 = {0:'nobita', 1:'shizuka', 2:'doraemon', 3:'suniyo', 4:'gian'}\n",
    "d2 = {0:'nobita', 1:'shizuka', 2:'doraemon', 3:'suniyo', 4:'gian'}\n",
    "\n",
    "print(id(d1))\n",
    "print(id(d2))\n",
    "print(d1 is d2)"
   ]
  },
  {
   "cell_type": "markdown",
   "id": "6b3b0f3d-e3ec-4bcf-a50f-ea34b05c9b76",
   "metadata": {},
   "source": [
    "---\n",
    "## Membership Operator\n",
    "- in"
   ]
  },
  {
   "cell_type": "code",
   "execution_count": 48,
   "id": "5ec4b06d-ecb9-422e-ad98-7220eefe796c",
   "metadata": {},
   "outputs": [
    {
     "name": "stdout",
     "output_type": "stream",
     "text": [
      "True\n"
     ]
    }
   ],
   "source": [
    "l1 = [12,4,25,76]\n",
    "print( 4 in l1)"
   ]
  },
  {
   "cell_type": "code",
   "execution_count": 62,
   "id": "a0571099-3a3c-4e53-94ad-d96d9ecf610a",
   "metadata": {},
   "outputs": [
    {
     "name": "stdout",
     "output_type": "stream",
     "text": [
      "True\n",
      "False\n",
      "True\n",
      "<class 'dict_keys'> <class 'dict_values'>\n"
     ]
    }
   ],
   "source": [
    "d1= {0:'a', 1:'b'}\n",
    "print(0 in d1)\n",
    "print('a' in d1) #only checks for 'keys' in a dictionary\n",
    "\n",
    "print('a' in d1.values()) #can check in values of d1 using d1.values()\n",
    "print(type(d1.keys()), type(d1.values()))"
   ]
  },
  {
   "cell_type": "code",
   "execution_count": 57,
   "id": "306b2383-268f-4f6a-a6bc-943c69aa8ca7",
   "metadata": {},
   "outputs": [
    {
     "name": "stdout",
     "output_type": "stream",
     "text": [
      "True\n"
     ]
    }
   ],
   "source": [
    "seasons = ('summer', 'monsoon', 'winter', 'autumn', 'spring')\n",
    "print('summer' in seasons)"
   ]
  },
  {
   "cell_type": "code",
   "execution_count": null,
   "id": "13f7f268-8cf8-49c5-a3a5-6005d3dc864f",
   "metadata": {},
   "outputs": [],
   "source": []
  },
  {
   "cell_type": "raw",
   "id": "80b7555e-fe36-45bc-b0e2-0832ffc15ca1",
   "metadata": {},
   "source": []
  }
 ],
 "metadata": {
  "kernelspec": {
   "display_name": "Python 3 (ipykernel)",
   "language": "python",
   "name": "python3"
  },
  "language_info": {
   "codemirror_mode": {
    "name": "ipython",
    "version": 3
   },
   "file_extension": ".py",
   "mimetype": "text/x-python",
   "name": "python",
   "nbconvert_exporter": "python",
   "pygments_lexer": "ipython3",
   "version": "3.9.12"
  }
 },
 "nbformat": 4,
 "nbformat_minor": 5
}
