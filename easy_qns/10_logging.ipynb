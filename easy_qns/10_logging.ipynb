{
 "cells": [
  {
   "cell_type": "markdown",
   "id": "29f8099c-95d6-4c50-9322-500b22ee8786",
   "metadata": {},
   "source": [
    "**Q1) Create logger in your code**"
   ]
  },
  {
   "cell_type": "markdown",
   "id": "649f9a95-aa56-4cf0-880c-cf6dde47070a",
   "metadata": {},
   "source": [
    "**Q2) Create one function which can take any number of input as an argument and return their sum**"
   ]
  },
  {
   "cell_type": "markdown",
   "id": "7dff5573-490d-42dc-abc6-8fafa148f3de",
   "metadata": {},
   "source": [
    "**Q3) Capture user input in log**"
   ]
  },
  {
   "cell_type": "markdown",
   "id": "10161557-2927-455b-ac5a-e4d612eba69c",
   "metadata": {},
   "source": [
    "**Q4) Give user instruction in log file**"
   ]
  },
  {
   "cell_type": "markdown",
   "id": "df44ef0b-614d-4447-970b-d25909cb3877",
   "metadata": {},
   "source": [
    "**Q5) Read a log file from python code and show all the login console**"
   ]
  },
  {
   "cell_type": "code",
   "execution_count": 4,
   "id": "d01924e6-dba8-43c3-9e2c-f36d7adac23b",
   "metadata": {
    "tags": []
   },
   "outputs": [],
   "source": [
    "import logging\n",
    "import os"
   ]
  },
  {
   "cell_type": "code",
   "execution_count": 3,
   "id": "f6d97c63-7f3f-4792-8247-5f1d78b905bb",
   "metadata": {
    "tags": []
   },
   "outputs": [
    {
     "data": {
      "text/plain": [
       "'/home/harshal/Downloads/iNeuron/Python/easy_qns'"
      ]
     },
     "execution_count": 3,
     "metadata": {},
     "output_type": "execute_result"
    }
   ],
   "source": [
    "pwd()"
   ]
  },
  {
   "cell_type": "code",
   "execution_count": 5,
   "id": "429b83b0-1f23-4ed5-8de9-43bf991606de",
   "metadata": {},
   "outputs": [],
   "source": [
    "if \"log_files\" not in os.listdir():\n",
    "    os.mkdir(\"log_files\")"
   ]
  },
  {
   "cell_type": "code",
   "execution_count": 6,
   "id": "06669934-6b2d-47e2-949f-4237cb3ff5fe",
   "metadata": {},
   "outputs": [],
   "source": [
    "os.chdir(\"log_files\")"
   ]
  },
  {
   "cell_type": "code",
   "execution_count": 7,
   "id": "32edc366-8853-4e4e-a226-3f6f29509629",
   "metadata": {},
   "outputs": [
    {
     "data": {
      "text/plain": [
       "'/home/harshal/Downloads/iNeuron/Python/easy_qns/log_files'"
      ]
     },
     "execution_count": 7,
     "metadata": {},
     "output_type": "execute_result"
    }
   ],
   "source": [
    "pwd()"
   ]
  },
  {
   "cell_type": "code",
   "execution_count": 27,
   "id": "f45b16f2-f848-4f91-b174-4d6afcccdeed",
   "metadata": {
    "tags": []
   },
   "outputs": [],
   "source": [
    "logging.basicConfig(filename= \"log1.log\", level= logging.INFO)"
   ]
  },
  {
   "cell_type": "code",
   "execution_count": null,
   "id": "356ddbcb-cd07-4036-a1f5-1872a0ee61ee",
   "metadata": {},
   "outputs": [],
   "source": []
  },
  {
   "cell_type": "code",
   "execution_count": 5,
   "id": "9e7fdaf1-e18a-4623-b8f3-041064f65081",
   "metadata": {},
   "outputs": [],
   "source": [
    "import logging \n",
    "logging.basicConfig(filename= \"log1.log\", level= logging.INFO)\n",
    "\n",
    "def sum_all(*args):\n",
    "    # logging.INFO(\"Going to sum\")\n",
    "    ans = 0\n",
    "    for i in args:\n",
    "        logging.INFO(str(i))\n",
    "        ans = ans + i\n",
    "    #logging.INFO(ans)\n",
    "    return ans\n",
    "\n",
    "\n",
    "##above program is not displaying logging info. Check afetrwards , implement the same in pycharm/vscode"
   ]
  },
  {
   "cell_type": "code",
   "execution_count": 2,
   "id": "197b38a2-1a58-430b-b096-ffeeb334c37a",
   "metadata": {},
   "outputs": [
    {
     "ename": "TypeError",
     "evalue": "'int' object is not callable",
     "output_type": "error",
     "traceback": [
      "\u001b[0;31m---------------------------------------------------------------------------\u001b[0m",
      "\u001b[0;31mTypeError\u001b[0m                                 Traceback (most recent call last)",
      "Input \u001b[0;32mIn [2]\u001b[0m, in \u001b[0;36m<cell line: 1>\u001b[0;34m()\u001b[0m\n\u001b[0;32m----> 1\u001b[0m \u001b[43msum_all\u001b[49m\u001b[43m(\u001b[49m\u001b[38;5;241;43m1\u001b[39;49m\u001b[43m,\u001b[49m\u001b[38;5;241;43m2\u001b[39;49m\u001b[43m,\u001b[49m\u001b[38;5;241;43m4\u001b[39;49m\u001b[43m)\u001b[49m\n",
      "Input \u001b[0;32mIn [1]\u001b[0m, in \u001b[0;36msum_all\u001b[0;34m(*args)\u001b[0m\n\u001b[1;32m      6\u001b[0m ans \u001b[38;5;241m=\u001b[39m \u001b[38;5;241m0\u001b[39m\n\u001b[1;32m      7\u001b[0m \u001b[38;5;28;01mfor\u001b[39;00m i \u001b[38;5;129;01min\u001b[39;00m args:\n\u001b[0;32m----> 8\u001b[0m     \u001b[43mlogging\u001b[49m\u001b[38;5;241;43m.\u001b[39;49m\u001b[43mINFO\u001b[49m\u001b[43m(\u001b[49m\u001b[38;5;28;43mstr\u001b[39;49m\u001b[43m(\u001b[49m\u001b[43mi\u001b[49m\u001b[43m)\u001b[49m\u001b[43m)\u001b[49m\n\u001b[1;32m      9\u001b[0m     ans \u001b[38;5;241m=\u001b[39m ans \u001b[38;5;241m+\u001b[39m i\n\u001b[1;32m     10\u001b[0m \u001b[38;5;66;03m#logging.INFO(ans)\u001b[39;00m\n",
      "\u001b[0;31mTypeError\u001b[0m: 'int' object is not callable"
     ]
    }
   ],
   "source": [
    "sum_all(1,2,4)"
   ]
  },
  {
   "cell_type": "code",
   "execution_count": null,
   "id": "9875540d-94b9-4413-8c65-d49180b0a02f",
   "metadata": {},
   "outputs": [],
   "source": []
  }
 ],
 "metadata": {
  "kernelspec": {
   "display_name": "Python 3 (ipykernel)",
   "language": "python",
   "name": "python3"
  },
  "language_info": {
   "codemirror_mode": {
    "name": "ipython",
    "version": 3
   },
   "file_extension": ".py",
   "mimetype": "text/x-python",
   "name": "python",
   "nbconvert_exporter": "python",
   "pygments_lexer": "ipython3",
   "version": "3.9.7"
  }
 },
 "nbformat": 4,
 "nbformat_minor": 5
}
