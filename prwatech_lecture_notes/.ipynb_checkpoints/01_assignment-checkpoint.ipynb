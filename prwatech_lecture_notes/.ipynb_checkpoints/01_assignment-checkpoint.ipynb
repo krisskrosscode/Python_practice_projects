{
 "cells": [
  {
   "cell_type": "markdown",
   "id": "cfce188b-a0db-4e24-988b-0a640dd1996c",
   "metadata": {},
   "source": [
    "Link to this notebook -> [link here](http://localhost:8888/files/Data%20Science%20jup/prwatech_lecture_notes/01_assignment.ipynb?_xsrf=2%7C8122a462%7C29f7d56a12a26ccb7b5724d904ab724c%7C1657647024)"
   ]
  },
  {
   "cell_type": "markdown",
   "id": "8869fdfe-986f-4d98-b830-502702bb59f2",
   "metadata": {},
   "source": [
    "# Declaring variables and Arithmetic Operations"
   ]
  },
  {
   "cell_type": "code",
   "execution_count": 5,
   "id": "4dc0a6d2-a290-4ed0-997c-d80866ab6d48",
   "metadata": {},
   "outputs": [],
   "source": [
    "a = 10\n",
    "b = 20"
   ]
  },
  {
   "cell_type": "code",
   "execution_count": 6,
   "id": "a6654d24-6385-4e7c-b7d4-9a2e0bf1fc3c",
   "metadata": {},
   "outputs": [
    {
     "name": "stdout",
     "output_type": "stream",
     "text": [
      "30\n"
     ]
    }
   ],
   "source": [
    "c = a + b\n",
    "print(c)"
   ]
  },
  {
   "cell_type": "code",
   "execution_count": 7,
   "id": "9105626f-cf8e-41cc-9bde-877a7f600112",
   "metadata": {},
   "outputs": [
    {
     "name": "stdout",
     "output_type": "stream",
     "text": [
      "-10\n"
     ]
    }
   ],
   "source": [
    "c = a-b\n",
    "print(c)"
   ]
  },
  {
   "cell_type": "code",
   "execution_count": 8,
   "id": "6ec05e9b-d71c-4bcf-aa5c-fe68be9f6ce2",
   "metadata": {},
   "outputs": [
    {
     "name": "stdout",
     "output_type": "stream",
     "text": [
      "200\n"
     ]
    }
   ],
   "source": [
    "c = a*b\n",
    "print(c)"
   ]
  },
  {
   "cell_type": "code",
   "execution_count": 9,
   "id": "32f91428-7311-477e-bc42-52f86462518d",
   "metadata": {},
   "outputs": [
    {
     "name": "stdout",
     "output_type": "stream",
     "text": [
      "0.5\n"
     ]
    }
   ],
   "source": [
    "c = a/b\n",
    "print(c)"
   ]
  },
  {
   "cell_type": "code",
   "execution_count": 10,
   "id": "83f82dfe-6bf3-4bf2-aaa9-5833b0b5318c",
   "metadata": {},
   "outputs": [
    {
     "name": "stdout",
     "output_type": "stream",
     "text": [
      "10\n"
     ]
    }
   ],
   "source": [
    "c = a%b\n",
    "print(c)"
   ]
  },
  {
   "cell_type": "markdown",
   "id": "7f0081c7-0b8e-41ce-8fc5-68baa5c9537a",
   "metadata": {},
   "source": [
    "-------------------------------------------------------------------------"
   ]
  },
  {
   "cell_type": "code",
   "execution_count": 38,
   "id": "bb802d7b-6e15-4331-a4eb-9c05118b81ee",
   "metadata": {},
   "outputs": [],
   "source": [
    "# using decimals\n",
    "\n",
    "x = 5\n",
    "y = 2.5"
   ]
  },
  {
   "cell_type": "code",
   "execution_count": 39,
   "id": "a3d2f804-26c9-4702-8ef9-d4113164fb2b",
   "metadata": {},
   "outputs": [
    {
     "name": "stdout",
     "output_type": "stream",
     "text": [
      "7.5 <class 'float'>\n"
     ]
    }
   ],
   "source": [
    "c = x + y\n",
    "print(c, type(c))"
   ]
  },
  {
   "cell_type": "code",
   "execution_count": 40,
   "id": "4a81da2c-212d-4f2c-b5a1-6ce7d92927e0",
   "metadata": {},
   "outputs": [
    {
     "name": "stdout",
     "output_type": "stream",
     "text": [
      "12.5 <class 'float'>\n"
     ]
    }
   ],
   "source": [
    "c = x*y\n",
    "print(c, type(c))"
   ]
  },
  {
   "cell_type": "code",
   "execution_count": 41,
   "id": "ed6663d4-d16b-44ac-95c5-ca5c163d1d09",
   "metadata": {},
   "outputs": [
    {
     "name": "stdout",
     "output_type": "stream",
     "text": [
      "2.0 <class 'float'>\n"
     ]
    }
   ],
   "source": [
    "c = x/y\n",
    "print(c, type(c))"
   ]
  },
  {
   "cell_type": "markdown",
   "id": "d3acf267-169a-4920-87b9-8d6592ae6fa1",
   "metadata": {},
   "source": [
    "# Datatypes"
   ]
  },
  {
   "cell_type": "code",
   "execution_count": 13,
   "id": "58f77373-642f-46e2-918f-d12228472b17",
   "metadata": {
    "tags": []
   },
   "outputs": [],
   "source": [
    "# python automatically detects datatype"
   ]
  },
  {
   "cell_type": "code",
   "execution_count": 11,
   "id": "577c0778-998b-46f7-964a-9c48bf77e5ae",
   "metadata": {},
   "outputs": [
    {
     "name": "stdout",
     "output_type": "stream",
     "text": [
      "<class 'int'>\n"
     ]
    }
   ],
   "source": [
    "print(type(a))"
   ]
  },
  {
   "cell_type": "code",
   "execution_count": 12,
   "id": "3daeb30a-2620-424d-95fd-3bbf9ebeb6d1",
   "metadata": {},
   "outputs": [
    {
     "name": "stdout",
     "output_type": "stream",
     "text": [
      "<class 'float'>\n"
     ]
    }
   ],
   "source": [
    "c = a/b\n",
    "print(type(c))"
   ]
  },
  {
   "cell_type": "markdown",
   "id": "93b885fb-0e5e-424b-a3fc-fba3d2953440",
   "metadata": {},
   "source": [
    "# Memory address allocation"
   ]
  },
  {
   "cell_type": "code",
   "execution_count": 14,
   "id": "f054c39a-d223-4c50-8a50-c8c1c51ccb23",
   "metadata": {},
   "outputs": [
    {
     "name": "stdout",
     "output_type": "stream",
     "text": [
      "140053800430160\n"
     ]
    }
   ],
   "source": [
    "print(id(a))"
   ]
  },
  {
   "cell_type": "code",
   "execution_count": 15,
   "id": "05d68a6d-94e2-4bfb-97d3-44df6ff69c45",
   "metadata": {},
   "outputs": [
    {
     "name": "stdout",
     "output_type": "stream",
     "text": [
      "140053800430480\n"
     ]
    }
   ],
   "source": [
    "print(id(b))"
   ]
  },
  {
   "cell_type": "code",
   "execution_count": 16,
   "id": "6fc1df07-14ba-4c79-927e-a03f1c596c08",
   "metadata": {},
   "outputs": [
    {
     "name": "stdout",
     "output_type": "stream",
     "text": [
      "140053800430160\n"
     ]
    }
   ],
   "source": [
    "# declare another variable d\n",
    "d = a\n",
    "print(id(d))"
   ]
  },
  {
   "cell_type": "code",
   "execution_count": 18,
   "id": "c97347b0-842e-403b-a762-09c78db9152b",
   "metadata": {},
   "outputs": [
    {
     "name": "stdout",
     "output_type": "stream",
     "text": [
      "True\n"
     ]
    }
   ],
   "source": [
    "# address of a and d are equal\n",
    "print(id(a) == id(d))"
   ]
  },
  {
   "cell_type": "markdown",
   "id": "da8d56d9-e915-400c-944c-7ff677d75ffd",
   "metadata": {},
   "source": [
    "# NewLine  (\\\\)"
   ]
  },
  {
   "cell_type": "code",
   "execution_count": 22,
   "id": "79e8b6ab-e152-4ed7-9957-c192caa04087",
   "metadata": {},
   "outputs": [
    {
     "name": "stdout",
     "output_type": "stream",
     "text": [
      "a: 10 , b: 20 , c: 0.5 , d: 10\n"
     ]
    }
   ],
   "source": [
    "print(\"a:\",a, \", b:\",b, \", c:\",c, \", d:\",d)"
   ]
  },
  {
   "cell_type": "code",
   "execution_count": 20,
   "id": "38b7b706-3616-4610-aa03-2dee8ca1e774",
   "metadata": {},
   "outputs": [
    {
     "name": "stdout",
     "output_type": "stream",
     "text": [
      "40.5\n"
     ]
    }
   ],
   "source": [
    "## can write code on multiple lines\n",
    "print(a + \\\n",
    "     b\\\n",
    "     + c+\\\n",
    "     d)"
   ]
  },
  {
   "cell_type": "markdown",
   "id": "e6a01536-606d-4151-91fe-19b550245cbd",
   "metadata": {},
   "source": [
    "# Typecasting - Changing datatypes"
   ]
  },
  {
   "cell_type": "markdown",
   "id": "0a981f2d-d49c-4137-97c6-a3129163eb97",
   "metadata": {
    "tags": []
   },
   "source": [
    "## string to int"
   ]
  },
  {
   "cell_type": "code",
   "execution_count": 25,
   "id": "ca164370-42c0-4dcf-b799-ed35f0e28723",
   "metadata": {},
   "outputs": [
    {
     "name": "stdout",
     "output_type": "stream",
     "text": [
      "String variable:  645 <class 'str'>\n",
      "Int variable:  645 <class 'int'>\n"
     ]
    }
   ],
   "source": [
    "#case 1 : if string variable has all digits\n",
    "string_var = \"645\"\n",
    "\n",
    "int_var = int(string_var)\n",
    "print(\"String variable: \", string_var, type(string_var))\n",
    "print(\"Int variable: \", int_var , type(int_var))"
   ]
  },
  {
   "cell_type": "code",
   "execution_count": 26,
   "id": "01817f49-d3a1-41d4-abdd-7180cab9a3ef",
   "metadata": {},
   "outputs": [
    {
     "ename": "ValueError",
     "evalue": "invalid literal for int() with base 10: 'hello'",
     "output_type": "error",
     "traceback": [
      "\u001b[0;31m---------------------------------------------------------------------------\u001b[0m",
      "\u001b[0;31mValueError\u001b[0m                                Traceback (most recent call last)",
      "Input \u001b[0;32mIn [26]\u001b[0m, in \u001b[0;36m<cell line: 4>\u001b[0;34m()\u001b[0m\n\u001b[1;32m      1\u001b[0m \u001b[38;5;66;03m#case 2 : if string variable has all chars\u001b[39;00m\n\u001b[1;32m      2\u001b[0m string_var \u001b[38;5;241m=\u001b[39m \u001b[38;5;124m\"\u001b[39m\u001b[38;5;124mhello\u001b[39m\u001b[38;5;124m\"\u001b[39m\n\u001b[0;32m----> 4\u001b[0m int_var \u001b[38;5;241m=\u001b[39m \u001b[38;5;28;43mint\u001b[39;49m\u001b[43m(\u001b[49m\u001b[43mstring_var\u001b[49m\u001b[43m)\u001b[49m\n\u001b[1;32m      5\u001b[0m \u001b[38;5;28mprint\u001b[39m(int_var)\n",
      "\u001b[0;31mValueError\u001b[0m: invalid literal for int() with base 10: 'hello'"
     ]
    }
   ],
   "source": [
    "#case 2 : if string variable has all chars\n",
    "string_var = \"hello\"\n",
    "\n",
    "int_var = int(string_var) ##throws an error\n",
    "print(int_var)"
   ]
  },
  {
   "cell_type": "markdown",
   "id": "beeadd86-bc83-4107-b664-cc8140e0dce7",
   "metadata": {},
   "source": [
    "## int to string"
   ]
  },
  {
   "cell_type": "code",
   "execution_count": 27,
   "id": "cba02a29-6ef5-4968-a994-2be1dec9649c",
   "metadata": {},
   "outputs": [
    {
     "name": "stdout",
     "output_type": "stream",
     "text": [
      "String variable:  2342 <class 'str'>\n",
      "Int variable:  2342 <class 'int'>\n"
     ]
    }
   ],
   "source": [
    "int_var = 2342\n",
    "\n",
    "string_var = str(int_var)\n",
    "print(\"String variable: \", string_var, type(string_var))\n",
    "print(\"Int variable: \", int_var , type(int_var))"
   ]
  },
  {
   "cell_type": "markdown",
   "id": "f98b957a-35b7-43d9-9011-7dd42e36c813",
   "metadata": {},
   "source": [
    "## int to float"
   ]
  },
  {
   "cell_type": "code",
   "execution_count": 29,
   "id": "b157d53b-9bd5-493d-98ba-ce9b904ca57a",
   "metadata": {},
   "outputs": [
    {
     "name": "stdout",
     "output_type": "stream",
     "text": [
      "2342 <class 'int'>\n",
      "2342.0 <class 'float'>\n"
     ]
    }
   ],
   "source": [
    "print(int_var, type(int_var))\n",
    "\n",
    "float_var = float(int_var)\n",
    "\n",
    "print(float_var, type(float_var))"
   ]
  },
  {
   "cell_type": "markdown",
   "id": "efe0d70d-f151-4d62-96cb-5dda01ebe53f",
   "metadata": {},
   "source": [
    "# Complex numbers"
   ]
  },
  {
   "cell_type": "code",
   "execution_count": 42,
   "id": "492743ff-97e6-4a71-a6a5-18cdfd97b7fd",
   "metadata": {},
   "outputs": [],
   "source": [
    "p = 6 + 9j\n",
    "q = 3 + 2.5j"
   ]
  },
  {
   "cell_type": "code",
   "execution_count": 44,
   "id": "1d3a4238-0774-425d-bb97-3c9b38b22f70",
   "metadata": {},
   "outputs": [
    {
     "name": "stdout",
     "output_type": "stream",
     "text": [
      "<class 'complex'>\n",
      "<class 'complex'>\n"
     ]
    }
   ],
   "source": [
    "print(type(p))\n",
    "print(type(q))"
   ]
  },
  {
   "cell_type": "code",
   "execution_count": 47,
   "id": "d62ab3da-d14e-4ac2-9fe4-877600cccf8e",
   "metadata": {},
   "outputs": [
    {
     "name": "stdout",
     "output_type": "stream",
     "text": [
      "(9+11.5j) <class 'complex'>\n"
     ]
    }
   ],
   "source": [
    "r = p + q\n",
    "print(r, type(r))"
   ]
  },
  {
   "cell_type": "code",
   "execution_count": 48,
   "id": "b780e790-2901-4429-8bb9-852aa5eadd39",
   "metadata": {},
   "outputs": [
    {
     "name": "stdout",
     "output_type": "stream",
     "text": [
      "(-4.5+42j) <class 'complex'>\n"
     ]
    }
   ],
   "source": [
    "r = p*q\n",
    "print(r, type(r))"
   ]
  },
  {
   "cell_type": "code",
   "execution_count": 49,
   "id": "0f4f1b1a-a4f1-4acc-8e98-a8eaf25939f6",
   "metadata": {},
   "outputs": [
    {
     "name": "stdout",
     "output_type": "stream",
     "text": [
      "(2.6557377049180326+0.7868852459016392j) <class 'complex'>\n"
     ]
    }
   ],
   "source": [
    "r = p/q\n",
    "print(r, type(r))"
   ]
  },
  {
   "cell_type": "markdown",
   "id": "705565cc-5652-46e9-ab51-df0601235ac2",
   "metadata": {},
   "source": [
    "# Strings"
   ]
  },
  {
   "cell_type": "code",
   "execution_count": 66,
   "id": "62dd2170-d2f4-4563-a25e-21507453a878",
   "metadata": {},
   "outputs": [],
   "source": [
    "s = \"Welcome to my notebook\" #index starts from 0"
   ]
  },
  {
   "cell_type": "code",
   "execution_count": 55,
   "id": "f03aaec4-be73-4177-ae97-2318bac316a1",
   "metadata": {},
   "outputs": [
    {
     "data": {
      "text/plain": [
       "'W'"
      ]
     },
     "execution_count": 55,
     "metadata": {},
     "output_type": "execute_result"
    }
   ],
   "source": [
    "s[0] # first element"
   ]
  },
  {
   "cell_type": "code",
   "execution_count": 56,
   "id": "8046d8e2-1ec2-4351-975e-268c5e769d0d",
   "metadata": {},
   "outputs": [
    {
     "data": {
      "text/plain": [
       "'c'"
      ]
     },
     "execution_count": 56,
     "metadata": {},
     "output_type": "execute_result"
    }
   ],
   "source": [
    "s[3]"
   ]
  },
  {
   "cell_type": "code",
   "execution_count": 57,
   "id": "45ee2753-31ca-4ee1-b04a-52dc56ff5570",
   "metadata": {},
   "outputs": [
    {
     "data": {
      "text/plain": [
       "'k'"
      ]
     },
     "execution_count": 57,
     "metadata": {},
     "output_type": "execute_result"
    }
   ],
   "source": [
    "s[-1] # last element"
   ]
  },
  {
   "cell_type": "code",
   "execution_count": 64,
   "id": "35015ef4-8440-47e3-9f64-cc95b02884ee",
   "metadata": {},
   "outputs": [
    {
     "name": "stdout",
     "output_type": "stream",
     "text": [
      "lcom\n"
     ]
    }
   ],
   "source": [
    "print(s[2:6]) #iterate from 2 to 5 (index 6 is excluded)"
   ]
  },
  {
   "cell_type": "code",
   "execution_count": 65,
   "id": "19c4e082-f843-4057-b3bd-112fdc745382",
   "metadata": {},
   "outputs": [
    {
     "name": "stdout",
     "output_type": "stream",
     "text": [
      "e\n",
      "her\n"
     ]
    }
   ],
   "source": [
    "string = \"There\"\n",
    "print(string[4])\n",
    "print(string[1:4])"
   ]
  },
  {
   "cell_type": "code",
   "execution_count": null,
   "id": "35b2b74c-fee4-4752-ad46-228f76d64098",
   "metadata": {},
   "outputs": [],
   "source": []
  }
 ],
 "metadata": {
  "kernelspec": {
   "display_name": "Python 3 (ipykernel)",
   "language": "python",
   "name": "python3"
  },
  "language_info": {
   "codemirror_mode": {
    "name": "ipython",
    "version": 3
   },
   "file_extension": ".py",
   "mimetype": "text/x-python",
   "name": "python",
   "nbconvert_exporter": "python",
   "pygments_lexer": "ipython3",
   "version": "3.9.7"
  }
 },
 "nbformat": 4,
 "nbformat_minor": 5
}
