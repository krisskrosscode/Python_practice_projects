{
 "cells": [
  {
   "cell_type": "markdown",
   "id": "0d6c33f9-dfb1-4cd4-965d-478bbf6d8f87",
   "metadata": {},
   "source": [
    "# String"
   ]
  },
  {
   "cell_type": "code",
   "execution_count": 32,
   "id": "1e7cf58c-9325-4b08-9d4c-f08c7aace9d1",
   "metadata": {},
   "outputs": [],
   "source": [
    "string = 'hello'"
   ]
  },
  {
   "cell_type": "code",
   "execution_count": 33,
   "id": "6a112af3-b975-49e5-ba8c-5e97681c0ebb",
   "metadata": {},
   "outputs": [
    {
     "name": "stdout",
     "output_type": "stream",
     "text": [
      "lo\n"
     ]
    }
   ],
   "source": [
    "print(string[3:])"
   ]
  },
  {
   "cell_type": "code",
   "execution_count": 34,
   "id": "1e4bea46-c1ed-489a-a7d0-d31146ff2e22",
   "metadata": {},
   "outputs": [],
   "source": [
    "big_string = \"\"\"Thomas Stanley Holland (born 1 June 1996) is an English actor. His accolades include a British Academy Film Award, three Saturn Awards, a Guinness World Record and an appearance on the Forbes 30 Under 30 Europe list. Some publications have called him one of the most popular actors of his generation.[a]\n",
    "\n",
    "Holland's career began at age nine when he enrolled in a dancing class, where a choreographer noticed him and arranged for him to audition for a role in Billy Elliot the Musical at London's Victoria Palace Theatre. After two years of training, he secured a supporting part in 2008 and was upgraded to the title role that year, which he played until 2010. Holland made his film debut in the disaster drama The Impossible (2012) as a teenage tourist trapped in a tsunami, for which he received a London Film Critics Circle Award for Young British Performer of the Year. After this, Holland decided to pursue acting as a full-time career, appearing in How I Live Now (2013) and playing historical figures in the film In the Heart of the Sea (2015) and the miniseries Wolf Hall (2015).\n",
    "\n",
    "Holland achieved international recognition playing Spider-Man in six Marvel Cinematic Universe (MCU) superhero films, beginning with Captain America: Civil War (2016). The following year, Holland received the BAFTA Rising Star Award and later became the youngest actor to play a title role in an MCU film in Spider-Man: Homecoming. The sequels Far From Home (2019) and No Way Home (2021) each grossed more than $1 billion worldwide, and the latter became the highest-grossing film of the year. During this period, Holland gained recognition for playing darker roles in the crime dramas The Devil All the Time (2020) and Cherry (2021). Holland has additionally directed the short film Tweet (2015) and voiced roles in computer-animated features, including Onward (2020).\"\"\""
   ]
  },
  {
   "cell_type": "code",
   "execution_count": 35,
   "id": "baa57f4a-83c6-442c-a765-87e7ce0e0b17",
   "metadata": {},
   "outputs": [
    {
     "name": "stdout",
     "output_type": "stream",
     "text": [
      "e 1996) is an English actor. His accolades include a British Aca\n"
     ]
    }
   ],
   "source": [
    "print(big_string[34:98])"
   ]
  },
  {
   "cell_type": "code",
   "execution_count": 36,
   "id": "7ff7eac8-5c8d-4701-9603-130a7d157d8e",
   "metadata": {},
   "outputs": [
    {
     "name": "stdout",
     "output_type": "stream",
     "text": [
      "t ni selor rekrad gniyalp rof noitingocer deniag dnalloH ,doirep siht gniruD .raey eht fo mlif gnissorg-tsehgih eht emaceb rettal eht dna ,ediwdlrow noillib 1$ naht erom dessorg hcae )1202( emoH yaW oN dna )9102( emoH morF raF sleuqes ehT .gnimocemoH :naM-redipS ni mlif UCM na ni elor eltit a yalp ot rotca tsegnuoy eht emaceb retal dna drawA ratS gnisiR ATFAB eht deviecer dnalloH ,raey gniwollof ehT .)6102( raW liviC :aciremA niatpaC htiw gninnigeb ,smlif orehrepus )UCM( esrevinU citameniC levraM xis ni naM-redipS gniyalp noitingocer lanoitanretni deveihca dnalloH\n",
      "\n",
      ".)5102( llaH floW seiresinim eht dna )5102( aeS eht fo traeH eht nI mlif eht ni serugif lacirotsih gniyalp dna )3102( woN eviL I woH ni gniraeppa ,reerac emit-lluf a sa gnitca eusrup ot dediced dnalloH ,siht retfA .raeY eht fo remrofreP hsitirB gnuoY rof drawA elcriC scitirC mliF nodnoL a deviecer eh hcihw rof ,imanust a ni deppart tsiruot eganeet a sa )2102( elbissopmI ehT amard retsasid eht ni tubed mlif sih edam dnalloH .0102 litnu deyalp eh hcihw ,raey taht elor eltit eht ot dedargpu saw dna 8002 ni trap gnitroppus a deruces eh ,gniniart fo sraey owt retfA .ertaehT ecalaP airotciV s'nodnoL ta lacisuM eht toillE ylliB ni elor a rof noitidua ot mih rof degnarra dna mih deciton rehpargoerohc a erehw ,ssalc gnicnad a ni dellorne eh nehw enin ega ta nageb reerac s'dnalloH\n",
      "\n",
      "]a[.noitareneg sih fo srotca ralupop tsom eht fo eno mih dellac evah snoitacilbup emoS .tsil eporuE 03 rednU 03 sebroF eht no ecnaraeppa na dna droceR dlroW ssenniuG a ,sdrawA nrutaS eerht ,drawA mliF ymedacA hsitirB a edulcni sedalocca siH .rotca hsilgnE na si )6991 enuJ 1 nrob( dnalloH yelnatS samoh\n"
     ]
    }
   ],
   "source": [
    "print(big_string[len(big_string)-200:-len(big_string):-1])"
   ]
  },
  {
   "cell_type": "code",
   "execution_count": 37,
   "id": "d5bb5659-94c8-4226-9a84-2cab77415463",
   "metadata": {},
   "outputs": [
    {
     "name": "stdout",
     "output_type": "stream",
     "text": [
      "ERROR :  'str' object does not support item assignment\n"
     ]
    }
   ],
   "source": [
    "try:\n",
    "    string[0] = 'k'\n",
    "    \n",
    "except Exception as e:\n",
    "    print(\"ERROR : \", e)"
   ]
  },
  {
   "cell_type": "code",
   "execution_count": 38,
   "id": "5e026d39-6502-4cbd-a4af-8bf14aa008a0",
   "metadata": {},
   "outputs": [
    {
     "name": "stdout",
     "output_type": "stream",
     "text": [
      "ERROR :  name 'string' is not defined\n"
     ]
    }
   ],
   "source": [
    "# cannot delete value but can delete entire string\n",
    "del string\n",
    "\n",
    "try:\n",
    "    print(string)\n",
    "except Exception as e:\n",
    "    print(\"ERROR : \", e)"
   ]
  },
  {
   "cell_type": "markdown",
   "id": "9023d0ef-d539-44c3-8e32-cbfae9a5ca1e",
   "metadata": {},
   "source": [
    "## String Operations"
   ]
  },
  {
   "cell_type": "markdown",
   "id": "5f9a4227-695b-49c4-9472-def983b69815",
   "metadata": {},
   "source": [
    "### Concatenation"
   ]
  },
  {
   "cell_type": "code",
   "execution_count": 39,
   "id": "f147a46c-487b-4cd4-9177-cc762c6aa005",
   "metadata": {},
   "outputs": [
    {
     "name": "stdout",
     "output_type": "stream",
     "text": [
      "harshal pramod parteke\n"
     ]
    }
   ],
   "source": [
    "first_name = 'harshal'\n",
    "mid_name = 'pramod'\n",
    "last_name = 'parteke'\n",
    "\n",
    "full_name = first_name + \" \" + mid_name+ \" \"+ last_name\n",
    "print(full_name)"
   ]
  },
  {
   "cell_type": "code",
   "execution_count": 40,
   "id": "86b2ff70-76e3-4d04-97a8-2c187c343685",
   "metadata": {},
   "outputs": [
    {
     "name": "stdout",
     "output_type": "stream",
     "text": [
      "first name printed twice :  harshalharshal\n"
     ]
    }
   ],
   "source": [
    "print(\"first name printed twice : \", first_name*2)"
   ]
  },
  {
   "cell_type": "code",
   "execution_count": 41,
   "id": "bddb7fd5-43b2-46df-b037-d9d3acc57564",
   "metadata": {},
   "outputs": [
    {
     "name": "stdout",
     "output_type": "stream",
     "text": [
      "0\n"
     ]
    }
   ],
   "source": [
    "print(len(first_name)- len(last_name))"
   ]
  },
  {
   "cell_type": "markdown",
   "id": "04e590ab-28e7-4c73-84d8-655ec0e05e61",
   "metadata": {},
   "source": [
    "### iteration thruogh string"
   ]
  },
  {
   "cell_type": "code",
   "execution_count": 42,
   "id": "a5505c9d-c0d8-4463-8ecd-69be80022eab",
   "metadata": {},
   "outputs": [
    {
     "name": "stdout",
     "output_type": "stream",
     "text": [
      "h\n",
      "a\n",
      "r\n",
      "s\n",
      "h\n",
      "a\n",
      "l\n"
     ]
    }
   ],
   "source": [
    "for i in first_name:\n",
    "    print(i)"
   ]
  },
  {
   "cell_type": "code",
   "execution_count": 43,
   "id": "7cfd5a10-7c07-4382-976e-b6cdaf7ad6e1",
   "metadata": {},
   "outputs": [
    {
     "name": "stdout",
     "output_type": "stream",
     "text": [
      "4 occurences of letter a in 'harshal pramod parteke'\n"
     ]
    }
   ],
   "source": [
    "## count number of occurences of a letter , say 'a' in full_name\n",
    "\n",
    "a_count = 0\n",
    "for i in full_name:\n",
    "    if i == 'a':\n",
    "        a_count+=1\n",
    "print(\"{} occurences of letter a in '{}'\".format(a_count, full_name))"
   ]
  },
  {
   "cell_type": "markdown",
   "id": "1351cc84-757e-4060-b038-d4066496d4f0",
   "metadata": {},
   "source": [
    "### String membership test"
   ]
  },
  {
   "cell_type": "code",
   "execution_count": 44,
   "id": "bb60296f-7e42-4ff4-93f8-171609f15fcc",
   "metadata": {},
   "outputs": [
    {
     "name": "stdout",
     "output_type": "stream",
     "text": [
      "True\n"
     ]
    }
   ],
   "source": [
    "print('ars' in first_name)"
   ]
  },
  {
   "cell_type": "code",
   "execution_count": 45,
   "id": "c60a71ce-f29f-48e6-b2f6-c9f7142547f6",
   "metadata": {},
   "outputs": [
    {
     "name": "stdout",
     "output_type": "stream",
     "text": [
      "True\n"
     ]
    }
   ],
   "source": [
    "print('ek' in last_name)"
   ]
  },
  {
   "cell_type": "code",
   "execution_count": 46,
   "id": "4b000286-9470-479b-89ae-0cc586d05200",
   "metadata": {},
   "outputs": [
    {
     "name": "stdout",
     "output_type": "stream",
     "text": [
      "False\n"
     ]
    }
   ],
   "source": [
    "print('l' in last_name) "
   ]
  },
  {
   "cell_type": "markdown",
   "id": "0f2cdd48-07e2-4911-ba15-d642c6675bee",
   "metadata": {},
   "source": [
    "### String methods"
   ]
  },
  {
   "cell_type": "code",
   "execution_count": 47,
   "id": "f814888a-bd11-46f4-9769-5c085e9794d5",
   "metadata": {},
   "outputs": [
    {
     "name": "stdout",
     "output_type": "stream",
     "text": [
      "HARSHAL\n"
     ]
    }
   ],
   "source": [
    "print(first_name.upper()) ## to uppercase"
   ]
  },
  {
   "cell_type": "code",
   "execution_count": 48,
   "id": "dad28503-7b5e-45e9-9542-124bfc2e5d4a",
   "metadata": {},
   "outputs": [
    {
     "name": "stdout",
     "output_type": "stream",
     "text": [
      "amarkantak\n"
     ]
    }
   ],
   "source": [
    "print('AMArKantak'.lower()) ## to lowercase"
   ]
  },
  {
   "cell_type": "code",
   "execution_count": 49,
   "id": "e805b5a8-9923-4e16-be37-e9e27d038b37",
   "metadata": {},
   "outputs": [
    {
     "name": "stdout",
     "output_type": "stream",
     "text": [
      "amaRkANTAK\n"
     ]
    }
   ],
   "source": [
    "print('AMArKantak'.swapcase()) ##swap cases"
   ]
  },
  {
   "cell_type": "code",
   "execution_count": 50,
   "id": "4962b4ad-468d-49b6-9b6e-38cf0a62674e",
   "metadata": {},
   "outputs": [
    {
     "data": {
      "text/plain": [
       "['summer', 'monsoon', 'winter', 'spring', 'autumn']"
      ]
     },
     "execution_count": 50,
     "metadata": {},
     "output_type": "execute_result"
    }
   ],
   "source": [
    "## split\n",
    "txt = 'summer,monsoon,winter,spring,autumn'\n",
    "\n",
    "txt_list = txt.split(',')\n",
    "txt_list"
   ]
  },
  {
   "cell_type": "code",
   "execution_count": 51,
   "id": "32ceaf38-4890-46dd-8469-6d40c322260a",
   "metadata": {},
   "outputs": [
    {
     "name": "stdout",
     "output_type": "stream",
     "text": [
      "summer---->monsoon---->winter---->spring---->autumn\n"
     ]
    }
   ],
   "source": [
    "seasons = '---->'.join(txt_list)\n",
    "print(seasons)"
   ]
  },
  {
   "cell_type": "code",
   "execution_count": 52,
   "id": "8b57f756-ac47-43d3-b4bc-9c3e80f49325",
   "metadata": {},
   "outputs": [
    {
     "data": {
      "text/plain": [
       "11"
      ]
     },
     "execution_count": 52,
     "metadata": {},
     "output_type": "execute_result"
    }
   ],
   "source": [
    "## find -> returns index value\n",
    "seasons.find('mon')\n"
   ]
  },
  {
   "cell_type": "code",
   "execution_count": 53,
   "id": "3061f007-056f-4c89-988c-6107871ce600",
   "metadata": {},
   "outputs": [
    {
     "data": {
      "text/plain": [
       "'summer---->barsaat---->winter---->spring---->autumn'"
      ]
     },
     "execution_count": 53,
     "metadata": {},
     "output_type": "execute_result"
    }
   ],
   "source": [
    "## replace\n",
    "\n",
    "seasons.replace('monsoon','barsaat') ## does not change the original string but rpoduces a copy"
   ]
  },
  {
   "cell_type": "code",
   "execution_count": 54,
   "id": "4bf0e2ed-1d61-4e26-a871-7ae6462aa0b2",
   "metadata": {},
   "outputs": [],
   "source": [
    "a = seasons.replace('summer', 'dhoooooooooooooopppppp')"
   ]
  },
  {
   "cell_type": "code",
   "execution_count": 55,
   "id": "7bb26a7c-96c7-4ed3-8af8-afe177ec78a5",
   "metadata": {},
   "outputs": [
    {
     "data": {
      "text/plain": [
       "'dhoooooooooooooopppppp---->monsoon---->winter---->spring---->autumn'"
      ]
     },
     "execution_count": 55,
     "metadata": {},
     "output_type": "execute_result"
    }
   ],
   "source": [
    "a"
   ]
  },
  {
   "cell_type": "code",
   "execution_count": 56,
   "id": "6ed181e9-17a1-4c6c-ae0d-8a40f3d75d63",
   "metadata": {},
   "outputs": [
    {
     "name": "stdout",
     "output_type": "stream",
     "text": [
      "alphabetically sentence sort this\n"
     ]
    }
   ],
   "source": [
    "## sort this string alphabetically\n",
    "\n",
    "string2 = 'sort this sentence alphabetically'\n",
    "list_str = string2.split()\n",
    "print(\" \".join(sorted(list_str)))"
   ]
  },
  {
   "cell_type": "code",
   "execution_count": 57,
   "id": "d734b164-3469-4665-b7ce-511535d89402",
   "metadata": {},
   "outputs": [
    {
     "name": "stdout",
     "output_type": "stream",
     "text": [
      "abhishek aman phoenix raghav satyam zara\n"
     ]
    }
   ],
   "source": [
    "names = \"abhishek aman raghav satyam zara phoenix\"\n",
    "names_list = names.split()\n",
    "\n",
    "print(\" \".join(sorted(names_list)))"
   ]
  },
  {
   "cell_type": "code",
   "execution_count": null,
   "id": "fb25cd96-f251-4eba-b978-72f242a3dd03",
   "metadata": {},
   "outputs": [],
   "source": []
  },
  {
   "cell_type": "code",
   "execution_count": null,
   "id": "ef6c2306-c311-4b4a-9ada-e124809bcf9f",
   "metadata": {},
   "outputs": [],
   "source": []
  },
  {
   "cell_type": "code",
   "execution_count": null,
   "id": "915dadc4-adf7-4793-807f-30b6ebfcc1fb",
   "metadata": {},
   "outputs": [],
   "source": []
  },
  {
   "cell_type": "code",
   "execution_count": null,
   "id": "353080da-af45-43c3-85d9-33a0913ae387",
   "metadata": {},
   "outputs": [],
   "source": []
  },
  {
   "cell_type": "markdown",
   "id": "d22b83e5-4637-4832-97d5-261276e74bae",
   "metadata": {},
   "source": [
    "# FUNCTIONS"
   ]
  },
  {
   "cell_type": "code",
   "execution_count": 58,
   "id": "d81a4a3f-b959-40b1-b5eb-0f723fa6df21",
   "metadata": {},
   "outputs": [
    {
     "name": "stdout",
     "output_type": "stream",
     "text": [
      "HI Naman. Naman is a student\n"
     ]
    }
   ],
   "source": [
    "def show_name(name):\n",
    "    \"\"\"\n",
    "    This function shows the name \n",
    "    \"\"\"\n",
    "    print(f\"HI {name}. \" + str(name) + ' is a student')\n",
    "    \n",
    "show_name('Naman')"
   ]
  },
  {
   "cell_type": "code",
   "execution_count": 59,
   "id": "87ed4640-1795-4641-9811-8a7ce7708bf9",
   "metadata": {},
   "outputs": [
    {
     "name": "stdout",
     "output_type": "stream",
     "text": [
      "105\n"
     ]
    }
   ],
   "source": [
    "def get_sum(l):\n",
    "    \"\"\"Returns sum of all elements in a list\"\"\"\n",
    "    \n",
    "    sum = 0\n",
    "    for i in l:\n",
    "        sum += i\n",
    "        \n",
    "    return sum\n",
    "\n",
    "print(get_sum([1,2,3,4,5,90]))"
   ]
  },
  {
   "cell_type": "code",
   "execution_count": 60,
   "id": "4d5f54f3-fa63-46ee-a1e4-b2d3c40ddae6",
   "metadata": {},
   "outputs": [
    {
     "name": "stdout",
     "output_type": "stream",
     "text": [
      "Returns sum of all elements in a list\n"
     ]
    }
   ],
   "source": [
    "print(get_sum.__doc__) ## returns DOCSTRING"
   ]
  },
  {
   "cell_type": "code",
   "execution_count": null,
   "id": "9ba6d74a-dbbf-4d43-b22b-0d1a1ae78ed9",
   "metadata": {},
   "outputs": [],
   "source": []
  },
  {
   "cell_type": "code",
   "execution_count": null,
   "id": "954a85d1-e1e5-4236-abcb-105480531ce0",
   "metadata": {},
   "outputs": [],
   "source": []
  },
  {
   "cell_type": "markdown",
   "id": "1413b189-0f28-4fdf-9161-cdf7506976d6",
   "metadata": {},
   "source": [
    "- Global variable : can be accessed from anywhere\n",
    "- Local variable : variable whose id is defined inside a function"
   ]
  },
  {
   "cell_type": "code",
   "execution_count": 62,
   "id": "e79d45b9-dabc-4004-b917-227ad6427f4b",
   "metadata": {},
   "outputs": [
    {
     "name": "stdout",
     "output_type": "stream",
     "text": [
      "global is being called....\n",
      "ERROR :  name 'local_var' is not defined\n"
     ]
    }
   ],
   "source": [
    "global_var = 'global'\n",
    "\n",
    "def local_fun():\n",
    "    local_var  = 'local'\n",
    "    return local_var\n",
    "\n",
    "\n",
    "print(global_var, 'is being called....')\n",
    "\n",
    "try:\n",
    "    print(local_var)\n",
    "except Exception as e:\n",
    "    print('ERROR : ', e)"
   ]
  },
  {
   "cell_type": "raw",
   "id": "72f72d8f-0094-458e-9ec1-fc52c888ccc0",
   "metadata": {},
   "source": [
    "a = local_fun()"
   ]
  },
  {
   "cell_type": "code",
   "execution_count": 65,
   "id": "618fb47e-6fc2-44ab-b608-dc5d3e1a531d",
   "metadata": {},
   "outputs": [
    {
     "name": "stdout",
     "output_type": "stream",
     "text": [
      "local\n"
     ]
    }
   ],
   "source": [
    "print(local_fun())"
   ]
  },
  {
   "cell_type": "code",
   "execution_count": null,
   "id": "1fd48ed0-17c4-4d0e-b903-492d685641a2",
   "metadata": {},
   "outputs": [],
   "source": []
  },
  {
   "cell_type": "code",
   "execution_count": 77,
   "id": "c0f65c88-aa28-4fc5-bfec-adaf2eb82e39",
   "metadata": {},
   "outputs": [],
   "source": [
    "## hcf of two numbers\n",
    "\n",
    "\n",
    "def computeHCF(a,b):\n",
    "    \n",
    "    if a<b:\n",
    "        smaller = a\n",
    "    else:\n",
    "        smaller = b\n",
    "    \n",
    "    for i in range(1, smaller+1):\n",
    "        if a%i == 0 and b%i == 0:\n",
    "            hcf = i\n",
    "    return hcf"
   ]
  },
  {
   "cell_type": "code",
   "execution_count": 87,
   "id": "12d5ee41-fa8b-43ca-bab6-78d59df3a63e",
   "metadata": {},
   "outputs": [
    {
     "data": {
      "text/plain": [
       "50"
      ]
     },
     "execution_count": 87,
     "metadata": {},
     "output_type": "execute_result"
    }
   ],
   "source": [
    "computeHCF(5050,500)"
   ]
  },
  {
   "cell_type": "code",
   "execution_count": 91,
   "id": "063feb6f-c7b6-451a-80f5-617cb850a39d",
   "metadata": {},
   "outputs": [
    {
     "name": "stdout",
     "output_type": "stream",
     "text": [
      "Uaharshal starts with a vowel\n"
     ]
    }
   ],
   "source": [
    "## find if a name starts with a vowel or consonant\n",
    "\n",
    "vowels = ['a', 'e', 'i', 'o', 'u']\n",
    "\n",
    "def startsWithVowel(string):\n",
    "    if string[0].lower() in vowels:\n",
    "        return True\n",
    "    return False\n",
    "\n",
    "name = 'Uaharshal'\n",
    "if startsWithVowel(name):\n",
    "    print(f\"{name} starts with a vowel\")\n",
    "else:\n",
    "    print(f\"{name} starts with a consonant\")"
   ]
  },
  {
   "cell_type": "code",
   "execution_count": null,
   "id": "34e3c1ca-57c5-4b8e-ac83-bf6adfd75021",
   "metadata": {},
   "outputs": [],
   "source": []
  }
 ],
 "metadata": {
  "kernelspec": {
   "display_name": "Python 3 (ipykernel)",
   "language": "python",
   "name": "python3"
  },
  "language_info": {
   "codemirror_mode": {
    "name": "ipython",
    "version": 3
   },
   "file_extension": ".py",
   "mimetype": "text/x-python",
   "name": "python",
   "nbconvert_exporter": "python",
   "pygments_lexer": "ipython3",
   "version": "3.9.12"
  }
 },
 "nbformat": 4,
 "nbformat_minor": 5
}
