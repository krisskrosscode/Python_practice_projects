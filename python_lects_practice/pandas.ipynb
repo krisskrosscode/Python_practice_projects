{
 "cells": [
  {
   "cell_type": "markdown",
   "id": "d1d22a67-b9a7-4d14-9115-190aca57e8af",
   "metadata": {},
   "source": [
    "# Pandas"
   ]
  },
  {
   "cell_type": "markdown",
   "id": "e05acb88-020d-41de-8434-d48afc6d517f",
   "metadata": {},
   "source": [
    "- built on top of numpy\n",
    "- data preprocessing library"
   ]
  },
  {
   "cell_type": "code",
   "execution_count": 2,
   "id": "23cf8a39-5199-4d97-944d-a3db26de6557",
   "metadata": {},
   "outputs": [],
   "source": [
    "import numpy as np\n",
    "import pandas as pd"
   ]
  },
  {
   "cell_type": "code",
   "execution_count": 3,
   "id": "6327edb8-db56-450b-a542-2c36f363fa4c",
   "metadata": {},
   "outputs": [],
   "source": [
    "a = pd.Series(data=[1,2,3,4], index=['a','b','c','d'])"
   ]
  },
  {
   "cell_type": "code",
   "execution_count": 4,
   "id": "be85f3da-6212-4a55-aef8-3ce86a1f9159",
   "metadata": {},
   "outputs": [
    {
     "data": {
      "text/plain": [
       "1"
      ]
     },
     "execution_count": 4,
     "metadata": {},
     "output_type": "execute_result"
    }
   ],
   "source": [
    "a['a']"
   ]
  },
  {
   "cell_type": "code",
   "execution_count": 5,
   "id": "114498fc-0182-4c09-a0f7-c5952ec03861",
   "metadata": {},
   "outputs": [],
   "source": [
    "myDict = {'e' : 20 ,\n",
    "         'f' : 200,\n",
    "         'g' : 2000,\n",
    "         'h' : 50}"
   ]
  },
  {
   "cell_type": "code",
   "execution_count": 6,
   "id": "5f8bec98-4d6d-4f71-97e9-fac4c7512573",
   "metadata": {},
   "outputs": [
    {
     "data": {
      "text/plain": [
       "e      20\n",
       "f     200\n",
       "g    2000\n",
       "h      50\n",
       "dtype: int64"
      ]
     },
     "execution_count": 6,
     "metadata": {},
     "output_type": "execute_result"
    }
   ],
   "source": [
    "pd.Series(myDict)"
   ]
  },
  {
   "cell_type": "code",
   "execution_count": 7,
   "id": "9264b15c-28f5-4e2e-8d58-dae7137265a0",
   "metadata": {},
   "outputs": [],
   "source": [
    "mySeries1 = pd.Series(data=[1,2,3,4,5], index=['a','b','c','d','e'])"
   ]
  },
  {
   "cell_type": "code",
   "execution_count": 8,
   "id": "81b74e2d-427b-4c9c-bfd3-b32c9dc2d163",
   "metadata": {},
   "outputs": [],
   "source": [
    "mySeries2 = pd.Series(data=[1,2,7,4,2], index=['a','b', 'c', 'f', 'e'])"
   ]
  },
  {
   "cell_type": "code",
   "execution_count": 9,
   "id": "858ab0e5-1cf9-4b83-bb6b-cdccf5f82fcc",
   "metadata": {},
   "outputs": [
    {
     "data": {
      "text/plain": [
       "a     2.0\n",
       "b     4.0\n",
       "c    10.0\n",
       "d     NaN\n",
       "e     7.0\n",
       "f     NaN\n",
       "dtype: float64"
      ]
     },
     "execution_count": 9,
     "metadata": {},
     "output_type": "execute_result"
    }
   ],
   "source": [
    "mySeries1 + mySeries2"
   ]
  },
  {
   "cell_type": "code",
   "execution_count": 10,
   "id": "1da55cc3-b1f1-47f9-94c7-e3ae159bc504",
   "metadata": {},
   "outputs": [
    {
     "data": {
      "text/plain": [
       "a    1\n",
       "b    2\n",
       "c    7\n",
       "f    4\n",
       "e    2\n",
       "dtype: int64"
      ]
     },
     "execution_count": 10,
     "metadata": {},
     "output_type": "execute_result"
    }
   ],
   "source": [
    "mySeries2"
   ]
  },
  {
   "cell_type": "code",
   "execution_count": 11,
   "id": "37ae6db3-6d08-403c-ba7a-ec8a6b8d42c6",
   "metadata": {},
   "outputs": [],
   "source": [
    "myData = np.random.randn(3,4)"
   ]
  },
  {
   "cell_type": "code",
   "execution_count": 12,
   "id": "926a9ad2-ad58-4e57-836e-75ed7ad8895f",
   "metadata": {},
   "outputs": [
    {
     "data": {
      "text/plain": [
       "array([[-0.51916907, -1.48446328, -0.89385074, -0.98089958],\n",
       "       [-0.212382  ,  0.16032903, -0.4217866 ,  0.10869909],\n",
       "       [-0.92805917,  0.34415436, -0.53821427, -0.54213674]])"
      ]
     },
     "execution_count": 12,
     "metadata": {},
     "output_type": "execute_result"
    }
   ],
   "source": [
    "myData"
   ]
  },
  {
   "cell_type": "code",
   "execution_count": 13,
   "id": "197fbc4c-97ae-4a0e-a985-88b1333898ac",
   "metadata": {},
   "outputs": [],
   "source": [
    "df = pd.DataFrame(myData, index=['R1', 'R2', 'R3'], columns=['C1', 'C2', 'C3', 'C4'])"
   ]
  },
  {
   "cell_type": "code",
   "execution_count": 14,
   "id": "b558f50d-fc80-42f5-9c93-747f9ec7a3fa",
   "metadata": {},
   "outputs": [
    {
     "data": {
      "text/html": [
       "<div>\n",
       "<style scoped>\n",
       "    .dataframe tbody tr th:only-of-type {\n",
       "        vertical-align: middle;\n",
       "    }\n",
       "\n",
       "    .dataframe tbody tr th {\n",
       "        vertical-align: top;\n",
       "    }\n",
       "\n",
       "    .dataframe thead th {\n",
       "        text-align: right;\n",
       "    }\n",
       "</style>\n",
       "<table border=\"1\" class=\"dataframe\">\n",
       "  <thead>\n",
       "    <tr style=\"text-align: right;\">\n",
       "      <th></th>\n",
       "      <th>C1</th>\n",
       "      <th>C2</th>\n",
       "      <th>C3</th>\n",
       "      <th>C4</th>\n",
       "    </tr>\n",
       "  </thead>\n",
       "  <tbody>\n",
       "    <tr>\n",
       "      <th>R1</th>\n",
       "      <td>-0.519169</td>\n",
       "      <td>-1.484463</td>\n",
       "      <td>-0.893851</td>\n",
       "      <td>-0.980900</td>\n",
       "    </tr>\n",
       "    <tr>\n",
       "      <th>R2</th>\n",
       "      <td>-0.212382</td>\n",
       "      <td>0.160329</td>\n",
       "      <td>-0.421787</td>\n",
       "      <td>0.108699</td>\n",
       "    </tr>\n",
       "    <tr>\n",
       "      <th>R3</th>\n",
       "      <td>-0.928059</td>\n",
       "      <td>0.344154</td>\n",
       "      <td>-0.538214</td>\n",
       "      <td>-0.542137</td>\n",
       "    </tr>\n",
       "  </tbody>\n",
       "</table>\n",
       "</div>"
      ],
      "text/plain": [
       "          C1        C2        C3        C4\n",
       "R1 -0.519169 -1.484463 -0.893851 -0.980900\n",
       "R2 -0.212382  0.160329 -0.421787  0.108699\n",
       "R3 -0.928059  0.344154 -0.538214 -0.542137"
      ]
     },
     "execution_count": 14,
     "metadata": {},
     "output_type": "execute_result"
    }
   ],
   "source": [
    "df"
   ]
  },
  {
   "cell_type": "code",
   "execution_count": 15,
   "id": "d8c850d5-ce18-4b6d-9dd6-f6574cdb9a43",
   "metadata": {},
   "outputs": [
    {
     "data": {
      "text/html": [
       "<div>\n",
       "<style scoped>\n",
       "    .dataframe tbody tr th:only-of-type {\n",
       "        vertical-align: middle;\n",
       "    }\n",
       "\n",
       "    .dataframe tbody tr th {\n",
       "        vertical-align: top;\n",
       "    }\n",
       "\n",
       "    .dataframe thead th {\n",
       "        text-align: right;\n",
       "    }\n",
       "</style>\n",
       "<table border=\"1\" class=\"dataframe\">\n",
       "  <thead>\n",
       "    <tr style=\"text-align: right;\">\n",
       "      <th></th>\n",
       "      <th>C1</th>\n",
       "      <th>C3</th>\n",
       "    </tr>\n",
       "  </thead>\n",
       "  <tbody>\n",
       "  </tbody>\n",
       "</table>\n",
       "</div>"
      ],
      "text/plain": [
       "Empty DataFrame\n",
       "Columns: [C1, C3]\n",
       "Index: []"
      ]
     },
     "execution_count": 15,
     "metadata": {},
     "output_type": "execute_result"
    }
   ],
   "source": [
    "df[['C1', 'C3']][df['C3'] < 0][df['C1'] > 0]"
   ]
  },
  {
   "cell_type": "code",
   "execution_count": 16,
   "id": "02c1c043-007f-4b5f-a1d9-bb2c4d7dc3c6",
   "metadata": {},
   "outputs": [],
   "source": [
    "df['C5'] =df['C1']  * df['C3']"
   ]
  },
  {
   "cell_type": "code",
   "execution_count": 17,
   "id": "22161d1a-1dd3-4036-86c6-b19263de46b8",
   "metadata": {},
   "outputs": [
    {
     "data": {
      "text/html": [
       "<div>\n",
       "<style scoped>\n",
       "    .dataframe tbody tr th:only-of-type {\n",
       "        vertical-align: middle;\n",
       "    }\n",
       "\n",
       "    .dataframe tbody tr th {\n",
       "        vertical-align: top;\n",
       "    }\n",
       "\n",
       "    .dataframe thead th {\n",
       "        text-align: right;\n",
       "    }\n",
       "</style>\n",
       "<table border=\"1\" class=\"dataframe\">\n",
       "  <thead>\n",
       "    <tr style=\"text-align: right;\">\n",
       "      <th></th>\n",
       "      <th>C1</th>\n",
       "      <th>C2</th>\n",
       "      <th>C3</th>\n",
       "      <th>C4</th>\n",
       "      <th>C5</th>\n",
       "    </tr>\n",
       "  </thead>\n",
       "  <tbody>\n",
       "    <tr>\n",
       "      <th>R1</th>\n",
       "      <td>-0.519169</td>\n",
       "      <td>-1.484463</td>\n",
       "      <td>-0.893851</td>\n",
       "      <td>-0.980900</td>\n",
       "      <td>0.464060</td>\n",
       "    </tr>\n",
       "    <tr>\n",
       "      <th>R2</th>\n",
       "      <td>-0.212382</td>\n",
       "      <td>0.160329</td>\n",
       "      <td>-0.421787</td>\n",
       "      <td>0.108699</td>\n",
       "      <td>0.089580</td>\n",
       "    </tr>\n",
       "    <tr>\n",
       "      <th>R3</th>\n",
       "      <td>-0.928059</td>\n",
       "      <td>0.344154</td>\n",
       "      <td>-0.538214</td>\n",
       "      <td>-0.542137</td>\n",
       "      <td>0.499495</td>\n",
       "    </tr>\n",
       "  </tbody>\n",
       "</table>\n",
       "</div>"
      ],
      "text/plain": [
       "          C1        C2        C3        C4        C5\n",
       "R1 -0.519169 -1.484463 -0.893851 -0.980900  0.464060\n",
       "R2 -0.212382  0.160329 -0.421787  0.108699  0.089580\n",
       "R3 -0.928059  0.344154 -0.538214 -0.542137  0.499495"
      ]
     },
     "execution_count": 17,
     "metadata": {},
     "output_type": "execute_result"
    }
   ],
   "source": [
    "df"
   ]
  },
  {
   "cell_type": "code",
   "execution_count": 18,
   "id": "c0ac7fa9-2c4b-4a4f-95af-9adde101c6fc",
   "metadata": {},
   "outputs": [],
   "source": [
    "df.drop('C2',axis = 1, inplace=True)"
   ]
  },
  {
   "cell_type": "code",
   "execution_count": 19,
   "id": "d5a03800-4990-4602-9ca6-565330da0875",
   "metadata": {},
   "outputs": [
    {
     "data": {
      "text/html": [
       "<div>\n",
       "<style scoped>\n",
       "    .dataframe tbody tr th:only-of-type {\n",
       "        vertical-align: middle;\n",
       "    }\n",
       "\n",
       "    .dataframe tbody tr th {\n",
       "        vertical-align: top;\n",
       "    }\n",
       "\n",
       "    .dataframe thead th {\n",
       "        text-align: right;\n",
       "    }\n",
       "</style>\n",
       "<table border=\"1\" class=\"dataframe\">\n",
       "  <thead>\n",
       "    <tr style=\"text-align: right;\">\n",
       "      <th></th>\n",
       "      <th>C1</th>\n",
       "      <th>C3</th>\n",
       "      <th>C4</th>\n",
       "      <th>C5</th>\n",
       "    </tr>\n",
       "  </thead>\n",
       "  <tbody>\n",
       "    <tr>\n",
       "      <th>R1</th>\n",
       "      <td>-0.519169</td>\n",
       "      <td>-0.893851</td>\n",
       "      <td>-0.980900</td>\n",
       "      <td>0.464060</td>\n",
       "    </tr>\n",
       "    <tr>\n",
       "      <th>R2</th>\n",
       "      <td>-0.212382</td>\n",
       "      <td>-0.421787</td>\n",
       "      <td>0.108699</td>\n",
       "      <td>0.089580</td>\n",
       "    </tr>\n",
       "    <tr>\n",
       "      <th>R3</th>\n",
       "      <td>-0.928059</td>\n",
       "      <td>-0.538214</td>\n",
       "      <td>-0.542137</td>\n",
       "      <td>0.499495</td>\n",
       "    </tr>\n",
       "  </tbody>\n",
       "</table>\n",
       "</div>"
      ],
      "text/plain": [
       "          C1        C3        C4        C5\n",
       "R1 -0.519169 -0.893851 -0.980900  0.464060\n",
       "R2 -0.212382 -0.421787  0.108699  0.089580\n",
       "R3 -0.928059 -0.538214 -0.542137  0.499495"
      ]
     },
     "execution_count": 19,
     "metadata": {},
     "output_type": "execute_result"
    }
   ],
   "source": [
    "df"
   ]
  },
  {
   "cell_type": "code",
   "execution_count": 20,
   "id": "0986a673-49cf-4cc9-bea5-64dc6f178089",
   "metadata": {},
   "outputs": [
    {
     "data": {
      "text/html": [
       "<div>\n",
       "<style scoped>\n",
       "    .dataframe tbody tr th:only-of-type {\n",
       "        vertical-align: middle;\n",
       "    }\n",
       "\n",
       "    .dataframe tbody tr th {\n",
       "        vertical-align: top;\n",
       "    }\n",
       "\n",
       "    .dataframe thead th {\n",
       "        text-align: right;\n",
       "    }\n",
       "</style>\n",
       "<table border=\"1\" class=\"dataframe\">\n",
       "  <thead>\n",
       "    <tr style=\"text-align: right;\">\n",
       "      <th></th>\n",
       "      <th>C1</th>\n",
       "      <th>C3</th>\n",
       "    </tr>\n",
       "  </thead>\n",
       "  <tbody>\n",
       "    <tr>\n",
       "      <th>R1</th>\n",
       "      <td>-0.519169</td>\n",
       "      <td>-0.893851</td>\n",
       "    </tr>\n",
       "    <tr>\n",
       "      <th>R2</th>\n",
       "      <td>-0.212382</td>\n",
       "      <td>-0.421787</td>\n",
       "    </tr>\n",
       "  </tbody>\n",
       "</table>\n",
       "</div>"
      ],
      "text/plain": [
       "          C1        C3\n",
       "R1 -0.519169 -0.893851\n",
       "R2 -0.212382 -0.421787"
      ]
     },
     "execution_count": 20,
     "metadata": {},
     "output_type": "execute_result"
    }
   ],
   "source": [
    "df.loc[['R1', 'R2'],['C1','C3']]"
   ]
  },
  {
   "cell_type": "markdown",
   "id": "45f6c0cc-5649-4d78-8d83-f25df13f6cf3",
   "metadata": {},
   "source": [
    "## Conditional selection"
   ]
  },
  {
   "cell_type": "code",
   "execution_count": 21,
   "id": "7f9c4a76-c3e7-428e-9752-bd11e14e0ae5",
   "metadata": {},
   "outputs": [
    {
     "data": {
      "text/html": [
       "<div>\n",
       "<style scoped>\n",
       "    .dataframe tbody tr th:only-of-type {\n",
       "        vertical-align: middle;\n",
       "    }\n",
       "\n",
       "    .dataframe tbody tr th {\n",
       "        vertical-align: top;\n",
       "    }\n",
       "\n",
       "    .dataframe thead th {\n",
       "        text-align: right;\n",
       "    }\n",
       "</style>\n",
       "<table border=\"1\" class=\"dataframe\">\n",
       "  <thead>\n",
       "    <tr style=\"text-align: right;\">\n",
       "      <th></th>\n",
       "      <th>C1</th>\n",
       "      <th>C3</th>\n",
       "      <th>C4</th>\n",
       "      <th>C5</th>\n",
       "    </tr>\n",
       "  </thead>\n",
       "  <tbody>\n",
       "    <tr>\n",
       "      <th>R1</th>\n",
       "      <td>-0.519169</td>\n",
       "      <td>-0.893851</td>\n",
       "      <td>-0.980900</td>\n",
       "      <td>0.464060</td>\n",
       "    </tr>\n",
       "    <tr>\n",
       "      <th>R2</th>\n",
       "      <td>-0.212382</td>\n",
       "      <td>-0.421787</td>\n",
       "      <td>0.108699</td>\n",
       "      <td>0.089580</td>\n",
       "    </tr>\n",
       "    <tr>\n",
       "      <th>R3</th>\n",
       "      <td>-0.928059</td>\n",
       "      <td>-0.538214</td>\n",
       "      <td>-0.542137</td>\n",
       "      <td>0.499495</td>\n",
       "    </tr>\n",
       "  </tbody>\n",
       "</table>\n",
       "</div>"
      ],
      "text/plain": [
       "          C1        C3        C4        C5\n",
       "R1 -0.519169 -0.893851 -0.980900  0.464060\n",
       "R2 -0.212382 -0.421787  0.108699  0.089580\n",
       "R3 -0.928059 -0.538214 -0.542137  0.499495"
      ]
     },
     "execution_count": 21,
     "metadata": {},
     "output_type": "execute_result"
    }
   ],
   "source": [
    "df"
   ]
  },
  {
   "cell_type": "code",
   "execution_count": 22,
   "id": "24a2149c-1506-4a92-9344-33ee394f9fd4",
   "metadata": {},
   "outputs": [
    {
     "data": {
      "text/html": [
       "<div>\n",
       "<style scoped>\n",
       "    .dataframe tbody tr th:only-of-type {\n",
       "        vertical-align: middle;\n",
       "    }\n",
       "\n",
       "    .dataframe tbody tr th {\n",
       "        vertical-align: top;\n",
       "    }\n",
       "\n",
       "    .dataframe thead th {\n",
       "        text-align: right;\n",
       "    }\n",
       "</style>\n",
       "<table border=\"1\" class=\"dataframe\">\n",
       "  <thead>\n",
       "    <tr style=\"text-align: right;\">\n",
       "      <th></th>\n",
       "      <th>C1</th>\n",
       "      <th>C3</th>\n",
       "      <th>C4</th>\n",
       "      <th>C5</th>\n",
       "    </tr>\n",
       "  </thead>\n",
       "  <tbody>\n",
       "    <tr>\n",
       "      <th>R1</th>\n",
       "      <td>False</td>\n",
       "      <td>False</td>\n",
       "      <td>False</td>\n",
       "      <td>True</td>\n",
       "    </tr>\n",
       "    <tr>\n",
       "      <th>R2</th>\n",
       "      <td>False</td>\n",
       "      <td>False</td>\n",
       "      <td>True</td>\n",
       "      <td>True</td>\n",
       "    </tr>\n",
       "    <tr>\n",
       "      <th>R3</th>\n",
       "      <td>False</td>\n",
       "      <td>False</td>\n",
       "      <td>False</td>\n",
       "      <td>True</td>\n",
       "    </tr>\n",
       "  </tbody>\n",
       "</table>\n",
       "</div>"
      ],
      "text/plain": [
       "       C1     C3     C4    C5\n",
       "R1  False  False  False  True\n",
       "R2  False  False   True  True\n",
       "R3  False  False  False  True"
      ]
     },
     "execution_count": 22,
     "metadata": {},
     "output_type": "execute_result"
    }
   ],
   "source": [
    "df > 0 ## returns boolean dataframe"
   ]
  },
  {
   "cell_type": "code",
   "execution_count": 23,
   "id": "e47213c0-77b9-4da6-83b1-9480d97b76a7",
   "metadata": {},
   "outputs": [
    {
     "data": {
      "text/html": [
       "<div>\n",
       "<style scoped>\n",
       "    .dataframe tbody tr th:only-of-type {\n",
       "        vertical-align: middle;\n",
       "    }\n",
       "\n",
       "    .dataframe tbody tr th {\n",
       "        vertical-align: top;\n",
       "    }\n",
       "\n",
       "    .dataframe thead th {\n",
       "        text-align: right;\n",
       "    }\n",
       "</style>\n",
       "<table border=\"1\" class=\"dataframe\">\n",
       "  <thead>\n",
       "    <tr style=\"text-align: right;\">\n",
       "      <th></th>\n",
       "      <th>C1</th>\n",
       "      <th>C3</th>\n",
       "      <th>C4</th>\n",
       "      <th>C5</th>\n",
       "    </tr>\n",
       "  </thead>\n",
       "  <tbody>\n",
       "    <tr>\n",
       "      <th>R1</th>\n",
       "      <td>NaN</td>\n",
       "      <td>NaN</td>\n",
       "      <td>NaN</td>\n",
       "      <td>0.464060</td>\n",
       "    </tr>\n",
       "    <tr>\n",
       "      <th>R2</th>\n",
       "      <td>NaN</td>\n",
       "      <td>NaN</td>\n",
       "      <td>0.108699</td>\n",
       "      <td>0.089580</td>\n",
       "    </tr>\n",
       "    <tr>\n",
       "      <th>R3</th>\n",
       "      <td>NaN</td>\n",
       "      <td>NaN</td>\n",
       "      <td>NaN</td>\n",
       "      <td>0.499495</td>\n",
       "    </tr>\n",
       "  </tbody>\n",
       "</table>\n",
       "</div>"
      ],
      "text/plain": [
       "    C1  C3        C4        C5\n",
       "R1 NaN NaN       NaN  0.464060\n",
       "R2 NaN NaN  0.108699  0.089580\n",
       "R3 NaN NaN       NaN  0.499495"
      ]
     },
     "execution_count": 23,
     "metadata": {},
     "output_type": "execute_result"
    }
   ],
   "source": [
    "df[df>0] ## True values are displayed whereas NaN is diplayed in palce of False values"
   ]
  },
  {
   "cell_type": "code",
   "execution_count": 24,
   "id": "3cd56677-5a41-497d-9cb3-20162ca12b09",
   "metadata": {},
   "outputs": [
    {
     "data": {
      "text/html": [
       "<div>\n",
       "<style scoped>\n",
       "    .dataframe tbody tr th:only-of-type {\n",
       "        vertical-align: middle;\n",
       "    }\n",
       "\n",
       "    .dataframe tbody tr th {\n",
       "        vertical-align: top;\n",
       "    }\n",
       "\n",
       "    .dataframe thead th {\n",
       "        text-align: right;\n",
       "    }\n",
       "</style>\n",
       "<table border=\"1\" class=\"dataframe\">\n",
       "  <thead>\n",
       "    <tr style=\"text-align: right;\">\n",
       "      <th></th>\n",
       "      <th>C1</th>\n",
       "      <th>C3</th>\n",
       "      <th>C4</th>\n",
       "      <th>C5</th>\n",
       "    </tr>\n",
       "  </thead>\n",
       "  <tbody>\n",
       "    <tr>\n",
       "      <th>R2</th>\n",
       "      <td>-0.212382</td>\n",
       "      <td>-0.421787</td>\n",
       "      <td>0.108699</td>\n",
       "      <td>0.08958</td>\n",
       "    </tr>\n",
       "  </tbody>\n",
       "</table>\n",
       "</div>"
      ],
      "text/plain": [
       "          C1        C3        C4       C5\n",
       "R2 -0.212382 -0.421787  0.108699  0.08958"
      ]
     },
     "execution_count": 24,
     "metadata": {},
     "output_type": "execute_result"
    }
   ],
   "source": [
    "df[df['C4'] > 0]"
   ]
  },
  {
   "cell_type": "markdown",
   "id": "05b2f6e4-3617-48aa-bda3-c05693087c2c",
   "metadata": {},
   "source": [
    "## Multiple conditions in pandas"
   ]
  },
  {
   "cell_type": "code",
   "execution_count": 25,
   "id": "01c4fe88-33fe-43f4-bbfc-de4be1c220d9",
   "metadata": {},
   "outputs": [
    {
     "data": {
      "text/html": [
       "<div>\n",
       "<style scoped>\n",
       "    .dataframe tbody tr th:only-of-type {\n",
       "        vertical-align: middle;\n",
       "    }\n",
       "\n",
       "    .dataframe tbody tr th {\n",
       "        vertical-align: top;\n",
       "    }\n",
       "\n",
       "    .dataframe thead th {\n",
       "        text-align: right;\n",
       "    }\n",
       "</style>\n",
       "<table border=\"1\" class=\"dataframe\">\n",
       "  <thead>\n",
       "    <tr style=\"text-align: right;\">\n",
       "      <th></th>\n",
       "      <th>C1</th>\n",
       "      <th>C3</th>\n",
       "      <th>C4</th>\n",
       "      <th>C5</th>\n",
       "    </tr>\n",
       "  </thead>\n",
       "  <tbody>\n",
       "    <tr>\n",
       "      <th>R1</th>\n",
       "      <td>-0.519169</td>\n",
       "      <td>-0.893851</td>\n",
       "      <td>-0.980900</td>\n",
       "      <td>0.464060</td>\n",
       "    </tr>\n",
       "    <tr>\n",
       "      <th>R2</th>\n",
       "      <td>-0.212382</td>\n",
       "      <td>-0.421787</td>\n",
       "      <td>0.108699</td>\n",
       "      <td>0.089580</td>\n",
       "    </tr>\n",
       "    <tr>\n",
       "      <th>R3</th>\n",
       "      <td>-0.928059</td>\n",
       "      <td>-0.538214</td>\n",
       "      <td>-0.542137</td>\n",
       "      <td>0.499495</td>\n",
       "    </tr>\n",
       "  </tbody>\n",
       "</table>\n",
       "</div>"
      ],
      "text/plain": [
       "          C1        C3        C4        C5\n",
       "R1 -0.519169 -0.893851 -0.980900  0.464060\n",
       "R2 -0.212382 -0.421787  0.108699  0.089580\n",
       "R3 -0.928059 -0.538214 -0.542137  0.499495"
      ]
     },
     "execution_count": 25,
     "metadata": {},
     "output_type": "execute_result"
    }
   ],
   "source": [
    "df[:][(df['C1'] > 0) | (df['C3'] < 0)]"
   ]
  },
  {
   "cell_type": "code",
   "execution_count": 26,
   "id": "83a8bc62-d68c-40e2-9f3a-4d63780c9018",
   "metadata": {},
   "outputs": [],
   "source": [
    "newData = ['r1','r2','r3']"
   ]
  },
  {
   "cell_type": "code",
   "execution_count": 27,
   "id": "70181d05-d1f7-4990-ace0-0f523829a8c4",
   "metadata": {},
   "outputs": [],
   "source": [
    "df['newCol'] = newData"
   ]
  },
  {
   "cell_type": "code",
   "execution_count": 28,
   "id": "fe676a57-3d75-45b6-9fe4-542a7c2c70d4",
   "metadata": {},
   "outputs": [
    {
     "data": {
      "text/html": [
       "<div>\n",
       "<style scoped>\n",
       "    .dataframe tbody tr th:only-of-type {\n",
       "        vertical-align: middle;\n",
       "    }\n",
       "\n",
       "    .dataframe tbody tr th {\n",
       "        vertical-align: top;\n",
       "    }\n",
       "\n",
       "    .dataframe thead th {\n",
       "        text-align: right;\n",
       "    }\n",
       "</style>\n",
       "<table border=\"1\" class=\"dataframe\">\n",
       "  <thead>\n",
       "    <tr style=\"text-align: right;\">\n",
       "      <th></th>\n",
       "      <th>C1</th>\n",
       "      <th>C3</th>\n",
       "      <th>C4</th>\n",
       "      <th>C5</th>\n",
       "      <th>newCol</th>\n",
       "    </tr>\n",
       "  </thead>\n",
       "  <tbody>\n",
       "    <tr>\n",
       "      <th>R1</th>\n",
       "      <td>-0.519169</td>\n",
       "      <td>-0.893851</td>\n",
       "      <td>-0.980900</td>\n",
       "      <td>0.464060</td>\n",
       "      <td>r1</td>\n",
       "    </tr>\n",
       "    <tr>\n",
       "      <th>R2</th>\n",
       "      <td>-0.212382</td>\n",
       "      <td>-0.421787</td>\n",
       "      <td>0.108699</td>\n",
       "      <td>0.089580</td>\n",
       "      <td>r2</td>\n",
       "    </tr>\n",
       "    <tr>\n",
       "      <th>R3</th>\n",
       "      <td>-0.928059</td>\n",
       "      <td>-0.538214</td>\n",
       "      <td>-0.542137</td>\n",
       "      <td>0.499495</td>\n",
       "      <td>r3</td>\n",
       "    </tr>\n",
       "  </tbody>\n",
       "</table>\n",
       "</div>"
      ],
      "text/plain": [
       "          C1        C3        C4        C5 newCol\n",
       "R1 -0.519169 -0.893851 -0.980900  0.464060     r1\n",
       "R2 -0.212382 -0.421787  0.108699  0.089580     r2\n",
       "R3 -0.928059 -0.538214 -0.542137  0.499495     r3"
      ]
     },
     "execution_count": 28,
     "metadata": {},
     "output_type": "execute_result"
    }
   ],
   "source": [
    "df"
   ]
  },
  {
   "cell_type": "code",
   "execution_count": 29,
   "id": "aff97f05-5fed-4981-9e1a-e521809efcc9",
   "metadata": {},
   "outputs": [
    {
     "data": {
      "text/html": [
       "<div>\n",
       "<style scoped>\n",
       "    .dataframe tbody tr th:only-of-type {\n",
       "        vertical-align: middle;\n",
       "    }\n",
       "\n",
       "    .dataframe tbody tr th {\n",
       "        vertical-align: top;\n",
       "    }\n",
       "\n",
       "    .dataframe thead th {\n",
       "        text-align: right;\n",
       "    }\n",
       "</style>\n",
       "<table border=\"1\" class=\"dataframe\">\n",
       "  <thead>\n",
       "    <tr style=\"text-align: right;\">\n",
       "      <th></th>\n",
       "      <th>C1</th>\n",
       "      <th>C3</th>\n",
       "      <th>C4</th>\n",
       "      <th>C5</th>\n",
       "    </tr>\n",
       "    <tr>\n",
       "      <th>newCol</th>\n",
       "      <th></th>\n",
       "      <th></th>\n",
       "      <th></th>\n",
       "      <th></th>\n",
       "    </tr>\n",
       "  </thead>\n",
       "  <tbody>\n",
       "    <tr>\n",
       "      <th>r1</th>\n",
       "      <td>-0.519169</td>\n",
       "      <td>-0.893851</td>\n",
       "      <td>-0.980900</td>\n",
       "      <td>0.464060</td>\n",
       "    </tr>\n",
       "    <tr>\n",
       "      <th>r2</th>\n",
       "      <td>-0.212382</td>\n",
       "      <td>-0.421787</td>\n",
       "      <td>0.108699</td>\n",
       "      <td>0.089580</td>\n",
       "    </tr>\n",
       "    <tr>\n",
       "      <th>r3</th>\n",
       "      <td>-0.928059</td>\n",
       "      <td>-0.538214</td>\n",
       "      <td>-0.542137</td>\n",
       "      <td>0.499495</td>\n",
       "    </tr>\n",
       "  </tbody>\n",
       "</table>\n",
       "</div>"
      ],
      "text/plain": [
       "              C1        C3        C4        C5\n",
       "newCol                                        \n",
       "r1     -0.519169 -0.893851 -0.980900  0.464060\n",
       "r2     -0.212382 -0.421787  0.108699  0.089580\n",
       "r3     -0.928059 -0.538214 -0.542137  0.499495"
      ]
     },
     "execution_count": 29,
     "metadata": {},
     "output_type": "execute_result"
    }
   ],
   "source": [
    "df.set_index('newCol')"
   ]
  },
  {
   "cell_type": "code",
   "execution_count": 30,
   "id": "6a2bb17e-7712-4707-bc3e-4e815805c695",
   "metadata": {},
   "outputs": [
    {
     "data": {
      "text/plain": [
       "Index(['R1', 'R2', 'R3'], dtype='object')"
      ]
     },
     "execution_count": 30,
     "metadata": {},
     "output_type": "execute_result"
    }
   ],
   "source": [
    "df.index"
   ]
  },
  {
   "cell_type": "code",
   "execution_count": 31,
   "id": "04b23e30-ebdd-4481-9460-64da78a558cb",
   "metadata": {},
   "outputs": [
    {
     "data": {
      "text/plain": [
       "Index(['C1', 'C3', 'C4', 'C5', 'newCol'], dtype='object')"
      ]
     },
     "execution_count": 31,
     "metadata": {},
     "output_type": "execute_result"
    }
   ],
   "source": [
    "df.columns"
   ]
  },
  {
   "cell_type": "code",
   "execution_count": 32,
   "id": "e3b371dd-d2b3-4531-b8b8-19377e11350b",
   "metadata": {},
   "outputs": [
    {
     "data": {
      "text/plain": [
       "R1    r1\n",
       "R2    r2\n",
       "R3    r3\n",
       "Name: newCol, dtype: object"
      ]
     },
     "execution_count": 32,
     "metadata": {},
     "output_type": "execute_result"
    }
   ],
   "source": [
    "df.newCol"
   ]
  },
  {
   "cell_type": "code",
   "execution_count": 33,
   "id": "bf163f8f-f95d-493d-b854-ed6534783057",
   "metadata": {},
   "outputs": [
    {
     "name": "stdout",
     "output_type": "stream",
     "text": [
      "Index(['R1', 'R2', 'R3'], dtype='object')\n"
     ]
    }
   ],
   "source": [
    "print(df.index)"
   ]
  },
  {
   "cell_type": "code",
   "execution_count": 34,
   "id": "fc5f3483-9f23-4357-a39e-05a4cf1f1140",
   "metadata": {},
   "outputs": [],
   "source": [
    "newData = {\n",
    "    'movies' : ['Star-Wars', 'Star-Wars', 'Batman', 'Batman', 'Deadpool', 'Deadpool'],\n",
    "    'viewers' : ['me', 'mf', 'mof', 'booby','dean', 'sammy'],\n",
    "    'ratings' : [10, 7 , 6, 9, 8, 5]\n",
    "}"
   ]
  },
  {
   "cell_type": "code",
   "execution_count": 35,
   "id": "7a2af3b9-090f-4136-805e-4ff19376ec40",
   "metadata": {},
   "outputs": [],
   "source": [
    "movieFrame = pd.DataFrame(newData)"
   ]
  },
  {
   "cell_type": "code",
   "execution_count": 36,
   "id": "18e0bf37-7689-4a2c-9197-0f93a8c07057",
   "metadata": {},
   "outputs": [
    {
     "data": {
      "text/html": [
       "<div>\n",
       "<style scoped>\n",
       "    .dataframe tbody tr th:only-of-type {\n",
       "        vertical-align: middle;\n",
       "    }\n",
       "\n",
       "    .dataframe tbody tr th {\n",
       "        vertical-align: top;\n",
       "    }\n",
       "\n",
       "    .dataframe thead th {\n",
       "        text-align: right;\n",
       "    }\n",
       "</style>\n",
       "<table border=\"1\" class=\"dataframe\">\n",
       "  <thead>\n",
       "    <tr style=\"text-align: right;\">\n",
       "      <th></th>\n",
       "      <th>movies</th>\n",
       "      <th>viewers</th>\n",
       "      <th>ratings</th>\n",
       "    </tr>\n",
       "  </thead>\n",
       "  <tbody>\n",
       "    <tr>\n",
       "      <th>0</th>\n",
       "      <td>Star-Wars</td>\n",
       "      <td>me</td>\n",
       "      <td>10</td>\n",
       "    </tr>\n",
       "    <tr>\n",
       "      <th>1</th>\n",
       "      <td>Star-Wars</td>\n",
       "      <td>mf</td>\n",
       "      <td>7</td>\n",
       "    </tr>\n",
       "    <tr>\n",
       "      <th>2</th>\n",
       "      <td>Batman</td>\n",
       "      <td>mof</td>\n",
       "      <td>6</td>\n",
       "    </tr>\n",
       "    <tr>\n",
       "      <th>3</th>\n",
       "      <td>Batman</td>\n",
       "      <td>booby</td>\n",
       "      <td>9</td>\n",
       "    </tr>\n",
       "    <tr>\n",
       "      <th>4</th>\n",
       "      <td>Deadpool</td>\n",
       "      <td>dean</td>\n",
       "      <td>8</td>\n",
       "    </tr>\n",
       "    <tr>\n",
       "      <th>5</th>\n",
       "      <td>Deadpool</td>\n",
       "      <td>sammy</td>\n",
       "      <td>5</td>\n",
       "    </tr>\n",
       "  </tbody>\n",
       "</table>\n",
       "</div>"
      ],
      "text/plain": [
       "      movies viewers  ratings\n",
       "0  Star-Wars      me       10\n",
       "1  Star-Wars      mf        7\n",
       "2     Batman     mof        6\n",
       "3     Batman   booby        9\n",
       "4   Deadpool    dean        8\n",
       "5   Deadpool   sammy        5"
      ]
     },
     "execution_count": 36,
     "metadata": {},
     "output_type": "execute_result"
    }
   ],
   "source": [
    "movieFrame"
   ]
  },
  {
   "cell_type": "code",
   "execution_count": 37,
   "id": "85645cd0-f718-410e-8e52-6d0b864e7b68",
   "metadata": {},
   "outputs": [
    {
     "data": {
      "text/html": [
       "<div>\n",
       "<style scoped>\n",
       "    .dataframe tbody tr th:only-of-type {\n",
       "        vertical-align: middle;\n",
       "    }\n",
       "\n",
       "    .dataframe tbody tr th {\n",
       "        vertical-align: top;\n",
       "    }\n",
       "\n",
       "    .dataframe thead th {\n",
       "        text-align: right;\n",
       "    }\n",
       "</style>\n",
       "<table border=\"1\" class=\"dataframe\">\n",
       "  <thead>\n",
       "    <tr style=\"text-align: right;\">\n",
       "      <th></th>\n",
       "      <th>ratings</th>\n",
       "    </tr>\n",
       "    <tr>\n",
       "      <th>movies</th>\n",
       "      <th></th>\n",
       "    </tr>\n",
       "  </thead>\n",
       "  <tbody>\n",
       "    <tr>\n",
       "      <th>Batman</th>\n",
       "      <td>7.5</td>\n",
       "    </tr>\n",
       "    <tr>\n",
       "      <th>Deadpool</th>\n",
       "      <td>6.5</td>\n",
       "    </tr>\n",
       "    <tr>\n",
       "      <th>Star-Wars</th>\n",
       "      <td>8.5</td>\n",
       "    </tr>\n",
       "  </tbody>\n",
       "</table>\n",
       "</div>"
      ],
      "text/plain": [
       "           ratings\n",
       "movies            \n",
       "Batman         7.5\n",
       "Deadpool       6.5\n",
       "Star-Wars      8.5"
      ]
     },
     "execution_count": 37,
     "metadata": {},
     "output_type": "execute_result"
    }
   ],
   "source": [
    "movieFrame.groupby(by='movies').mean()"
   ]
  },
  {
   "cell_type": "code",
   "execution_count": 41,
   "id": "cda16901-b3fc-4455-8389-18266ba7e4ad",
   "metadata": {},
   "outputs": [
    {
     "data": {
      "text/plain": [
       "Batman            AxesSubplot(0.1,0.559091;0.363636x0.340909)\n",
       "Deadpool     AxesSubplot(0.536364,0.559091;0.363636x0.340909)\n",
       "Star-Wars             AxesSubplot(0.1,0.15;0.363636x0.340909)\n",
       "dtype: object"
      ]
     },
     "execution_count": 41,
     "metadata": {},
     "output_type": "execute_result"
    },
    {
     "data": {
      "image/png": "[encoded data removed]",
      "text/plain": [
       "<Figure size 432x288 with 4 Axes>"
      ]
     },
     "metadata": {
      "needs_background": "light"
     },
     "output_type": "display_data"
    }
   ],
   "source": [
    "movieFrame.groupby(by='movies').boxplot()"
   ]
  },
  {
   "cell_type": "code",
   "execution_count": null,
   "id": "254168d3-474f-45da-84d2-cbb02846875f",
   "metadata": {},
   "outputs": [],
   "source": []
  }
 ],
 "metadata": {
  "kernelspec": {
   "display_name": "Python 3 (ipykernel)",
   "language": "python",
   "name": "python3"
  },
  "language_info": {
   "codemirror_mode": {
    "name": "ipython",
    "version": 3
   },
   "file_extension": ".py",
   "mimetype": "text/x-python",
   "name": "python",
   "nbconvert_exporter": "python",
   "pygments_lexer": "ipython3",
   "version": "3.9.12"
  }
 },
 "nbformat": 4,
 "nbformat_minor": 5
}
