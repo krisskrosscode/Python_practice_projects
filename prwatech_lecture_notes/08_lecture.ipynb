{
 "cells": [
  {
   "cell_type": "markdown",
   "id": "62bd3519-aed5-488d-930a-f81c15f9d348",
   "metadata": {},
   "source": [
    "# Tuples"
   ]
  },
  {
   "cell_type": "code",
   "execution_count": 26,
   "id": "e29dd10d-6127-486d-acbe-970ee90800e5",
   "metadata": {},
   "outputs": [],
   "source": [
    "t1 = (1, (2,3,8), ['hi', 9.34], 'harshal')"
   ]
  },
  {
   "cell_type": "code",
   "execution_count": 9,
   "id": "0abd4b42-063c-4ea9-bdf6-7cf94743ef23",
   "metadata": {},
   "outputs": [
    {
     "name": "stdout",
     "output_type": "stream",
     "text": [
      "(2, 3, 8)\n",
      "<class 'tuple'>\n"
     ]
    }
   ],
   "source": [
    "print(t1[1])\n",
    "print(type(t1[1]))"
   ]
  },
  {
   "cell_type": "code",
   "execution_count": 10,
   "id": "85de830d-ed8d-486a-88fc-383450b18dae",
   "metadata": {},
   "outputs": [
    {
     "name": "stdout",
     "output_type": "stream",
     "text": [
      "3\n",
      "<class 'int'>\n"
     ]
    }
   ],
   "source": [
    "print(t1[1][1])\n",
    "print(type(t1[1][1]))"
   ]
  },
  {
   "cell_type": "code",
   "execution_count": 11,
   "id": "439ce098-f59f-4063-ba25-2ae33348bdb1",
   "metadata": {},
   "outputs": [
    {
     "name": "stdout",
     "output_type": "stream",
     "text": [
      "9.34\n"
     ]
    }
   ],
   "source": [
    "print(t1[2][1])"
   ]
  },
  {
   "cell_type": "code",
   "execution_count": 13,
   "id": "2e290cc9-3bbf-4e70-8893-7bfe61121fad",
   "metadata": {},
   "outputs": [
    {
     "name": "stdout",
     "output_type": "stream",
     "text": [
      "<class 'float'>\n"
     ]
    }
   ],
   "source": [
    "print(type(t1[2][1]))"
   ]
  },
  {
   "cell_type": "code",
   "execution_count": 14,
   "id": "df3fbea6-eb6c-47ba-94fd-ac8ce59ae58e",
   "metadata": {},
   "outputs": [
    {
     "name": "stdout",
     "output_type": "stream",
     "text": [
      "<class 'str'>\n"
     ]
    }
   ],
   "source": [
    " ## comma can be used to specify a single element in a tuple\n",
    "    \n",
    "t2 = ('hi')\n",
    "print(type(t2))"
   ]
  },
  {
   "cell_type": "code",
   "execution_count": 15,
   "id": "fcb81b90-ab3f-4b84-b1f1-40b8826bccab",
   "metadata": {},
   "outputs": [
    {
     "name": "stdout",
     "output_type": "stream",
     "text": [
      "<class 'tuple'>\n"
     ]
    }
   ],
   "source": [
    "t2 = ('hi',)\n",
    "print(type(t2))"
   ]
  },
  {
   "cell_type": "code",
   "execution_count": 20,
   "id": "983c9b9f-500a-4cae-bc11-d347d8e2c519",
   "metadata": {},
   "outputs": [
    {
     "name": "stdout",
     "output_type": "stream",
     "text": [
      "('harshal', ['hi', 9.34], (2, 3, 8), 1)\n"
     ]
    }
   ],
   "source": [
    "print(t1[(len(t1)-1)::-1]) #print list in reverse order"
   ]
  },
  {
   "cell_type": "code",
   "execution_count": 77,
   "id": "d432f357-c49b-448c-9232-67ab08bdc0ba",
   "metadata": {},
   "outputs": [
    {
     "name": "stdout",
     "output_type": "stream",
     "text": [
      "'tuple' object does not support item assignment\n"
     ]
    }
   ],
   "source": [
    "## tuple is immutable\n",
    "\n",
    "try:\n",
    "    t1[2] = 32542 #throws an error\n",
    "except Exception as e:\n",
    "    print(e)"
   ]
  },
  {
   "cell_type": "code",
   "execution_count": 27,
   "id": "caccf236-2232-4073-ab47-625dbfdc0d03",
   "metadata": {},
   "outputs": [
    {
     "name": "stdout",
     "output_type": "stream",
     "text": [
      "(1, (2, 3, 8), ['hi', 9.34], 'harshal')\n",
      "(1, (2, 3, 8), ['bye', 9.34], 'harshal')\n"
     ]
    }
   ],
   "source": [
    "# for i in range(len(t1)):\n",
    "#     if type(i) == list:\n",
    "#         for j in i:\n",
    "#             if type(j) == str:\n",
    "#                 j = 'bye'\n",
    "print(t1)\n",
    "\n",
    "t1[2][0] = 'bye'\n",
    "print(t1)"
   ]
  },
  {
   "cell_type": "code",
   "execution_count": 78,
   "id": "307b954d-6737-48b3-947a-0822f17bbb94",
   "metadata": {},
   "outputs": [
    {
     "name": "stdout",
     "output_type": "stream",
     "text": [
      "'str' object does not support item assignment\n"
     ]
    }
   ],
   "source": [
    "try: \n",
    "    string = 'prwatech'\n",
    "    string[2] = 'g' ##cannot change \n",
    "except Exception as e:\n",
    "    print(e)"
   ]
  },
  {
   "cell_type": "markdown",
   "id": "9761d911-75d7-42f5-87d5-cedbe7d90ce0",
   "metadata": {},
   "source": [
    "### concatenation of tuples"
   ]
  },
  {
   "cell_type": "code",
   "execution_count": 32,
   "id": "f4fe045e-51d8-41ee-8917-bddc034fc6c1",
   "metadata": {},
   "outputs": [
    {
     "name": "stdout",
     "output_type": "stream",
     "text": [
      "(1, (2, 3, 8), ['bye', 9.34], 'harshal')\n",
      "('hi',)\n",
      "(1, (2, 3, 8), ['bye', 9.34], 'harshal', 'hi')\n"
     ]
    }
   ],
   "source": [
    "print(t1)\n",
    "print(t2)\n",
    "print(t1 + t2)"
   ]
  },
  {
   "cell_type": "markdown",
   "id": "cfb9c06e-5e32-4e45-a860-7f488c49fa88",
   "metadata": {},
   "source": [
    "### repeat the element in tuple using * operator"
   ]
  },
  {
   "cell_type": "code",
   "execution_count": 90,
   "id": "d20efd8b-3ab6-4c16-a506-8b8ba7213094",
   "metadata": {},
   "outputs": [
    {
     "name": "stdout",
     "output_type": "stream",
     "text": [
      "('hi',)\n",
      "('hi', 'hi', 'hi', 'hi', 'hi')\n",
      "prwatech\n",
      "prwatechprwatechprwatechprwatechprwatech\n"
     ]
    }
   ],
   "source": [
    "\n",
    "print(t2)\n",
    "print(t2*5)\n",
    "\n",
    "print(string)\n",
    "print(string*5)"
   ]
  },
  {
   "cell_type": "markdown",
   "id": "0cf8aff5-4c35-422c-b7df-0f9f8b7ce067",
   "metadata": {},
   "source": [
    "## tuple deletion"
   ]
  },
  {
   "cell_type": "code",
   "execution_count": 94,
   "id": "f97020cc-6635-4aa8-ad21-98e44b979d6a",
   "metadata": {},
   "outputs": [
    {
     "name": "stdout",
     "output_type": "stream",
     "text": [
      "ERROR : 'tuple' object doesn't support item deletion\n"
     ]
    }
   ],
   "source": [
    "# we can delete the elements in a tuple \n",
    "## but we cannot delete entire tuple\n",
    "try:\n",
    "    t3 = ('summer', 'monsoon', 'winter', 'spring', 'autumn')\n",
    "    del t3[1]\n",
    "except Exception as e:\n",
    "    print('ERROR :', e)"
   ]
  },
  {
   "cell_type": "code",
   "execution_count": 95,
   "id": "4fc31f79-3f7a-4452-97d1-812da64e705e",
   "metadata": {},
   "outputs": [],
   "source": [
    "try:\n",
    "    del t3\n",
    "except Exception as e:\n",
    "    print('ERROR :',e)"
   ]
  },
  {
   "cell_type": "code",
   "execution_count": 96,
   "id": "9ba033bc-4ffc-4600-9f5c-bc2d340f036a",
   "metadata": {},
   "outputs": [
    {
     "name": "stdout",
     "output_type": "stream",
     "text": [
      "ERROR : name 't3' is not defined\n"
     ]
    }
   ],
   "source": [
    "try:\n",
    "    print(t3)\n",
    "except Exception as e:\n",
    "    print('ERROR :',e)"
   ]
  },
  {
   "cell_type": "code",
   "execution_count": 86,
   "id": "efd7da9e-fd45-4e6d-bead-5e0cffb35c6f",
   "metadata": {},
   "outputs": [],
   "source": [
    "l = [34,35,6,632]\n",
    "del l[:] ## it works for lists but not for tuple"
   ]
  },
  {
   "cell_type": "code",
   "execution_count": 89,
   "id": "6e48cb6f-dace-48fb-9cf7-9aa0a52bcc21",
   "metadata": {},
   "outputs": [
    {
     "data": {
      "text/plain": [
       "[]"
      ]
     },
     "execution_count": 89,
     "metadata": {},
     "output_type": "execute_result"
    }
   ],
   "source": [
    "l"
   ]
  },
  {
   "cell_type": "markdown",
   "id": "5dc86d6a-fa99-4a84-a329-4abe8db28abf",
   "metadata": {},
   "source": [
    "## tuple count"
   ]
  },
  {
   "cell_type": "code",
   "execution_count": 51,
   "id": "a607d625-a84e-4107-9e5b-5ce16d484776",
   "metadata": {},
   "outputs": [
    {
     "data": {
      "text/plain": [
       "2"
      ]
     },
     "execution_count": 51,
     "metadata": {},
     "output_type": "execute_result"
    }
   ],
   "source": [
    "t4 = (1,1,1,1,1,1,14,4,4,4,4,47,8,8,9,9)\n",
    "t4.count(9) # gives the frequency of element occuring in the tuple"
   ]
  },
  {
   "cell_type": "code",
   "execution_count": 97,
   "id": "474417ac-1c6e-47cc-9903-c0d6f645143e",
   "metadata": {},
   "outputs": [
    {
     "data": {
      "text/plain": [
       "5"
      ]
     },
     "execution_count": 97,
     "metadata": {},
     "output_type": "execute_result"
    }
   ],
   "source": [
    "t5 = ('one','one','one','two','four','one','one','four','four')\n",
    "t5.count('one')"
   ]
  },
  {
   "cell_type": "code",
   "execution_count": 98,
   "id": "ba37a520-d2bf-4ff7-ba13-f75a6eda3095",
   "metadata": {},
   "outputs": [
    {
     "data": {
      "text/plain": [
       "0"
      ]
     },
     "execution_count": 98,
     "metadata": {},
     "output_type": "execute_result"
    }
   ],
   "source": [
    "t5.count('hundred')"
   ]
  },
  {
   "cell_type": "markdown",
   "id": "6155aaef-3b37-43d8-bec8-7fffdc7399f1",
   "metadata": {},
   "source": [
    "## tuple indexing"
   ]
  },
  {
   "cell_type": "code",
   "execution_count": null,
   "id": "05049221-b7ee-4b8e-937b-7dadae5a1e20",
   "metadata": {},
   "outputs": [
    {
     "name": "stdout",
     "output_type": "stream",
     "text": [
      "14\n",
      "0\n"
     ]
    }
   ],
   "source": [
    "## returns the index of the first occurence of an element\n",
    "\n",
    "print(t4.index(9))\n",
    "print(t4.index(1))"
   ]
  },
  {
   "cell_type": "code",
   "execution_count": 99,
   "id": "2d2b6bed-8077-40b8-8a5a-7c2d50135645",
   "metadata": {},
   "outputs": [
    {
     "data": {
      "text/plain": [
       "0"
      ]
     },
     "execution_count": 99,
     "metadata": {},
     "output_type": "execute_result"
    }
   ],
   "source": [
    "t5.index('one')"
   ]
  },
  {
   "cell_type": "code",
   "execution_count": 100,
   "id": "d23665a5-9498-4849-a6d6-cdbaef9e9790",
   "metadata": {},
   "outputs": [
    {
     "data": {
      "text/plain": [
       "4"
      ]
     },
     "execution_count": 100,
     "metadata": {},
     "output_type": "execute_result"
    }
   ],
   "source": [
    "t5.index('four')"
   ]
  },
  {
   "cell_type": "markdown",
   "id": "475110c0-914f-4e86-93d5-59a07b4a9430",
   "metadata": {},
   "source": [
    "## tuple membership"
   ]
  },
  {
   "cell_type": "code",
   "execution_count": 57,
   "id": "a1189b4e-0a41-4f67-9cde-332b618db497",
   "metadata": {},
   "outputs": [
    {
     "name": "stdout",
     "output_type": "stream",
     "text": [
      "True\n",
      "True\n"
     ]
    }
   ],
   "source": [
    "# using in, not operators\n",
    "\n",
    "print( 1 in t4)\n",
    "print(23 not in t4)"
   ]
  },
  {
   "cell_type": "code",
   "execution_count": 101,
   "id": "c8729d41-2eb7-44d1-b8e7-60c396e5226e",
   "metadata": {},
   "outputs": [
    {
     "name": "stdout",
     "output_type": "stream",
     "text": [
      "False\n",
      "True\n"
     ]
    }
   ],
   "source": [
    "print('six' in t5)\n",
    "print('one' in t5)"
   ]
  },
  {
   "cell_type": "code",
   "execution_count": null,
   "id": "d9411607-a3f6-4761-98dc-20974384c3d4",
   "metadata": {},
   "outputs": [],
   "source": []
  },
  {
   "cell_type": "markdown",
   "id": "c2b6fdc7-2772-4976-a14b-31e4de68b862",
   "metadata": {},
   "source": [
    "## length of tuple"
   ]
  },
  {
   "cell_type": "code",
   "execution_count": 60,
   "id": "d1fce044-3ea1-4a0f-a9ce-4536fddf04e8",
   "metadata": {},
   "outputs": [
    {
     "name": "stdout",
     "output_type": "stream",
     "text": [
      "(1, 1, 1, 1, 1, 1, 14, 4, 4, 4, 4, 47, 8, 8, 9, 9) ----length:  16\n",
      "(1, (2, 3, 8), ['bye', 9.34], 'harshal') ----length:  4\n"
     ]
    }
   ],
   "source": [
    "print(t4, \"----length: \", len(t4))\n",
    "print(t1, \"----length: \", len(t1))"
   ]
  },
  {
   "cell_type": "markdown",
   "id": "2b3dd4e7-eb5b-43dc-a23c-d3e9df929652",
   "metadata": {},
   "source": [
    "## tuple sort"
   ]
  },
  {
   "cell_type": "code",
   "execution_count": 102,
   "id": "019bddea-97a4-44e4-a396-659c7c7d95a0",
   "metadata": {},
   "outputs": [
    {
     "name": "stdout",
     "output_type": "stream",
     "text": [
      "[1, 1, 1, 1, 1, 1, 4, 4, 4, 4, 8, 8, 9, 9, 14, 47]\n",
      "[47, 14, 9, 9, 8, 8, 4, 4, 4, 4, 1, 1, 1, 1, 1, 1]\n",
      "['four', 'four', 'four', 'one', 'one', 'one', 'one', 'one', 'two']\n",
      "['two', 'one', 'one', 'one', 'one', 'one', 'four', 'four', 'four']\n"
     ]
    }
   ],
   "source": [
    "print(sorted(t4))\n",
    "print(sorted(t4,reverse=True))\n",
    "\n",
    "print(sorted(t5))\n",
    "print(sorted(t5, reverse=True))"
   ]
  },
  {
   "cell_type": "markdown",
   "id": "26cd5b71-8131-4b8c-a3b6-6d84df297746",
   "metadata": {},
   "source": [
    "## Some other functions"
   ]
  },
  {
   "cell_type": "code",
   "execution_count": 66,
   "id": "d2f96c89-e4eb-457e-8cd5-822f449bb51a",
   "metadata": {},
   "outputs": [
    {
     "name": "stdout",
     "output_type": "stream",
     "text": [
      "max:  47 \n",
      "min:  1\n"
     ]
    }
   ],
   "source": [
    "# check min and max\n",
    "\n",
    "print(\"max: \", max(t4), \"\\nmin: \", min(t4))"
   ]
  },
  {
   "cell_type": "code",
   "execution_count": 103,
   "id": "dc1a9062-46fa-41f9-b89a-5eb288aa1e65",
   "metadata": {},
   "outputs": [
    {
     "name": "stdout",
     "output_type": "stream",
     "text": [
      "max:  two \n",
      "min:  four\n"
     ]
    }
   ],
   "source": [
    "print(\"max: \", max(t5), \"\\nmin: \", min(t5))"
   ]
  },
  {
   "cell_type": "code",
   "execution_count": 105,
   "id": "1402f015-597a-454c-a83c-1bf64e48b855",
   "metadata": {},
   "outputs": [
    {
     "name": "stdout",
     "output_type": "stream",
     "text": [
      "ERROR :  unsupported operand type(s) for +: 'int' and 'str'\n"
     ]
    }
   ],
   "source": [
    "try:\n",
    "    print(sum(t5))\n",
    "except Exception as e:\n",
    "    print(\"ERROR : \", e)"
   ]
  },
  {
   "cell_type": "code",
   "execution_count": 67,
   "id": "40843537-c190-427b-8792-cbfb353ae734",
   "metadata": {},
   "outputs": [
    {
     "name": "stdout",
     "output_type": "stream",
     "text": [
      "sum(tuple):  117\n"
     ]
    }
   ],
   "source": [
    "# sum\n",
    "print(\"sum(tuple): \", sum(t4))"
   ]
  },
  {
   "cell_type": "markdown",
   "id": "be2e0f54-67ec-4ba6-a3e2-a93cdf25f0fc",
   "metadata": {},
   "source": [
    "# IMPORTING LIBRARIES"
   ]
  },
  {
   "cell_type": "code",
   "execution_count": 106,
   "id": "01d4b844-2a63-4b9c-967f-d6552c436433",
   "metadata": {},
   "outputs": [
    {
     "name": "stdout",
     "output_type": "stream",
     "text": [
      "t4:  (1, 1, 1, 1, 1, 1, 14, 4, 4, 4, 4, 47, 8, 8, 9, 9)\n"
     ]
    }
   ],
   "source": [
    "import statistics as st\n",
    "import math\n",
    "\n",
    "print(\"t4: \", t4)"
   ]
  },
  {
   "cell_type": "code",
   "execution_count": 107,
   "id": "731b5960-357e-4476-b2b9-e8c5b1e7c142",
   "metadata": {},
   "outputs": [
    {
     "name": "stdout",
     "output_type": "stream",
     "text": [
      "mean(t4):  7.3125\n",
      "median(t4):  4.0\n",
      "mode(t4):  1\n"
     ]
    }
   ],
   "source": [
    "print(\"mean(t4): \", st.mean(t4))\n",
    "print(\"median(t4): \", st.median(t4))\n",
    "print(\"mode(t4): \", st.mode(t4))"
   ]
  },
  {
   "cell_type": "code",
   "execution_count": null,
   "id": "33b7a717-aaa4-4df7-b439-ff5381a08fed",
   "metadata": {},
   "outputs": [],
   "source": []
  },
  {
   "cell_type": "code",
   "execution_count": 108,
   "id": "ae70611c-f003-4a04-b077-29103c55e460",
   "metadata": {},
   "outputs": [
    {
     "data": {
      "text/plain": [
       "3.141592653589793"
      ]
     },
     "execution_count": 108,
     "metadata": {},
     "output_type": "execute_result"
    }
   ],
   "source": [
    "math.pi"
   ]
  },
  {
   "cell_type": "code",
   "execution_count": 109,
   "id": "da275932-b745-469a-987d-ef7f17cdea50",
   "metadata": {},
   "outputs": [
    {
     "data": {
      "text/plain": [
       "-1.0"
      ]
     },
     "execution_count": 109,
     "metadata": {},
     "output_type": "execute_result"
    }
   ],
   "source": [
    "math.cos(math.pi)"
   ]
  },
  {
   "cell_type": "code",
   "execution_count": null,
   "id": "77fb4374-e38c-4271-81b5-2e5d94aa7754",
   "metadata": {},
   "outputs": [],
   "source": []
  }
 ],
 "metadata": {
  "kernelspec": {
   "display_name": "Python 3 (ipykernel)",
   "language": "python",
   "name": "python3"
  },
  "language_info": {
   "codemirror_mode": {
    "name": "ipython",
    "version": 3
   },
   "file_extension": ".py",
   "mimetype": "text/x-python",
   "name": "python",
   "nbconvert_exporter": "python",
   "pygments_lexer": "ipython3",
   "version": "3.9.12"
  }
 },
 "nbformat": 4,
 "nbformat_minor": 5
}
