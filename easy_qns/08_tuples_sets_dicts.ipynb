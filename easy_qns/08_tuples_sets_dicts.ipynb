{
 "cells": [
  {
   "cell_type": "markdown",
   "id": "997c6754-8d87-466a-b115-d29f14cadd52",
   "metadata": {},
   "source": [
    "**Q1) Take input as paragraph by using input function**"
   ]
  },
  {
   "cell_type": "code",
   "execution_count": 1,
   "id": "92d226e3-e0ff-4585-934f-bb3c1f93f04c",
   "metadata": {},
   "outputs": [
    {
     "name": "stdin",
     "output_type": "stream",
     "text": [
      "Enter Paragraph:  James Vince is the great enigma of his generation, an ethereal and polarising batsman whose England career now appears to be behind him. What are we to make of it all?\n"
     ]
    }
   ],
   "source": [
    "a = input(\"Enter Paragraph: \")"
   ]
  },
  {
   "cell_type": "code",
   "execution_count": 2,
   "id": "4f92d113-92c1-4cd2-b8ba-faaf646cd039",
   "metadata": {},
   "outputs": [
    {
     "data": {
      "text/plain": [
       "'James Vince is the great enigma of his generation, an ethereal and polarising batsman whose England career now appears to be behind him. What are we to make of it all?'"
      ]
     },
     "execution_count": 2,
     "metadata": {},
     "output_type": "execute_result"
    }
   ],
   "source": [
    "a"
   ]
  },
  {
   "cell_type": "markdown",
   "id": "e64c0eb0-3faa-4aec-9a7d-da758b7e8f06",
   "metadata": {},
   "source": [
    "----"
   ]
  },
  {
   "cell_type": "markdown",
   "id": "ee1de27b-125d-4856-881d-429e49171d87",
   "metadata": {},
   "source": [
    "**Q2) Convert all of this input into list**"
   ]
  },
  {
   "cell_type": "code",
   "execution_count": 9,
   "id": "1ab297c4-0004-415e-b4e0-4e40a2055eb9",
   "metadata": {},
   "outputs": [],
   "source": [
    "lst = list(a.split(\" \"))"
   ]
  },
  {
   "cell_type": "code",
   "execution_count": 12,
   "id": "351d2ecb-fbbf-4739-9c02-6907ff6d4efa",
   "metadata": {},
   "outputs": [
    {
     "name": "stdout",
     "output_type": "stream",
     "text": [
      "['James', 'Vince', 'is', 'the', 'great', 'enigma', 'of', 'his', 'generation,', 'an', 'ethereal', 'and', 'polarising', 'batsman', 'whose', 'England', 'career', 'now', 'appears', 'to', 'be', 'behind', 'him.', 'What', 'are', 'we', 'to', 'make', 'of', 'it', 'all?']\n"
     ]
    },
    {
     "data": {
      "text/plain": [
       "31"
      ]
     },
     "execution_count": 12,
     "metadata": {},
     "output_type": "execute_result"
    }
   ],
   "source": [
    "print(lst)\n",
    "len(lst)"
   ]
  },
  {
   "cell_type": "markdown",
   "id": "81321ab4-6285-42a8-9979-8718832e68a3",
   "metadata": {},
   "source": [
    "---"
   ]
  },
  {
   "cell_type": "markdown",
   "id": "d574f76e-a130-4faa-aa25-d21bbf062f7b",
   "metadata": {},
   "source": [
    "**Q3) Remove all duplicate elements from the list**"
   ]
  },
  {
   "cell_type": "code",
   "execution_count": 13,
   "id": "2c08728a-838d-4df5-a1e8-ff77a19f5b63",
   "metadata": {},
   "outputs": [],
   "source": [
    "lst = list(set(lst))"
   ]
  },
  {
   "cell_type": "code",
   "execution_count": 14,
   "id": "11556b0a-6336-4c4c-8dd2-a389a683aec0",
   "metadata": {},
   "outputs": [
    {
     "data": {
      "text/plain": [
       "29"
      ]
     },
     "execution_count": 14,
     "metadata": {},
     "output_type": "execute_result"
    }
   ],
   "source": [
    "len(lst)"
   ]
  },
  {
   "cell_type": "code",
   "execution_count": 16,
   "id": "f829dab8-5ace-4f2d-9057-3326180a71d1",
   "metadata": {},
   "outputs": [
    {
     "name": "stdout",
     "output_type": "stream",
     "text": [
      "['James', 'to', 'Vince', 'and', 'behind', 'is', 'his', 'batsman', 'What', 'ethereal', 'generation,', 'are', 'it', 'of', 'England', 'whose', 'make', 'now', 'be', 'an', 'polarising', 'we', 'all?', 'appears', 'the', 'enigma', 'great', 'him.', 'career']\n"
     ]
    }
   ],
   "source": [
    "print(lst)"
   ]
  },
  {
   "cell_type": "markdown",
   "id": "fe00988c-567c-464c-9f0f-295b3d33f159",
   "metadata": {},
   "source": [
    "**Q4) USE above disctinct element as key for dictionary and assign your name as\n",
    "value of all the key of the dictionary**"
   ]
  },
  {
   "cell_type": "code",
   "execution_count": 20,
   "id": "129daf37-e45d-45b7-afb9-f246964a90ff",
   "metadata": {},
   "outputs": [],
   "source": [
    "res_dict = {i:\"harshal\" for i in lst}"
   ]
  },
  {
   "cell_type": "code",
   "execution_count": 21,
   "id": "38a26b69-c1d0-4055-ad6e-c919286d6a50",
   "metadata": {},
   "outputs": [
    {
     "name": "stdout",
     "output_type": "stream",
     "text": [
      "{'James': 'harshal', 'to': 'harshal', 'Vince': 'harshal', 'and': 'harshal', 'behind': 'harshal', 'is': 'harshal', 'his': 'harshal', 'batsman': 'harshal', 'What': 'harshal', 'ethereal': 'harshal', 'generation,': 'harshal', 'are': 'harshal', 'it': 'harshal', 'of': 'harshal', 'England': 'harshal', 'whose': 'harshal', 'make': 'harshal', 'now': 'harshal', 'be': 'harshal', 'an': 'harshal', 'polarising': 'harshal', 'we': 'harshal', 'all?': 'harshal', 'appears': 'harshal', 'the': 'harshal', 'enigma': 'harshal', 'great': 'harshal', 'him.': 'harshal', 'career': 'harshal'}\n"
     ]
    }
   ],
   "source": [
    "print(res_dict)"
   ]
  },
  {
   "cell_type": "markdown",
   "id": "213f5ae2-b9f3-4da1-b5b3-20b0e3c98393",
   "metadata": {},
   "source": [
    "---"
   ]
  },
  {
   "cell_type": "markdown",
   "id": "288b93ab-3619-4cd8-9310-77a401481a4e",
   "metadata": {},
   "source": [
    "**Q5) Try to print tuple of all the values and keys**"
   ]
  },
  {
   "cell_type": "code",
   "execution_count": 26,
   "id": "d5b72aca-c53b-4661-9692-9e5d1105c91f",
   "metadata": {},
   "outputs": [],
   "source": [
    "value_tuple = tuple(res_dict.values())"
   ]
  },
  {
   "cell_type": "code",
   "execution_count": 28,
   "id": "9b755e9b-c845-472e-92ef-e04a77d974bc",
   "metadata": {},
   "outputs": [
    {
     "name": "stdout",
     "output_type": "stream",
     "text": [
      "('harshal', 'harshal', 'harshal', 'harshal', 'harshal', 'harshal', 'harshal', 'harshal', 'harshal', 'harshal', 'harshal', 'harshal', 'harshal', 'harshal', 'harshal', 'harshal', 'harshal', 'harshal', 'harshal', 'harshal', 'harshal', 'harshal', 'harshal', 'harshal', 'harshal', 'harshal', 'harshal', 'harshal', 'harshal')\n"
     ]
    }
   ],
   "source": [
    "print(value_tuple)"
   ]
  },
  {
   "cell_type": "code",
   "execution_count": 29,
   "id": "632cc16b-e1e3-4c74-91d0-72242b6105e1",
   "metadata": {},
   "outputs": [],
   "source": [
    "item_tuple = tuple(res_dict.keys())"
   ]
  },
  {
   "cell_type": "code",
   "execution_count": 30,
   "id": "8e29be54-752b-4a4f-818c-d9b601c3c3ab",
   "metadata": {},
   "outputs": [
    {
     "name": "stdout",
     "output_type": "stream",
     "text": [
      "('James', 'to', 'Vince', 'and', 'behind', 'is', 'his', 'batsman', 'What', 'ethereal', 'generation,', 'are', 'it', 'of', 'England', 'whose', 'make', 'now', 'be', 'an', 'polarising', 'we', 'all?', 'appears', 'the', 'enigma', 'great', 'him.', 'career')\n"
     ]
    }
   ],
   "source": [
    "print(item_tuple)"
   ]
  },
  {
   "cell_type": "code",
   "execution_count": 32,
   "id": "61754ee5-d874-428a-80cb-c7fdb2a9c613",
   "metadata": {},
   "outputs": [
    {
     "ename": "TypeError",
     "evalue": "unhashable type: 'set'",
     "output_type": "error",
     "traceback": [
      "\u001b[0;31m---------------------------------------------------------------------------\u001b[0m",
      "\u001b[0;31mTypeError\u001b[0m                                 Traceback (most recent call last)",
      "Input \u001b[0;32mIn [32]\u001b[0m, in \u001b[0;36m<cell line: 1>\u001b[0;34m()\u001b[0m\n\u001b[0;32m----> 1\u001b[0m h \u001b[38;5;241m=\u001b[39m {{\u001b[38;5;241m4\u001b[39m,\u001b[38;5;241m6\u001b[39m,\u001b[38;5;241m7\u001b[39m}: \u001b[38;5;241m45\u001b[39m}\n",
      "\u001b[0;31mTypeError\u001b[0m: unhashable type: 'set'"
     ]
    }
   ],
   "source": [
    "h = {{4,6,7}: 45}"
   ]
  },
  {
   "cell_type": "code",
   "execution_count": null,
   "id": "0584224b-4fef-469f-a2a6-15da13e9b6d6",
   "metadata": {},
   "outputs": [],
   "source": []
  }
 ],
 "metadata": {
  "kernelspec": {
   "display_name": "Python 3 (ipykernel)",
   "language": "python",
   "name": "python3"
  },
  "language_info": {
   "codemirror_mode": {
    "name": "ipython",
    "version": 3
   },
   "file_extension": ".py",
   "mimetype": "text/x-python",
   "name": "python",
   "nbconvert_exporter": "python",
   "pygments_lexer": "ipython3",
   "version": "3.9.7"
  }
 },
 "nbformat": 4,
 "nbformat_minor": 5
}
