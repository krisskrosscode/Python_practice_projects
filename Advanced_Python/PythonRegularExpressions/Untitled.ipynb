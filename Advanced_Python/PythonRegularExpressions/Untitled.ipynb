{
 "cells": [
  {
   "cell_type": "code",
   "execution_count": 1,
   "id": "91a20539-56a4-47a6-8054-bb6971a7e935",
   "metadata": {},
   "outputs": [],
   "source": [
    "import re"
   ]
  },
  {
   "cell_type": "markdown",
   "id": "7c2ee09c-973d-46d7-8a28-01f1f98741f8",
   "metadata": {},
   "source": [
    "# intro "
   ]
  },
  {
   "cell_type": "markdown",
   "id": "41f4e073-28cd-420a-8865-51e1ec7d140e",
   "metadata": {},
   "source": [
    "- specifies a set of strings that matches it"
   ]
  },
  {
   "cell_type": "markdown",
   "id": "10875fc0-802f-48c8-b02c-71a0f2800170",
   "metadata": {},
   "source": [
    "- uses '\\\\' character is used to indicate special forms or as an escape character\n",
    "    - to match a literal backslash, one might have to write <span style=\"color:blue\">'\\\\\\\\\\\\\\\\'</span> as the pattern string, because the regular expression must be <span style=\"color:blue\">'\\\\\\\\'</span>, \n",
    "    - and each backslash must be expressed as <span style=\"color:blue\">'\\\\\\\\'</span> inside a regular Python string literal. \n",
    "    - enclose a string with <span style=\"color:red\">r'--'</span> and backslashes are not handled in a special way\n",
    "        - r\"\\n\" is a two-character string containing '\\\\' and 'n', while \"\\n\" is a one-character string containing a newline"
   ]
  },
  {
   "cell_type": "markdown",
   "id": "46d2660d-a2cc-45fc-b1e0-c9b1ebd2bb7d",
   "metadata": {},
   "source": [
    "# Properties"
   ]
  },
  {
   "cell_type": "markdown",
   "id": "e5da5ba6-cedf-4b80-bb07-764b60718617",
   "metadata": {},
   "source": [
    "1. Regular expressions can be concatenated to form new regular expressions; if A and B are both regular expressions, then AB is also a regular expression.\n",
    "2. if a string p matches A and another string q matches B, the string pq will match AB. This holds unless \n",
    "    - A or B contain low precedence operations; \n",
    "    - boundary conditions between A and B; \n",
    "    - or have numbered group references"
   ]
  },
  {
   "cell_type": "markdown",
   "id": "194e6d59-d168-4424-81b1-3dc9e4e74a40",
   "metadata": {},
   "source": [
    "# Types of characters"
   ]
  },
  {
   "cell_type": "markdown",
   "id": "b3782b14-915d-496a-a4e1-f5f58ad2e6f1",
   "metadata": {},
   "source": [
    "1. Ordinary characters : '0' , 'A' or 'a'\n",
    "2. Special Characters : "
   ]
  },
  {
   "cell_type": "markdown",
   "id": "76243c9e-d0b6-4a3b-a2fb-8ff447d82465",
   "metadata": {},
   "source": [
    "### Meta Characters"
   ]
  },
  {
   "cell_type": "markdown",
   "id": "36e29dda-c115-4c0e-8595-181d9599bb7f",
   "metadata": {},
   "source": [
    "1. Dot (.) -> Any character (except newline character)\t\n",
    "2. Caret (^) -> Starts with\t\n",
    "3. Dollar ($) -> Ends with\n",
    "4. Star (* ) -> Zero or more occurrences\t\n",
    "5. Plus (+) -> One or more occurences\n",
    "6. Question Mark (?) -> Zero or one occurrences\t\n",
    "7. {_} -> Exactly the specified number of occurrences\t\n",
    "8. | -> Either or\t\n",
    "9. ( ) -> Capture and group\t\n",
    "10. \\ -> Signals a special sequence (can also be used to escape special characters)\t\n",
    "11. [] -> A set of characters\t\n"
   ]
  },
  {
   "cell_type": "markdown",
   "id": "5d1ab259-43a3-4e5c-8d5f-a814554f3150",
   "metadata": {},
   "source": [
    "## Special sequences\n",
    "1. \\A : Returns a match if the specified characters are at the beginning of the string\t-> \"\\AThe\"\t\n",
    "2. \\b : Returns a match where the specified characters are at the beginning or at the end of a word.(the \"r\" in the beginning is making sure that the string is being treated as a \"raw string\") -> r\"\\bain\" , r\"ain\\b\"\t\n",
    "3. \\B : Returns a match where the specified characters are present, but NOT at the beginning (or at the end) of a word (the \"r\" in the beginning is making sure that the string is being treated as a \"raw string\")\t-> r\"\\Bain\" , r\"ain\\B\"\t\n",
    "4. \\d : Returns a match where the string contains digits (numbers from 0-9) ->\t\"\\d\"\t\n",
    "5. \\D : Returns a match where the string DOES NOT contain digits -> \"\\D\"\t\n",
    "6. \\s : Returns a match where the string contains a white space character ->\t\"\\s\"\t\n",
    "7. \\S : Returns a match where the string DOES NOT contain a white space character\t-> \"\\S\"\t\n",
    "8. \\w : Returns a match where the string contains any word characters (characters from a to Z, digits from 0-9, and the underscore _ character)\t-> \"\\w\"\t\n",
    "9. \\W : Returns a match where the string DOES NOT contain any word characters\t-> \"\\W\"\t\n",
    "10. \\Z : Returns a match if the specified characters are at the end of the string\t-> \"Spain\\Z\""
   ]
  },
  {
   "cell_type": "markdown",
   "id": "49c66340-7cdd-485f-bbf2-7ede8f2eab92",
   "metadata": {},
   "source": [
    "Function : Description\n",
    "1. findall : \tReturns a list containing all matches\n",
    "2. search : \tReturns a Match object if there is a match anywhere in the string\n",
    "3. split : \tReturns a list where the string has been split at each match\n",
    "4. sub : \tReplaces one or many matches with a string"
   ]
  },
  {
   "cell_type": "code",
   "execution_count": 2,
   "id": "c72e0017-d0de-4e6c-b5f3-ebf3f3e4946c",
   "metadata": {},
   "outputs": [],
   "source": [
    "text = \"My name is harshal\""
   ]
  },
  {
   "cell_type": "code",
   "execution_count": 16,
   "id": "9495899e-ba3b-4849-a65c-5ce0f6b9924e",
   "metadata": {},
   "outputs": [
    {
     "name": "stdout",
     "output_type": "stream",
     "text": [
      "<class 'NoneType'>\n",
      "None\n"
     ]
    }
   ],
   "source": [
    "x = re.search(\"\\b\", text)\n",
    "print(type(x))\n",
    "print(x)"
   ]
  },
  {
   "cell_type": "code",
   "execution_count": 22,
   "id": "60e57b12-2218-4731-9491-21a99f296c5e",
   "metadata": {},
   "outputs": [],
   "source": [
    "text = \"aaaaaaabaaaabaa\"\n",
    "x = re.search(\"ab?\", text)"
   ]
  },
  {
   "cell_type": "code",
   "execution_count": 23,
   "id": "e36d8781-780d-44d4-bc67-ab3f4ef93cb1",
   "metadata": {},
   "outputs": [
    {
     "data": {
      "text/plain": [
       "0"
      ]
     },
     "execution_count": 23,
     "metadata": {},
     "output_type": "execute_result"
    }
   ],
   "source": [
    "x.start()"
   ]
  },
  {
   "cell_type": "code",
   "execution_count": 26,
   "id": "4d4116bb-d00f-48cc-ae98-1c6a3b1c3b85",
   "metadata": {},
   "outputs": [
    {
     "name": "stdout",
     "output_type": "stream",
     "text": [
      "<class 'list'>\n"
     ]
    }
   ],
   "source": [
    "txt = \"The rain in Spain\"\n",
    "x = re.split(\"\\s\", txt)\n",
    "\n",
    "print(type(x))"
   ]
  },
  {
   "cell_type": "code",
   "execution_count": 27,
   "id": "2da1a619-e4ad-47cc-b976-bec44e73ef96",
   "metadata": {},
   "outputs": [
    {
     "name": "stdout",
     "output_type": "stream",
     "text": [
      "['The', 'rain in Spain']\n"
     ]
    }
   ],
   "source": [
    "txt = \"The rain in Spain\"\n",
    "x = re.split(\"\\s\", txt, 1) #split only at first occurence\n",
    "print(x)"
   ]
  },
  {
   "cell_type": "code",
   "execution_count": null,
   "id": "a4548386-f487-4a99-ab24-8838dadf580f",
   "metadata": {},
   "outputs": [],
   "source": []
  }
 ],
 "metadata": {
  "kernelspec": {
   "display_name": "Python 3 (ipykernel)",
   "language": "python",
   "name": "python3"
  },
  "language_info": {
   "codemirror_mode": {
    "name": "ipython",
    "version": 3
   },
   "file_extension": ".py",
   "mimetype": "text/x-python",
   "name": "python",
   "nbconvert_exporter": "python",
   "pygments_lexer": "ipython3",
   "version": "3.9.12"
  }
 },
 "nbformat": 4,
 "nbformat_minor": 5
}
