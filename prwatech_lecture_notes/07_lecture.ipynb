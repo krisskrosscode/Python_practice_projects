{
 "cells": [
  {
   "cell_type": "markdown",
   "id": "29b49129-5541-4ab8-ac0c-7f8d75ef8879",
   "metadata": {},
   "source": [
    "# List operations cont..."
   ]
  },
  {
   "cell_type": "markdown",
   "id": "01f5a559-09dd-4473-8b60-bbabad1450ad",
   "metadata": {},
   "source": [
    "## Sorting"
   ]
  },
  {
   "cell_type": "code",
   "execution_count": 25,
   "id": "598f8740-903a-48ef-b700-165540bbcfd2",
   "metadata": {},
   "outputs": [
    {
     "data": {
      "text/plain": [
       "[1, 2, 8, 234, 647, 9083]"
      ]
     },
     "execution_count": 25,
     "metadata": {},
     "output_type": "execute_result"
    }
   ],
   "source": [
    "l = [1,9083,234,647,8,2]\n",
    "l.sort()\n",
    "l"
   ]
  },
  {
   "cell_type": "code",
   "execution_count": 29,
   "id": "717eb695-dea2-4e58-934e-01d62c255357",
   "metadata": {},
   "outputs": [
    {
     "name": "stdout",
     "output_type": "stream",
     "text": [
      "['abhishek', 'aman', 'harshal', 'satyam']\n",
      "['satyam', 'harshal', 'aman', 'abhishek']\n"
     ]
    }
   ],
   "source": [
    "a = [\"harshal\", 'abhishek', 'aman', 'satyam']\n",
    "x = sorted(a)\n",
    "print(x)\n",
    "y = sorted(a, reverse=True)\n",
    "print(y)"
   ]
  },
  {
   "cell_type": "code",
   "execution_count": 30,
   "id": "9e175619-35a5-4760-80e1-21d31c24699b",
   "metadata": {},
   "outputs": [
    {
     "name": "stdout",
     "output_type": "stream",
     "text": [
      "[1, 2, 8, 234, 647, 9083]\n",
      "[9083, 647, 234, 8, 2, 1]\n"
     ]
    }
   ],
   "source": [
    "m = [1,9083,234,647,8,2]\n",
    "x = sorted(m)\n",
    "y = sorted(m, reverse=True)\n",
    "print(x)\n",
    "print(y)"
   ]
  },
  {
   "cell_type": "code",
   "execution_count": 31,
   "id": "6982d08e-3b05-4c07-be05-cb97b0efafcc",
   "metadata": {},
   "outputs": [
    {
     "name": "stdout",
     "output_type": "stream",
     "text": [
      "[1, 1.0, 4.0, 4, 6.453, 23, 23.0, 535]\n",
      "[535, 23, 23.0, 6.453, 4.0, 4, 1, 1.0]\n"
     ]
    }
   ],
   "source": [
    "# look at the sorted order of same int and float values\n",
    "m = [1,23, 4.0,4,535,6.453,1.0,23.0]\n",
    "x = sorted(m)\n",
    "print(x)\n",
    "y = sorted(m,reverse=True)\n",
    "print(y)"
   ]
  },
  {
   "cell_type": "markdown",
   "id": "967a8dcd-063b-402f-8859-5380b38003cb",
   "metadata": {},
   "source": [
    "## list copy"
   ]
  },
  {
   "cell_type": "code",
   "execution_count": 33,
   "id": "eaaabf52-b02f-4f71-8837-2f1c8645e53f",
   "metadata": {},
   "outputs": [
    {
     "name": "stdout",
     "output_type": "stream",
     "text": [
      "[1, 23, 4.0, 4, 535, 6.453, 1.0, 23.0]\n",
      "[1, 23, 4.0, 4, 535, 6.453, 1.0, 23.0]\n"
     ]
    }
   ],
   "source": [
    "# overriding\n",
    "\n",
    "lst = m.copy()\n",
    "print(m)\n",
    "print(lst)"
   ]
  },
  {
   "cell_type": "markdown",
   "id": "c7027286-37f5-4e49-9cdd-ffe4f652eabb",
   "metadata": {},
   "source": [
    "## list split"
   ]
  },
  {
   "cell_type": "code",
   "execution_count": 29,
   "id": "4f0cdfd6-4be4-4578-bdb9-c7f0551d1e49",
   "metadata": {},
   "outputs": [
    {
     "name": "stdout",
     "output_type": "stream",
     "text": [
      "['1', '2', '3', '4', '54', '6', '7', '3']\n",
      "<class 'list'>\n",
      "[1, 2, 3, 4, 54, 6, 7, 3]\n"
     ]
    }
   ],
   "source": [
    "a = \"1-2-3-4-54-6-7-3\"\n",
    "lst = a.split(\"-\")\n",
    "print(lst)\n",
    "print(type(a.split()))\n",
    "\n",
    "lst = [int(i) for i in a.split(\"-\")]\n",
    "print(b)"
   ]
  },
  {
   "cell_type": "code",
   "execution_count": 36,
   "id": "2f4ad660-991e-4f1e-80e9-f7240b656252",
   "metadata": {},
   "outputs": [
    {
     "name": "stdout",
     "output_type": "stream",
     "text": [
      "['one', 'two', 'three', 'four']\n"
     ]
    }
   ],
   "source": [
    "string = \"one two three four get on the dance floor\"\n",
    "stringToList = string.split(' ')\n",
    "print(stringToList[:4])"
   ]
  },
  {
   "cell_type": "code",
   "execution_count": null,
   "id": "45347387-6d1e-4eb4-9888-4bed62bf6a9e",
   "metadata": {},
   "outputs": [],
   "source": []
  },
  {
   "cell_type": "markdown",
   "id": "c7c8b0e4-ca8c-4d28-8388-b91d5267f989",
   "metadata": {},
   "source": [
    "## negative indices"
   ]
  },
  {
   "cell_type": "code",
   "execution_count": 30,
   "id": "98105a49-4232-43c4-af7b-ffaab0033df7",
   "metadata": {},
   "outputs": [],
   "source": [
    "# lst   = [ a0, a1, a2, a3, a4, a5]\n",
    "# index : [ 0,  1,  2,  3,  4,  5]\n",
    "# index : [-6, -5, -4, -3, -2, -1]"
   ]
  },
  {
   "cell_type": "markdown",
   "id": "928f1536-cb0b-47c7-a2de-e0879d2d31db",
   "metadata": {},
   "source": [
    "## list slicing with negative indices"
   ]
  },
  {
   "cell_type": "code",
   "execution_count": 33,
   "id": "9b823505-33b9-4dce-aea4-11ce29d79b21",
   "metadata": {},
   "outputs": [],
   "source": [
    "lst   = [ 'a0', 'a1', 'a2', 'a3', 'a4', 'a5']"
   ]
  },
  {
   "cell_type": "code",
   "execution_count": 36,
   "id": "61862a66-6a02-4c11-bfd1-4db9a1fe286a",
   "metadata": {},
   "outputs": [
    {
     "name": "stdout",
     "output_type": "stream",
     "text": [
      "['a5', 'a4', 'a3', 'a2', 'a1', 'a0']\n",
      "['a0', 'a1', 'a2', 'a3', 'a4']\n",
      "['a0', 'a2', 'a4']\n"
     ]
    }
   ],
   "source": [
    "print(lst[::-1])\n",
    "print(lst[:5])\n",
    "print(lst[:-1:2]) # 0=start_index, -1=stop_index, 2=step_size"
   ]
  },
  {
   "cell_type": "code",
   "execution_count": 40,
   "id": "6b2cad2e-1878-449d-9c11-b4bfd168988f",
   "metadata": {},
   "outputs": [
    {
     "name": "stdout",
     "output_type": "stream",
     "text": [
      "['a2']\n",
      "['a0', 'a2', 'a4']\n"
     ]
    }
   ],
   "source": [
    "print(lst[2:-2:2])\n",
    "print(lst[::2])"
   ]
  },
  {
   "cell_type": "code",
   "execution_count": 42,
   "id": "b0383afe-de4e-4cca-96ba-231a0f94fbb7",
   "metadata": {},
   "outputs": [
    {
     "name": "stdout",
     "output_type": "stream",
     "text": [
      "['a0', 'a1', 'a2', 'a3', 'a4', 'a5', 1, 2, 3, 4, 5]\n"
     ]
    }
   ],
   "source": [
    "concat_lst = lst + [1,2,3,4,5]\n",
    "print(concat_lst)"
   ]
  },
  {
   "cell_type": "code",
   "execution_count": 43,
   "id": "4ff0fc99-9109-4e2d-87d6-254864a8d011",
   "metadata": {},
   "outputs": [
    {
     "ename": "TypeError",
     "evalue": "'<' not supported between instances of 'int' and 'str'",
     "output_type": "error",
     "traceback": [
      "\u001b[0;31m---------------------------------------------------------------------------\u001b[0m",
      "\u001b[0;31mTypeError\u001b[0m                                 Traceback (most recent call last)",
      "Input \u001b[0;32mIn [43]\u001b[0m, in \u001b[0;36m<cell line: 1>\u001b[0;34m()\u001b[0m\n\u001b[0;32m----> 1\u001b[0m \u001b[43mconcat_lst\u001b[49m\u001b[38;5;241;43m.\u001b[39;49m\u001b[43msort\u001b[49m\u001b[43m(\u001b[49m\u001b[43m)\u001b[49m\n",
      "\u001b[0;31mTypeError\u001b[0m: '<' not supported between instances of 'int' and 'str'"
     ]
    }
   ],
   "source": [
    "concat_lst.sort() ## note again str and int cannot be compared"
   ]
  },
  {
   "cell_type": "markdown",
   "id": "c6d36eb4-42ac-409f-ac83-53c6a039620a",
   "metadata": {},
   "source": [
    "## list count"
   ]
  },
  {
   "cell_type": "code",
   "execution_count": 44,
   "id": "687d8889-4ac3-4893-a8b0-f5b0484f05e5",
   "metadata": {},
   "outputs": [
    {
     "name": "stdout",
     "output_type": "stream",
     "text": [
      "1\n",
      "0\n"
     ]
    }
   ],
   "source": [
    "print(lst.count('a0'))\n",
    "print(lst.count(1))"
   ]
  },
  {
   "cell_type": "code",
   "execution_count": 46,
   "id": "ece6aae3-ad5d-416d-a7d5-7eceb66930b8",
   "metadata": {},
   "outputs": [
    {
     "name": "stdout",
     "output_type": "stream",
     "text": [
      "6\n"
     ]
    }
   ],
   "source": [
    "lst0 = [0,0,0,0,0,0]\n",
    "print(lst0.count(0))"
   ]
  },
  {
   "cell_type": "markdown",
   "id": "f705e99f-48a3-472f-abc1-df03e9cb7012",
   "metadata": {},
   "source": [
    "## list looping"
   ]
  },
  {
   "cell_type": "code",
   "execution_count": 48,
   "id": "f6f2bfa7-ada1-4d94-a262-32c104ded190",
   "metadata": {},
   "outputs": [
    {
     "name": "stdout",
     "output_type": "stream",
     "text": [
      "one  ->  ['o', 'n', 'e']\n",
      "two  ->  ['t', 'w', 'o']\n",
      "three  ->  ['t', 'h', 'r', 'e', 'e']\n",
      "four  ->  ['f', 'o', 'u', 'r']\n",
      "five  ->  ['f', 'i', 'v', 'e']\n"
     ]
    }
   ],
   "source": [
    "lst = ['one', 'two', 'three', 'four','five']\n",
    "for i in lst :\n",
    "    print(i, \" -> \", list(i))\n",
    "    "
   ]
  },
  {
   "cell_type": "code",
   "execution_count": 50,
   "id": "41062bcd-5691-462a-b81a-4e973222c2ab",
   "metadata": {},
   "outputs": [
    {
     "name": "stdout",
     "output_type": "stream",
     "text": [
      "[25]\n",
      "[25, 36]\n",
      "[25, 36, 49]\n",
      "[25, 36, 49, 64]\n",
      "[25, 36, 49, 64, 81]\n",
      "[25, 36, 49, 64, 81]\n"
     ]
    }
   ],
   "source": [
    "power = [] \n",
    "\n",
    "for i in range(5,10):\n",
    "    power.append(i**2)\n",
    "    print(power)\n",
    "print(power)"
   ]
  },
  {
   "cell_type": "markdown",
   "id": "03a0898f-3a25-4da1-bc6c-6a8cd45d2ae5",
   "metadata": {},
   "source": [
    "## list comprehension"
   ]
  },
  {
   "cell_type": "code",
   "execution_count": 52,
   "id": "19fe9b54-a700-41ef-942f-9702b45e93c4",
   "metadata": {},
   "outputs": [
    {
     "data": {
      "text/plain": [
       "[25, 26, 27, 28, 29]"
      ]
     },
     "execution_count": 52,
     "metadata": {},
     "output_type": "execute_result"
    }
   ],
   "source": [
    "lst = [i for i in range(23, 30) if i>= 25]\n",
    "lst"
   ]
  },
  {
   "cell_type": "code",
   "execution_count": 53,
   "id": "5dea6ad0-12e1-4345-970f-6cd0967c0e0d",
   "metadata": {},
   "outputs": [
    {
     "name": "stdout",
     "output_type": "stream",
     "text": [
      "[144, 169, 196, 225, 256, 289, 324, 361]\n"
     ]
    }
   ],
   "source": [
    "powerlst = [i**2 for i in range (12, 20)]\n",
    "print(powerlst)"
   ]
  },
  {
   "cell_type": "code",
   "execution_count": null,
   "id": "4204ebd2-0589-4254-ae57-9ffcfd3f5c69",
   "metadata": {},
   "outputs": [],
   "source": []
  },
  {
   "cell_type": "code",
   "execution_count": null,
   "id": "113fa937-75ab-4e60-855d-e4a3953b4a04",
   "metadata": {},
   "outputs": [],
   "source": []
  },
  {
   "cell_type": "code",
   "execution_count": 60,
   "id": "9d1c5db8-56f3-446c-bd9e-539c59f42e12",
   "metadata": {},
   "outputs": [
    {
     "name": "stdout",
     "output_type": "stream",
     "text": [
      "[1089, 1156, 1225, 1296, 1369, 1444, 1521, 1600, 1681, 1764, 1849, 1936, 2025, 2116, 2209, 2304, 2401]\n"
     ]
    }
   ],
   "source": [
    "exprlst1 = [(i**2 + int(32/i)) for i in range(10,50) if i**2 == (i**2 + int(32/i))]\n",
    "print(exprlst1)"
   ]
  },
  {
   "cell_type": "code",
   "execution_count": 59,
   "id": "b6aa61aa-1b7e-4b33-b5ed-9a2739ab3b75",
   "metadata": {},
   "outputs": [
    {
     "name": "stdout",
     "output_type": "stream",
     "text": [
      "[1089, 1156, 1225, 1296, 1369, 1444, 1521, 1600, 1681, 1764, 1849, 1936, 2025, 2116, 2209, 2304, 2401]\n"
     ]
    }
   ],
   "source": [
    "exprlst2 = [(i**2 + int(32/i)) for i in range(10,50) if int(32/i) == 0]\n",
    "print(exprlst2)"
   ]
  },
  {
   "cell_type": "code",
   "execution_count": 61,
   "id": "7bbeaf23-51f8-4ce4-98c9-16931731983e",
   "metadata": {},
   "outputs": [
    {
     "data": {
      "text/plain": [
       "True"
      ]
     },
     "execution_count": 61,
     "metadata": {},
     "output_type": "execute_result"
    }
   ],
   "source": [
    "exprlst1 == exprlst2"
   ]
  },
  {
   "cell_type": "code",
   "execution_count": 1,
   "id": "a128f880-c1c7-4da9-b2c2-28e3bfb341eb",
   "metadata": {
    "collapsed": true,
    "jupyter": {
     "outputs_hidden": true
    },
    "tags": []
   },
   "outputs": [
    {
     "name": "stdout",
     "output_type": "stream",
     "text": [
      "(0, 0, 0)\n",
      "(1, 1, 1)\n",
      "(2, 4, 8)\n",
      "(3, 9, 27)\n",
      "(4, 16, 64)\n",
      "(5, 25, 125)\n",
      "(6, 36, 216)\n",
      "(7, 49, 343)\n",
      "(8, 64, 512)\n",
      "(9, 81, 729)\n",
      "(10, 100, 1000)\n",
      "(11, 121, 1331)\n",
      "(12, 144, 1728)\n",
      "(13, 169, 2197)\n",
      "(14, 196, 2744)\n",
      "(15, 225, 3375)\n",
      "(16, 256, 4096)\n",
      "(17, 289, 4913)\n",
      "(18, 324, 5832)\n",
      "(19, 361, 6859)\n",
      "(20, 400, 8000)\n",
      "(21, 441, 9261)\n",
      "(22, 484, 10648)\n",
      "(23, 529, 12167)\n",
      "(24, 576, 13824)\n",
      "(25, 625, 15625)\n",
      "(26, 676, 17576)\n",
      "(27, 729, 19683)\n",
      "(28, 784, 21952)\n",
      "(29, 841, 24389)\n",
      "(30, 900, 27000)\n",
      "(31, 961, 29791)\n",
      "(32, 1024, 32768)\n",
      "(33, 1089, 35937)\n",
      "(34, 1156, 39304)\n",
      "(35, 1225, 42875)\n",
      "(36, 1296, 46656)\n",
      "(37, 1369, 50653)\n",
      "(38, 1444, 54872)\n",
      "(39, 1521, 59319)\n",
      "(40, 1600, 64000)\n",
      "(41, 1681, 68921)\n",
      "(42, 1764, 74088)\n",
      "(43, 1849, 79507)\n",
      "(44, 1936, 85184)\n",
      "(45, 2025, 91125)\n",
      "(46, 2116, 97336)\n",
      "(47, 2209, 103823)\n",
      "(48, 2304, 110592)\n",
      "(49, 2401, 117649)\n",
      "(50, 2500, 125000)\n",
      "(51, 2601, 132651)\n",
      "(52, 2704, 140608)\n",
      "(53, 2809, 148877)\n",
      "(54, 2916, 157464)\n",
      "(55, 3025, 166375)\n",
      "(56, 3136, 175616)\n",
      "(57, 3249, 185193)\n",
      "(58, 3364, 195112)\n",
      "(59, 3481, 205379)\n",
      "(60, 3600, 216000)\n",
      "(61, 3721, 226981)\n",
      "(62, 3844, 238328)\n",
      "(63, 3969, 250047)\n",
      "(64, 4096, 262144)\n",
      "(65, 4225, 274625)\n",
      "(66, 4356, 287496)\n",
      "(67, 4489, 300763)\n",
      "(68, 4624, 314432)\n",
      "(69, 4761, 328509)\n",
      "(70, 4900, 343000)\n",
      "(71, 5041, 357911)\n",
      "(72, 5184, 373248)\n",
      "(73, 5329, 389017)\n",
      "(74, 5476, 405224)\n",
      "(75, 5625, 421875)\n",
      "(76, 5776, 438976)\n",
      "(77, 5929, 456533)\n",
      "(78, 6084, 474552)\n",
      "(79, 6241, 493039)\n",
      "(80, 6400, 512000)\n",
      "(81, 6561, 531441)\n",
      "(82, 6724, 551368)\n",
      "(83, 6889, 571787)\n",
      "(84, 7056, 592704)\n",
      "(85, 7225, 614125)\n",
      "(86, 7396, 636056)\n",
      "(87, 7569, 658503)\n",
      "(88, 7744, 681472)\n",
      "(89, 7921, 704969)\n",
      "(90, 8100, 729000)\n",
      "(91, 8281, 753571)\n",
      "(92, 8464, 778688)\n",
      "(93, 8649, 804357)\n",
      "(94, 8836, 830584)\n",
      "(95, 9025, 857375)\n",
      "(96, 9216, 884736)\n",
      "(97, 9409, 912673)\n",
      "(98, 9604, 941192)\n",
      "(99, 9801, 970299)\n"
     ]
    }
   ],
   "source": [
    "tuplst = [(i,i**2,i**3) for i in range(100)]\n",
    "\n",
    "for i in tuplst:\n",
    "    print(i)"
   ]
  },
  {
   "cell_type": "markdown",
   "id": "80f2beab-2f11-48ce-a427-776e54bff02a",
   "metadata": {},
   "source": [
    "## matrices"
   ]
  },
  {
   "cell_type": "code",
   "execution_count": 8,
   "id": "5bc896dc-b675-443c-a9fb-49a1aca37d27",
   "metadata": {},
   "outputs": [],
   "source": [
    "matrix = [\n",
    "    [1,2,34,53],\n",
    "    [253,47,8,2],\n",
    "    [23,72,11,41],\n",
    "    [3,5,567,8]\n",
    "]"
   ]
  },
  {
   "cell_type": "code",
   "execution_count": 27,
   "id": "9f97c6a4-fbb6-48e5-8632-0045627668f4",
   "metadata": {},
   "outputs": [
    {
     "name": "stdout",
     "output_type": "stream",
     "text": [
      "[53, 2, 41, 8]\n",
      "[[1, 253, 23, 3], [2, 47, 72, 5], [34, 8, 11, 567], [53, 2, 41, 8]]\n"
     ]
    }
   ],
   "source": [
    "transposed = []\n",
    "for i in range(0,len(matrix)):\n",
    "    lst = []\n",
    "    for row in matrix:\n",
    "        lst.append(row[i])\n",
    "    transposed.append(lst)\n",
    "        \n",
    "print(lst) # last row of transposed\n",
    "print(transposed)"
   ]
  },
  {
   "cell_type": "code",
   "execution_count": null,
   "id": "beef0f79-d1e5-4a06-a16a-aba3b6d57939",
   "metadata": {},
   "outputs": [],
   "source": []
  },
  {
   "cell_type": "code",
   "execution_count": null,
   "id": "3f073e39-3482-4bfb-ba6c-71476b3d0b88",
   "metadata": {},
   "outputs": [],
   "source": []
  }
 ],
 "metadata": {
  "kernelspec": {
   "display_name": "Python 3 (ipykernel)",
   "language": "python",
   "name": "python3"
  },
  "language_info": {
   "codemirror_mode": {
    "name": "ipython",
    "version": 3
   },
   "file_extension": ".py",
   "mimetype": "text/x-python",
   "name": "python",
   "nbconvert_exporter": "python",
   "pygments_lexer": "ipython3",
   "version": "3.9.12"
  }
 },
 "nbformat": 4,
 "nbformat_minor": 5
}
