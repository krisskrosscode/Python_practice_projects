{
 "cells": [
  {
   "cell_type": "markdown",
   "id": "be64b459",
   "metadata": {},
   "source": [
    "# Starting with the basics"
   ]
  },
  {
   "cell_type": "markdown",
   "id": "3234712c",
   "metadata": {
    "tags": []
   },
   "source": [
    "#### **JUST BEGINNING**\n",
    "\n",
    " Send assignment to : techsupport@prwatech.com"
   ]
  },
  {
   "cell_type": "code",
   "execution_count": 4,
   "id": "2f524203",
   "metadata": {},
   "outputs": [
    {
     "name": "stdout",
     "output_type": "stream",
     "text": [
      "32 14 207 2.5555555555555554\n"
     ]
    }
   ],
   "source": [
    "a = 23\n",
    "b = 9\n",
    "print( a+b, a-b, a*b, (a/b) )"
   ]
  },
  {
   "cell_type": "markdown",
   "id": "43143949",
   "metadata": {},
   "source": [
    "Type Inference in Py : We do not have to declare the datatype but python automatically detects and assigns the datatype"
   ]
  },
  {
   "cell_type": "code",
   "execution_count": 9,
   "id": "be207e3f",
   "metadata": {},
   "outputs": [
    {
     "name": "stdout",
     "output_type": "stream",
     "text": [
      "<class 'int'>\n"
     ]
    }
   ],
   "source": [
    "print(type(a))"
   ]
  },
  {
   "cell_type": "markdown",
   "id": "001fd87d",
   "metadata": {
    "tags": []
   },
   "source": [
    "### Checking address of a variable"
   ]
  },
  {
   "cell_type": "code",
   "execution_count": 6,
   "id": "05c2ea37",
   "metadata": {},
   "outputs": [
    {
     "name": "stdout",
     "output_type": "stream",
     "text": [
      "140580094528496 140580094528048\n",
      "140580094528496\n",
      "True\n"
     ]
    }
   ],
   "source": [
    "print(id(a), id(b))\n",
    "\n",
    "c = 23\n",
    "print(id(c))\n",
    "\n",
    "print(id(a) == id(c))"
   ]
  },
  {
   "cell_type": "code",
   "execution_count": 11,
   "id": "59ce6c8c",
   "metadata": {},
   "outputs": [],
   "source": [
    "address_allocation = [['a', 23, '36872AX523'],['b', 90, '36872AX553'],['c', 23, '36872AX523'] ] \n",
    "\n",
    "# format [variable_name, variable_value, memory_address]"
   ]
  },
  {
   "cell_type": "code",
   "execution_count": 12,
   "id": "f3beec93",
   "metadata": {},
   "outputs": [
    {
     "name": "stdout",
     "output_type": "stream",
     "text": [
      "['a', 23, '36872AX523']\n",
      "['b', 90, '36872AX553']\n",
      "['c', 23, '36872AX523']\n"
     ]
    }
   ],
   "source": [
    "for i in address_allocation:\n",
    "    print(i)"
   ]
  },
  {
   "cell_type": "code",
   "execution_count": 13,
   "id": "4803f416",
   "metadata": {},
   "outputs": [
    {
     "name": "stdout",
     "output_type": "stream",
     "text": [
      "140338545576944\n",
      "140337843030352\n"
     ]
    }
   ],
   "source": [
    "d = 10.0\n",
    "print(id(a))\n",
    "print(id(d)) ## float object d is different from int object a"
   ]
  },
  {
   "cell_type": "markdown",
   "id": "f8cc2743",
   "metadata": {
    "tags": []
   },
   "source": [
    "### Arithmetic operations on datatypes"
   ]
  },
  {
   "cell_type": "code",
   "execution_count": 38,
   "id": "a7b7bd97",
   "metadata": {},
   "outputs": [
    {
     "name": "stdout",
     "output_type": "stream",
     "text": [
      "4.5 -0.5 5.0 0.8 0.5\n",
      "<class 'float'> <class 'float'> <class 'float'> <class 'float'> <class 'float'>\n"
     ]
    }
   ],
   "source": [
    "a = 2\n",
    "b = 2.5\n",
    "c = 3\n",
    "\n",
    "print(a+b, a-b, a*b, a/b, b%a)\n",
    "print(type(a+b), type(a-b), type(a*b),type(a/b), type(b%a)) ##pay attention to the datatypes of the return values"
   ]
  },
  {
   "cell_type": "code",
   "execution_count": 39,
   "id": "8e84a4e5",
   "metadata": {},
   "outputs": [
    {
     "name": "stdout",
     "output_type": "stream",
     "text": [
      "140338545576368\n",
      "140337850963856\n",
      "140338545576272\n"
     ]
    }
   ],
   "source": [
    "#print('',id(a+b),'\\n',id(a-b),'\\n', id(a*b),'\\n',id(a/b),'\\n', id(b%a))\n",
    "\n",
    "print(id(a+b))\n",
    "print(id(a*b))\n",
    "print(id(a%b))"
   ]
  },
  {
   "cell_type": "markdown",
   "id": "85a94df9",
   "metadata": {
    "tags": []
   },
   "source": [
    "### NewLine character"
   ]
  },
  {
   "cell_type": "code",
   "execution_count": 33,
   "id": "44a1c59c",
   "metadata": {},
   "outputs": [
    {
     "name": "stdout",
     "output_type": "stream",
     "text": [
      "29\n"
     ]
    }
   ],
   "source": [
    "print( 1 + 3 + 5 + \\\n",
    "     4 + 6\\\n",
    "     +10)\n",
    "#newline character\n"
   ]
  },
  {
   "cell_type": "markdown",
   "id": "bc76ef32",
   "metadata": {
    "tags": []
   },
   "source": [
    "### Typecasting"
   ]
  },
  {
   "cell_type": "code",
   "execution_count": 36,
   "id": "b27b5ea1",
   "metadata": {},
   "outputs": [
    {
     "name": "stdout",
     "output_type": "stream",
     "text": [
      "<class 'int'>\n",
      "<class 'float'>\n"
     ]
    }
   ],
   "source": [
    "house_no = 235\n",
    "print(type(house_no))\n",
    "\n",
    "house_no = float(house_no)\n",
    "print(type(house_no))"
   ]
  },
  {
   "cell_type": "code",
   "execution_count": 45,
   "id": "aa43534b",
   "metadata": {},
   "outputs": [
    {
     "name": "stdout",
     "output_type": "stream",
     "text": [
      "34 : <class 'str'>\n",
      "34 : <class 'int'>\n"
     ]
    }
   ],
   "source": [
    "string_value = \"34\"\n",
    "int_value = int(string_value)\n",
    "\n",
    "print(string_value, ':', type(string_value))\n",
    "print(int_value, ':', type(int_value))\n"
   ]
  },
  {
   "cell_type": "markdown",
   "id": "3ea8094a",
   "metadata": {
    "tags": []
   },
   "source": [
    "### Complex Number"
   ]
  },
  {
   "cell_type": "code",
   "execution_count": 46,
   "id": "45008910",
   "metadata": {},
   "outputs": [
    {
     "name": "stdout",
     "output_type": "stream",
     "text": [
      "<class 'complex'>\n"
     ]
    }
   ],
   "source": [
    "a = 6 + 9j\n",
    "print(type(a))"
   ]
  },
  {
   "cell_type": "markdown",
   "id": "535b4629",
   "metadata": {
    "tags": []
   },
   "source": [
    "### String"
   ]
  },
  {
   "cell_type": "code",
   "execution_count": 48,
   "id": "b8c95832",
   "metadata": {},
   "outputs": [
    {
     "name": "stdout",
     "output_type": "stream",
     "text": [
      "m\n",
      "am G\n"
     ]
    }
   ],
   "source": [
    "S = \"I am Good\"\n",
    "\n",
    "print(S[3])\n",
    "print(S[2:6]) #iterate from 2 to 5 ( index 6 is excluded)"
   ]
  },
  {
   "cell_type": "markdown",
   "id": "40d31451",
   "metadata": {},
   "source": [
    "### Assignment: Write 1 - 2 usecases for each concept and send to the email_id"
   ]
  },
  {
   "cell_type": "markdown",
   "id": "32ac6ef2-766d-448a-af98-13e85239d0fd",
   "metadata": {},
   "source": [
    "[link to assignment](http://localhost:8888/lab/tree/Data%20Science%20jup/prwatech_lecture_notes/01_assignment.ipynb)"
   ]
  },
  {
   "cell_type": "code",
   "execution_count": null,
   "id": "be0f6ffc-a9c3-4e41-85a7-f5ec67380caa",
   "metadata": {},
   "outputs": [],
   "source": [
    "# assignment-status DONE"
   ]
  }
 ],
 "metadata": {
  "kernelspec": {
   "display_name": "Python 3 (ipykernel)",
   "language": "python",
   "name": "python3"
  },
  "language_info": {
   "codemirror_mode": {
    "name": "ipython",
    "version": 3
   },
   "file_extension": ".py",
   "mimetype": "text/x-python",
   "name": "python",
   "nbconvert_exporter": "python",
   "pygments_lexer": "ipython3",
   "version": "3.9.12"
  }
 },
 "nbformat": 4,
 "nbformat_minor": 5
}
