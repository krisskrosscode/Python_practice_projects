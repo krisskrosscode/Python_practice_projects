{
 "cells": [
  {
   "cell_type": "code",
   "execution_count": null,
   "id": "fc1f184e-988e-461a-90c9-096fcf3bdade",
   "metadata": {
    "jupyter": {
     "source_hidden": true
    },
    "tags": []
   },
   "outputs": [],
   "source": []
  },
  {
   "cell_type": "markdown",
   "id": "d25fbd8e-7a7e-4615-98e6-5cfd58f0e6db",
   "metadata": {},
   "source": [
    "# For Loop"
   ]
  },
  {
   "cell_type": "code",
   "execution_count": 3,
   "id": "f2ec6272-3128-417c-95a8-cd8e641f8dab",
   "metadata": {},
   "outputs": [
    {
     "ename": "SyntaxError",
     "evalue": "invalid syntax (2301293264.py, line 2)",
     "output_type": "error",
     "traceback": [
      "\u001b[0;36m  Input \u001b[0;32mIn [3]\u001b[0;36m\u001b[0m\n\u001b[0;31m    for i:\u001b[0m\n\u001b[0m         ^\u001b[0m\n\u001b[0;31mSyntaxError\u001b[0m\u001b[0;31m:\u001b[0m invalid syntax\n"
     ]
    }
   ],
   "source": [
    "# DOES NOT WORK\n",
    "# i = 9\n",
    "# for i:\n",
    "#     print(\"a\")"
   ]
  },
  {
   "cell_type": "code",
   "execution_count": 8,
   "id": "c2379a71-15f4-4641-beed-824d6ad95318",
   "metadata": {},
   "outputs": [
    {
     "name": "stdout",
     "output_type": "stream",
     "text": [
      "15 \n",
      "25 \n",
      "35 \n",
      "45 \n",
      "55 \n"
     ]
    }
   ],
   "source": [
    "l = [10, 20, 30, 40, 50]\n",
    "\n",
    "for element in l:\n",
    "    print(f\"{element + 5} \" )"
   ]
  },
  {
   "cell_type": "code",
   "execution_count": 9,
   "id": "9763b689-996f-468f-887d-e50b9558df63",
   "metadata": {},
   "outputs": [
    {
     "name": "stdout",
     "output_type": "stream",
     "text": [
      "harshal\n",
      "ram\n",
      "laxman\n",
      "hanuman\n"
     ]
    }
   ],
   "source": [
    "t = (\"harshal\", \"ram\", \"laxman\", \"hanuman\")\n",
    "\n",
    "for element in t :\n",
    "    print(element)\n",
    "    "
   ]
  },
  {
   "cell_type": "code",
   "execution_count": 16,
   "id": "9a97c3e9-394a-4ce5-bd6f-3121c3ef21e9",
   "metadata": {},
   "outputs": [
    {
     "name": "stdout",
     "output_type": "stream",
     "text": [
      "Printing keys : \n",
      "harshal\n",
      "ram\n",
      "laxman\n",
      "sita\n",
      "\n",
      "\n",
      "Printing values : \n",
      "human\n",
      "god\n",
      "god\n",
      "goddess\n",
      "\n",
      "\n",
      "Printing keys , values : \n",
      "('harshal', 'human')\n",
      "('ram', 'god')\n",
      "('laxman', 'god')\n",
      "('sita', 'goddess')\n"
     ]
    }
   ],
   "source": [
    "d = {\"harshal\":\"human\", \"ram\":\"god\", \"laxman\":\"god\", \"sita\":\"goddess\"}\n",
    "print(\"Printing keys : \")\n",
    "for i in d :\n",
    "    print(i)\n",
    "    \n",
    "print(\"\\n\\nPrinting values : \")  \n",
    "for i in d.values() :\n",
    "    print(i)\n",
    "    \n",
    "print(\"\\n\\nPrinting keys , values : \")  \n",
    "for i in d.items() :\n",
    "    print(i)"
   ]
  },
  {
   "cell_type": "code",
   "execution_count": 1,
   "id": "e6bfb0d6-5506-4be1-9c77-2a5825b31355",
   "metadata": {},
   "outputs": [
    {
     "name": "stdout",
     "output_type": "stream",
     "text": [
      "10\n",
      "200\n",
      "6000\n",
      "240000\n",
      "12000000\n",
      "DONE\n"
     ]
    }
   ],
   "source": [
    "# cumulative product for-else\n",
    "\n",
    "l = [10, 20, 30, 40, 50]\n",
    "\n",
    "product = 1\n",
    "for i in l:\n",
    "    product *= i\n",
    "    print(product)\n",
    "\n",
    "else:\n",
    "    print(\"DONE\")"
   ]
  },
  {
   "cell_type": "code",
   "execution_count": 2,
   "id": "afef7f09-99a5-4e65-bfcb-623e855bc67b",
   "metadata": {},
   "outputs": [],
   "source": [
    "# range function\n",
    "# syntax : \n",
    "    # range (start (default = 0), stop, step-size)"
   ]
  },
  {
   "cell_type": "code",
   "execution_count": 20,
   "id": "ec09e148-3eb7-434b-be12-4e2630b39b7f",
   "metadata": {},
   "outputs": [
    {
     "name": "stdout",
     "output_type": "stream",
     "text": [
      "0\n",
      "1\n",
      "2\n",
      "3\n",
      "4\n",
      "5\n",
      "6\n",
      "7\n",
      "8\n",
      "9\n",
      "10\n"
     ]
    }
   ],
   "source": [
    "for i in range (0, 11): # start = 0 , end = 10\n",
    "    print(i)"
   ]
  },
  {
   "cell_type": "code",
   "execution_count": 23,
   "id": "e546d8b6-d0c3-4f03-a765-93ebf01fd8c2",
   "metadata": {},
   "outputs": [
    {
     "name": "stdout",
     "output_type": "stream",
     "text": [
      "0\n",
      "2\n",
      "4\n",
      "6\n",
      "8\n",
      "10\n"
     ]
    }
   ],
   "source": [
    "print(\"Even numbers: \")\n",
    "for i in range(0,11, 2): # step size = 2 \n",
    "    print(i) #prints even\n",
    "    \n"
   ]
  },
  {
   "cell_type": "code",
   "execution_count": 24,
   "id": "c2a9de8a-d8bc-45ce-bccf-9ee98d5aa40b",
   "metadata": {},
   "outputs": [
    {
     "name": "stdout",
     "output_type": "stream",
     "text": [
      "Odd numbers: \n",
      "1\n",
      "3\n",
      "5\n",
      "7\n",
      "9\n"
     ]
    }
   ],
   "source": [
    "print(\"Odd numbers: \")\n",
    "for i in range (1, 11, 2):\n",
    "    print(i)"
   ]
  },
  {
   "cell_type": "code",
   "execution_count": 29,
   "id": "3157e4ba-09f2-44d0-98d3-5991fc7f343f",
   "metadata": {},
   "outputs": [
    {
     "name": "stdout",
     "output_type": "stream",
     "text": [
      "Reverse order: \n",
      "10\n",
      "8\n",
      "6\n",
      "4\n",
      "2\n",
      "0\n"
     ]
    }
   ],
   "source": [
    "print(\"Reverse order: \")\n",
    "for i in range(10, -1, -2): # +ve even numbers less than 10 in reverse order\n",
    "    print(i)"
   ]
  },
  {
   "cell_type": "code",
   "execution_count": 37,
   "id": "9bc10faf-c748-4322-9c11-8689a36b3a29",
   "metadata": {},
   "outputs": [
    {
     "name": "stdout",
     "output_type": "stream",
     "text": [
      "even: [4, 156, 358, 6, 28, 42322]\n",
      "odd: [21, 37, 93, 625, 15, 9, 3715]\n"
     ]
    }
   ],
   "source": [
    "lst = [21,4,156,37,358,93,625,15,6,28,9,42322,3715]\n",
    "\n",
    "even = []\n",
    "odd = []\n",
    "if len(lst) == 0:\n",
    "    print(\"No data present in lst\")\n",
    "\n",
    "for i in lst:\n",
    "    if(i%2 == 0):\n",
    "        even.append(i)\n",
    "    else:\n",
    "        odd.append(i)\n",
    "\n",
    "print(f\"even: {even}\\nodd: {odd}\")"
   ]
  },
  {
   "cell_type": "code",
   "execution_count": 32,
   "id": "1cb3fb78-d5f1-4170-b8a6-995c3244a244",
   "metadata": {},
   "outputs": [
    {
     "name": "stdout",
     "output_type": "stream",
     "text": [
      "names starting with vowels: ['abhishek', 'aman', 'iftaar']\n",
      "names starting with consonants: ['harshal', 'satyam', 'ravi']\n"
     ]
    }
   ],
   "source": [
    "names = [\"harshal\", \"abhishek\", \"aman\", \"satyam\", \"ravi\", \"iftaar\"]\n",
    "\n",
    "# separate names starting with vowels and consonants\n",
    "\n",
    "starts_with_vowel = []\n",
    "starts_with_consonant = []\n",
    "\n",
    "vowels = ['a', 'e', 'i', 'o', 'u', 'A', 'E','I','O','U']\n",
    "\n",
    "for i in names:\n",
    "    if i[0] in vowels:\n",
    "        starts_with_vowel.append(i)\n",
    "    else:\n",
    "        starts_with_consonant.append(i)\n",
    "        \n",
    "print(f\"names starting with vowels: {starts_with_vowel}\\nnames starting with consonants: {starts_with_consonant}\")"
   ]
  },
  {
   "cell_type": "markdown",
   "id": "625022d3-faf2-4f8a-9b78-b02920d7c9f8",
   "metadata": {},
   "source": [
    "# while loop"
   ]
  },
  {
   "cell_type": "code",
   "execution_count": 50,
   "id": "f6b30c20-0ca9-401e-a633-a51b237ee19c",
   "metadata": {},
   "outputs": [
    {
     "name": "stdin",
     "output_type": "stream",
     "text": [
      "Enter a starting pos :  15\n"
     ]
    },
    {
     "name": "stdout",
     "output_type": "stream",
     "text": [
      "\n",
      "   \t\t\told ans[] = []\n",
      "added 15 to 'ans[]'\tnew ans[] = [15]\n",
      "\n",
      "   \t\t\told ans[] = [15]\n",
      "added 16 to 'ans[]'\tnew ans[] = [15, 16]\n",
      "\n",
      "   \t\t\told ans[] = [15, 16]\n",
      "added 17 to 'ans[]'\tnew ans[] = [15, 16, 17]\n",
      "\n",
      "   \t\t\told ans[] = [15, 16, 17]\n",
      "added 18 to 'ans[]'\tnew ans[] = [15, 16, 17, 18]\n",
      "\n",
      "   \t\t\told ans[] = [15, 16, 17, 18]\n",
      "added 19 to 'ans[]'\tnew ans[] = [15, 16, 17, 18, 19]\n",
      "\n",
      "   \t\t\told ans[] = [15, 16, 17, 18, 19]\n",
      "added 20 to 'ans[]'\tnew ans[] = [15, 16, 17, 18, 19, 20]\n",
      "\n",
      "i=21 is now no longer <20 \n"
     ]
    }
   ],
   "source": [
    "i = int(input(\"Enter a starting pos : \"))\n",
    "ans = []\n",
    "\n",
    "while(i<=20):\n",
    "    print(f\"\\n   \\t\\t\\told ans[] = {ans}\")\n",
    "    ans.append(i)\n",
    "    i += 1\n",
    "    print(f\"added {i-1} to 'ans[]'\\tnew ans[] = {ans}\")\n",
    "    \n",
    "else:\n",
    "    print(f\"\\ni={i} is now no longer <20 \")\n",
    "    "
   ]
  },
  {
   "cell_type": "code",
   "execution_count": null,
   "id": "c084e666-2411-4698-9135-adbf878fc32a",
   "metadata": {},
   "outputs": [],
   "source": [
    " "
   ]
  },
  {
   "cell_type": "code",
   "execution_count": 24,
   "id": "3040cf31-c9ac-4f35-b0b5-9e0d83b84ea4",
   "metadata": {},
   "outputs": [
    {
     "name": "stdin",
     "output_type": "stream",
     "text": [
      "Enter a number:  23\n"
     ]
    },
    {
     "name": "stdout",
     "output_type": "stream",
     "text": [
      "23 is prime\n"
     ]
    }
   ],
   "source": [
    "#find if a number is a prime number using while loop\n",
    "\n",
    "x = int(input(\"Enter a number: \")) #number to be checked\n",
    "i = 2\n",
    "isPrime = True\n",
    "while i<x/2:\n",
    "    if x%i == 0 :\n",
    "        isPrime = False\n",
    "        break\n",
    "        \n",
    "    i += 1    \n",
    "        \n",
    "if x == 1:\n",
    "    print(f\"{x} is neither prime nor composite\")\n",
    "else:\n",
    "    if(isPrime):\n",
    "        print(f\"{x} is prime\")\n",
    "    else:\n",
    "        print(f\"{x} is composite\")\n"
   ]
  },
  {
   "cell_type": "code",
   "execution_count": null,
   "id": "f37156d1-6472-4fd7-9ac8-92a31e288de1",
   "metadata": {},
   "outputs": [],
   "source": []
  }
 ],
 "metadata": {
  "kernelspec": {
   "display_name": "Python 3 (ipykernel)",
   "language": "python",
   "name": "python3"
  },
  "language_info": {
   "codemirror_mode": {
    "name": "ipython",
    "version": 3
   },
   "file_extension": ".py",
   "mimetype": "text/x-python",
   "name": "python",
   "nbconvert_exporter": "python",
   "pygments_lexer": "ipython3",
   "version": "3.9.12"
  }
 },
 "nbformat": 4,
 "nbformat_minor": 5
}
